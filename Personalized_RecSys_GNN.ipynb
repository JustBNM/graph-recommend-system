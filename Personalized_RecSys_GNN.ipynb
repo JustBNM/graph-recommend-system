{
  "cells": [
    {
      "cell_type": "markdown",
      "metadata": {
        "id": "view-in-github",
        "colab_type": "text"
      },
      "source": [
        "<a href=\"https://colab.research.google.com/github/JustBNM/graph-recommend-system/blob/main/Personalized_RecSys_GNN.ipynb\" target=\"_parent\"><img src=\"https://colab.research.google.com/assets/colab-badge.svg\" alt=\"Open In Colab\"/></a>"
      ]
    },
    {
      "cell_type": "markdown",
      "id": "6fbafe8c",
      "metadata": {
        "id": "6fbafe8c"
      },
      "source": [
        "# Установка и подключение библиотек"
      ]
    },
    {
      "cell_type": "code",
      "execution_count": null,
      "id": "03718a23",
      "metadata": {
        "colab": {
          "base_uri": "https://localhost:8080/"
        },
        "id": "03718a23",
        "outputId": "1a378a58-1e23-47d1-e7ea-9ee00bdc721e"
      },
      "outputs": [
        {
          "output_type": "stream",
          "name": "stdout",
          "text": [
            "Looking in links: https://pytorch-geometric.com/whl/torch-1.11.0+cu113.html\n",
            "Collecting torch-scatter\n",
            "  Downloading https://data.pyg.org/whl/torch-1.11.0%2Bcu113/torch_scatter-2.0.9-cp37-cp37m-linux_x86_64.whl (7.9 MB)\n",
            "\u001b[K     |████████████████████████████████| 7.9 MB 20.7 MB/s \n",
            "\u001b[?25hInstalling collected packages: torch-scatter\n",
            "Successfully installed torch-scatter-2.0.9\n",
            "Looking in links: https://pytorch-geometric.com/whl/torch-1.11.0+cu113.html\n",
            "Collecting torch-sparse\n",
            "  Downloading https://data.pyg.org/whl/torch-1.11.0%2Bcu113/torch_sparse-0.6.13-cp37-cp37m-linux_x86_64.whl (3.5 MB)\n",
            "\u001b[K     |████████████████████████████████| 3.5 MB 10.9 MB/s \n",
            "\u001b[?25hRequirement already satisfied: scipy in /usr/local/lib/python3.7/dist-packages (from torch-sparse) (1.4.1)\n",
            "Requirement already satisfied: numpy>=1.13.3 in /usr/local/lib/python3.7/dist-packages (from scipy->torch-sparse) (1.21.6)\n",
            "Installing collected packages: torch-sparse\n",
            "Successfully installed torch-sparse-0.6.13\n",
            "Looking in links: https://pytorch-geometric.com/whl/torch-1.11.0+cu113.html\n",
            "Collecting torch-cluster\n",
            "  Downloading https://data.pyg.org/whl/torch-1.11.0%2Bcu113/torch_cluster-1.6.0-cp37-cp37m-linux_x86_64.whl (2.5 MB)\n",
            "\u001b[K     |████████████████████████████████| 2.5 MB 25.8 MB/s \n",
            "\u001b[?25hInstalling collected packages: torch-cluster\n",
            "Successfully installed torch-cluster-1.6.0\n",
            "Looking in links: https://pytorch-geometric.com/whl/torch-1.11.0+cu113.html\n",
            "Collecting torch-spline-conv\n",
            "  Downloading https://data.pyg.org/whl/torch-1.11.0%2Bcu113/torch_spline_conv-1.2.1-cp37-cp37m-linux_x86_64.whl (750 kB)\n",
            "\u001b[K     |████████████████████████████████| 750 kB 16.0 MB/s \n",
            "\u001b[?25hInstalling collected packages: torch-spline-conv\n",
            "Successfully installed torch-spline-conv-1.2.1\n",
            "Collecting torch-geometric\n",
            "  Downloading torch_geometric-2.0.4.tar.gz (407 kB)\n",
            "\u001b[K     |████████████████████████████████| 407 kB 22.2 MB/s \n",
            "\u001b[?25hRequirement already satisfied: tqdm in /usr/local/lib/python3.7/dist-packages (from torch-geometric) (4.64.0)\n",
            "Requirement already satisfied: numpy in /usr/local/lib/python3.7/dist-packages (from torch-geometric) (1.21.6)\n",
            "Requirement already satisfied: scipy in /usr/local/lib/python3.7/dist-packages (from torch-geometric) (1.4.1)\n",
            "Requirement already satisfied: pandas in /usr/local/lib/python3.7/dist-packages (from torch-geometric) (1.3.5)\n",
            "Requirement already satisfied: jinja2 in /usr/local/lib/python3.7/dist-packages (from torch-geometric) (2.11.3)\n",
            "Requirement already satisfied: requests in /usr/local/lib/python3.7/dist-packages (from torch-geometric) (2.23.0)\n",
            "Requirement already satisfied: pyparsing in /usr/local/lib/python3.7/dist-packages (from torch-geometric) (3.0.8)\n",
            "Requirement already satisfied: scikit-learn in /usr/local/lib/python3.7/dist-packages (from torch-geometric) (1.0.2)\n",
            "Requirement already satisfied: MarkupSafe>=0.23 in /usr/local/lib/python3.7/dist-packages (from jinja2->torch-geometric) (2.0.1)\n",
            "Requirement already satisfied: python-dateutil>=2.7.3 in /usr/local/lib/python3.7/dist-packages (from pandas->torch-geometric) (2.8.2)\n",
            "Requirement already satisfied: pytz>=2017.3 in /usr/local/lib/python3.7/dist-packages (from pandas->torch-geometric) (2022.1)\n",
            "Requirement already satisfied: six>=1.5 in /usr/local/lib/python3.7/dist-packages (from python-dateutil>=2.7.3->pandas->torch-geometric) (1.15.0)\n",
            "Requirement already satisfied: chardet<4,>=3.0.2 in /usr/local/lib/python3.7/dist-packages (from requests->torch-geometric) (3.0.4)\n",
            "Requirement already satisfied: idna<3,>=2.5 in /usr/local/lib/python3.7/dist-packages (from requests->torch-geometric) (2.10)\n",
            "Requirement already satisfied: certifi>=2017.4.17 in /usr/local/lib/python3.7/dist-packages (from requests->torch-geometric) (2021.10.8)\n",
            "Requirement already satisfied: urllib3!=1.25.0,!=1.25.1,<1.26,>=1.21.1 in /usr/local/lib/python3.7/dist-packages (from requests->torch-geometric) (1.24.3)\n",
            "Requirement already satisfied: joblib>=0.11 in /usr/local/lib/python3.7/dist-packages (from scikit-learn->torch-geometric) (1.1.0)\n",
            "Requirement already satisfied: threadpoolctl>=2.0.0 in /usr/local/lib/python3.7/dist-packages (from scikit-learn->torch-geometric) (3.1.0)\n",
            "Building wheels for collected packages: torch-geometric\n",
            "  Building wheel for torch-geometric (setup.py) ... \u001b[?25l\u001b[?25hdone\n",
            "  Created wheel for torch-geometric: filename=torch_geometric-2.0.4-py3-none-any.whl size=616603 sha256=e60ab21d5e4fc5ea3213f37af5c54da73390df4c4fea90c0257701f6f5f50667\n",
            "  Stored in directory: /root/.cache/pip/wheels/18/a6/a4/ca18c3051fcead866fe7b85700ee2240d883562a1bc70ce421\n",
            "Successfully built torch-geometric\n",
            "Installing collected packages: torch-geometric\n",
            "Successfully installed torch-geometric-2.0.4\n"
          ]
        }
      ],
      "source": [
        "import torch\n",
        "\n",
        "def format_pytorch_version(version):\n",
        "  return version.split('+')[0]\n",
        "\n",
        "TORCH_version = torch.__version__\n",
        "TORCH = format_pytorch_version(TORCH_version)\n",
        "\n",
        "def format_cuda_version(version):\n",
        "  return 'cu' + version.replace('.', '')\n",
        "\n",
        "CUDA_version = torch.version.cuda\n",
        "CUDA = format_cuda_version(CUDA_version)\n",
        "\n",
        "!pip install torch-scatter     -f https://pytorch-geometric.com/whl/torch-{TORCH}+{CUDA}.html\n",
        "!pip install torch-sparse      -f https://pytorch-geometric.com/whl/torch-{TORCH}+{CUDA}.html\n",
        "!pip install torch-cluster     -f https://pytorch-geometric.com/whl/torch-{TORCH}+{CUDA}.html\n",
        "!pip install torch-spline-conv -f https://pytorch-geometric.com/whl/torch-{TORCH}+{CUDA}.html\n",
        "!pip install torch-geometric"
      ]
    },
    {
      "cell_type": "code",
      "source": [
        "!pip install umap\n",
        "!pip install umap-learn"
      ],
      "metadata": {
        "colab": {
          "base_uri": "https://localhost:8080/"
        },
        "id": "18rfUXKtfXUZ",
        "outputId": "e8883ac5-84a5-448d-a74b-9e1b272f9588"
      },
      "id": "18rfUXKtfXUZ",
      "execution_count": null,
      "outputs": [
        {
          "output_type": "stream",
          "name": "stdout",
          "text": [
            "Collecting umap\n",
            "  Downloading umap-0.1.1.tar.gz (3.2 kB)\n",
            "Building wheels for collected packages: umap\n",
            "  Building wheel for umap (setup.py) ... \u001b[?25l\u001b[?25hdone\n",
            "  Created wheel for umap: filename=umap-0.1.1-py3-none-any.whl size=3565 sha256=273b06c3a95175b0a59fe00d44f3eef37359ad51364251b3012a806997ab74ed\n",
            "  Stored in directory: /root/.cache/pip/wheels/65/55/85/945cfb3d67373767e4dc3e9629300a926edde52633df4f0efe\n",
            "Successfully built umap\n",
            "Installing collected packages: umap\n",
            "Successfully installed umap-0.1.1\n",
            "Collecting umap-learn\n",
            "  Downloading umap-learn-0.5.3.tar.gz (88 kB)\n",
            "\u001b[K     |████████████████████████████████| 88 kB 3.3 MB/s \n",
            "\u001b[?25hRequirement already satisfied: numpy>=1.17 in /usr/local/lib/python3.7/dist-packages (from umap-learn) (1.21.6)\n",
            "Requirement already satisfied: scikit-learn>=0.22 in /usr/local/lib/python3.7/dist-packages (from umap-learn) (1.0.2)\n",
            "Requirement already satisfied: scipy>=1.0 in /usr/local/lib/python3.7/dist-packages (from umap-learn) (1.4.1)\n",
            "Requirement already satisfied: numba>=0.49 in /usr/local/lib/python3.7/dist-packages (from umap-learn) (0.51.2)\n",
            "Collecting pynndescent>=0.5\n",
            "  Downloading pynndescent-0.5.6.tar.gz (1.1 MB)\n",
            "\u001b[K     |████████████████████████████████| 1.1 MB 15.1 MB/s \n",
            "\u001b[?25hRequirement already satisfied: tqdm in /usr/local/lib/python3.7/dist-packages (from umap-learn) (4.64.0)\n",
            "Requirement already satisfied: setuptools in /usr/local/lib/python3.7/dist-packages (from numba>=0.49->umap-learn) (57.4.0)\n",
            "Requirement already satisfied: llvmlite<0.35,>=0.34.0.dev0 in /usr/local/lib/python3.7/dist-packages (from numba>=0.49->umap-learn) (0.34.0)\n",
            "Requirement already satisfied: joblib>=0.11 in /usr/local/lib/python3.7/dist-packages (from pynndescent>=0.5->umap-learn) (1.1.0)\n",
            "Requirement already satisfied: threadpoolctl>=2.0.0 in /usr/local/lib/python3.7/dist-packages (from scikit-learn>=0.22->umap-learn) (3.1.0)\n",
            "Building wheels for collected packages: umap-learn, pynndescent\n",
            "  Building wheel for umap-learn (setup.py) ... \u001b[?25l\u001b[?25hdone\n",
            "  Created wheel for umap-learn: filename=umap_learn-0.5.3-py3-none-any.whl size=82829 sha256=5d2d89958258eefc5eaa7fea27f523ce9b580ce8eb2da7715ab1a85cd8553d1f\n",
            "  Stored in directory: /root/.cache/pip/wheels/b3/52/a5/1fd9e3e76a7ab34f134c07469cd6f16e27ef3a37aeff1fe821\n",
            "  Building wheel for pynndescent (setup.py) ... \u001b[?25l\u001b[?25hdone\n",
            "  Created wheel for pynndescent: filename=pynndescent-0.5.6-py3-none-any.whl size=53943 sha256=802e4a8fae506b48951c93eb07192831d6950b7ad15f119607b2fbd452e4451c\n",
            "  Stored in directory: /root/.cache/pip/wheels/03/f1/56/f80d72741e400345b5a5b50ec3d929aca581bf45e0225d5c50\n",
            "Successfully built umap-learn pynndescent\n",
            "Installing collected packages: pynndescent, umap-learn\n",
            "Successfully installed pynndescent-0.5.6 umap-learn-0.5.3\n"
          ]
        }
      ]
    },
    {
      "cell_type": "code",
      "execution_count": null,
      "id": "d59c141c",
      "metadata": {
        "id": "d59c141c"
      },
      "outputs": [],
      "source": [
        "import os.path as osp\n",
        "\n",
        "import torch\n",
        "import torch.nn as nn\n",
        "import torch.nn.functional as F\n",
        "from sklearn.linear_model import LogisticRegression\n",
        "from torch_cluster import random_walk\n",
        "\n",
        "import torch_geometric.transforms as T\n",
        "from torch_geometric.datasets import Planetoid\n",
        "from torch_geometric.loader import NeighborSampler as RawNeighborSampler\n",
        "from torch_geometric.nn import SAGEConv\n",
        "\n",
        "import umap\n",
        "import matplotlib.pyplot as plt\n",
        "import seaborn as sns\n",
        "\n",
        "from collections import Counter"
      ]
    },
    {
      "cell_type": "markdown",
      "id": "106086d6",
      "metadata": {
        "id": "106086d6"
      },
      "source": [
        "## Пример на заготовленном датасете"
      ]
    },
    {
      "cell_type": "code",
      "execution_count": null,
      "id": "e3cc2d58",
      "metadata": {
        "id": "e3cc2d58",
        "colab": {
          "base_uri": "https://localhost:8080/"
        },
        "outputId": "c8ed9b19-38da-47f6-a1ca-1fc580797663"
      },
      "outputs": [
        {
          "output_type": "stream",
          "name": "stderr",
          "text": [
            "Downloading https://github.com/kimiyoung/planetoid/raw/master/data/ind.cora.x\n",
            "Downloading https://github.com/kimiyoung/planetoid/raw/master/data/ind.cora.tx\n",
            "Downloading https://github.com/kimiyoung/planetoid/raw/master/data/ind.cora.allx\n",
            "Downloading https://github.com/kimiyoung/planetoid/raw/master/data/ind.cora.y\n",
            "Downloading https://github.com/kimiyoung/planetoid/raw/master/data/ind.cora.ty\n",
            "Downloading https://github.com/kimiyoung/planetoid/raw/master/data/ind.cora.ally\n",
            "Downloading https://github.com/kimiyoung/planetoid/raw/master/data/ind.cora.graph\n",
            "Downloading https://github.com/kimiyoung/planetoid/raw/master/data/ind.cora.test.index\n",
            "Processing...\n",
            "Done!\n"
          ]
        }
      ],
      "source": [
        "dataset = 'Cora'\n",
        "path = './data'\n",
        "dataset = Planetoid(path, dataset, transform=T.NormalizeFeatures())\n",
        "data = dataset[0]"
      ]
    },
    {
      "cell_type": "markdown",
      "id": "fc324662",
      "metadata": {
        "id": "fc324662"
      },
      "source": [
        "Данные:\n",
        "x - 2708 статей. Каждая статья кодируется наличием слов из словаря размером 1433\n",
        "edge_index - связи статей по цитиремости. 105556 связей по индексам статей"
      ]
    },
    {
      "cell_type": "markdown",
      "id": "9d03460c",
      "metadata": {
        "id": "9d03460c"
      },
      "source": [
        "# Хреначу свой пример"
      ]
    },
    {
      "cell_type": "markdown",
      "id": "093fdbb5",
      "metadata": {
        "id": "093fdbb5"
      },
      "source": [
        "## Гетерограф"
      ]
    },
    {
      "cell_type": "code",
      "execution_count": null,
      "id": "2676f18c",
      "metadata": {
        "id": "2676f18c"
      },
      "outputs": [],
      "source": [
        "from torch_geometric.data import HeteroData\n",
        "import pandas as pd\n",
        "import numpy as np"
      ]
    },
    {
      "cell_type": "code",
      "source": [
        "number_of_person = 500\n",
        "from scipy.special import softmax\n",
        "genders = np.random.randint(0, 2, number_of_person)\n",
        "# пиво берут редко\n",
        "pivo_buy = np.random.choice([0,1], number_of_person, p=[0.8, 0.2])\n",
        "# любовь к пиву зависит от того, взяли ли его\n",
        "pivo_love = np.array([pivo*np.random.normal(loc=0.6, scale=0.2, size=1) + \n",
        "                      (1 - pivo)*np.random.normal(loc=0.3, scale=0.3, size=1) for pivo in pivo_buy]).squeeze()\n",
        "# картошка с пивом - хорошо\n",
        "kartoshka_buy = np.array([np.random.choice([0,1], 1, p=softmax([0.5, 0.4+2*pivo])) for pivo in pivo_love])\n",
        "kartoshka_love = np.array([prod_buy*np.random.normal(loc=0.6, scale=0.2, size=1) + \n",
        "                      (1 - prod_buy)*np.random.normal(loc=0.4, scale=0.3, size=1) for prod_buy in kartoshka_buy]).squeeze()\n",
        "# салатик берут девушки\n",
        "salatic_love = np.array([gender*np.random.normal(loc=0.2, scale=0.2, size=1) + \n",
        "                      (1 - gender)*np.random.normal(loc=0.4, scale=0.2, size=1) for gender in genders]).squeeze()\n",
        "salatic_buy = np.array([np.random.choice([0,1], 1, p=softmax([0.6, 0.4+prod])) for prod in salatic_love])\n",
        "# Пиво с мороженкой плохо заходит\n",
        "morozenka_buy = np.array([np.random.choice([0,1], 1, p=softmax([0.6, 0.4-prod])) for prod in pivo_buy]).squeeze()\n",
        "morozenka_love = 1/(0.5 + pivo_love)\n",
        "cola_love = np.random.random(number_of_person)\n",
        "burger_love = np.random.random(number_of_person)\n",
        "# Если купил всего 1 продукт - пусть берёт колу\n",
        "cola_buy = np.array([np.random.choice([0,1], 1, p=softmax([0.6, 0.4+prod])) for prod in salatic_love])\n",
        "# Если кроме колы ничего не взял - пусть берёт бургер\n",
        "\n",
        "df_user = pd.DataFrame()\n",
        "df_user['gender'] = genders\n",
        "df_user['pivo_love'] = pivo_love\n",
        "df_user['kartoshka_love'] = kartoshka_love\n",
        "df_user['salatic_love'] = salatic_love\n",
        "df_user['morozenka_love'] = morozenka_love\n",
        "df_user['cola_love'] = salatic_love\n",
        "df_user['burger_love'] = morozenka_love\n",
        "\n",
        "\n",
        "df_user['pivo_buy'] = pivo_buy\n",
        "df_user['kartoshka_buy'] = kartoshka_buy\n",
        "df_user['salatic_buy'] = salatic_buy\n",
        "df_user['morozenka_buy'] = morozenka_buy\n",
        "\n",
        "cola_buy = np.array(1 if sum(df_user.loc[i, ['pivo_buy', 'kartoshka_buy', 'salatic_buy', 'morozenka_buy']]) <= 1 \n",
        "                                         else int(np.random.choice([0,1], 1, p=softmax([0.7, 0.3+prod]))) for i, prod in enumerate(cola_love)).squeeze()\n",
        "\n",
        "df_user['cola_buy'] = cola_buy\n",
        "\n",
        "burger_buy = np.array(1 if sum(df_user.loc[i, ['pivo_buy', 'kartoshka_buy', 'salatic_buy', 'morozenka_buy']]) == 0 \n",
        "                                         else int(np.random.choice([0,1], 1, p=softmax([0.7, 0.3+prod]))) for i, prod in enumerate(burger_love)).squeeze()\n",
        "df_user['burger_buy'] = burger_buy"
      ],
      "metadata": {
        "id": "ION1XjpnTpuk"
      },
      "id": "ION1XjpnTpuk",
      "execution_count": null,
      "outputs": []
    },
    {
      "cell_type": "code",
      "source": [
        "df_user"
      ],
      "metadata": {
        "colab": {
          "base_uri": "https://localhost:8080/",
          "height": 487
        },
        "id": "1sqNOjjBGyj6",
        "outputId": "c6fcde40-60c9-4067-acd8-ddc47d08f399"
      },
      "id": "1sqNOjjBGyj6",
      "execution_count": null,
      "outputs": [
        {
          "output_type": "execute_result",
          "data": {
            "text/plain": [
              "     gender  pivo_love  kartoshka_love  salatic_love  morozenka_love  \\\n",
              "0         0   0.128108        0.569941      0.524886        1.592082   \n",
              "1         1   0.072803        0.520588      0.260978        1.745800   \n",
              "2         1   0.542304        0.694345      0.171912        0.959413   \n",
              "3         0   0.803845        0.347575      0.326808        0.766963   \n",
              "4         1  -0.048842        0.595301      0.436912        2.216517   \n",
              "..      ...        ...             ...           ...             ...   \n",
              "495       1   0.659507        0.430852     -0.214684        0.862435   \n",
              "496       0   0.462962        0.625231      0.320043        1.038462   \n",
              "497       0   0.951783        0.692444      0.418132        0.688808   \n",
              "498       0   0.059214        0.555961      0.463515        1.788223   \n",
              "499       1   0.666882        0.799448     -0.144167        0.856984   \n",
              "\n",
              "     cola_love  burger_love  pivo_buy  kartoshka_buy  salatic_buy  \\\n",
              "0     0.524886     1.592082         0              0            1   \n",
              "1     0.260978     1.745800         0              1            1   \n",
              "2     0.171912     0.959413         1              0            1   \n",
              "3     0.326808     0.766963         0              1            1   \n",
              "4     0.436912     2.216517         0              0            1   \n",
              "..         ...          ...       ...            ...          ...   \n",
              "495  -0.214684     0.862435         0              1            0   \n",
              "496   0.320043     1.038462         0              0            0   \n",
              "497   0.418132     0.688808         1              1            1   \n",
              "498   0.463515     1.788223         0              1            1   \n",
              "499  -0.144167     0.856984         0              1            1   \n",
              "\n",
              "     morozenka_buy cola_buy burger_buy  \n",
              "0                0        1          1  \n",
              "1                1        1          1  \n",
              "2                0        0          1  \n",
              "3                0        0          0  \n",
              "4                0        1          1  \n",
              "..             ...      ...        ...  \n",
              "495              1        0          1  \n",
              "496              1        1          1  \n",
              "497              0        1          0  \n",
              "498              1        1          0  \n",
              "499              1        0          0  \n",
              "\n",
              "[500 rows x 13 columns]"
            ],
            "text/html": [
              "\n",
              "  <div id=\"df-63893551-c747-4e83-beb1-cf24297987ba\">\n",
              "    <div class=\"colab-df-container\">\n",
              "      <div>\n",
              "<style scoped>\n",
              "    .dataframe tbody tr th:only-of-type {\n",
              "        vertical-align: middle;\n",
              "    }\n",
              "\n",
              "    .dataframe tbody tr th {\n",
              "        vertical-align: top;\n",
              "    }\n",
              "\n",
              "    .dataframe thead th {\n",
              "        text-align: right;\n",
              "    }\n",
              "</style>\n",
              "<table border=\"1\" class=\"dataframe\">\n",
              "  <thead>\n",
              "    <tr style=\"text-align: right;\">\n",
              "      <th></th>\n",
              "      <th>gender</th>\n",
              "      <th>pivo_love</th>\n",
              "      <th>kartoshka_love</th>\n",
              "      <th>salatic_love</th>\n",
              "      <th>morozenka_love</th>\n",
              "      <th>cola_love</th>\n",
              "      <th>burger_love</th>\n",
              "      <th>pivo_buy</th>\n",
              "      <th>kartoshka_buy</th>\n",
              "      <th>salatic_buy</th>\n",
              "      <th>morozenka_buy</th>\n",
              "      <th>cola_buy</th>\n",
              "      <th>burger_buy</th>\n",
              "    </tr>\n",
              "  </thead>\n",
              "  <tbody>\n",
              "    <tr>\n",
              "      <th>0</th>\n",
              "      <td>0</td>\n",
              "      <td>0.128108</td>\n",
              "      <td>0.569941</td>\n",
              "      <td>0.524886</td>\n",
              "      <td>1.592082</td>\n",
              "      <td>0.524886</td>\n",
              "      <td>1.592082</td>\n",
              "      <td>0</td>\n",
              "      <td>0</td>\n",
              "      <td>1</td>\n",
              "      <td>0</td>\n",
              "      <td>1</td>\n",
              "      <td>1</td>\n",
              "    </tr>\n",
              "    <tr>\n",
              "      <th>1</th>\n",
              "      <td>1</td>\n",
              "      <td>0.072803</td>\n",
              "      <td>0.520588</td>\n",
              "      <td>0.260978</td>\n",
              "      <td>1.745800</td>\n",
              "      <td>0.260978</td>\n",
              "      <td>1.745800</td>\n",
              "      <td>0</td>\n",
              "      <td>1</td>\n",
              "      <td>1</td>\n",
              "      <td>1</td>\n",
              "      <td>1</td>\n",
              "      <td>1</td>\n",
              "    </tr>\n",
              "    <tr>\n",
              "      <th>2</th>\n",
              "      <td>1</td>\n",
              "      <td>0.542304</td>\n",
              "      <td>0.694345</td>\n",
              "      <td>0.171912</td>\n",
              "      <td>0.959413</td>\n",
              "      <td>0.171912</td>\n",
              "      <td>0.959413</td>\n",
              "      <td>1</td>\n",
              "      <td>0</td>\n",
              "      <td>1</td>\n",
              "      <td>0</td>\n",
              "      <td>0</td>\n",
              "      <td>1</td>\n",
              "    </tr>\n",
              "    <tr>\n",
              "      <th>3</th>\n",
              "      <td>0</td>\n",
              "      <td>0.803845</td>\n",
              "      <td>0.347575</td>\n",
              "      <td>0.326808</td>\n",
              "      <td>0.766963</td>\n",
              "      <td>0.326808</td>\n",
              "      <td>0.766963</td>\n",
              "      <td>0</td>\n",
              "      <td>1</td>\n",
              "      <td>1</td>\n",
              "      <td>0</td>\n",
              "      <td>0</td>\n",
              "      <td>0</td>\n",
              "    </tr>\n",
              "    <tr>\n",
              "      <th>4</th>\n",
              "      <td>1</td>\n",
              "      <td>-0.048842</td>\n",
              "      <td>0.595301</td>\n",
              "      <td>0.436912</td>\n",
              "      <td>2.216517</td>\n",
              "      <td>0.436912</td>\n",
              "      <td>2.216517</td>\n",
              "      <td>0</td>\n",
              "      <td>0</td>\n",
              "      <td>1</td>\n",
              "      <td>0</td>\n",
              "      <td>1</td>\n",
              "      <td>1</td>\n",
              "    </tr>\n",
              "    <tr>\n",
              "      <th>...</th>\n",
              "      <td>...</td>\n",
              "      <td>...</td>\n",
              "      <td>...</td>\n",
              "      <td>...</td>\n",
              "      <td>...</td>\n",
              "      <td>...</td>\n",
              "      <td>...</td>\n",
              "      <td>...</td>\n",
              "      <td>...</td>\n",
              "      <td>...</td>\n",
              "      <td>...</td>\n",
              "      <td>...</td>\n",
              "      <td>...</td>\n",
              "    </tr>\n",
              "    <tr>\n",
              "      <th>495</th>\n",
              "      <td>1</td>\n",
              "      <td>0.659507</td>\n",
              "      <td>0.430852</td>\n",
              "      <td>-0.214684</td>\n",
              "      <td>0.862435</td>\n",
              "      <td>-0.214684</td>\n",
              "      <td>0.862435</td>\n",
              "      <td>0</td>\n",
              "      <td>1</td>\n",
              "      <td>0</td>\n",
              "      <td>1</td>\n",
              "      <td>0</td>\n",
              "      <td>1</td>\n",
              "    </tr>\n",
              "    <tr>\n",
              "      <th>496</th>\n",
              "      <td>0</td>\n",
              "      <td>0.462962</td>\n",
              "      <td>0.625231</td>\n",
              "      <td>0.320043</td>\n",
              "      <td>1.038462</td>\n",
              "      <td>0.320043</td>\n",
              "      <td>1.038462</td>\n",
              "      <td>0</td>\n",
              "      <td>0</td>\n",
              "      <td>0</td>\n",
              "      <td>1</td>\n",
              "      <td>1</td>\n",
              "      <td>1</td>\n",
              "    </tr>\n",
              "    <tr>\n",
              "      <th>497</th>\n",
              "      <td>0</td>\n",
              "      <td>0.951783</td>\n",
              "      <td>0.692444</td>\n",
              "      <td>0.418132</td>\n",
              "      <td>0.688808</td>\n",
              "      <td>0.418132</td>\n",
              "      <td>0.688808</td>\n",
              "      <td>1</td>\n",
              "      <td>1</td>\n",
              "      <td>1</td>\n",
              "      <td>0</td>\n",
              "      <td>1</td>\n",
              "      <td>0</td>\n",
              "    </tr>\n",
              "    <tr>\n",
              "      <th>498</th>\n",
              "      <td>0</td>\n",
              "      <td>0.059214</td>\n",
              "      <td>0.555961</td>\n",
              "      <td>0.463515</td>\n",
              "      <td>1.788223</td>\n",
              "      <td>0.463515</td>\n",
              "      <td>1.788223</td>\n",
              "      <td>0</td>\n",
              "      <td>1</td>\n",
              "      <td>1</td>\n",
              "      <td>1</td>\n",
              "      <td>1</td>\n",
              "      <td>0</td>\n",
              "    </tr>\n",
              "    <tr>\n",
              "      <th>499</th>\n",
              "      <td>1</td>\n",
              "      <td>0.666882</td>\n",
              "      <td>0.799448</td>\n",
              "      <td>-0.144167</td>\n",
              "      <td>0.856984</td>\n",
              "      <td>-0.144167</td>\n",
              "      <td>0.856984</td>\n",
              "      <td>0</td>\n",
              "      <td>1</td>\n",
              "      <td>1</td>\n",
              "      <td>1</td>\n",
              "      <td>0</td>\n",
              "      <td>0</td>\n",
              "    </tr>\n",
              "  </tbody>\n",
              "</table>\n",
              "<p>500 rows × 13 columns</p>\n",
              "</div>\n",
              "      <button class=\"colab-df-convert\" onclick=\"convertToInteractive('df-63893551-c747-4e83-beb1-cf24297987ba')\"\n",
              "              title=\"Convert this dataframe to an interactive table.\"\n",
              "              style=\"display:none;\">\n",
              "        \n",
              "  <svg xmlns=\"http://www.w3.org/2000/svg\" height=\"24px\"viewBox=\"0 0 24 24\"\n",
              "       width=\"24px\">\n",
              "    <path d=\"M0 0h24v24H0V0z\" fill=\"none\"/>\n",
              "    <path d=\"M18.56 5.44l.94 2.06.94-2.06 2.06-.94-2.06-.94-.94-2.06-.94 2.06-2.06.94zm-11 1L8.5 8.5l.94-2.06 2.06-.94-2.06-.94L8.5 2.5l-.94 2.06-2.06.94zm10 10l.94 2.06.94-2.06 2.06-.94-2.06-.94-.94-2.06-.94 2.06-2.06.94z\"/><path d=\"M17.41 7.96l-1.37-1.37c-.4-.4-.92-.59-1.43-.59-.52 0-1.04.2-1.43.59L10.3 9.45l-7.72 7.72c-.78.78-.78 2.05 0 2.83L4 21.41c.39.39.9.59 1.41.59.51 0 1.02-.2 1.41-.59l7.78-7.78 2.81-2.81c.8-.78.8-2.07 0-2.86zM5.41 20L4 18.59l7.72-7.72 1.47 1.35L5.41 20z\"/>\n",
              "  </svg>\n",
              "      </button>\n",
              "      \n",
              "  <style>\n",
              "    .colab-df-container {\n",
              "      display:flex;\n",
              "      flex-wrap:wrap;\n",
              "      gap: 12px;\n",
              "    }\n",
              "\n",
              "    .colab-df-convert {\n",
              "      background-color: #E8F0FE;\n",
              "      border: none;\n",
              "      border-radius: 50%;\n",
              "      cursor: pointer;\n",
              "      display: none;\n",
              "      fill: #1967D2;\n",
              "      height: 32px;\n",
              "      padding: 0 0 0 0;\n",
              "      width: 32px;\n",
              "    }\n",
              "\n",
              "    .colab-df-convert:hover {\n",
              "      background-color: #E2EBFA;\n",
              "      box-shadow: 0px 1px 2px rgba(60, 64, 67, 0.3), 0px 1px 3px 1px rgba(60, 64, 67, 0.15);\n",
              "      fill: #174EA6;\n",
              "    }\n",
              "\n",
              "    [theme=dark] .colab-df-convert {\n",
              "      background-color: #3B4455;\n",
              "      fill: #D2E3FC;\n",
              "    }\n",
              "\n",
              "    [theme=dark] .colab-df-convert:hover {\n",
              "      background-color: #434B5C;\n",
              "      box-shadow: 0px 1px 3px 1px rgba(0, 0, 0, 0.15);\n",
              "      filter: drop-shadow(0px 1px 2px rgba(0, 0, 0, 0.3));\n",
              "      fill: #FFFFFF;\n",
              "    }\n",
              "  </style>\n",
              "\n",
              "      <script>\n",
              "        const buttonEl =\n",
              "          document.querySelector('#df-63893551-c747-4e83-beb1-cf24297987ba button.colab-df-convert');\n",
              "        buttonEl.style.display =\n",
              "          google.colab.kernel.accessAllowed ? 'block' : 'none';\n",
              "\n",
              "        async function convertToInteractive(key) {\n",
              "          const element = document.querySelector('#df-63893551-c747-4e83-beb1-cf24297987ba');\n",
              "          const dataTable =\n",
              "            await google.colab.kernel.invokeFunction('convertToInteractive',\n",
              "                                                     [key], {});\n",
              "          if (!dataTable) return;\n",
              "\n",
              "          const docLinkHtml = 'Like what you see? Visit the ' +\n",
              "            '<a target=\"_blank\" href=https://colab.research.google.com/notebooks/data_table.ipynb>data table notebook</a>'\n",
              "            + ' to learn more about interactive tables.';\n",
              "          element.innerHTML = '';\n",
              "          dataTable['output_type'] = 'display_data';\n",
              "          await google.colab.output.renderOutput(dataTable, element);\n",
              "          const docLink = document.createElement('div');\n",
              "          docLink.innerHTML = docLinkHtml;\n",
              "          element.appendChild(docLink);\n",
              "        }\n",
              "      </script>\n",
              "    </div>\n",
              "  </div>\n",
              "  "
            ]
          },
          "metadata": {},
          "execution_count": 172
        }
      ]
    },
    {
      "cell_type": "code",
      "source": [
        "Counter(df_user.iloc[:, 7:].sum(axis=1))"
      ],
      "metadata": {
        "colab": {
          "base_uri": "https://localhost:8080/"
        },
        "id": "-92CjioUq4Kj",
        "outputId": "1886ab08-eb1e-493b-e59f-5a1880dd935e"
      },
      "id": "-92CjioUq4Kj",
      "execution_count": null,
      "outputs": [
        {
          "output_type": "execute_result",
          "data": {
            "text/plain": [
              "Counter({2.0: 151, 3.0: 224, 4.0: 110, 5.0: 13, 6.0: 2})"
            ]
          },
          "metadata": {},
          "execution_count": 173
        }
      ]
    },
    {
      "cell_type": "code",
      "execution_count": null,
      "id": "0cbde775",
      "metadata": {
        "id": "0cbde775"
      },
      "outputs": [],
      "source": [
        "import sklearn.preprocessing as skl\n",
        "category = ['Пиво','Картошка', 'Салатик', 'Мороженка', 'cola', 'burger']\n",
        "df_dish = pd.DataFrame(np.eye(6), index = category)"
      ]
    },
    {
      "cell_type": "code",
      "source": [
        "df_dish"
      ],
      "metadata": {
        "colab": {
          "base_uri": "https://localhost:8080/",
          "height": 237
        },
        "id": "7fv_Zbut1BPA",
        "outputId": "cb2cd797-64b4-42cd-bc92-5a3929f11598"
      },
      "id": "7fv_Zbut1BPA",
      "execution_count": null,
      "outputs": [
        {
          "output_type": "execute_result",
          "data": {
            "text/plain": [
              "             0    1    2    3    4    5\n",
              "Пиво       1.0  0.0  0.0  0.0  0.0  0.0\n",
              "Картошка   0.0  1.0  0.0  0.0  0.0  0.0\n",
              "Салатик    0.0  0.0  1.0  0.0  0.0  0.0\n",
              "Мороженка  0.0  0.0  0.0  1.0  0.0  0.0\n",
              "cola       0.0  0.0  0.0  0.0  1.0  0.0\n",
              "burger     0.0  0.0  0.0  0.0  0.0  1.0"
            ],
            "text/html": [
              "\n",
              "  <div id=\"df-f43cc822-b0ba-4c27-95f2-cb652d972d6f\">\n",
              "    <div class=\"colab-df-container\">\n",
              "      <div>\n",
              "<style scoped>\n",
              "    .dataframe tbody tr th:only-of-type {\n",
              "        vertical-align: middle;\n",
              "    }\n",
              "\n",
              "    .dataframe tbody tr th {\n",
              "        vertical-align: top;\n",
              "    }\n",
              "\n",
              "    .dataframe thead th {\n",
              "        text-align: right;\n",
              "    }\n",
              "</style>\n",
              "<table border=\"1\" class=\"dataframe\">\n",
              "  <thead>\n",
              "    <tr style=\"text-align: right;\">\n",
              "      <th></th>\n",
              "      <th>0</th>\n",
              "      <th>1</th>\n",
              "      <th>2</th>\n",
              "      <th>3</th>\n",
              "      <th>4</th>\n",
              "      <th>5</th>\n",
              "    </tr>\n",
              "  </thead>\n",
              "  <tbody>\n",
              "    <tr>\n",
              "      <th>Пиво</th>\n",
              "      <td>1.0</td>\n",
              "      <td>0.0</td>\n",
              "      <td>0.0</td>\n",
              "      <td>0.0</td>\n",
              "      <td>0.0</td>\n",
              "      <td>0.0</td>\n",
              "    </tr>\n",
              "    <tr>\n",
              "      <th>Картошка</th>\n",
              "      <td>0.0</td>\n",
              "      <td>1.0</td>\n",
              "      <td>0.0</td>\n",
              "      <td>0.0</td>\n",
              "      <td>0.0</td>\n",
              "      <td>0.0</td>\n",
              "    </tr>\n",
              "    <tr>\n",
              "      <th>Салатик</th>\n",
              "      <td>0.0</td>\n",
              "      <td>0.0</td>\n",
              "      <td>1.0</td>\n",
              "      <td>0.0</td>\n",
              "      <td>0.0</td>\n",
              "      <td>0.0</td>\n",
              "    </tr>\n",
              "    <tr>\n",
              "      <th>Мороженка</th>\n",
              "      <td>0.0</td>\n",
              "      <td>0.0</td>\n",
              "      <td>0.0</td>\n",
              "      <td>1.0</td>\n",
              "      <td>0.0</td>\n",
              "      <td>0.0</td>\n",
              "    </tr>\n",
              "    <tr>\n",
              "      <th>cola</th>\n",
              "      <td>0.0</td>\n",
              "      <td>0.0</td>\n",
              "      <td>0.0</td>\n",
              "      <td>0.0</td>\n",
              "      <td>1.0</td>\n",
              "      <td>0.0</td>\n",
              "    </tr>\n",
              "    <tr>\n",
              "      <th>burger</th>\n",
              "      <td>0.0</td>\n",
              "      <td>0.0</td>\n",
              "      <td>0.0</td>\n",
              "      <td>0.0</td>\n",
              "      <td>0.0</td>\n",
              "      <td>1.0</td>\n",
              "    </tr>\n",
              "  </tbody>\n",
              "</table>\n",
              "</div>\n",
              "      <button class=\"colab-df-convert\" onclick=\"convertToInteractive('df-f43cc822-b0ba-4c27-95f2-cb652d972d6f')\"\n",
              "              title=\"Convert this dataframe to an interactive table.\"\n",
              "              style=\"display:none;\">\n",
              "        \n",
              "  <svg xmlns=\"http://www.w3.org/2000/svg\" height=\"24px\"viewBox=\"0 0 24 24\"\n",
              "       width=\"24px\">\n",
              "    <path d=\"M0 0h24v24H0V0z\" fill=\"none\"/>\n",
              "    <path d=\"M18.56 5.44l.94 2.06.94-2.06 2.06-.94-2.06-.94-.94-2.06-.94 2.06-2.06.94zm-11 1L8.5 8.5l.94-2.06 2.06-.94-2.06-.94L8.5 2.5l-.94 2.06-2.06.94zm10 10l.94 2.06.94-2.06 2.06-.94-2.06-.94-.94-2.06-.94 2.06-2.06.94z\"/><path d=\"M17.41 7.96l-1.37-1.37c-.4-.4-.92-.59-1.43-.59-.52 0-1.04.2-1.43.59L10.3 9.45l-7.72 7.72c-.78.78-.78 2.05 0 2.83L4 21.41c.39.39.9.59 1.41.59.51 0 1.02-.2 1.41-.59l7.78-7.78 2.81-2.81c.8-.78.8-2.07 0-2.86zM5.41 20L4 18.59l7.72-7.72 1.47 1.35L5.41 20z\"/>\n",
              "  </svg>\n",
              "      </button>\n",
              "      \n",
              "  <style>\n",
              "    .colab-df-container {\n",
              "      display:flex;\n",
              "      flex-wrap:wrap;\n",
              "      gap: 12px;\n",
              "    }\n",
              "\n",
              "    .colab-df-convert {\n",
              "      background-color: #E8F0FE;\n",
              "      border: none;\n",
              "      border-radius: 50%;\n",
              "      cursor: pointer;\n",
              "      display: none;\n",
              "      fill: #1967D2;\n",
              "      height: 32px;\n",
              "      padding: 0 0 0 0;\n",
              "      width: 32px;\n",
              "    }\n",
              "\n",
              "    .colab-df-convert:hover {\n",
              "      background-color: #E2EBFA;\n",
              "      box-shadow: 0px 1px 2px rgba(60, 64, 67, 0.3), 0px 1px 3px 1px rgba(60, 64, 67, 0.15);\n",
              "      fill: #174EA6;\n",
              "    }\n",
              "\n",
              "    [theme=dark] .colab-df-convert {\n",
              "      background-color: #3B4455;\n",
              "      fill: #D2E3FC;\n",
              "    }\n",
              "\n",
              "    [theme=dark] .colab-df-convert:hover {\n",
              "      background-color: #434B5C;\n",
              "      box-shadow: 0px 1px 3px 1px rgba(0, 0, 0, 0.15);\n",
              "      filter: drop-shadow(0px 1px 2px rgba(0, 0, 0, 0.3));\n",
              "      fill: #FFFFFF;\n",
              "    }\n",
              "  </style>\n",
              "\n",
              "      <script>\n",
              "        const buttonEl =\n",
              "          document.querySelector('#df-f43cc822-b0ba-4c27-95f2-cb652d972d6f button.colab-df-convert');\n",
              "        buttonEl.style.display =\n",
              "          google.colab.kernel.accessAllowed ? 'block' : 'none';\n",
              "\n",
              "        async function convertToInteractive(key) {\n",
              "          const element = document.querySelector('#df-f43cc822-b0ba-4c27-95f2-cb652d972d6f');\n",
              "          const dataTable =\n",
              "            await google.colab.kernel.invokeFunction('convertToInteractive',\n",
              "                                                     [key], {});\n",
              "          if (!dataTable) return;\n",
              "\n",
              "          const docLinkHtml = 'Like what you see? Visit the ' +\n",
              "            '<a target=\"_blank\" href=https://colab.research.google.com/notebooks/data_table.ipynb>data table notebook</a>'\n",
              "            + ' to learn more about interactive tables.';\n",
              "          element.innerHTML = '';\n",
              "          dataTable['output_type'] = 'display_data';\n",
              "          await google.colab.output.renderOutput(dataTable, element);\n",
              "          const docLink = document.createElement('div');\n",
              "          docLink.innerHTML = docLinkHtml;\n",
              "          element.appendChild(docLink);\n",
              "        }\n",
              "      </script>\n",
              "    </div>\n",
              "  </div>\n",
              "  "
            ]
          },
          "metadata": {},
          "execution_count": 175
        }
      ]
    },
    {
      "cell_type": "code",
      "source": [
        ""
      ],
      "metadata": {
        "id": "ciARxWgK6Iv6"
      },
      "id": "ciARxWgK6Iv6",
      "execution_count": null,
      "outputs": []
    },
    {
      "cell_type": "code",
      "source": [
        "df_user.iloc[:, :7].values"
      ],
      "metadata": {
        "colab": {
          "base_uri": "https://localhost:8080/"
        },
        "id": "lH3Qfs7i6I2_",
        "outputId": "3346bd87-865e-48f2-8c78-4c9ea1b4ddde"
      },
      "id": "lH3Qfs7i6I2_",
      "execution_count": null,
      "outputs": [
        {
          "output_type": "execute_result",
          "data": {
            "text/plain": [
              "array([[ 0.        ,  0.12810823,  0.56994138, ...,  1.59208231,\n",
              "         0.5248864 ,  1.59208231],\n",
              "       [ 1.        ,  0.07280346,  0.52058843, ...,  1.7457995 ,\n",
              "         0.26097812,  1.7457995 ],\n",
              "       [ 1.        ,  0.5423039 ,  0.69434501, ...,  0.95941308,\n",
              "         0.1719123 ,  0.95941308],\n",
              "       ...,\n",
              "       [ 0.        ,  0.95178314,  0.69244448, ...,  0.68880811,\n",
              "         0.41813183,  0.68880811],\n",
              "       [ 0.        ,  0.05921423,  0.55596133, ...,  1.78822344,\n",
              "         0.46351495,  1.78822344],\n",
              "       [ 1.        ,  0.66688237,  0.79944839, ...,  0.85698441,\n",
              "        -0.14416688,  0.85698441]])"
            ]
          },
          "metadata": {},
          "execution_count": 176
        }
      ]
    },
    {
      "cell_type": "code",
      "source": [
        "df_user.iloc[:, 7:] = df_user.iloc[:, 7:].astype(int) "
      ],
      "metadata": {
        "id": "MgjCby_T6o5D"
      },
      "id": "MgjCby_T6o5D",
      "execution_count": null,
      "outputs": []
    },
    {
      "cell_type": "code",
      "execution_count": null,
      "id": "1109aec8",
      "metadata": {
        "id": "1109aec8"
      },
      "outputs": [],
      "source": [
        "data = HeteroData()\n",
        "data['user'].x = torch.from_numpy(df_user.iloc[:, 1:7].values)\n",
        "data['dish'].x = torch.from_numpy(df_dish.values)\n",
        "data['user'].y = torch.from_numpy(df_user.iloc[:, 7:].values)\n",
        "#data['dish'].y = torch.from_numpy(df_dish.iloc[:, :6].values)"
      ]
    },
    {
      "cell_type": "code",
      "source": [
        "data['dish']"
      ],
      "metadata": {
        "colab": {
          "base_uri": "https://localhost:8080/"
        },
        "id": "TuAu2uJvlfjb",
        "outputId": "bf654e26-9b4f-4d85-94b6-925abc414411"
      },
      "id": "TuAu2uJvlfjb",
      "execution_count": null,
      "outputs": [
        {
          "output_type": "execute_result",
          "data": {
            "text/plain": [
              "{'x': tensor([[1., 0., 0., 0., 0., 0.],\n",
              "        [0., 1., 0., 0., 0., 0.],\n",
              "        [0., 0., 1., 0., 0., 0.],\n",
              "        [0., 0., 0., 1., 0., 0.],\n",
              "        [0., 0., 0., 0., 1., 0.],\n",
              "        [0., 0., 0., 0., 0., 1.]], dtype=torch.float64)}"
            ]
          },
          "metadata": {},
          "execution_count": 179
        }
      ]
    },
    {
      "cell_type": "code",
      "source": [
        "torch_buy_pivo = torch.stack((torch.from_numpy(df_user[df_user.pivo_buy == 1].index.values) , \n",
        "                              torch.from_numpy(np.zeros(len(df_user[df_user.pivo_buy == 1].index))) ))"
      ],
      "metadata": {
        "id": "ZwKvoF2-Q2kl"
      },
      "id": "ZwKvoF2-Q2kl",
      "execution_count": null,
      "outputs": []
    },
    {
      "cell_type": "code",
      "source": [
        "torch_buy_kartoshka = torch.stack((torch.from_numpy(df_user[df_user.kartoshka_buy == 1].index.values) , \n",
        "                                  torch.from_numpy(np.ones(len(df_user[df_user.kartoshka_buy == 1].index))) ))\n",
        "torch_buy_salatic = torch.stack((torch.from_numpy(df_user[df_user.salatic_buy == 1].index.values) , \n",
        "                                  torch.from_numpy(np.ones(len(df_user[df_user.salatic_buy == 1].index))*2) ))\n",
        "torch_buy_morozenka = torch.stack((torch.from_numpy(df_user[df_user.morozenka_buy == 1].index.values) , \n",
        "                                  torch.from_numpy(np.ones(len(df_user[df_user.morozenka_buy == 1].index))*3) ))\n",
        "torch_buy_cola = torch.stack((torch.from_numpy(df_user[df_user.cola_buy == 1].index.values) , \n",
        "                                  torch.from_numpy(np.ones(len(df_user[df_user.cola_buy == 1].index))*4) ))\n",
        "torch_buy_burger = torch.stack((torch.from_numpy(df_user[df_user.burger_buy == 1].index.values) , \n",
        "                                  torch.from_numpy(np.ones(len(df_user[df_user.burger_buy == 1].index))*5) ))"
      ],
      "metadata": {
        "id": "TuFaJvi2R_93"
      },
      "id": "TuFaJvi2R_93",
      "execution_count": null,
      "outputs": []
    },
    {
      "cell_type": "code",
      "source": [
        "data['user', 'buys', 'dish'].edge_index = torch.cat((torch_buy_pivo, torch_buy_kartoshka, torch_buy_salatic,\n",
        "                                                     torch_buy_morozenka, torch_buy_cola, torch_buy_burger), axis=1)"
      ],
      "metadata": {
        "id": "d2uFXu9NS788"
      },
      "id": "d2uFXu9NS788",
      "execution_count": null,
      "outputs": []
    },
    {
      "cell_type": "code",
      "execution_count": null,
      "id": "9a086420",
      "metadata": {
        "id": "9a086420"
      },
      "outputs": [],
      "source": [
        "#data['user', 'buys', 'dish'].edge_index = torch.stack((torch.from_numpy(user_nodes), torch.from_numpy(dish_nodes)))"
      ]
    },
    {
      "cell_type": "code",
      "source": [
        "data['buys'].edge_index = data['buys'].edge_index.type(torch.LongTensor)"
      ],
      "metadata": {
        "id": "23gtO1UDqiac"
      },
      "id": "23gtO1UDqiac",
      "execution_count": null,
      "outputs": []
    },
    {
      "cell_type": "code",
      "source": [
        "data = T.ToUndirected()(data)"
      ],
      "metadata": {
        "id": "5fP8tp4tMESv"
      },
      "id": "5fP8tp4tMESv",
      "execution_count": null,
      "outputs": []
    },
    {
      "cell_type": "code",
      "source": [
        "data"
      ],
      "metadata": {
        "colab": {
          "base_uri": "https://localhost:8080/"
        },
        "id": "dNP2sXpWYEYR",
        "outputId": "1a16011d-ed10-43d2-e729-98025b56bc81"
      },
      "id": "dNP2sXpWYEYR",
      "execution_count": null,
      "outputs": [
        {
          "output_type": "execute_result",
          "data": {
            "text/plain": [
              "HeteroData(\n",
              "  \u001b[1muser\u001b[0m={\n",
              "    x=[500, 6],\n",
              "    y=[500, 6]\n",
              "  },\n",
              "  \u001b[1mdish\u001b[0m={ x=[6, 6] },\n",
              "  \u001b[1m(user, buys, dish)\u001b[0m={ edge_index=[2, 1491] },\n",
              "  \u001b[1m(dish, rev_buys, user)\u001b[0m={ edge_index=[2, 1491] }\n",
              ")"
            ]
          },
          "metadata": {},
          "execution_count": 186
        }
      ]
    },
    {
      "cell_type": "code",
      "source": [
        "homogeneous_data = data.to_homogeneous()\n",
        "homogeneous_data.x = homogeneous_data.x.float()"
      ],
      "metadata": {
        "id": "nO-fI0Pm7VCS"
      },
      "id": "nO-fI0Pm7VCS",
      "execution_count": null,
      "outputs": []
    },
    {
      "cell_type": "code",
      "source": [
        "data"
      ],
      "metadata": {
        "colab": {
          "base_uri": "https://localhost:8080/"
        },
        "id": "mHqxndDq7c7f",
        "outputId": "4ef98e05-dbd2-4630-c148-7c63c8822024"
      },
      "id": "mHqxndDq7c7f",
      "execution_count": null,
      "outputs": [
        {
          "output_type": "execute_result",
          "data": {
            "text/plain": [
              "HeteroData(\n",
              "  \u001b[1muser\u001b[0m={\n",
              "    x=[500, 6],\n",
              "    y=[500, 6]\n",
              "  },\n",
              "  \u001b[1mdish\u001b[0m={\n",
              "    x=[6, 6],\n",
              "    y=[6, 6]\n",
              "  },\n",
              "  \u001b[1m(user, buys, dish)\u001b[0m={ edge_index=[2, 1521] },\n",
              "  \u001b[1m(dish, rev_buys, user)\u001b[0m={ edge_index=[2, 1521] }\n",
              ")"
            ]
          },
          "metadata": {},
          "execution_count": 124
        }
      ]
    },
    {
      "cell_type": "code",
      "source": [
        "homogeneous_data"
      ],
      "metadata": {
        "colab": {
          "base_uri": "https://localhost:8080/"
        },
        "id": "5In7FDma9MIv",
        "outputId": "134ab33b-bdb8-4830-a4fb-dddc3f131271"
      },
      "id": "5In7FDma9MIv",
      "execution_count": null,
      "outputs": [
        {
          "output_type": "execute_result",
          "data": {
            "text/plain": [
              "Data(node_type=[506], x=[506, 6], y=[506, 6], edge_index=[2, 3042], edge_type=[3042])"
            ]
          },
          "metadata": {},
          "execution_count": 125
        }
      ]
    },
    {
      "cell_type": "code",
      "source": [
        ""
      ],
      "metadata": {
        "id": "uk4T3V1PCVc7"
      },
      "id": "uk4T3V1PCVc7",
      "execution_count": null,
      "outputs": []
    },
    {
      "cell_type": "code",
      "execution_count": null,
      "id": "169914e0",
      "metadata": {
        "id": "169914e0"
      },
      "outputs": [],
      "source": [
        "class NeighborSampler(RawNeighborSampler):\n",
        "    def sample(self, batch):\n",
        "        batch = torch.tensor(batch)\n",
        "        # print(batch)\n",
        "        # print(np.array(self.adj_t).shape)\n",
        "        row, col, _ = self.adj_t.coo()\n",
        "\n",
        "        # For each node in `batch`, we sample a direct neighbor (as positive\n",
        "        # example) and a random node (as negative example):\n",
        "        pos_batch = random_walk(row, col, batch, walk_length=1,\n",
        "                                coalesced=False)[:, 1]\n",
        "        # print(pos_batch)\n",
        "\n",
        "        neg_batch = torch.randint(0, self.adj_t.size(1), (batch.numel(), ),\n",
        "                                  dtype=torch.long)\n",
        "        # print(neg_batch)\n",
        "\n",
        "        batch = torch.cat([batch, pos_batch, neg_batch], dim=0)\n",
        "        return super(NeighborSampler, self).sample(batch)\n"
      ]
    },
    {
      "cell_type": "code",
      "source": [
        "hetero_data = data"
      ],
      "metadata": {
        "id": "MS_maGh2Ycwj"
      },
      "id": "MS_maGh2Ycwj",
      "execution_count": null,
      "outputs": []
    },
    {
      "cell_type": "code",
      "source": [
        "hetero_data"
      ],
      "metadata": {
        "colab": {
          "base_uri": "https://localhost:8080/"
        },
        "id": "ZSJ_Y_g1YiX7",
        "outputId": "dddbebff-b5ac-4f8e-c9e4-71fdd1806637"
      },
      "id": "ZSJ_Y_g1YiX7",
      "execution_count": null,
      "outputs": [
        {
          "output_type": "execute_result",
          "data": {
            "text/plain": [
              "HeteroData(\n",
              "  \u001b[1muser\u001b[0m={\n",
              "    x=[500, 6],\n",
              "    y=[500, 6]\n",
              "  },\n",
              "  \u001b[1mdish\u001b[0m={ x=[6, 6] },\n",
              "  \u001b[1m(user, buys, dish)\u001b[0m={ edge_index=[2, 1491] },\n",
              "  \u001b[1m(dish, rev_buys, user)\u001b[0m={ edge_index=[2, 1491] }\n",
              ")"
            ]
          },
          "metadata": {},
          "execution_count": 189
        }
      ]
    },
    {
      "cell_type": "code",
      "source": [
        "#data = homogeneous_data"
      ],
      "metadata": {
        "id": "KyLptpVpkeEj"
      },
      "id": "KyLptpVpkeEj",
      "execution_count": null,
      "outputs": []
    },
    {
      "cell_type": "code",
      "execution_count": null,
      "id": "ed0fdbd6",
      "metadata": {
        "id": "ed0fdbd6"
      },
      "outputs": [],
      "source": [
        "train_loader = NeighborSampler(data.edge_index, sizes=[1, 1], batch_size=1,\n",
        "                               shuffle=True, num_nodes=data.num_nodes)"
      ]
    },
    {
      "cell_type": "code",
      "source": [
        "from torch_geometric.loader import NeighborLoader\n",
        "n_neigh = 1\n",
        "loader = NeighborLoader(\n",
        "    hetero_data,\n",
        "    # Sample n_neigh neighbors for each node and edge type for 2 iterations\n",
        "    num_neighbors={key: [n_neigh] * 2 for key in hetero_data.edge_types},\n",
        "    # Use a batch size of 128 for sampling training nodes of type paper\n",
        "    batch_size=1,\n",
        "    input_nodes=('user'),\n",
        ")"
      ],
      "metadata": {
        "id": "UpCKYkP6YXlt"
      },
      "id": "UpCKYkP6YXlt",
      "execution_count": null,
      "outputs": []
    },
    {
      "cell_type": "code",
      "source": [
        "hetero_data.edge_types"
      ],
      "metadata": {
        "colab": {
          "base_uri": "https://localhost:8080/"
        },
        "id": "zc7J3P2n0wqG",
        "outputId": "d4aca122-a73b-43fc-fd44-c25b54a21975"
      },
      "id": "zc7J3P2n0wqG",
      "execution_count": null,
      "outputs": [
        {
          "output_type": "execute_result",
          "data": {
            "text/plain": [
              "[('user', 'buys', 'dish'), ('dish', 'rev_buys', 'user')]"
            ]
          },
          "metadata": {},
          "execution_count": 211
        }
      ]
    },
    {
      "cell_type": "code",
      "source": [
        "iterator = iter(loader)"
      ],
      "metadata": {
        "id": "oWd74hFfYzfg"
      },
      "id": "oWd74hFfYzfg",
      "execution_count": null,
      "outputs": []
    },
    {
      "cell_type": "code",
      "source": [
        "next(iterator)"
      ],
      "metadata": {
        "colab": {
          "base_uri": "https://localhost:8080/"
        },
        "id": "DrTmmMnqY3Nk",
        "outputId": "bbc59ca2-944b-43b0-c9ac-385f3a1f0ae7"
      },
      "id": "DrTmmMnqY3Nk",
      "execution_count": null,
      "outputs": [
        {
          "output_type": "execute_result",
          "data": {
            "text/plain": [
              "HeteroData(\n",
              "  \u001b[1muser\u001b[0m={\n",
              "    x=[2, 6],\n",
              "    y=[2, 6],\n",
              "    batch_size=1\n",
              "  },\n",
              "  \u001b[1mdish\u001b[0m={ x=[1, 6] },\n",
              "  \u001b[1m(user, buys, dish)\u001b[0m={ edge_index=[2, 1] },\n",
              "  \u001b[1m(dish, rev_buys, user)\u001b[0m={ edge_index=[2, 1] }\n",
              ")"
            ]
          },
          "metadata": {},
          "execution_count": 213
        }
      ]
    },
    {
      "cell_type": "code",
      "execution_count": null,
      "id": "8a32bbca",
      "metadata": {
        "id": "8a32bbca"
      },
      "outputs": [],
      "source": [
        "class SAGE(nn.Module):\n",
        "    def __init__(self, in_channels, hidden_channels, num_layers):\n",
        "        super(SAGE, self).__init__()\n",
        "        self.num_layers = num_layers\n",
        "        self.convs = nn.ModuleList()\n",
        "        \n",
        "        for i in range(num_layers):\n",
        "            in_channels = in_channels if i == 0 else hidden_channels\n",
        "            self.convs.append(SAGEConv(in_channels, hidden_channels))\n",
        "\n",
        "    def forward(self, x, adjs):\n",
        "        for i, (edge_index, _, size) in enumerate(adjs):\n",
        "            x_target = x[:size[1]]  # Target nodes are always placed first.\n",
        "            #print(x, x_target)\n",
        "            x = self.convs[i]((x, x_target), edge_index)\n",
        "            if i != self.num_layers - 1:\n",
        "                x = x.relu()\n",
        "                x = F.dropout(x, p=0.5, training=self.training)\n",
        "        return x\n",
        "\n",
        "    def full_forward(self, x, edge_index):\n",
        "        for i, conv in enumerate(self.convs):\n",
        "            x = conv(x, edge_index)\n",
        "            if i != self.num_layers - 1:\n",
        "                x = x.relu()\n",
        "                x = F.dropout(x, p=0.5, training=self.training)\n",
        "        return x"
      ]
    },
    {
      "cell_type": "code",
      "execution_count": null,
      "id": "4d3169cc",
      "metadata": {
        "id": "4d3169cc",
        "colab": {
          "base_uri": "https://localhost:8080/",
          "height": 357
        },
        "outputId": "eace84f9-c9f9-4823-b641-f90c31b13ca5"
      },
      "outputs": [
        {
          "output_type": "error",
          "ename": "AttributeError",
          "evalue": "ignored",
          "traceback": [
            "\u001b[0;31m---------------------------------------------------------------------------\u001b[0m",
            "\u001b[0;31mAttributeError\u001b[0m                            Traceback (most recent call last)",
            "\u001b[0;32m<ipython-input-215-c11d5406d8e4>\u001b[0m in \u001b[0;36m<module>\u001b[0;34m()\u001b[0m\n\u001b[1;32m      1\u001b[0m \u001b[0mdevice\u001b[0m \u001b[0;34m=\u001b[0m \u001b[0mtorch\u001b[0m\u001b[0;34m.\u001b[0m\u001b[0mdevice\u001b[0m\u001b[0;34m(\u001b[0m\u001b[0;34m'cuda'\u001b[0m \u001b[0;32mif\u001b[0m \u001b[0mtorch\u001b[0m\u001b[0;34m.\u001b[0m\u001b[0mcuda\u001b[0m\u001b[0;34m.\u001b[0m\u001b[0mis_available\u001b[0m\u001b[0;34m(\u001b[0m\u001b[0;34m)\u001b[0m \u001b[0;32melse\u001b[0m \u001b[0;34m'cpu'\u001b[0m\u001b[0;34m)\u001b[0m\u001b[0;34m\u001b[0m\u001b[0;34m\u001b[0m\u001b[0m\n\u001b[0;32m----> 2\u001b[0;31m \u001b[0mmodel\u001b[0m \u001b[0;34m=\u001b[0m \u001b[0mSAGE\u001b[0m\u001b[0;34m(\u001b[0m\u001b[0mdata\u001b[0m\u001b[0;34m.\u001b[0m\u001b[0mnum_node_features\u001b[0m\u001b[0;34m,\u001b[0m \u001b[0mhidden_channels\u001b[0m\u001b[0;34m=\u001b[0m\u001b[0;36m64\u001b[0m\u001b[0;34m,\u001b[0m \u001b[0mnum_layers\u001b[0m\u001b[0;34m=\u001b[0m\u001b[0;36m2\u001b[0m\u001b[0;34m)\u001b[0m\u001b[0;34m\u001b[0m\u001b[0;34m\u001b[0m\u001b[0m\n\u001b[0m\u001b[1;32m      3\u001b[0m \u001b[0mmodel\u001b[0m \u001b[0;34m=\u001b[0m \u001b[0mmodel\u001b[0m\u001b[0;34m.\u001b[0m\u001b[0mto\u001b[0m\u001b[0;34m(\u001b[0m\u001b[0mdevice\u001b[0m\u001b[0;34m)\u001b[0m\u001b[0;34m\u001b[0m\u001b[0;34m\u001b[0m\u001b[0m\n\u001b[1;32m      4\u001b[0m \u001b[0moptimizer\u001b[0m \u001b[0;34m=\u001b[0m \u001b[0mtorch\u001b[0m\u001b[0;34m.\u001b[0m\u001b[0moptim\u001b[0m\u001b[0;34m.\u001b[0m\u001b[0mAdam\u001b[0m\u001b[0;34m(\u001b[0m\u001b[0mmodel\u001b[0m\u001b[0;34m.\u001b[0m\u001b[0mparameters\u001b[0m\u001b[0;34m(\u001b[0m\u001b[0;34m)\u001b[0m\u001b[0;34m,\u001b[0m \u001b[0mlr\u001b[0m\u001b[0;34m=\u001b[0m\u001b[0;36m0.01\u001b[0m\u001b[0;34m)\u001b[0m\u001b[0;34m\u001b[0m\u001b[0;34m\u001b[0m\u001b[0m\n\u001b[1;32m      5\u001b[0m \u001b[0mx\u001b[0m\u001b[0;34m,\u001b[0m \u001b[0medge_index\u001b[0m \u001b[0;34m=\u001b[0m \u001b[0mdata\u001b[0m\u001b[0;34m.\u001b[0m\u001b[0mx\u001b[0m\u001b[0;34m.\u001b[0m\u001b[0mto\u001b[0m\u001b[0;34m(\u001b[0m\u001b[0mdevice\u001b[0m\u001b[0;34m)\u001b[0m\u001b[0;34m,\u001b[0m \u001b[0mdata\u001b[0m\u001b[0;34m.\u001b[0m\u001b[0medge_index\u001b[0m\u001b[0;34m.\u001b[0m\u001b[0mto\u001b[0m\u001b[0;34m(\u001b[0m\u001b[0mdevice\u001b[0m\u001b[0;34m)\u001b[0m\u001b[0;34m\u001b[0m\u001b[0;34m\u001b[0m\u001b[0m\n",
            "\u001b[0;32m/usr/local/lib/python3.7/dist-packages/torch_geometric/data/hetero_data.py\u001b[0m in \u001b[0;36m__getattr__\u001b[0;34m(self, key)\u001b[0m\n\u001b[1;32m    114\u001b[0m         \u001b[0;32melif\u001b[0m \u001b[0mbool\u001b[0m\u001b[0;34m(\u001b[0m\u001b[0mre\u001b[0m\u001b[0;34m.\u001b[0m\u001b[0msearch\u001b[0m\u001b[0;34m(\u001b[0m\u001b[0;34m'_dict$'\u001b[0m\u001b[0;34m,\u001b[0m \u001b[0mkey\u001b[0m\u001b[0;34m)\u001b[0m\u001b[0;34m)\u001b[0m\u001b[0;34m:\u001b[0m\u001b[0;34m\u001b[0m\u001b[0;34m\u001b[0m\u001b[0m\n\u001b[1;32m    115\u001b[0m             \u001b[0;32mreturn\u001b[0m \u001b[0mself\u001b[0m\u001b[0;34m.\u001b[0m\u001b[0mcollect\u001b[0m\u001b[0;34m(\u001b[0m\u001b[0mkey\u001b[0m\u001b[0;34m[\u001b[0m\u001b[0;34m:\u001b[0m\u001b[0;34m-\u001b[0m\u001b[0;36m5\u001b[0m\u001b[0;34m]\u001b[0m\u001b[0;34m)\u001b[0m\u001b[0;34m\u001b[0m\u001b[0;34m\u001b[0m\u001b[0m\n\u001b[0;32m--> 116\u001b[0;31m         raise AttributeError(f\"'{self.__class__.__name__}' has no \"\n\u001b[0m\u001b[1;32m    117\u001b[0m                              f\"attribute '{key}'\")\n\u001b[1;32m    118\u001b[0m \u001b[0;34m\u001b[0m\u001b[0m\n",
            "\u001b[0;31mAttributeError\u001b[0m: 'HeteroData' has no attribute 'num_node_features'"
          ]
        }
      ],
      "source": [
        "device = torch.device('cuda' if torch.cuda.is_available() else 'cpu')\n",
        "model = SAGE(data.num_node_features, hidden_channels=64, num_layers=2)\n",
        "model = model.to(device)\n",
        "optimizer = torch.optim.Adam(model.parameters(), lr=0.01)\n",
        "x, edge_index = data.x.to(device), data.edge_index.to(device)"
      ]
    },
    {
      "cell_type": "code",
      "source": [
        "model.train()\n",
        "\n",
        "total_loss = 0\n",
        "for batch_size, n_id, adjs in train_loader:\n",
        "    # `adjs` holds a list of `(edge_index, e_id, size)` tuples.\n",
        "    adjs = [adj.to(device) for adj in adjs]\n",
        "    optimizer.zero_grad()\n",
        "\n",
        "    out = model(x[n_id], adjs)\n",
        "    out, pos_out, neg_out = out.split(out.size(0) // 3, dim=0)\n",
        "\n",
        "    pos_loss = F.logsigmoid((out * pos_out).sum(-1)).mean()\n",
        "    neg_loss = F.logsigmoid(-(out * neg_out).sum(-1)).mean()\n",
        "    loss = -pos_loss - neg_loss\n",
        "    loss.backward()\n",
        "    optimizer.step()\n",
        "\n",
        "    total_loss += float(loss) * out.size(0)\n",
        "    #break"
      ],
      "metadata": {
        "id": "F2NZcp-Npujk"
      },
      "id": "F2NZcp-Npujk",
      "execution_count": null,
      "outputs": []
    },
    {
      "cell_type": "code",
      "execution_count": null,
      "id": "3b5d6e7e",
      "metadata": {
        "id": "3b5d6e7e"
      },
      "outputs": [],
      "source": [
        "def train():\n",
        "    model.train()\n",
        "\n",
        "    total_loss = 0\n",
        "    for batch_size, n_id, adjs in train_loader:\n",
        "        # `adjs` holds a list of `(edge_index, e_id, size)` tuples.\n",
        "        adjs = [adj.to(device) for adj in adjs]\n",
        "        optimizer.zero_grad()\n",
        "\n",
        "        out = model(x[n_id], adjs)\n",
        "        out, pos_out, neg_out = out.split(out.size(0) // 3, dim=0)\n",
        "\n",
        "        pos_loss = F.logsigmoid((out * pos_out).sum(-1)).mean()\n",
        "        neg_loss = F.logsigmoid(-(out * neg_out).sum(-1)).mean()\n",
        "        loss = -pos_loss - neg_loss\n",
        "        loss.backward()\n",
        "        optimizer.step()\n",
        "\n",
        "        total_loss += float(loss) * out.size(0)\n",
        "\n",
        "    return total_loss / data.num_nodes"
      ]
    },
    {
      "cell_type": "code",
      "execution_count": null,
      "id": "9ce8df08",
      "metadata": {
        "id": "9ce8df08"
      },
      "outputs": [],
      "source": [
        "@torch.no_grad()\n",
        "def test():\n",
        "    model.eval()\n",
        "    out = model.full_forward(x, edge_index).cpu()\n",
        "\n",
        "    clf = LogisticRegression()\n",
        "    clf.fit(out[data.train_mask], data.y[data.train_mask])\n",
        "\n",
        "    val_acc = clf.score(out[data.val_mask], data.y[data.val_mask])\n",
        "    test_acc = clf.score(out[data.test_mask], data.y[data.test_mask])\n",
        "\n",
        "    return val_acc, test_acc"
      ]
    },
    {
      "cell_type": "code",
      "execution_count": null,
      "id": "519fbca4",
      "metadata": {
        "colab": {
          "base_uri": "https://localhost:8080/"
        },
        "id": "519fbca4",
        "outputId": "38b58b0e-f6fe-4a31-acc8-ca4558e69f70"
      },
      "outputs": [
        {
          "output_type": "stream",
          "name": "stdout",
          "text": [
            "Epoch: 001, Loss: 3.9374, \n",
            "Epoch: 002, Loss: 1.9053, \n",
            "Epoch: 003, Loss: 2.5082, \n",
            "Epoch: 004, Loss: 1.2902, \n",
            "Epoch: 005, Loss: 1.6550, \n",
            "Epoch: 006, Loss: 1.3754, \n",
            "Epoch: 007, Loss: 1.0893, \n",
            "Epoch: 008, Loss: 1.1739, \n",
            "Epoch: 009, Loss: 1.1811, \n",
            "Epoch: 010, Loss: 12.5970, \n",
            "Epoch: 011, Loss: 1.8660, \n",
            "Epoch: 012, Loss: 1.4447, \n",
            "Epoch: 013, Loss: 1.2702, \n",
            "Epoch: 014, Loss: 1.2241, \n",
            "Epoch: 015, Loss: 1.1750, \n",
            "Epoch: 016, Loss: 1.2588, \n",
            "Epoch: 017, Loss: 1.2314, \n",
            "Epoch: 018, Loss: 1.5580, \n",
            "Epoch: 019, Loss: 1.2436, \n",
            "Epoch: 020, Loss: 1.6134, \n",
            "Epoch: 021, Loss: 1.4148, \n",
            "Epoch: 022, Loss: 1.3466, \n",
            "Epoch: 023, Loss: 1.3291, \n",
            "Epoch: 024, Loss: 1.7191, \n",
            "Epoch: 025, Loss: 1.3414, \n",
            "Epoch: 026, Loss: 1.2195, \n",
            "Epoch: 027, Loss: 1.1805, \n",
            "Epoch: 028, Loss: 1.3871, \n",
            "Epoch: 029, Loss: 1.2027, \n",
            "Epoch: 030, Loss: 1.2019, \n",
            "Epoch: 031, Loss: 1.1076, \n",
            "Epoch: 032, Loss: 1.1174, \n",
            "Epoch: 033, Loss: 1.2475, \n",
            "Epoch: 034, Loss: 1.9446, \n",
            "Epoch: 035, Loss: 1.4923, \n",
            "Epoch: 036, Loss: 1.3843, \n",
            "Epoch: 037, Loss: 1.7037, \n",
            "Epoch: 038, Loss: 1.3131, \n",
            "Epoch: 039, Loss: 1.3447, \n",
            "Epoch: 040, Loss: 1.2984, \n",
            "Epoch: 041, Loss: 1.3663, \n",
            "Epoch: 042, Loss: 1.2780, \n",
            "Epoch: 043, Loss: 1.2545, \n",
            "Epoch: 044, Loss: 1.5928, \n",
            "Epoch: 045, Loss: 1.2377, \n",
            "Epoch: 046, Loss: 1.2764, \n",
            "Epoch: 047, Loss: 1.5109, \n",
            "Epoch: 048, Loss: 1.3787, \n",
            "Epoch: 049, Loss: 1.2544, \n",
            "Epoch: 050, Loss: 1.2338, \n"
          ]
        }
      ],
      "source": [
        "for epoch in range(1, 51):\n",
        "    loss = train()\n",
        "    #val_acc, test_acc = test()\n",
        "    print(f'Epoch: {epoch:03d}, Loss: {loss:.4f}, ')\n",
        "          #f'Val: {val_acc:.4f}, Test: {test_acc:.4f}')"
      ]
    },
    {
      "cell_type": "code",
      "execution_count": null,
      "id": "6479b9c9",
      "metadata": {
        "id": "6479b9c9"
      },
      "outputs": [],
      "source": [
        "with torch.no_grad():\n",
        "    model.eval()\n",
        "    out = model.full_forward(x, edge_index).cpu()"
      ]
    },
    {
      "cell_type": "code",
      "source": [
        "np.where(data.y[23].numpy() == 1)"
      ],
      "metadata": {
        "colab": {
          "base_uri": "https://localhost:8080/"
        },
        "id": "I0EhP4BTFS5N",
        "outputId": "644e78ff-f92c-4a06-b9d3-abd622f16a98"
      },
      "id": "I0EhP4BTFS5N",
      "execution_count": null,
      "outputs": [
        {
          "output_type": "execute_result",
          "data": {
            "text/plain": [
              "(array([2, 4]),)"
            ]
          },
          "metadata": {},
          "execution_count": 136
        }
      ]
    },
    {
      "cell_type": "code",
      "source": [
        "for i in range(6):\n",
        "  print(sum(data.y[:,i]))"
      ],
      "metadata": {
        "colab": {
          "base_uri": "https://localhost:8080/"
        },
        "id": "rE_EjyzOLSzL",
        "outputId": "e9f4ebc7-e94e-496a-ecfa-960f51499d4f"
      },
      "id": "rE_EjyzOLSzL",
      "execution_count": null,
      "outputs": [
        {
          "output_type": "stream",
          "name": "stdout",
          "text": [
            "tensor(109., dtype=torch.float64)\n",
            "tensor(326., dtype=torch.float64)\n",
            "tensor(260., dtype=torch.float64)\n",
            "tensor(205., dtype=torch.float64)\n",
            "tensor(349., dtype=torch.float64)\n",
            "tensor(278., dtype=torch.float64)\n"
          ]
        }
      ]
    },
    {
      "cell_type": "code",
      "source": [
        "from numpy import linalg\n",
        "for j in range(200):\n",
        "  test = []\n",
        "  for i in range(200, 206):\n",
        "    test.append(sum(out[j].numpy() * out[i].numpy()))\n",
        "  test = np.array(test)\n",
        "  sorted_indices = sorted(range(len(test)), key=lambda k: test[k], reverse = True)\n",
        "  # print(sorted_indices)\n",
        "  # print(np.where(data.y[j].numpy() == 1))\n",
        "  # print('----')"
      ],
      "metadata": {
        "id": "WeU9so-uFhUn"
      },
      "id": "WeU9so-uFhUn",
      "execution_count": null,
      "outputs": []
    },
    {
      "cell_type": "code",
      "execution_count": null,
      "id": "101a104f",
      "metadata": {
        "id": "101a104f"
      },
      "outputs": [],
      "source": [
        "# palette = {}\n",
        "\n",
        "# for n, y in enumerate(set(data.y.numpy())):\n",
        "#     palette[y] = f'C{n}'\n",
        "\n",
        "palette = {}\n",
        "\n",
        "for n, y in enumerate(set(data.y[:,1].numpy())):\n",
        "    palette[y] = f'C{n}'"
      ]
    },
    {
      "cell_type": "code",
      "execution_count": null,
      "id": "e91afe66",
      "metadata": {
        "id": "e91afe66"
      },
      "outputs": [],
      "source": [
        "embd = umap.UMAP().fit_transform(out.cpu().numpy())"
      ]
    },
    {
      "cell_type": "code",
      "source": [
        ""
      ],
      "metadata": {
        "id": "d8kFCUeiGR6j"
      },
      "id": "d8kFCUeiGR6j",
      "execution_count": null,
      "outputs": []
    },
    {
      "cell_type": "code",
      "source": [
        "sum(data.y[:,0].cpu().numpy() * data.y[:,1].cpu().numpy() * data.y[:,2].cpu().numpy())"
      ],
      "metadata": {
        "colab": {
          "base_uri": "https://localhost:8080/"
        },
        "id": "CoD9M54LF321",
        "outputId": "6291771b-7606-464d-c077-240d49781e51"
      },
      "id": "CoD9M54LF321",
      "execution_count": null,
      "outputs": [
        {
          "output_type": "execute_result",
          "data": {
            "text/plain": [
              "46.0"
            ]
          },
          "metadata": {},
          "execution_count": 150
        }
      ]
    },
    {
      "cell_type": "code",
      "source": [
        "plt.figure(figsize=(10, 10))\n",
        "sns.scatterplot(x=embd.T[0], y=embd.T[1], hue=data.y[:,0].cpu().numpy() * data.y[:,1].cpu().numpy() * data.y[:,2].cpu().numpy(), palette=palette)\n",
        "plt.legend(bbox_to_anchor=(1,1), loc='upper left')\n",
        "#plt.savefig(\"umap_embd_sage.png\", dpi=120)"
      ],
      "metadata": {
        "colab": {
          "base_uri": "https://localhost:8080/",
          "height": 609
        },
        "id": "ELLvV5XcF1CF",
        "outputId": "93773806-888c-4725-f159-43ac4b4af316"
      },
      "id": "ELLvV5XcF1CF",
      "execution_count": null,
      "outputs": [
        {
          "output_type": "execute_result",
          "data": {
            "text/plain": [
              "<matplotlib.legend.Legend at 0x7f3d75a33310>"
            ]
          },
          "metadata": {},
          "execution_count": 149
        },
        {
          "output_type": "display_data",
          "data": {
            "text/plain": [
              "<Figure size 720x720 with 1 Axes>"
            ],
            "image/png": "[encoded data removed]"
          },
          "metadata": {
            "needs_background": "light"
          }
        }
      ]
    },
    {
      "cell_type": "code",
      "execution_count": null,
      "id": "7d08d7a8",
      "metadata": {
        "colab": {
          "base_uri": "https://localhost:8080/",
          "height": 1000
        },
        "id": "7d08d7a8",
        "outputId": "69f8e7a4-8db0-4a13-ae58-2be7a51bccba"
      },
      "outputs": [
        {
          "output_type": "display_data",
          "data": {
            "text/plain": [
              "<Figure size 720x720 with 1 Axes>"
            ],
            "image/png": "[encoded data removed]"
          },
          "metadata": {
            "needs_background": "light"
          }
        },
        {
          "output_type": "display_data",
          "data": {
            "text/plain": [
              "<Figure size 720x720 with 1 Axes>"
            ],
            "image/png": "[encoded data removed]"
          },
          "metadata": {
            "needs_background": "light"
          }
        },
        {
          "output_type": "display_data",
          "data": {
            "text/plain": [
              "<Figure size 720x720 with 1 Axes>"
            ],
            "image/png": "[encoded data removed]"
          },
          "metadata": {
            "needs_background": "light"
          }
        },
        {
          "output_type": "display_data",
          "data": {
            "text/plain": [
              "<Figure size 720x720 with 1 Axes>"
            ],
            "image/png": "[encoded data removed]"
          },
          "metadata": {
            "needs_background": "light"
          }
        },
        {
          "output_type": "display_data",
          "data": {
            "text/plain": [
              "<Figure size 720x720 with 1 Axes>"
            ],
            "image/png": "[encoded data removed]"
          },
          "metadata": {
            "needs_background": "light"
          }
        },
        {
          "output_type": "display_data",
          "data": {
            "text/plain": [
              "<Figure size 720x720 with 1 Axes>"
            ],
            "image/png": "[encoded data removed]"
          },
          "metadata": {
            "needs_background": "light"
          }
        }
      ],
      "source": [
        "for i in range(5,-1, -1):\n",
        "  plt.figure(figsize=(10, 10))\n",
        "  sns.scatterplot(x=embd.T[0], y=embd.T[1], hue=data.y[:,i].cpu().numpy(), palette=palette)\n",
        "  plt.legend(bbox_to_anchor=(1,1), loc='upper left')\n",
        "  #plt.savefig(\"umap_embd_sage.png\", dpi=120)"
      ]
    },
    {
      "cell_type": "code",
      "execution_count": null,
      "id": "cb48c1f2",
      "metadata": {
        "id": "cb48c1f2"
      },
      "outputs": [],
      "source": [
        "embd_x = umap.UMAP().fit_transform(data.x.numpy())"
      ]
    },
    {
      "cell_type": "code",
      "execution_count": null,
      "id": "a03e1195",
      "metadata": {
        "colab": {
          "base_uri": "https://localhost:8080/",
          "height": 592
        },
        "id": "a03e1195",
        "outputId": "79e3be5f-9f48-4fe1-8166-4531354691a2"
      },
      "outputs": [
        {
          "output_type": "display_data",
          "data": {
            "text/plain": [
              "<Figure size 720x720 with 1 Axes>"
            ],
            "image/png": "[encoded data removed]"
          },
          "metadata": {
            "needs_background": "light"
          }
        }
      ],
      "source": [
        "plt.figure(figsize=(10, 10))\n",
        "sns.scatterplot(x=embd_x.T[0], y=embd_x.T[1], hue=data.y[:,5].cpu().numpy(), palette=palette)\n",
        "plt.legend(bbox_to_anchor=(1,1), loc='upper left')\n",
        "plt.savefig(\"umap_embd.png\", dpi=120)"
      ]
    },
    {
      "cell_type": "markdown",
      "id": "e85076d3",
      "metadata": {
        "id": "e85076d3"
      },
      "source": [
        "## Запихиваю в  GNN"
      ]
    },
    {
      "cell_type": "code",
      "source": [
        "from torch_geometric.loader import NeighborSampler as RawNeighborSampler\n",
        "from torch_geometric.loader import NeighborLoader as RawNeighborLoader"
      ],
      "metadata": {
        "id": "SHjyTIJ_AmY-"
      },
      "id": "SHjyTIJ_AmY-",
      "execution_count": null,
      "outputs": []
    },
    {
      "cell_type": "code",
      "source": [
        "class NeighborLoader(RawNeighborLoader):\n",
        "    def sample(self, batch):\n",
        "        batch = torch.tensor(batch)\n",
        "        row, col, _ = self.adj_t.coo()\n",
        "\n",
        "        # For each node in `batch`, we sample a direct neighbor (as positive\n",
        "        # example) and a random node (as negative example):\n",
        "        pos_batch = random_walk(row, col, batch, walk_length=1,\n",
        "                                coalesced=False)[:, 1]\n",
        "\n",
        "        neg_batch = torch.randint(0, self.adj_t.size(1), (batch.numel(), ),\n",
        "                                  dtype=torch.long)\n",
        "\n",
        "        batch = torch.cat([batch, pos_batch, neg_batch], dim=0)\n",
        "        return super(RawNeighborLoader, self).sample(batch)"
      ],
      "metadata": {
        "id": "tFOMP4SsArQa"
      },
      "id": "tFOMP4SsArQa",
      "execution_count": null,
      "outputs": []
    },
    {
      "cell_type": "code",
      "source": [
        "#from torch_geometric.loader import NeighborLoader\n",
        "N = 1\n",
        "train_loader = NeighborLoader(\n",
        "    data,\n",
        "    # Sample N neighbors for each node and each edge type for 2 iterations:\n",
        "    num_neighbors=[N] * 2,\n",
        "    # Use a batch size of 128 for sampling training nodes of type \"paper\":\n",
        "    batch_size=1,\n",
        "    input_nodes=('user'),\n",
        ")"
      ],
      "metadata": {
        "id": "1znkc_mOa4b5"
      },
      "id": "1znkc_mOa4b5",
      "execution_count": null,
      "outputs": []
    },
    {
      "cell_type": "code",
      "source": [
        "iterator = iter(train_loader)\n",
        "next(iterator)"
      ],
      "metadata": {
        "colab": {
          "base_uri": "https://localhost:8080/"
        },
        "id": "huMtYgty8hhT",
        "outputId": "e80d8263-5d65-4992-91be-2896b7de50c2"
      },
      "id": "huMtYgty8hhT",
      "execution_count": null,
      "outputs": [
        {
          "output_type": "execute_result",
          "data": {
            "text/plain": [
              "HeteroData(\n",
              "  \u001b[1muser\u001b[0m={\n",
              "    x=[2, 7],\n",
              "    batch_size=1\n",
              "  },\n",
              "  \u001b[1mdish\u001b[0m={ x=[1, 6] },\n",
              "  \u001b[1m(user, buys, dish)\u001b[0m={ edge_index=[2, 1] },\n",
              "  \u001b[1m(dish, rev_buys, user)\u001b[0m={ edge_index=[2, 1] }\n",
              ")"
            ]
          },
          "metadata": {},
          "execution_count": 55
        }
      ]
    },
    {
      "cell_type": "code",
      "source": [
        "test = next(iterator)\n",
        "test"
      ],
      "metadata": {
        "colab": {
          "base_uri": "https://localhost:8080/"
        },
        "id": "m5APPWGw8qUF",
        "outputId": "b32f6522-0d3a-486e-cf93-e8cd78a3acb6"
      },
      "id": "m5APPWGw8qUF",
      "execution_count": null,
      "outputs": [
        {
          "output_type": "execute_result",
          "data": {
            "text/plain": [
              "HeteroData(\n",
              "  \u001b[1muser\u001b[0m={\n",
              "    x=[2, 7],\n",
              "    batch_size=1\n",
              "  },\n",
              "  \u001b[1mdish\u001b[0m={ x=[1, 6] },\n",
              "  \u001b[1m(user, buys, dish)\u001b[0m={ edge_index=[2, 1] },\n",
              "  \u001b[1m(dish, rev_buys, user)\u001b[0m={ edge_index=[2, 1] }\n",
              ")"
            ]
          },
          "metadata": {},
          "execution_count": 48
        }
      ]
    },
    {
      "cell_type": "code",
      "source": [
        "test['node_type']"
      ],
      "metadata": {
        "colab": {
          "base_uri": "https://localhost:8080/"
        },
        "id": "1ecXrOvUAxXi",
        "outputId": "3a5dc00b-6592-483d-93e1-794b317f4b0a"
      },
      "id": "1ecXrOvUAxXi",
      "execution_count": null,
      "outputs": [
        {
          "output_type": "execute_result",
          "data": {
            "text/plain": [
              "tensor([0, 3, 0])"
            ]
          },
          "metadata": {},
          "execution_count": 257
        }
      ]
    },
    {
      "cell_type": "code",
      "source": [
        ""
      ],
      "metadata": {
        "id": "BOc-WyG3A0aX"
      },
      "id": "BOc-WyG3A0aX",
      "execution_count": null,
      "outputs": []
    },
    {
      "cell_type": "code",
      "source": [
        "for test in train_loader:\n",
        "  print(test)\n",
        "  print('-----')\n",
        "  break"
      ],
      "metadata": {
        "colab": {
          "base_uri": "https://localhost:8080/"
        },
        "id": "kCdVaz9Kbqpd",
        "outputId": "e3dded97-1382-47a8-cf24-a1c4049f0246"
      },
      "id": "kCdVaz9Kbqpd",
      "execution_count": null,
      "outputs": [
        {
          "output_type": "stream",
          "name": "stdout",
          "text": [
            "HeteroData(\n",
            "  \u001b[1mpaper\u001b[0m={\n",
            "    x=[0, 128],\n",
            "    year=[0],\n",
            "    y=[0],\n",
            "    train_mask=[0],\n",
            "    val_mask=[0],\n",
            "    test_mask=[0]\n",
            "  },\n",
            "  \u001b[1mauthor\u001b[0m={\n",
            "    x=[1, 128],\n",
            "    batch_size=1\n",
            "  },\n",
            "  \u001b[1minstitution\u001b[0m={ x=[0, 128] },\n",
            "  \u001b[1mfield_of_study\u001b[0m={ x=[0, 128] },\n",
            "  \u001b[1muser\u001b[0m={},\n",
            "  \u001b[1m(author, affiliated_with, institution)\u001b[0m={ edge_index=[2, 0] },\n",
            "  \u001b[1m(author, writes, paper)\u001b[0m={ edge_index=[2, 0] },\n",
            "  \u001b[1m(paper, cites, paper)\u001b[0m={ edge_index=[2, 0] },\n",
            "  \u001b[1m(paper, has_topic, field_of_study)\u001b[0m={ edge_index=[2, 0] }\n",
            ")\n",
            "-----\n"
          ]
        }
      ]
    },
    {
      "cell_type": "code",
      "source": [
        "data"
      ],
      "metadata": {
        "colab": {
          "base_uri": "https://localhost:8080/"
        },
        "id": "yUhSI7SwqXss",
        "outputId": "7b84e9fd-23f9-4a84-dfe9-0f4fc24bcf14"
      },
      "id": "yUhSI7SwqXss",
      "execution_count": null,
      "outputs": [
        {
          "output_type": "execute_result",
          "data": {
            "text/plain": [
              "HeteroData(\n",
              "  \u001b[1muser\u001b[0m={ x=[200, 7] },\n",
              "  \u001b[1mdish\u001b[0m={ x=[6, 6] },\n",
              "  \u001b[1m(user, buys, dish)\u001b[0m={ edge_index=[2, 612] },\n",
              "  \u001b[1m(dish, rev_buys, user)\u001b[0m={ edge_index=[2, 612] }\n",
              ")"
            ]
          },
          "metadata": {},
          "execution_count": 173
        }
      ]
    },
    {
      "cell_type": "code",
      "source": [
        ""
      ],
      "metadata": {
        "id": "WTY66zn-z3BF"
      },
      "id": "WTY66zn-z3BF",
      "execution_count": null,
      "outputs": []
    },
    {
      "cell_type": "markdown",
      "source": [
        "### Работа с визуализацией"
      ],
      "metadata": {
        "id": "8sGweXRRz3WN"
      },
      "id": "8sGweXRRz3WN"
    },
    {
      "cell_type": "code",
      "source": [
        "homogeneous_data = data.to_homogeneous()\n",
        "print(homogeneous_data)\n",
        "\n",
        "import torch_geometric\n",
        "import networkx as nx\n",
        "\n",
        "g = torch_geometric.utils.to_networkx(homogeneous_data, to_undirected=True)"
      ],
      "metadata": {
        "colab": {
          "base_uri": "https://localhost:8080/"
        },
        "id": "qAJ07Tfwr9p7",
        "outputId": "a5dc1f4a-ac68-4a0a-c1a3-4a95ed2a912b"
      },
      "id": "qAJ07Tfwr9p7",
      "execution_count": null,
      "outputs": [
        {
          "output_type": "stream",
          "name": "stdout",
          "text": [
            "Data(node_type=[206], x=[206, 7], edge_index=[2, 1240], edge_type=[1240])\n"
          ]
        }
      ]
    },
    {
      "cell_type": "code",
      "source": [
        "homogeneous_data.node_type"
      ],
      "metadata": {
        "colab": {
          "base_uri": "https://localhost:8080/"
        },
        "id": "vfOxGzEDjDEe",
        "outputId": "9c4243d0-a557-41a8-93a0-df1a45f67ccf"
      },
      "id": "vfOxGzEDjDEe",
      "execution_count": null,
      "outputs": [
        {
          "output_type": "execute_result",
          "data": {
            "text/plain": [
              "tensor([0, 0, 0, 0, 0, 0, 0, 0, 0, 0, 0, 0, 0, 0, 0, 0, 0, 0, 0, 0, 1, 1, 1, 1,\n",
              "        1, 1])"
            ]
          },
          "metadata": {},
          "execution_count": 209
        }
      ]
    },
    {
      "cell_type": "code",
      "source": [
        "nx.draw_networkx(g, node_color = homogeneous_data.node_type,)"
      ],
      "metadata": {
        "colab": {
          "base_uri": "https://localhost:8080/",
          "height": 248
        },
        "id": "m3jYKCkcroSo",
        "outputId": "f676ddf7-fe37-436e-a857-63935c23f153"
      },
      "id": "m3jYKCkcroSo",
      "execution_count": null,
      "outputs": [
        {
          "output_type": "display_data",
          "data": {
            "text/plain": [
              "<Figure size 432x288 with 1 Axes>"
            ],
            "image/png": "[encoded data removed]"
          },
          "metadata": {}
        }
      ]
    },
    {
      "cell_type": "code",
      "source": [
        "!pip install pygraphviz"
      ],
      "metadata": {
        "colab": {
          "base_uri": "https://localhost:8080/"
        },
        "id": "Pvdb3ELbvWjJ",
        "outputId": "fb04f3e7-f1f8-499b-9a64-a7c6aded0ed4"
      },
      "id": "Pvdb3ELbvWjJ",
      "execution_count": null,
      "outputs": [
        {
          "output_type": "stream",
          "name": "stdout",
          "text": [
            "Collecting pygraphviz\n",
            "  Using cached pygraphviz-1.7.zip (118 kB)\n",
            "Building wheels for collected packages: pygraphviz\n",
            "  Building wheel for pygraphviz (setup.py) ... \u001b[?25l\u001b[?25hdone\n",
            "  Created wheel for pygraphviz: filename=pygraphviz-1.7-cp37-cp37m-linux_x86_64.whl size=165743 sha256=026599c27849b406bde8a4b6b463764d95114075cd66854595cfc0c8375282f2\n",
            "  Stored in directory: /root/.cache/pip/wheels/8c/bc/0c/ac35392b72556e75107ff610cb31b313e8471918a6d280e34c\n",
            "Successfully built pygraphviz\n",
            "Installing collected packages: pygraphviz\n",
            "Successfully installed pygraphviz-1.7\n"
          ]
        }
      ]
    },
    {
      "cell_type": "code",
      "source": [
        "!pip install dgl\n",
        "import dgl"
      ],
      "metadata": {
        "colab": {
          "base_uri": "https://localhost:8080/"
        },
        "id": "B_BPMtF9wLF6",
        "outputId": "9ee90232-5e95-441d-d1aa-ac793097984e"
      },
      "id": "B_BPMtF9wLF6",
      "execution_count": null,
      "outputs": [
        {
          "output_type": "stream",
          "name": "stdout",
          "text": [
            "Collecting dgl\n",
            "  Downloading dgl-0.6.1-cp37-cp37m-manylinux1_x86_64.whl (4.4 MB)\n",
            "\u001b[K     |████████████████████████████████| 4.4 MB 7.8 MB/s \n",
            "\u001b[?25hRequirement already satisfied: networkx>=2.1 in /usr/local/lib/python3.7/dist-packages (from dgl) (2.6.3)\n",
            "Requirement already satisfied: numpy>=1.14.0 in /usr/local/lib/python3.7/dist-packages (from dgl) (1.21.6)\n",
            "Requirement already satisfied: scipy>=1.1.0 in /usr/local/lib/python3.7/dist-packages (from dgl) (1.4.1)\n",
            "Requirement already satisfied: requests>=2.19.0 in /usr/local/lib/python3.7/dist-packages (from dgl) (2.23.0)\n",
            "Requirement already satisfied: chardet<4,>=3.0.2 in /usr/local/lib/python3.7/dist-packages (from requests>=2.19.0->dgl) (3.0.4)\n",
            "Requirement already satisfied: idna<3,>=2.5 in /usr/local/lib/python3.7/dist-packages (from requests>=2.19.0->dgl) (2.10)\n",
            "Requirement already satisfied: urllib3!=1.25.0,!=1.25.1,<1.26,>=1.21.1 in /usr/local/lib/python3.7/dist-packages (from requests>=2.19.0->dgl) (1.24.3)\n",
            "Requirement already satisfied: certifi>=2017.4.17 in /usr/local/lib/python3.7/dist-packages (from requests>=2.19.0->dgl) (2021.10.8)\n",
            "Installing collected packages: dgl\n",
            "Successfully installed dgl-0.6.1\n",
            "Setting the default backend to \"pytorch\". You can change it in the ~/.dgl/config.json file or export the DGLBACKEND environment variable.  Valid options are: pytorch, mxnet, tensorflow (all lowercase)\n"
          ]
        },
        {
          "output_type": "stream",
          "name": "stderr",
          "text": [
            "DGL backend not selected or invalid.  Assuming PyTorch for now.\n",
            "Using backend: pytorch\n"
          ]
        }
      ]
    },
    {
      "cell_type": "code",
      "source": [
        "G = dgl.heterograph({\n",
        "        ('user', 'buys', 'dish') : (np.array(data['buys'].edge_index[0]),np.array(data['buys'].edge_index[1]))\n",
        "    })\n",
        "\n",
        "print(G)"
      ],
      "metadata": {
        "colab": {
          "base_uri": "https://localhost:8080/"
        },
        "id": "1ZgOPmAEvcaL",
        "outputId": "237be81c-ced5-4389-a491-996f3429d5f2"
      },
      "id": "1ZgOPmAEvcaL",
      "execution_count": null,
      "outputs": [
        {
          "output_type": "stream",
          "name": "stdout",
          "text": [
            "Graph(num_nodes={'dish': 3, 'user': 3},\n",
            "      num_edges={('user', 'buys', 'dish'): 4},\n",
            "      metagraph=[('user', 'dish', 'buys')])\n"
          ]
        }
      ]
    },
    {
      "cell_type": "code",
      "source": [
        "G"
      ],
      "metadata": {
        "colab": {
          "base_uri": "https://localhost:8080/"
        },
        "id": "lNI0egkl1X6w",
        "outputId": "65fada7b-a44b-4040-88cb-211f5fcce418"
      },
      "id": "lNI0egkl1X6w",
      "execution_count": null,
      "outputs": [
        {
          "output_type": "execute_result",
          "data": {
            "text/plain": [
              "Graph(num_nodes={'dish': 3, 'user': 3},\n",
              "      num_edges={('user', 'buys', 'dish'): 4},\n",
              "      metagraph=[('user', 'dish', 'buys')])"
            ]
          },
          "metadata": {},
          "execution_count": 147
        }
      ]
    },
    {
      "cell_type": "code",
      "source": [
        "# Draw the metagraph using graphviz.\n",
        "import pygraphviz as pgv\n",
        "\n",
        "def plot_graph(nxg):\n",
        "    ag = pgv.AGraph(strict=False, directed=True)\n",
        "    for u, v, k in nxg.edges(keys=True):\n",
        "        ag.add_edge(u, v, label=k)\n",
        "    ag.layout('dot')\n",
        "    ag.draw('graph.png')\n",
        "\n",
        "plot_graph(G.metagraph())"
      ],
      "metadata": {
        "colab": {
          "base_uri": "https://localhost:8080/",
          "height": 322
        },
        "id": "uh24W6KJul27",
        "outputId": "58181a26-4571-4fed-cb2f-89891d3b9d1f"
      },
      "id": "uh24W6KJul27",
      "execution_count": null,
      "outputs": [
        {
          "output_type": "error",
          "ename": "AttributeError",
          "evalue": "ignored",
          "traceback": [
            "\u001b[0;31m---------------------------------------------------------------------------\u001b[0m",
            "\u001b[0;31mAttributeError\u001b[0m                            Traceback (most recent call last)",
            "\u001b[0;32m<ipython-input-149-611a5a9284a3>\u001b[0m in \u001b[0;36m<module>\u001b[0;34m()\u001b[0m\n\u001b[1;32m      9\u001b[0m     \u001b[0mag\u001b[0m\u001b[0;34m.\u001b[0m\u001b[0mdraw\u001b[0m\u001b[0;34m(\u001b[0m\u001b[0;34m'graph.png'\u001b[0m\u001b[0;34m)\u001b[0m\u001b[0;34m\u001b[0m\u001b[0;34m\u001b[0m\u001b[0m\n\u001b[1;32m     10\u001b[0m \u001b[0;34m\u001b[0m\u001b[0m\n\u001b[0;32m---> 11\u001b[0;31m \u001b[0mplot_graph\u001b[0m\u001b[0;34m(\u001b[0m\u001b[0mG\u001b[0m\u001b[0;34m.\u001b[0m\u001b[0mnum_edges\u001b[0m\u001b[0;34m(\u001b[0m\u001b[0;34m)\u001b[0m\u001b[0;34m)\u001b[0m\u001b[0;34m\u001b[0m\u001b[0;34m\u001b[0m\u001b[0m\n\u001b[0m",
            "\u001b[0;32m<ipython-input-149-611a5a9284a3>\u001b[0m in \u001b[0;36mplot_graph\u001b[0;34m(nxg)\u001b[0m\n\u001b[1;32m      4\u001b[0m \u001b[0;32mdef\u001b[0m \u001b[0mplot_graph\u001b[0m\u001b[0;34m(\u001b[0m\u001b[0mnxg\u001b[0m\u001b[0;34m)\u001b[0m\u001b[0;34m:\u001b[0m\u001b[0;34m\u001b[0m\u001b[0;34m\u001b[0m\u001b[0m\n\u001b[1;32m      5\u001b[0m     \u001b[0mag\u001b[0m \u001b[0;34m=\u001b[0m \u001b[0mpgv\u001b[0m\u001b[0;34m.\u001b[0m\u001b[0mAGraph\u001b[0m\u001b[0;34m(\u001b[0m\u001b[0mstrict\u001b[0m\u001b[0;34m=\u001b[0m\u001b[0;32mFalse\u001b[0m\u001b[0;34m,\u001b[0m \u001b[0mdirected\u001b[0m\u001b[0;34m=\u001b[0m\u001b[0;32mTrue\u001b[0m\u001b[0;34m)\u001b[0m\u001b[0;34m\u001b[0m\u001b[0;34m\u001b[0m\u001b[0m\n\u001b[0;32m----> 6\u001b[0;31m     \u001b[0;32mfor\u001b[0m \u001b[0mu\u001b[0m\u001b[0;34m,\u001b[0m \u001b[0mv\u001b[0m\u001b[0;34m,\u001b[0m \u001b[0mk\u001b[0m \u001b[0;32min\u001b[0m \u001b[0mnxg\u001b[0m\u001b[0;34m.\u001b[0m\u001b[0medges\u001b[0m\u001b[0;34m(\u001b[0m\u001b[0mkeys\u001b[0m\u001b[0;34m=\u001b[0m\u001b[0;32mTrue\u001b[0m\u001b[0;34m)\u001b[0m\u001b[0;34m:\u001b[0m\u001b[0;34m\u001b[0m\u001b[0;34m\u001b[0m\u001b[0m\n\u001b[0m\u001b[1;32m      7\u001b[0m         \u001b[0mag\u001b[0m\u001b[0;34m.\u001b[0m\u001b[0madd_edge\u001b[0m\u001b[0;34m(\u001b[0m\u001b[0mu\u001b[0m\u001b[0;34m,\u001b[0m \u001b[0mv\u001b[0m\u001b[0;34m,\u001b[0m \u001b[0mlabel\u001b[0m\u001b[0;34m=\u001b[0m\u001b[0mk\u001b[0m\u001b[0;34m)\u001b[0m\u001b[0;34m\u001b[0m\u001b[0;34m\u001b[0m\u001b[0m\n\u001b[1;32m      8\u001b[0m     \u001b[0mag\u001b[0m\u001b[0;34m.\u001b[0m\u001b[0mlayout\u001b[0m\u001b[0;34m(\u001b[0m\u001b[0;34m'dot'\u001b[0m\u001b[0;34m)\u001b[0m\u001b[0;34m\u001b[0m\u001b[0;34m\u001b[0m\u001b[0m\n",
            "\u001b[0;31mAttributeError\u001b[0m: 'int' object has no attribute 'edges'"
          ]
        }
      ]
    },
    {
      "cell_type": "code",
      "source": [
        "class SAGE(nn.Module):\n",
        "    def __init__(self, hidden_channels, num_layers):\n",
        "        super(SAGE, self).__init__()\n",
        "        self.num_layers = num_layers\n",
        "        self.convs = nn.ModuleList()\n",
        "        \n",
        "        for i in range(num_layers):\n",
        "            if i == 0:\n",
        "              self.convs.append(SAGEConv((-1, -1), hidden_channels))\n",
        "            else:\n",
        "              self.convs.append(SAGEConv(hidden_channels, hidden_channels))\n",
        "\n",
        "    def forward(self, x, adjs):\n",
        "        for i, (edge_index, _, size) in enumerate(adjs):\n",
        "            x_target = x[:size[1]]  # Target nodes are always placed first.\n",
        "            x = self.convs[i]((x, x_target), edge_index)\n",
        "            if i != self.num_layers - 1:\n",
        "                x = x.relu()\n",
        "                x = F.dropout(x, p=0.5, training=self.training)\n",
        "        return x\n",
        "\n",
        "    def full_forward(self, x, edge_index):\n",
        "        for i, conv in enumerate(self.convs):\n",
        "            x = conv(x, edge_index)\n",
        "            if i != self.num_layers - 1:\n",
        "                x = x.relu()\n",
        "                x = F.dropout(x, p=0.5, training=self.training)\n",
        "        return x"
      ],
      "metadata": {
        "id": "D0puZzdeJ0uK"
      },
      "id": "D0puZzdeJ0uK",
      "execution_count": null,
      "outputs": []
    },
    {
      "cell_type": "code",
      "source": [
        "import torch_geometric.transforms as T\n",
        "from torch_geometric.datasets import OGB_MAG\n",
        "from torch_geometric.nn import SAGEConv, to_hetero\n",
        "\n",
        "\n",
        "# dataset = OGB_MAG(root='./data', preprocess='metapath2vec', transform=T.ToUndirected())\n",
        "# data = dataset[0]\n",
        "\n",
        "class GNN(torch.nn.Module):\n",
        "    def __init__(self, hidden_channels):\n",
        "        super().__init__()\n",
        "        self.conv1 = SAGEConv((-1, -1), hidden_channels)\n",
        "        self.conv2 = SAGEConv((-1, -1), hidden_channels)\n",
        "\n",
        "    def forward(self, x, edge_index):\n",
        "        x = self.conv1(x, edge_index).relu()\n",
        "        x = self.conv2(x, edge_index)\n",
        "        return x\n",
        "\n",
        "\n",
        "model = GNN(hidden_channels=64)\n",
        "model = to_hetero(model, data.metadata(), aggr='sum')"
      ],
      "metadata": {
        "id": "Bvn7KkvpLdW5"
      },
      "id": "Bvn7KkvpLdW5",
      "execution_count": null,
      "outputs": []
    },
    {
      "cell_type": "code",
      "execution_count": null,
      "id": "ba70acc4",
      "metadata": {
        "id": "ba70acc4"
      },
      "outputs": [],
      "source": [
        "device = torch.device('cuda' if torch.cuda.is_available() else 'cpu')\n",
        "model = model.to(device)\n",
        "optimizer = torch.optim.Adam(model.parameters(), lr=0.01)\n",
        "x, edge_index = data['user'].x.to(device), data['buys'].edge_index.to(device)"
      ]
    },
    {
      "cell_type": "code",
      "source": [
        "def train():\n",
        "    model.train()\n",
        "\n",
        "    total_loss = 0\n",
        "    for batch_size, n_id, adjs in train_loader:\n",
        "        # `adjs` holds a list of `(edge_index, e_id, size)` tuples.\n",
        "        adjs = [adj.to(device) for adj in adjs]\n",
        "        optimizer.zero_grad()\n",
        "\n",
        "        out = model(x[n_id], adjs)\n",
        "        out, pos_out, neg_out = out.split(out.size(0) // 3, dim=0)\n",
        "\n",
        "        pos_loss = F.logsigmoid((out * pos_out).sum(-1)).mean()\n",
        "        neg_loss = F.logsigmoid(-(out * neg_out).sum(-1)).mean()\n",
        "        loss = -pos_loss - neg_loss\n",
        "        loss.backward()\n",
        "        optimizer.step()\n",
        "\n",
        "        total_loss += float(loss) * out.size(0)\n",
        "\n",
        "    return total_loss / data.num_nodes"
      ],
      "metadata": {
        "id": "i9xFOu-fQbeU"
      },
      "id": "i9xFOu-fQbeU",
      "execution_count": null,
      "outputs": []
    },
    {
      "cell_type": "code",
      "source": [
        "loss = train()"
      ],
      "metadata": {
        "id": "URqVwYEJbh5A",
        "colab": {
          "base_uri": "https://localhost:8080/",
          "height": 287
        },
        "outputId": "cb13f791-2e8c-4991-b74d-409ff430edd0"
      },
      "id": "URqVwYEJbh5A",
      "execution_count": null,
      "outputs": [
        {
          "output_type": "error",
          "ename": "IndexError",
          "evalue": "ignored",
          "traceback": [
            "\u001b[0;31m---------------------------------------------------------------------------\u001b[0m",
            "\u001b[0;31mIndexError\u001b[0m                                Traceback (most recent call last)",
            "\u001b[0;32m<ipython-input-58-cd49882ad843>\u001b[0m in \u001b[0;36m<module>\u001b[0;34m()\u001b[0m\n\u001b[0;32m----> 1\u001b[0;31m \u001b[0mloss\u001b[0m \u001b[0;34m=\u001b[0m \u001b[0mtrain\u001b[0m\u001b[0;34m(\u001b[0m\u001b[0;34m)\u001b[0m\u001b[0;34m\u001b[0m\u001b[0;34m\u001b[0m\u001b[0m\n\u001b[0m",
            "\u001b[0;32m<ipython-input-57-29814880710e>\u001b[0m in \u001b[0;36mtrain\u001b[0;34m()\u001b[0m\n\u001b[1;32m      8\u001b[0m         \u001b[0moptimizer\u001b[0m\u001b[0;34m.\u001b[0m\u001b[0mzero_grad\u001b[0m\u001b[0;34m(\u001b[0m\u001b[0;34m)\u001b[0m\u001b[0;34m\u001b[0m\u001b[0;34m\u001b[0m\u001b[0m\n\u001b[1;32m      9\u001b[0m \u001b[0;34m\u001b[0m\u001b[0m\n\u001b[0;32m---> 10\u001b[0;31m         \u001b[0mout\u001b[0m \u001b[0;34m=\u001b[0m \u001b[0mmodel\u001b[0m\u001b[0;34m(\u001b[0m\u001b[0mx\u001b[0m\u001b[0;34m[\u001b[0m\u001b[0mn_id\u001b[0m\u001b[0;34m]\u001b[0m\u001b[0;34m,\u001b[0m \u001b[0madjs\u001b[0m\u001b[0;34m)\u001b[0m\u001b[0;34m\u001b[0m\u001b[0;34m\u001b[0m\u001b[0m\n\u001b[0m\u001b[1;32m     11\u001b[0m         \u001b[0mout\u001b[0m\u001b[0;34m,\u001b[0m \u001b[0mpos_out\u001b[0m\u001b[0;34m,\u001b[0m \u001b[0mneg_out\u001b[0m \u001b[0;34m=\u001b[0m \u001b[0mout\u001b[0m\u001b[0;34m.\u001b[0m\u001b[0msplit\u001b[0m\u001b[0;34m(\u001b[0m\u001b[0mout\u001b[0m\u001b[0;34m.\u001b[0m\u001b[0msize\u001b[0m\u001b[0;34m(\u001b[0m\u001b[0;36m0\u001b[0m\u001b[0;34m)\u001b[0m \u001b[0;34m//\u001b[0m \u001b[0;36m3\u001b[0m\u001b[0;34m,\u001b[0m \u001b[0mdim\u001b[0m\u001b[0;34m=\u001b[0m\u001b[0;36m0\u001b[0m\u001b[0;34m)\u001b[0m\u001b[0;34m\u001b[0m\u001b[0;34m\u001b[0m\u001b[0m\n\u001b[1;32m     12\u001b[0m \u001b[0;34m\u001b[0m\u001b[0m\n",
            "\u001b[0;31mIndexError\u001b[0m: index 4 is out of bounds for dimension 0 with size 3"
          ]
        }
      ]
    },
    {
      "cell_type": "code",
      "source": [
        ""
      ],
      "metadata": {
        "id": "xQARoKnObh9S"
      },
      "id": "xQARoKnObh9S",
      "execution_count": null,
      "outputs": []
    },
    {
      "cell_type": "markdown",
      "source": [
        "### Работа с гетерографом"
      ],
      "metadata": {
        "id": "SJZ--MPqbqA8"
      },
      "id": "SJZ--MPqbqA8"
    },
    {
      "cell_type": "code",
      "source": [
        "from torch_geometric.data import HeteroData\n",
        "\n",
        "data = HeteroData()"
      ],
      "metadata": {
        "id": "ESyBu_oAbrEi"
      },
      "id": "ESyBu_oAbrEi",
      "execution_count": null,
      "outputs": []
    },
    {
      "cell_type": "code",
      "source": [
        "from torch_geometric.datasets import OGB_MAG\n",
        "\n",
        "dataset = OGB_MAG(root='./data', preprocess='metapath2vec')\n",
        "data = dataset[0]"
      ],
      "metadata": {
        "id": "sphm7wS4b8mS"
      },
      "id": "sphm7wS4b8mS",
      "execution_count": null,
      "outputs": []
    },
    {
      "cell_type": "code",
      "source": [
        "data"
      ],
      "metadata": {
        "colab": {
          "base_uri": "https://localhost:8080/"
        },
        "id": "odTjYCucdE1-",
        "outputId": "b5a808f0-de93-4787-d385-7b22a1e57b9b"
      },
      "id": "odTjYCucdE1-",
      "execution_count": null,
      "outputs": [
        {
          "output_type": "execute_result",
          "data": {
            "text/plain": [
              "HeteroData(\n",
              "  \u001b[1mpaper\u001b[0m={\n",
              "    x=[736389, 128],\n",
              "    year=[736389],\n",
              "    y=[736389],\n",
              "    train_mask=[736389],\n",
              "    val_mask=[736389],\n",
              "    test_mask=[736389]\n",
              "  },\n",
              "  \u001b[1mauthor\u001b[0m={ x=[1134649, 128] },\n",
              "  \u001b[1minstitution\u001b[0m={ x=[8740, 128] },\n",
              "  \u001b[1mfield_of_study\u001b[0m={ x=[59965, 128] },\n",
              "  \u001b[1m(author, affiliated_with, institution)\u001b[0m={ edge_index=[2, 1043998] },\n",
              "  \u001b[1m(author, writes, paper)\u001b[0m={ edge_index=[2, 7145660] },\n",
              "  \u001b[1m(paper, cites, paper)\u001b[0m={ edge_index=[2, 5416271] },\n",
              "  \u001b[1m(paper, has_topic, field_of_study)\u001b[0m={ edge_index=[2, 7505078] }\n",
              ")"
            ]
          },
          "metadata": {},
          "execution_count": 8
        }
      ]
    },
    {
      "cell_type": "markdown",
      "source": [
        "работаю с author и institution"
      ],
      "metadata": {
        "id": "W_XAO_VTojuN"
      },
      "id": "W_XAO_VTojuN"
    },
    {
      "cell_type": "code",
      "source": [
        "data = HeteroData({'author': { 'x': data['author'].x },\n",
        "              'institution': { 'x': data['institution'].x },\n",
        "              ('author', 'affiliated_with', 'institution'): {'edge_index': data['affiliated_with'].edge_index }})"
      ],
      "metadata": {
        "id": "JzrucJI0o6QW"
      },
      "id": "JzrucJI0o6QW",
      "execution_count": null,
      "outputs": []
    },
    {
      "cell_type": "code",
      "source": [
        "data"
      ],
      "metadata": {
        "colab": {
          "base_uri": "https://localhost:8080/"
        },
        "id": "fmfHVl-EqvfI",
        "outputId": "c65a34c9-c5f9-480a-b46c-d1d61d8b7853"
      },
      "id": "fmfHVl-EqvfI",
      "execution_count": null,
      "outputs": [
        {
          "output_type": "execute_result",
          "data": {
            "text/plain": [
              "HeteroData(\n",
              "  \u001b[1mauthor\u001b[0m={ x=[1134649, 128] },\n",
              "  \u001b[1minstitution\u001b[0m={ x=[8740, 128] },\n",
              "  \u001b[1m(author, affiliated_with, institution)\u001b[0m={ edge_index=[2, 1043998] }\n",
              ")"
            ]
          },
          "metadata": {},
          "execution_count": 10
        }
      ]
    },
    {
      "cell_type": "code",
      "source": [
        "from collections import Counter\n",
        "stat = Counter(data['affiliated_with'].edge_index[0].numpy()).most_common()"
      ],
      "metadata": {
        "id": "2PbYnsC_rxHf"
      },
      "id": "2PbYnsC_rxHf",
      "execution_count": null,
      "outputs": []
    },
    {
      "cell_type": "code",
      "source": [
        "index_to_delete = np.array(stat)[np.array(stat)[:,1] == 1][:, 0]"
      ],
      "metadata": {
        "id": "zEaLj7JTtYrt"
      },
      "id": "zEaLj7JTtYrt",
      "execution_count": null,
      "outputs": []
    },
    {
      "cell_type": "code",
      "source": [
        "np.delete(np.array(data['author'].x), (index_to_delete)).shape"
      ],
      "metadata": {
        "colab": {
          "base_uri": "https://localhost:8080/"
        },
        "id": "KvwXBy0gt2lt",
        "outputId": "00aa1e0b-e4a0-4605-c1f6-18e5899a2265"
      },
      "id": "KvwXBy0gt2lt",
      "execution_count": null,
      "outputs": [
        {
          "output_type": "execute_result",
          "data": {
            "text/plain": [
              "(144515482,)"
            ]
          },
          "metadata": {},
          "execution_count": 32
        }
      ]
    },
    {
      "cell_type": "code",
      "source": [
        "import numpy as np\n",
        "plt.xlim(0, 10)\n",
        "plt.hist(np.array(stat)[:, 1], bins = 50)"
      ],
      "metadata": {
        "colab": {
          "base_uri": "https://localhost:8080/",
          "height": 560
        },
        "id": "q9HATLGnzxNV",
        "outputId": "8c35dcc6-af31-47bb-f3ae-5de02830d474"
      },
      "id": "q9HATLGnzxNV",
      "execution_count": null,
      "outputs": [
        {
          "output_type": "execute_result",
          "data": {
            "text/plain": [
              "(array([7.19590e+05, 1.00968e+05, 2.15380e+04, 6.43500e+03, 2.31800e+03,\n",
              "        9.51000e+02, 3.69000e+02, 2.06000e+02, 1.11000e+02, 7.90000e+01,\n",
              "        5.10000e+01, 3.60000e+01, 0.00000e+00, 2.40000e+01, 1.80000e+01,\n",
              "        2.30000e+01, 1.90000e+01, 2.50000e+01, 2.00000e+01, 1.50000e+01,\n",
              "        1.10000e+01, 1.10000e+01, 1.20000e+01, 8.00000e+00, 0.00000e+00,\n",
              "        1.20000e+01, 1.10000e+01, 1.50000e+01, 8.00000e+00, 9.00000e+00,\n",
              "        1.20000e+01, 9.00000e+00, 7.00000e+00, 1.00000e+01, 1.20000e+01,\n",
              "        5.00000e+00, 1.20000e+01, 0.00000e+00, 6.00000e+00, 6.00000e+00,\n",
              "        3.00000e+00, 1.00000e+00, 2.00000e+00, 1.00000e+00, 1.00000e+00,\n",
              "        2.00000e+00, 2.00000e+00, 2.00000e+00, 0.00000e+00, 1.00000e+00]),\n",
              " array([ 1.  ,  1.92,  2.84,  3.76,  4.68,  5.6 ,  6.52,  7.44,  8.36,\n",
              "         9.28, 10.2 , 11.12, 12.04, 12.96, 13.88, 14.8 , 15.72, 16.64,\n",
              "        17.56, 18.48, 19.4 , 20.32, 21.24, 22.16, 23.08, 24.  , 24.92,\n",
              "        25.84, 26.76, 27.68, 28.6 , 29.52, 30.44, 31.36, 32.28, 33.2 ,\n",
              "        34.12, 35.04, 35.96, 36.88, 37.8 , 38.72, 39.64, 40.56, 41.48,\n",
              "        42.4 , 43.32, 44.24, 45.16, 46.08, 47.  ]),\n",
              " <a list of 50 Patch objects>)"
            ]
          },
          "metadata": {},
          "execution_count": 13
        },
        {
          "output_type": "display_data",
          "data": {
            "text/plain": [
              "<Figure size 432x288 with 1 Axes>"
            ],
            "image/png": "[encoded data removed]"
          },
          "metadata": {
            "needs_background": "light"
          }
        }
      ]
    },
    {
      "cell_type": "code",
      "source": [
        "data = T.ToUndirected()(data)"
      ],
      "metadata": {
        "id": "z57EsFoPq7mT"
      },
      "id": "z57EsFoPq7mT",
      "execution_count": null,
      "outputs": []
    },
    {
      "cell_type": "code",
      "source": [
        "data.metadata()"
      ],
      "metadata": {
        "colab": {
          "base_uri": "https://localhost:8080/"
        },
        "id": "4UItQjp4d5y5",
        "outputId": "8baca865-2761-4199-f7f6-1e25368e9985"
      },
      "id": "4UItQjp4d5y5",
      "execution_count": null,
      "outputs": [
        {
          "output_type": "execute_result",
          "data": {
            "text/plain": [
              "(['author', 'institution'],\n",
              " [('author', 'affiliated_with', 'institution'),\n",
              "  ('institution', 'rev_affiliated_with', 'author')])"
            ]
          },
          "metadata": {},
          "execution_count": 187
        }
      ]
    },
    {
      "cell_type": "code",
      "source": [
        "data.has_isolated_nodes()"
      ],
      "metadata": {
        "colab": {
          "base_uri": "https://localhost:8080/"
        },
        "id": "i9wirA2XfnXr",
        "outputId": "d263edd4-de21-4854-cdbd-b49c1187d6eb"
      },
      "id": "i9wirA2XfnXr",
      "execution_count": null,
      "outputs": [
        {
          "output_type": "execute_result",
          "data": {
            "text/plain": [
              "True"
            ]
          },
          "metadata": {},
          "execution_count": 188
        }
      ]
    },
    {
      "cell_type": "code",
      "source": [
        "data.has_self_loops()"
      ],
      "metadata": {
        "colab": {
          "base_uri": "https://localhost:8080/"
        },
        "id": "cqBc7Py6f9mJ",
        "outputId": "cfa4cc96-306a-4833-e415-0cfc42416860"
      },
      "id": "cqBc7Py6f9mJ",
      "execution_count": null,
      "outputs": [
        {
          "output_type": "execute_result",
          "data": {
            "text/plain": [
              "False"
            ]
          },
          "metadata": {},
          "execution_count": 189
        }
      ]
    },
    {
      "cell_type": "code",
      "source": [
        "data.is_undirected()"
      ],
      "metadata": {
        "colab": {
          "base_uri": "https://localhost:8080/"
        },
        "id": "cTMHciEvf_2d",
        "outputId": "cf179595-809c-4424-b335-c2d42fb41480"
      },
      "id": "cTMHciEvf_2d",
      "execution_count": null,
      "outputs": [
        {
          "output_type": "execute_result",
          "data": {
            "text/plain": [
              "False"
            ]
          },
          "metadata": {},
          "execution_count": 190
        }
      ]
    },
    {
      "cell_type": "code",
      "source": [
        "homogeneous_data = data.to_homogeneous()\n",
        "print(homogeneous_data)"
      ],
      "metadata": {
        "colab": {
          "base_uri": "https://localhost:8080/"
        },
        "id": "vOcoQ0h6gA1n",
        "outputId": "132da2af-025d-4ebe-cd4f-f65334596a17"
      },
      "id": "vOcoQ0h6gA1n",
      "execution_count": null,
      "outputs": [
        {
          "output_type": "stream",
          "name": "stdout",
          "text": [
            "Data(node_type=[206], edge_index=[2, 1224], edge_type=[1224])\n"
          ]
        }
      ]
    },
    {
      "cell_type": "code",
      "source": [
        "homogeneous_data.node_type"
      ],
      "metadata": {
        "colab": {
          "base_uri": "https://localhost:8080/"
        },
        "id": "j1_aHl_2zxNH",
        "outputId": "34b64128-a597-4272-e90a-b83bae6d6639"
      },
      "id": "j1_aHl_2zxNH",
      "execution_count": null,
      "outputs": [
        {
          "output_type": "execute_result",
          "data": {
            "text/plain": [
              "tensor([0, 0, 0, 1, 1, 1])"
            ]
          },
          "metadata": {},
          "execution_count": 22
        }
      ]
    },
    {
      "cell_type": "code",
      "source": [
        "np.array(homogeneous_data.edge_type)"
      ],
      "metadata": {
        "colab": {
          "base_uri": "https://localhost:8080/"
        },
        "id": "QutUt8jUgNgX",
        "outputId": "75cbd854-598a-41b0-c24e-fd0036018b0c"
      },
      "id": "QutUt8jUgNgX",
      "execution_count": null,
      "outputs": [
        {
          "output_type": "execute_result",
          "data": {
            "text/plain": [
              "array([0, 0, 0, 0, 1, 1, 1, 1])"
            ]
          },
          "metadata": {},
          "execution_count": 23
        }
      ]
    },
    {
      "cell_type": "code",
      "source": [
        "data"
      ],
      "metadata": {
        "colab": {
          "base_uri": "https://localhost:8080/"
        },
        "id": "7OLELZa30K_z",
        "outputId": "0c6998ea-8a64-4d91-d16b-83575e7db5ef"
      },
      "id": "7OLELZa30K_z",
      "execution_count": null,
      "outputs": [
        {
          "output_type": "execute_result",
          "data": {
            "text/plain": [
              "HeteroData(\n",
              "  \u001b[1muser\u001b[0m={ x=[3, 3] },\n",
              "  \u001b[1mdish\u001b[0m={ x=[3, 2] },\n",
              "  \u001b[1m(user, buys, dish)\u001b[0m={ edge_index=[2, 4] },\n",
              "  \u001b[1m(dish, rev_buys, user)\u001b[0m={ edge_index=[2, 4] }\n",
              ")"
            ]
          },
          "metadata": {},
          "execution_count": 24
        }
      ]
    },
    {
      "cell_type": "code",
      "source": [
        "import torch_geometric.transforms as T\n",
        "from torch_geometric.datasets import OGB_MAG\n",
        "from torch_geometric.loader import NeighborLoader\n",
        "\n",
        "#transform = T.ToUndirected()  # Add reverse edge types.\n",
        "#data = OGB_MAG(root='./data', preprocess='metapath2vec', transform=transform)[0]\n",
        "\n",
        "train_loader = NeighborLoader(\n",
        "    data,\n",
        "    # Sample 15 neighbors for each node and each edge type for 2 iterations:\n",
        "    num_neighbors=[15] * 2,\n",
        "    # Use a batch size of 128 for sampling training nodes of type \"paper\":\n",
        "    batch_size=64,\n",
        "    input_nodes=('author'),\n",
        ")\n",
        "\n",
        "batch = next(iter(train_loader))"
      ],
      "metadata": {
        "id": "jcpfSJjwgbLJ"
      },
      "id": "jcpfSJjwgbLJ",
      "execution_count": null,
      "outputs": []
    },
    {
      "cell_type": "code",
      "source": [
        "batch"
      ],
      "metadata": {
        "colab": {
          "base_uri": "https://localhost:8080/"
        },
        "id": "wPpBru8FtTU4",
        "outputId": "0ea99240-1de4-42a7-fb42-82ebb273a343"
      },
      "id": "wPpBru8FtTU4",
      "execution_count": null,
      "outputs": [
        {
          "output_type": "execute_result",
          "data": {
            "text/plain": [
              "HeteroData(\n",
              "  \u001b[1mpaper\u001b[0m={\n",
              "    x=[0, 128],\n",
              "    year=[0],\n",
              "    y=[0],\n",
              "    train_mask=[0],\n",
              "    val_mask=[0],\n",
              "    test_mask=[0]\n",
              "  },\n",
              "  \u001b[1mauthor\u001b[0m={\n",
              "    x=[64, 128],\n",
              "    batch_size=64\n",
              "  },\n",
              "  \u001b[1minstitution\u001b[0m={ x=[0, 128] },\n",
              "  \u001b[1mfield_of_study\u001b[0m={ x=[0, 128] },\n",
              "  \u001b[1m(author, affiliated_with, institution)\u001b[0m={ edge_index=[2, 0] },\n",
              "  \u001b[1m(author, writes, paper)\u001b[0m={ edge_index=[2, 0] },\n",
              "  \u001b[1m(paper, cites, paper)\u001b[0m={ edge_index=[2, 0] },\n",
              "  \u001b[1m(paper, has_topic, field_of_study)\u001b[0m={ edge_index=[2, 0] }\n",
              ")"
            ]
          },
          "metadata": {},
          "execution_count": 207
        }
      ]
    },
    {
      "cell_type": "code",
      "source": [
        "data"
      ],
      "metadata": {
        "id": "4IiFTositW4z",
        "colab": {
          "base_uri": "https://localhost:8080/"
        },
        "outputId": "6f08b49d-d918-45e0-8629-80751f2a9991"
      },
      "id": "4IiFTositW4z",
      "execution_count": null,
      "outputs": [
        {
          "output_type": "execute_result",
          "data": {
            "text/plain": [
              "HeteroData(\n",
              "  \u001b[1mauthor\u001b[0m={ x=[1134649, 128] },\n",
              "  \u001b[1minstitution\u001b[0m={ x=[8740, 128] },\n",
              "  \u001b[1m(author, affiliated_with, institution)\u001b[0m={ edge_index=[2, 1043998] },\n",
              "  \u001b[1m(institution, rev_affiliated_with, author)\u001b[0m={ edge_index=[2, 1043998] }\n",
              ")"
            ]
          },
          "metadata": {},
          "execution_count": 173
        }
      ]
    },
    {
      "cell_type": "code",
      "source": [
        ""
      ],
      "metadata": {
        "id": "4nichhGn1DCj"
      },
      "id": "4nichhGn1DCj",
      "execution_count": null,
      "outputs": []
    }
  ],
  "metadata": {
    "kernelspec": {
      "display_name": "Python 3 (ipykernel)",
      "language": "python",
      "name": "python3"
    },
    "language_info": {
      "codemirror_mode": {
        "name": "ipython",
        "version": 3
      },
      "file_extension": ".py",
      "mimetype": "text/x-python",
      "name": "python",
      "nbconvert_exporter": "python",
      "pygments_lexer": "ipython3",
      "version": "3.9.12"
    },
    "colab": {
      "name": "Personalized_RecSys_GNN.ipynb",
      "provenance": [],
      "collapsed_sections": [],
      "include_colab_link": true
    }
  },
  "nbformat": 4,
  "nbformat_minor": 5
}