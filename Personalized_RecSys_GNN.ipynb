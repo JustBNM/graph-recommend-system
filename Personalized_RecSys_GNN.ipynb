{
  "cells": [
    {
      "cell_type": "markdown",
      "metadata": {
        "id": "view-in-github",
        "colab_type": "text"
      },
      "source": [
        "<a href=\"https://colab.research.google.com/github/JustBNM/graph-recommend-system/blob/main/Personalized_RecSys_GNN.ipynb\" target=\"_parent\"><img src=\"https://colab.research.google.com/assets/colab-badge.svg\" alt=\"Open In Colab\"/></a>"
      ]
    },
    {
      "cell_type": "markdown",
      "id": "6fbafe8c",
      "metadata": {
        "id": "6fbafe8c"
      },
      "source": [
        "# Установка и подключение библиотек"
      ]
    },
    {
      "cell_type": "code",
      "execution_count": 2,
      "id": "03718a23",
      "metadata": {
        "colab": {
          "base_uri": "https://localhost:8080/"
        },
        "id": "03718a23",
        "outputId": "66b13eec-b756-4b50-ee50-468d48c1338d"
      },
      "outputs": [
        {
          "output_type": "stream",
          "name": "stdout",
          "text": [
            "Looking in links: https://pytorch-geometric.com/whl/torch-1.11.0+cu113.html\n",
            "Requirement already satisfied: torch-scatter in /usr/local/lib/python3.7/dist-packages (2.0.9)\n",
            "Looking in links: https://pytorch-geometric.com/whl/torch-1.11.0+cu113.html\n",
            "Requirement already satisfied: torch-sparse in /usr/local/lib/python3.7/dist-packages (0.6.13)\n",
            "Requirement already satisfied: scipy in /usr/local/lib/python3.7/dist-packages (from torch-sparse) (1.4.1)\n",
            "Requirement already satisfied: numpy>=1.13.3 in /usr/local/lib/python3.7/dist-packages (from scipy->torch-sparse) (1.21.6)\n",
            "Looking in links: https://pytorch-geometric.com/whl/torch-1.11.0+cu113.html\n",
            "Requirement already satisfied: torch-cluster in /usr/local/lib/python3.7/dist-packages (1.6.0)\n",
            "Looking in links: https://pytorch-geometric.com/whl/torch-1.11.0+cu113.html\n",
            "Requirement already satisfied: torch-spline-conv in /usr/local/lib/python3.7/dist-packages (1.2.1)\n",
            "Requirement already satisfied: torch-geometric in /usr/local/lib/python3.7/dist-packages (2.0.4)\n",
            "Requirement already satisfied: tqdm in /usr/local/lib/python3.7/dist-packages (from torch-geometric) (4.64.0)\n",
            "Requirement already satisfied: numpy in /usr/local/lib/python3.7/dist-packages (from torch-geometric) (1.21.6)\n",
            "Requirement already satisfied: pyparsing in /usr/local/lib/python3.7/dist-packages (from torch-geometric) (3.0.8)\n",
            "Requirement already satisfied: pandas in /usr/local/lib/python3.7/dist-packages (from torch-geometric) (1.3.5)\n",
            "Requirement already satisfied: jinja2 in /usr/local/lib/python3.7/dist-packages (from torch-geometric) (2.11.3)\n",
            "Requirement already satisfied: scipy in /usr/local/lib/python3.7/dist-packages (from torch-geometric) (1.4.1)\n",
            "Requirement already satisfied: requests in /usr/local/lib/python3.7/dist-packages (from torch-geometric) (2.23.0)\n",
            "Requirement already satisfied: scikit-learn in /usr/local/lib/python3.7/dist-packages (from torch-geometric) (1.0.2)\n",
            "Requirement already satisfied: MarkupSafe>=0.23 in /usr/local/lib/python3.7/dist-packages (from jinja2->torch-geometric) (2.0.1)\n",
            "Requirement already satisfied: pytz>=2017.3 in /usr/local/lib/python3.7/dist-packages (from pandas->torch-geometric) (2022.1)\n",
            "Requirement already satisfied: python-dateutil>=2.7.3 in /usr/local/lib/python3.7/dist-packages (from pandas->torch-geometric) (2.8.2)\n",
            "Requirement already satisfied: six>=1.5 in /usr/local/lib/python3.7/dist-packages (from python-dateutil>=2.7.3->pandas->torch-geometric) (1.15.0)\n",
            "Requirement already satisfied: certifi>=2017.4.17 in /usr/local/lib/python3.7/dist-packages (from requests->torch-geometric) (2021.10.8)\n",
            "Requirement already satisfied: idna<3,>=2.5 in /usr/local/lib/python3.7/dist-packages (from requests->torch-geometric) (2.10)\n",
            "Requirement already satisfied: urllib3!=1.25.0,!=1.25.1,<1.26,>=1.21.1 in /usr/local/lib/python3.7/dist-packages (from requests->torch-geometric) (1.24.3)\n",
            "Requirement already satisfied: chardet<4,>=3.0.2 in /usr/local/lib/python3.7/dist-packages (from requests->torch-geometric) (3.0.4)\n",
            "Requirement already satisfied: joblib>=0.11 in /usr/local/lib/python3.7/dist-packages (from scikit-learn->torch-geometric) (1.1.0)\n",
            "Requirement already satisfied: threadpoolctl>=2.0.0 in /usr/local/lib/python3.7/dist-packages (from scikit-learn->torch-geometric) (3.1.0)\n"
          ]
        }
      ],
      "source": [
        "import torch\n",
        "\n",
        "def format_pytorch_version(version):\n",
        "  return version.split('+')[0]\n",
        "\n",
        "TORCH_version = torch.__version__\n",
        "TORCH = format_pytorch_version(TORCH_version)\n",
        "\n",
        "def format_cuda_version(version):\n",
        "  return 'cu' + version.replace('.', '')\n",
        "\n",
        "CUDA_version = torch.version.cuda\n",
        "CUDA = format_cuda_version(CUDA_version)\n",
        "\n",
        "!pip install torch-scatter     -f https://pytorch-geometric.com/whl/torch-{TORCH}+{CUDA}.html\n",
        "!pip install torch-sparse      -f https://pytorch-geometric.com/whl/torch-{TORCH}+{CUDA}.html\n",
        "!pip install torch-cluster     -f https://pytorch-geometric.com/whl/torch-{TORCH}+{CUDA}.html\n",
        "!pip install torch-spline-conv -f https://pytorch-geometric.com/whl/torch-{TORCH}+{CUDA}.html\n",
        "!pip install torch-geometric"
      ]
    },
    {
      "cell_type": "code",
      "source": [
        "!pip install umap\n",
        "!pip install umap-learn"
      ],
      "metadata": {
        "colab": {
          "base_uri": "https://localhost:8080/"
        },
        "id": "18rfUXKtfXUZ",
        "outputId": "af2eb2ff-a11b-4180-99c2-2da797799866"
      },
      "id": "18rfUXKtfXUZ",
      "execution_count": 3,
      "outputs": [
        {
          "output_type": "stream",
          "name": "stdout",
          "text": [
            "Requirement already satisfied: umap in /usr/local/lib/python3.7/dist-packages (0.1.1)\n",
            "Requirement already satisfied: umap-learn in /usr/local/lib/python3.7/dist-packages (0.5.3)\n",
            "Requirement already satisfied: numba>=0.49 in /usr/local/lib/python3.7/dist-packages (from umap-learn) (0.51.2)\n",
            "Requirement already satisfied: scipy>=1.0 in /usr/local/lib/python3.7/dist-packages (from umap-learn) (1.4.1)\n",
            "Requirement already satisfied: numpy>=1.17 in /usr/local/lib/python3.7/dist-packages (from umap-learn) (1.21.6)\n",
            "Requirement already satisfied: scikit-learn>=0.22 in /usr/local/lib/python3.7/dist-packages (from umap-learn) (1.0.2)\n",
            "Requirement already satisfied: pynndescent>=0.5 in /usr/local/lib/python3.7/dist-packages (from umap-learn) (0.5.6)\n",
            "Requirement already satisfied: tqdm in /usr/local/lib/python3.7/dist-packages (from umap-learn) (4.64.0)\n",
            "Requirement already satisfied: llvmlite<0.35,>=0.34.0.dev0 in /usr/local/lib/python3.7/dist-packages (from numba>=0.49->umap-learn) (0.34.0)\n",
            "Requirement already satisfied: setuptools in /usr/local/lib/python3.7/dist-packages (from numba>=0.49->umap-learn) (57.4.0)\n",
            "Requirement already satisfied: joblib>=0.11 in /usr/local/lib/python3.7/dist-packages (from pynndescent>=0.5->umap-learn) (1.1.0)\n",
            "Requirement already satisfied: threadpoolctl>=2.0.0 in /usr/local/lib/python3.7/dist-packages (from scikit-learn>=0.22->umap-learn) (3.1.0)\n"
          ]
        }
      ]
    },
    {
      "cell_type": "code",
      "execution_count": 4,
      "id": "d59c141c",
      "metadata": {
        "id": "d59c141c"
      },
      "outputs": [],
      "source": [
        "import os.path as osp\n",
        "\n",
        "import torch\n",
        "import torch.nn as nn\n",
        "import torch.nn.functional as F\n",
        "from sklearn.linear_model import LogisticRegression\n",
        "from torch_cluster import random_walk\n",
        "\n",
        "import torch_geometric.transforms as T\n",
        "from torch_geometric.datasets import Planetoid\n",
        "from torch_geometric.loader import NeighborSampler as RawNeighborSampler\n",
        "from torch_geometric.nn import SAGEConv\n",
        "\n",
        "import umap\n",
        "import matplotlib.pyplot as plt\n",
        "import seaborn as sns\n",
        "\n",
        "from collections import Counter"
      ]
    },
    {
      "cell_type": "markdown",
      "id": "106086d6",
      "metadata": {
        "id": "106086d6"
      },
      "source": [
        "## Пример на заготовленном датасете"
      ]
    },
    {
      "cell_type": "code",
      "execution_count": 5,
      "id": "e3cc2d58",
      "metadata": {
        "id": "e3cc2d58",
        "colab": {
          "base_uri": "https://localhost:8080/"
        },
        "outputId": "9d4ccaf0-0e78-48f9-999b-b9ed7084ff7a"
      },
      "outputs": [
        {
          "output_type": "stream",
          "name": "stderr",
          "text": [
            "Downloading https://github.com/kimiyoung/planetoid/raw/master/data/ind.cora.x\n",
            "Downloading https://github.com/kimiyoung/planetoid/raw/master/data/ind.cora.tx\n",
            "Downloading https://github.com/kimiyoung/planetoid/raw/master/data/ind.cora.allx\n",
            "Downloading https://github.com/kimiyoung/planetoid/raw/master/data/ind.cora.y\n",
            "Downloading https://github.com/kimiyoung/planetoid/raw/master/data/ind.cora.ty\n",
            "Downloading https://github.com/kimiyoung/planetoid/raw/master/data/ind.cora.ally\n",
            "Downloading https://github.com/kimiyoung/planetoid/raw/master/data/ind.cora.graph\n",
            "Downloading https://github.com/kimiyoung/planetoid/raw/master/data/ind.cora.test.index\n",
            "Processing...\n",
            "Done!\n"
          ]
        }
      ],
      "source": [
        "dataset = 'Cora'\n",
        "path = './data'\n",
        "dataset = Planetoid(path, dataset, transform=T.NormalizeFeatures())\n",
        "data = dataset[0]"
      ]
    },
    {
      "cell_type": "markdown",
      "id": "fc324662",
      "metadata": {
        "id": "fc324662"
      },
      "source": [
        "Данные:\n",
        "x - 2708 статей. Каждая статья кодируется наличием слов из словаря размером 1433\n",
        "edge_index - связи статей по цитиремости. 105556 связей по индексам статей"
      ]
    },
    {
      "cell_type": "markdown",
      "id": "9d03460c",
      "metadata": {
        "id": "9d03460c"
      },
      "source": [
        "# Хреначу свой пример"
      ]
    },
    {
      "cell_type": "markdown",
      "source": [
        "## Датасет"
      ],
      "metadata": {
        "id": "cZsT3b5GBuZi"
      },
      "id": "cZsT3b5GBuZi"
    },
    {
      "cell_type": "code",
      "execution_count": 5,
      "id": "2676f18c",
      "metadata": {
        "id": "2676f18c"
      },
      "outputs": [],
      "source": [
        "from torch_geometric.data import HeteroData\n",
        "import pandas as pd\n",
        "import numpy as np"
      ]
    },
    {
      "cell_type": "code",
      "source": [
        "number_of_person = 500\n",
        "from scipy.special import softmax\n",
        "genders = np.random.randint(0, 2, number_of_person)\n",
        "# пиво берут редко\n",
        "pivo_buy = np.random.choice([0,1], number_of_person, p=[0.8, 0.2])\n",
        "# любовь к пиву зависит от того, взяли ли его\n",
        "pivo_love = np.array([pivo*np.random.normal(loc=0.6, scale=0.2, size=1) + \n",
        "                      (1 - pivo)*np.random.normal(loc=0.3, scale=0.3, size=1) for pivo in pivo_buy]).squeeze()\n",
        "# картошка с пивом - хорошо\n",
        "kartoshka_buy = np.array([np.random.choice([0,1], 1, p=softmax([0.5, 0.4+2*pivo])) for pivo in pivo_love])\n",
        "kartoshka_love = np.array([prod_buy*np.random.normal(loc=0.6, scale=0.2, size=1) + \n",
        "                      (1 - prod_buy)*np.random.normal(loc=0.4, scale=0.3, size=1) for prod_buy in kartoshka_buy]).squeeze()\n",
        "# салатик берут девушки\n",
        "salatic_love = np.array([gender*np.random.normal(loc=0.2, scale=0.2, size=1) + \n",
        "                      (1 - gender)*np.random.normal(loc=0.4, scale=0.2, size=1) for gender in genders]).squeeze()\n",
        "salatic_buy = np.array([np.random.choice([0,1], 1, p=softmax([0.6, 0.4+prod])) for prod in salatic_love])\n",
        "# Пиво с мороженкой плохо заходит\n",
        "morozenka_buy = np.array([np.random.choice([0,1], 1, p=softmax([0.6, 0.4-prod])) for prod in pivo_buy]).squeeze()\n",
        "morozenka_love = 1/(0.5 + pivo_love)\n",
        "cola_love = np.random.random(number_of_person)\n",
        "burger_love = np.random.random(number_of_person)\n",
        "# Если купил всего 1 продукт - пусть берёт колу\n",
        "cola_buy = np.array([np.random.choice([0,1], 1, p=softmax([0.6, 0.4+prod])) for prod in salatic_love])\n",
        "# Если кроме колы ничего не взял - пусть берёт бургер\n",
        "\n",
        "df_user = pd.DataFrame()\n",
        "df_user['gender'] = genders\n",
        "df_user['pivo_love'] = pivo_love\n",
        "df_user['kartoshka_love'] = kartoshka_love\n",
        "df_user['salatic_love'] = salatic_love\n",
        "df_user['morozenka_love'] = morozenka_love\n",
        "df_user['cola_love'] = salatic_love\n",
        "df_user['burger_love'] = morozenka_love\n",
        "\n",
        "\n",
        "df_user['pivo_buy'] = pivo_buy\n",
        "df_user['kartoshka_buy'] = kartoshka_buy\n",
        "df_user['salatic_buy'] = salatic_buy\n",
        "df_user['morozenka_buy'] = morozenka_buy\n",
        "\n",
        "cola_buy = np.array(1 if sum(df_user.loc[i, ['pivo_buy', 'kartoshka_buy', 'salatic_buy', 'morozenka_buy']]) <= 1 \n",
        "                                         else int(np.random.choice([0,1], 1, p=softmax([0.7, 0.3+prod]))) for i, prod in enumerate(cola_love)).squeeze()\n",
        "\n",
        "df_user['cola_buy'] = cola_buy\n",
        "\n",
        "burger_buy = np.array(1 if sum(df_user.loc[i, ['pivo_buy', 'kartoshka_buy', 'salatic_buy', 'morozenka_buy']]) == 0 \n",
        "                                         else int(np.random.choice([0,1], 1, p=softmax([0.7, 0.3+prod]))) for i, prod in enumerate(burger_love)).squeeze()\n",
        "df_user['burger_buy'] = burger_buy"
      ],
      "metadata": {
        "id": "ION1XjpnTpuk"
      },
      "id": "ION1XjpnTpuk",
      "execution_count": 6,
      "outputs": []
    },
    {
      "cell_type": "code",
      "source": [
        "df_user"
      ],
      "metadata": {
        "colab": {
          "base_uri": "https://localhost:8080/",
          "height": 487
        },
        "id": "1sqNOjjBGyj6",
        "outputId": "b1fb346c-52ec-435b-d5ad-3f869bafe87b"
      },
      "id": "1sqNOjjBGyj6",
      "execution_count": 7,
      "outputs": [
        {
          "output_type": "execute_result",
          "data": {
            "text/plain": [
              "     gender  pivo_love  kartoshka_love  salatic_love  morozenka_love  \\\n",
              "0         0   0.007225        0.796908      0.453481        1.971513   \n",
              "1         0   0.086803        0.668206      0.181488        1.704150   \n",
              "2         0   0.247815        0.457115      0.307790        1.337229   \n",
              "3         1  -0.491794        0.369032      0.289647      121.864018   \n",
              "4         0   1.068778        0.713599      0.388044        0.637439   \n",
              "..      ...        ...             ...           ...             ...   \n",
              "495       1   0.252246        0.422066      0.077148        1.329353   \n",
              "496       1   0.471849        0.605640      0.176069        1.028966   \n",
              "497       0   0.654804        0.495542      0.723017        0.865948   \n",
              "498       0   0.174672        0.348316      0.620265        1.482202   \n",
              "499       1   0.561441        0.418664      0.321276        0.942115   \n",
              "\n",
              "     cola_love  burger_love  pivo_buy  kartoshka_buy  salatic_buy  \\\n",
              "0     0.453481     1.971513         0              0            0   \n",
              "1     0.181488     1.704150         0              1            0   \n",
              "2     0.307790     1.337229         0              1            0   \n",
              "3     0.289647   121.864018         0              0            1   \n",
              "4     0.388044     0.637439         1              1            0   \n",
              "..         ...          ...       ...            ...          ...   \n",
              "495   0.077148     1.329353         0              1            1   \n",
              "496   0.176069     1.028966         0              1            1   \n",
              "497   0.723017     0.865948         1              1            0   \n",
              "498   0.620265     1.482202         0              1            1   \n",
              "499   0.321276     0.942115         0              1            1   \n",
              "\n",
              "     morozenka_buy cola_buy burger_buy  \n",
              "0                0        1          1  \n",
              "1                0        1          1  \n",
              "2                0        1          1  \n",
              "3                1        0          1  \n",
              "4                0        0          1  \n",
              "..             ...      ...        ...  \n",
              "495              0        0          1  \n",
              "496              1        1          0  \n",
              "497              0        1          0  \n",
              "498              1        0          1  \n",
              "499              1        1          0  \n",
              "\n",
              "[500 rows x 13 columns]"
            ],
            "text/html": [
              "\n",
              "  <div id=\"df-88e1e488-4c50-4037-9dee-5e23753e2576\">\n",
              "    <div class=\"colab-df-container\">\n",
              "      <div>\n",
              "<style scoped>\n",
              "    .dataframe tbody tr th:only-of-type {\n",
              "        vertical-align: middle;\n",
              "    }\n",
              "\n",
              "    .dataframe tbody tr th {\n",
              "        vertical-align: top;\n",
              "    }\n",
              "\n",
              "    .dataframe thead th {\n",
              "        text-align: right;\n",
              "    }\n",
              "</style>\n",
              "<table border=\"1\" class=\"dataframe\">\n",
              "  <thead>\n",
              "    <tr style=\"text-align: right;\">\n",
              "      <th></th>\n",
              "      <th>gender</th>\n",
              "      <th>pivo_love</th>\n",
              "      <th>kartoshka_love</th>\n",
              "      <th>salatic_love</th>\n",
              "      <th>morozenka_love</th>\n",
              "      <th>cola_love</th>\n",
              "      <th>burger_love</th>\n",
              "      <th>pivo_buy</th>\n",
              "      <th>kartoshka_buy</th>\n",
              "      <th>salatic_buy</th>\n",
              "      <th>morozenka_buy</th>\n",
              "      <th>cola_buy</th>\n",
              "      <th>burger_buy</th>\n",
              "    </tr>\n",
              "  </thead>\n",
              "  <tbody>\n",
              "    <tr>\n",
              "      <th>0</th>\n",
              "      <td>0</td>\n",
              "      <td>0.007225</td>\n",
              "      <td>0.796908</td>\n",
              "      <td>0.453481</td>\n",
              "      <td>1.971513</td>\n",
              "      <td>0.453481</td>\n",
              "      <td>1.971513</td>\n",
              "      <td>0</td>\n",
              "      <td>0</td>\n",
              "      <td>0</td>\n",
              "      <td>0</td>\n",
              "      <td>1</td>\n",
              "      <td>1</td>\n",
              "    </tr>\n",
              "    <tr>\n",
              "      <th>1</th>\n",
              "      <td>0</td>\n",
              "      <td>0.086803</td>\n",
              "      <td>0.668206</td>\n",
              "      <td>0.181488</td>\n",
              "      <td>1.704150</td>\n",
              "      <td>0.181488</td>\n",
              "      <td>1.704150</td>\n",
              "      <td>0</td>\n",
              "      <td>1</td>\n",
              "      <td>0</td>\n",
              "      <td>0</td>\n",
              "      <td>1</td>\n",
              "      <td>1</td>\n",
              "    </tr>\n",
              "    <tr>\n",
              "      <th>2</th>\n",
              "      <td>0</td>\n",
              "      <td>0.247815</td>\n",
              "      <td>0.457115</td>\n",
              "      <td>0.307790</td>\n",
              "      <td>1.337229</td>\n",
              "      <td>0.307790</td>\n",
              "      <td>1.337229</td>\n",
              "      <td>0</td>\n",
              "      <td>1</td>\n",
              "      <td>0</td>\n",
              "      <td>0</td>\n",
              "      <td>1</td>\n",
              "      <td>1</td>\n",
              "    </tr>\n",
              "    <tr>\n",
              "      <th>3</th>\n",
              "      <td>1</td>\n",
              "      <td>-0.491794</td>\n",
              "      <td>0.369032</td>\n",
              "      <td>0.289647</td>\n",
              "      <td>121.864018</td>\n",
              "      <td>0.289647</td>\n",
              "      <td>121.864018</td>\n",
              "      <td>0</td>\n",
              "      <td>0</td>\n",
              "      <td>1</td>\n",
              "      <td>1</td>\n",
              "      <td>0</td>\n",
              "      <td>1</td>\n",
              "    </tr>\n",
              "    <tr>\n",
              "      <th>4</th>\n",
              "      <td>0</td>\n",
              "      <td>1.068778</td>\n",
              "      <td>0.713599</td>\n",
              "      <td>0.388044</td>\n",
              "      <td>0.637439</td>\n",
              "      <td>0.388044</td>\n",
              "      <td>0.637439</td>\n",
              "      <td>1</td>\n",
              "      <td>1</td>\n",
              "      <td>0</td>\n",
              "      <td>0</td>\n",
              "      <td>0</td>\n",
              "      <td>1</td>\n",
              "    </tr>\n",
              "    <tr>\n",
              "      <th>...</th>\n",
              "      <td>...</td>\n",
              "      <td>...</td>\n",
              "      <td>...</td>\n",
              "      <td>...</td>\n",
              "      <td>...</td>\n",
              "      <td>...</td>\n",
              "      <td>...</td>\n",
              "      <td>...</td>\n",
              "      <td>...</td>\n",
              "      <td>...</td>\n",
              "      <td>...</td>\n",
              "      <td>...</td>\n",
              "      <td>...</td>\n",
              "    </tr>\n",
              "    <tr>\n",
              "      <th>495</th>\n",
              "      <td>1</td>\n",
              "      <td>0.252246</td>\n",
              "      <td>0.422066</td>\n",
              "      <td>0.077148</td>\n",
              "      <td>1.329353</td>\n",
              "      <td>0.077148</td>\n",
              "      <td>1.329353</td>\n",
              "      <td>0</td>\n",
              "      <td>1</td>\n",
              "      <td>1</td>\n",
              "      <td>0</td>\n",
              "      <td>0</td>\n",
              "      <td>1</td>\n",
              "    </tr>\n",
              "    <tr>\n",
              "      <th>496</th>\n",
              "      <td>1</td>\n",
              "      <td>0.471849</td>\n",
              "      <td>0.605640</td>\n",
              "      <td>0.176069</td>\n",
              "      <td>1.028966</td>\n",
              "      <td>0.176069</td>\n",
              "      <td>1.028966</td>\n",
              "      <td>0</td>\n",
              "      <td>1</td>\n",
              "      <td>1</td>\n",
              "      <td>1</td>\n",
              "      <td>1</td>\n",
              "      <td>0</td>\n",
              "    </tr>\n",
              "    <tr>\n",
              "      <th>497</th>\n",
              "      <td>0</td>\n",
              "      <td>0.654804</td>\n",
              "      <td>0.495542</td>\n",
              "      <td>0.723017</td>\n",
              "      <td>0.865948</td>\n",
              "      <td>0.723017</td>\n",
              "      <td>0.865948</td>\n",
              "      <td>1</td>\n",
              "      <td>1</td>\n",
              "      <td>0</td>\n",
              "      <td>0</td>\n",
              "      <td>1</td>\n",
              "      <td>0</td>\n",
              "    </tr>\n",
              "    <tr>\n",
              "      <th>498</th>\n",
              "      <td>0</td>\n",
              "      <td>0.174672</td>\n",
              "      <td>0.348316</td>\n",
              "      <td>0.620265</td>\n",
              "      <td>1.482202</td>\n",
              "      <td>0.620265</td>\n",
              "      <td>1.482202</td>\n",
              "      <td>0</td>\n",
              "      <td>1</td>\n",
              "      <td>1</td>\n",
              "      <td>1</td>\n",
              "      <td>0</td>\n",
              "      <td>1</td>\n",
              "    </tr>\n",
              "    <tr>\n",
              "      <th>499</th>\n",
              "      <td>1</td>\n",
              "      <td>0.561441</td>\n",
              "      <td>0.418664</td>\n",
              "      <td>0.321276</td>\n",
              "      <td>0.942115</td>\n",
              "      <td>0.321276</td>\n",
              "      <td>0.942115</td>\n",
              "      <td>0</td>\n",
              "      <td>1</td>\n",
              "      <td>1</td>\n",
              "      <td>1</td>\n",
              "      <td>1</td>\n",
              "      <td>0</td>\n",
              "    </tr>\n",
              "  </tbody>\n",
              "</table>\n",
              "<p>500 rows × 13 columns</p>\n",
              "</div>\n",
              "      <button class=\"colab-df-convert\" onclick=\"convertToInteractive('df-88e1e488-4c50-4037-9dee-5e23753e2576')\"\n",
              "              title=\"Convert this dataframe to an interactive table.\"\n",
              "              style=\"display:none;\">\n",
              "        \n",
              "  <svg xmlns=\"http://www.w3.org/2000/svg\" height=\"24px\"viewBox=\"0 0 24 24\"\n",
              "       width=\"24px\">\n",
              "    <path d=\"M0 0h24v24H0V0z\" fill=\"none\"/>\n",
              "    <path d=\"M18.56 5.44l.94 2.06.94-2.06 2.06-.94-2.06-.94-.94-2.06-.94 2.06-2.06.94zm-11 1L8.5 8.5l.94-2.06 2.06-.94-2.06-.94L8.5 2.5l-.94 2.06-2.06.94zm10 10l.94 2.06.94-2.06 2.06-.94-2.06-.94-.94-2.06-.94 2.06-2.06.94z\"/><path d=\"M17.41 7.96l-1.37-1.37c-.4-.4-.92-.59-1.43-.59-.52 0-1.04.2-1.43.59L10.3 9.45l-7.72 7.72c-.78.78-.78 2.05 0 2.83L4 21.41c.39.39.9.59 1.41.59.51 0 1.02-.2 1.41-.59l7.78-7.78 2.81-2.81c.8-.78.8-2.07 0-2.86zM5.41 20L4 18.59l7.72-7.72 1.47 1.35L5.41 20z\"/>\n",
              "  </svg>\n",
              "      </button>\n",
              "      \n",
              "  <style>\n",
              "    .colab-df-container {\n",
              "      display:flex;\n",
              "      flex-wrap:wrap;\n",
              "      gap: 12px;\n",
              "    }\n",
              "\n",
              "    .colab-df-convert {\n",
              "      background-color: #E8F0FE;\n",
              "      border: none;\n",
              "      border-radius: 50%;\n",
              "      cursor: pointer;\n",
              "      display: none;\n",
              "      fill: #1967D2;\n",
              "      height: 32px;\n",
              "      padding: 0 0 0 0;\n",
              "      width: 32px;\n",
              "    }\n",
              "\n",
              "    .colab-df-convert:hover {\n",
              "      background-color: #E2EBFA;\n",
              "      box-shadow: 0px 1px 2px rgba(60, 64, 67, 0.3), 0px 1px 3px 1px rgba(60, 64, 67, 0.15);\n",
              "      fill: #174EA6;\n",
              "    }\n",
              "\n",
              "    [theme=dark] .colab-df-convert {\n",
              "      background-color: #3B4455;\n",
              "      fill: #D2E3FC;\n",
              "    }\n",
              "\n",
              "    [theme=dark] .colab-df-convert:hover {\n",
              "      background-color: #434B5C;\n",
              "      box-shadow: 0px 1px 3px 1px rgba(0, 0, 0, 0.15);\n",
              "      filter: drop-shadow(0px 1px 2px rgba(0, 0, 0, 0.3));\n",
              "      fill: #FFFFFF;\n",
              "    }\n",
              "  </style>\n",
              "\n",
              "      <script>\n",
              "        const buttonEl =\n",
              "          document.querySelector('#df-88e1e488-4c50-4037-9dee-5e23753e2576 button.colab-df-convert');\n",
              "        buttonEl.style.display =\n",
              "          google.colab.kernel.accessAllowed ? 'block' : 'none';\n",
              "\n",
              "        async function convertToInteractive(key) {\n",
              "          const element = document.querySelector('#df-88e1e488-4c50-4037-9dee-5e23753e2576');\n",
              "          const dataTable =\n",
              "            await google.colab.kernel.invokeFunction('convertToInteractive',\n",
              "                                                     [key], {});\n",
              "          if (!dataTable) return;\n",
              "\n",
              "          const docLinkHtml = 'Like what you see? Visit the ' +\n",
              "            '<a target=\"_blank\" href=https://colab.research.google.com/notebooks/data_table.ipynb>data table notebook</a>'\n",
              "            + ' to learn more about interactive tables.';\n",
              "          element.innerHTML = '';\n",
              "          dataTable['output_type'] = 'display_data';\n",
              "          await google.colab.output.renderOutput(dataTable, element);\n",
              "          const docLink = document.createElement('div');\n",
              "          docLink.innerHTML = docLinkHtml;\n",
              "          element.appendChild(docLink);\n",
              "        }\n",
              "      </script>\n",
              "    </div>\n",
              "  </div>\n",
              "  "
            ]
          },
          "metadata": {},
          "execution_count": 7
        }
      ]
    },
    {
      "cell_type": "code",
      "source": [
        "Counter(df_user.iloc[:, 7:].sum(axis=1))"
      ],
      "metadata": {
        "colab": {
          "base_uri": "https://localhost:8080/"
        },
        "id": "-92CjioUq4Kj",
        "outputId": "cd41c8ff-5087-4d8a-8b18-f355048f2ab8"
      },
      "id": "-92CjioUq4Kj",
      "execution_count": 8,
      "outputs": [
        {
          "output_type": "execute_result",
          "data": {
            "text/plain": [
              "Counter({2.0: 137, 3.0: 205, 4.0: 122, 5.0: 34, 6.0: 2})"
            ]
          },
          "metadata": {},
          "execution_count": 8
        }
      ]
    },
    {
      "cell_type": "code",
      "execution_count": 9,
      "id": "0cbde775",
      "metadata": {
        "id": "0cbde775"
      },
      "outputs": [],
      "source": [
        "import sklearn.preprocessing as skl\n",
        "category = ['Пиво','Картошка', 'Салатик', 'Мороженка', 'cola', 'burger']\n",
        "df_dish = pd.DataFrame(np.eye(6), index = category)"
      ]
    },
    {
      "cell_type": "code",
      "source": [
        "df_dish"
      ],
      "metadata": {
        "colab": {
          "base_uri": "https://localhost:8080/",
          "height": 237
        },
        "id": "7fv_Zbut1BPA",
        "outputId": "08d83b1e-c00a-4123-a729-8e70518dac46"
      },
      "id": "7fv_Zbut1BPA",
      "execution_count": 10,
      "outputs": [
        {
          "output_type": "execute_result",
          "data": {
            "text/plain": [
              "             0    1    2    3    4    5\n",
              "Пиво       1.0  0.0  0.0  0.0  0.0  0.0\n",
              "Картошка   0.0  1.0  0.0  0.0  0.0  0.0\n",
              "Салатик    0.0  0.0  1.0  0.0  0.0  0.0\n",
              "Мороженка  0.0  0.0  0.0  1.0  0.0  0.0\n",
              "cola       0.0  0.0  0.0  0.0  1.0  0.0\n",
              "burger     0.0  0.0  0.0  0.0  0.0  1.0"
            ],
            "text/html": [
              "\n",
              "  <div id=\"df-e6abf518-523b-442c-aeae-80fccb10dca9\">\n",
              "    <div class=\"colab-df-container\">\n",
              "      <div>\n",
              "<style scoped>\n",
              "    .dataframe tbody tr th:only-of-type {\n",
              "        vertical-align: middle;\n",
              "    }\n",
              "\n",
              "    .dataframe tbody tr th {\n",
              "        vertical-align: top;\n",
              "    }\n",
              "\n",
              "    .dataframe thead th {\n",
              "        text-align: right;\n",
              "    }\n",
              "</style>\n",
              "<table border=\"1\" class=\"dataframe\">\n",
              "  <thead>\n",
              "    <tr style=\"text-align: right;\">\n",
              "      <th></th>\n",
              "      <th>0</th>\n",
              "      <th>1</th>\n",
              "      <th>2</th>\n",
              "      <th>3</th>\n",
              "      <th>4</th>\n",
              "      <th>5</th>\n",
              "    </tr>\n",
              "  </thead>\n",
              "  <tbody>\n",
              "    <tr>\n",
              "      <th>Пиво</th>\n",
              "      <td>1.0</td>\n",
              "      <td>0.0</td>\n",
              "      <td>0.0</td>\n",
              "      <td>0.0</td>\n",
              "      <td>0.0</td>\n",
              "      <td>0.0</td>\n",
              "    </tr>\n",
              "    <tr>\n",
              "      <th>Картошка</th>\n",
              "      <td>0.0</td>\n",
              "      <td>1.0</td>\n",
              "      <td>0.0</td>\n",
              "      <td>0.0</td>\n",
              "      <td>0.0</td>\n",
              "      <td>0.0</td>\n",
              "    </tr>\n",
              "    <tr>\n",
              "      <th>Салатик</th>\n",
              "      <td>0.0</td>\n",
              "      <td>0.0</td>\n",
              "      <td>1.0</td>\n",
              "      <td>0.0</td>\n",
              "      <td>0.0</td>\n",
              "      <td>0.0</td>\n",
              "    </tr>\n",
              "    <tr>\n",
              "      <th>Мороженка</th>\n",
              "      <td>0.0</td>\n",
              "      <td>0.0</td>\n",
              "      <td>0.0</td>\n",
              "      <td>1.0</td>\n",
              "      <td>0.0</td>\n",
              "      <td>0.0</td>\n",
              "    </tr>\n",
              "    <tr>\n",
              "      <th>cola</th>\n",
              "      <td>0.0</td>\n",
              "      <td>0.0</td>\n",
              "      <td>0.0</td>\n",
              "      <td>0.0</td>\n",
              "      <td>1.0</td>\n",
              "      <td>0.0</td>\n",
              "    </tr>\n",
              "    <tr>\n",
              "      <th>burger</th>\n",
              "      <td>0.0</td>\n",
              "      <td>0.0</td>\n",
              "      <td>0.0</td>\n",
              "      <td>0.0</td>\n",
              "      <td>0.0</td>\n",
              "      <td>1.0</td>\n",
              "    </tr>\n",
              "  </tbody>\n",
              "</table>\n",
              "</div>\n",
              "      <button class=\"colab-df-convert\" onclick=\"convertToInteractive('df-e6abf518-523b-442c-aeae-80fccb10dca9')\"\n",
              "              title=\"Convert this dataframe to an interactive table.\"\n",
              "              style=\"display:none;\">\n",
              "        \n",
              "  <svg xmlns=\"http://www.w3.org/2000/svg\" height=\"24px\"viewBox=\"0 0 24 24\"\n",
              "       width=\"24px\">\n",
              "    <path d=\"M0 0h24v24H0V0z\" fill=\"none\"/>\n",
              "    <path d=\"M18.56 5.44l.94 2.06.94-2.06 2.06-.94-2.06-.94-.94-2.06-.94 2.06-2.06.94zm-11 1L8.5 8.5l.94-2.06 2.06-.94-2.06-.94L8.5 2.5l-.94 2.06-2.06.94zm10 10l.94 2.06.94-2.06 2.06-.94-2.06-.94-.94-2.06-.94 2.06-2.06.94z\"/><path d=\"M17.41 7.96l-1.37-1.37c-.4-.4-.92-.59-1.43-.59-.52 0-1.04.2-1.43.59L10.3 9.45l-7.72 7.72c-.78.78-.78 2.05 0 2.83L4 21.41c.39.39.9.59 1.41.59.51 0 1.02-.2 1.41-.59l7.78-7.78 2.81-2.81c.8-.78.8-2.07 0-2.86zM5.41 20L4 18.59l7.72-7.72 1.47 1.35L5.41 20z\"/>\n",
              "  </svg>\n",
              "      </button>\n",
              "      \n",
              "  <style>\n",
              "    .colab-df-container {\n",
              "      display:flex;\n",
              "      flex-wrap:wrap;\n",
              "      gap: 12px;\n",
              "    }\n",
              "\n",
              "    .colab-df-convert {\n",
              "      background-color: #E8F0FE;\n",
              "      border: none;\n",
              "      border-radius: 50%;\n",
              "      cursor: pointer;\n",
              "      display: none;\n",
              "      fill: #1967D2;\n",
              "      height: 32px;\n",
              "      padding: 0 0 0 0;\n",
              "      width: 32px;\n",
              "    }\n",
              "\n",
              "    .colab-df-convert:hover {\n",
              "      background-color: #E2EBFA;\n",
              "      box-shadow: 0px 1px 2px rgba(60, 64, 67, 0.3), 0px 1px 3px 1px rgba(60, 64, 67, 0.15);\n",
              "      fill: #174EA6;\n",
              "    }\n",
              "\n",
              "    [theme=dark] .colab-df-convert {\n",
              "      background-color: #3B4455;\n",
              "      fill: #D2E3FC;\n",
              "    }\n",
              "\n",
              "    [theme=dark] .colab-df-convert:hover {\n",
              "      background-color: #434B5C;\n",
              "      box-shadow: 0px 1px 3px 1px rgba(0, 0, 0, 0.15);\n",
              "      filter: drop-shadow(0px 1px 2px rgba(0, 0, 0, 0.3));\n",
              "      fill: #FFFFFF;\n",
              "    }\n",
              "  </style>\n",
              "\n",
              "      <script>\n",
              "        const buttonEl =\n",
              "          document.querySelector('#df-e6abf518-523b-442c-aeae-80fccb10dca9 button.colab-df-convert');\n",
              "        buttonEl.style.display =\n",
              "          google.colab.kernel.accessAllowed ? 'block' : 'none';\n",
              "\n",
              "        async function convertToInteractive(key) {\n",
              "          const element = document.querySelector('#df-e6abf518-523b-442c-aeae-80fccb10dca9');\n",
              "          const dataTable =\n",
              "            await google.colab.kernel.invokeFunction('convertToInteractive',\n",
              "                                                     [key], {});\n",
              "          if (!dataTable) return;\n",
              "\n",
              "          const docLinkHtml = 'Like what you see? Visit the ' +\n",
              "            '<a target=\"_blank\" href=https://colab.research.google.com/notebooks/data_table.ipynb>data table notebook</a>'\n",
              "            + ' to learn more about interactive tables.';\n",
              "          element.innerHTML = '';\n",
              "          dataTable['output_type'] = 'display_data';\n",
              "          await google.colab.output.renderOutput(dataTable, element);\n",
              "          const docLink = document.createElement('div');\n",
              "          docLink.innerHTML = docLinkHtml;\n",
              "          element.appendChild(docLink);\n",
              "        }\n",
              "      </script>\n",
              "    </div>\n",
              "  </div>\n",
              "  "
            ]
          },
          "metadata": {},
          "execution_count": 10
        }
      ]
    },
    {
      "cell_type": "code",
      "source": [
        ""
      ],
      "metadata": {
        "id": "ciARxWgK6Iv6"
      },
      "id": "ciARxWgK6Iv6",
      "execution_count": 10,
      "outputs": []
    },
    {
      "cell_type": "code",
      "source": [
        "df_user.iloc[:, :7].values"
      ],
      "metadata": {
        "colab": {
          "base_uri": "https://localhost:8080/"
        },
        "id": "lH3Qfs7i6I2_",
        "outputId": "2aa0ea09-67dc-4685-f669-4277717f0de7"
      },
      "id": "lH3Qfs7i6I2_",
      "execution_count": 11,
      "outputs": [
        {
          "output_type": "execute_result",
          "data": {
            "text/plain": [
              "array([[0.        , 0.00722458, 0.7969081 , ..., 1.97151327, 0.45348117,\n",
              "        1.97151327],\n",
              "       [0.        , 0.0868028 , 0.66820598, ..., 1.70415002, 0.18148789,\n",
              "        1.70415002],\n",
              "       [0.        , 0.24781492, 0.45711529, ..., 1.33722928, 0.30779024,\n",
              "        1.33722928],\n",
              "       ...,\n",
              "       [0.        , 0.65480363, 0.49554217, ..., 0.86594809, 0.72301704,\n",
              "        0.86594809],\n",
              "       [0.        , 0.1746719 , 0.348316  , ..., 1.48220195, 0.62026531,\n",
              "        1.48220195],\n",
              "       [1.        , 0.56144144, 0.41866355, ..., 0.94211509, 0.32127567,\n",
              "        0.94211509]])"
            ]
          },
          "metadata": {},
          "execution_count": 11
        }
      ]
    },
    {
      "cell_type": "code",
      "source": [
        "df_user.iloc[:, 7:] = df_user.iloc[:, 7:].astype(int) "
      ],
      "metadata": {
        "id": "MgjCby_T6o5D"
      },
      "id": "MgjCby_T6o5D",
      "execution_count": 12,
      "outputs": []
    },
    {
      "cell_type": "code",
      "execution_count": 13,
      "id": "1109aec8",
      "metadata": {
        "id": "1109aec8"
      },
      "outputs": [],
      "source": [
        "data = HeteroData()\n",
        "data['user'].x = torch.from_numpy(df_user.iloc[:, 1:7].values)\n",
        "data['dish'].x = torch.from_numpy(df_dish.values).float()\n",
        "data['user'].y = torch.from_numpy(df_user.iloc[:, 7:].values)\n",
        "#data['dish'].y = torch.from_numpy(df_dish.iloc[:, :6].values)"
      ]
    },
    {
      "cell_type": "code",
      "source": [
        "data['dish']"
      ],
      "metadata": {
        "colab": {
          "base_uri": "https://localhost:8080/"
        },
        "id": "TuAu2uJvlfjb",
        "outputId": "43f1a80c-866a-4e59-d078-1541d50855eb"
      },
      "id": "TuAu2uJvlfjb",
      "execution_count": 14,
      "outputs": [
        {
          "output_type": "execute_result",
          "data": {
            "text/plain": [
              "{'x': tensor([[1., 0., 0., 0., 0., 0.],\n",
              "        [0., 1., 0., 0., 0., 0.],\n",
              "        [0., 0., 1., 0., 0., 0.],\n",
              "        [0., 0., 0., 1., 0., 0.],\n",
              "        [0., 0., 0., 0., 1., 0.],\n",
              "        [0., 0., 0., 0., 0., 1.]])}"
            ]
          },
          "metadata": {},
          "execution_count": 14
        }
      ]
    },
    {
      "cell_type": "code",
      "source": [
        "torch_buy_pivo = torch.stack((torch.from_numpy(df_user[df_user.pivo_buy == 1].index.values) , \n",
        "                              torch.from_numpy(np.zeros(len(df_user[df_user.pivo_buy == 1].index))) ))"
      ],
      "metadata": {
        "id": "ZwKvoF2-Q2kl"
      },
      "id": "ZwKvoF2-Q2kl",
      "execution_count": 15,
      "outputs": []
    },
    {
      "cell_type": "code",
      "source": [
        "torch_buy_kartoshka = torch.stack((torch.from_numpy(df_user[df_user.kartoshka_buy == 1].index.values) , \n",
        "                                  torch.from_numpy(np.ones(len(df_user[df_user.kartoshka_buy == 1].index))) ))\n",
        "torch_buy_salatic = torch.stack((torch.from_numpy(df_user[df_user.salatic_buy == 1].index.values) , \n",
        "                                  torch.from_numpy(np.ones(len(df_user[df_user.salatic_buy == 1].index))*2) ))\n",
        "torch_buy_morozenka = torch.stack((torch.from_numpy(df_user[df_user.morozenka_buy == 1].index.values) , \n",
        "                                  torch.from_numpy(np.ones(len(df_user[df_user.morozenka_buy == 1].index))*3) ))\n",
        "torch_buy_cola = torch.stack((torch.from_numpy(df_user[df_user.cola_buy == 1].index.values) , \n",
        "                                  torch.from_numpy(np.ones(len(df_user[df_user.cola_buy == 1].index))*4) ))\n",
        "torch_buy_burger = torch.stack((torch.from_numpy(df_user[df_user.burger_buy == 1].index.values) , \n",
        "                                  torch.from_numpy(np.ones(len(df_user[df_user.burger_buy == 1].index))*5) ))"
      ],
      "metadata": {
        "id": "TuFaJvi2R_93"
      },
      "id": "TuFaJvi2R_93",
      "execution_count": 16,
      "outputs": []
    },
    {
      "cell_type": "code",
      "source": [
        "data['user', 'buys', 'dish'].edge_index = torch.cat((torch_buy_pivo, torch_buy_kartoshka, torch_buy_salatic,\n",
        "                                                     torch_buy_morozenka, torch_buy_cola, torch_buy_burger), axis=1)"
      ],
      "metadata": {
        "id": "d2uFXu9NS788"
      },
      "id": "d2uFXu9NS788",
      "execution_count": 17,
      "outputs": []
    },
    {
      "cell_type": "code",
      "source": [
        "data['user'].x = data['user'].x.float()"
      ],
      "metadata": {
        "id": "PAfMWVq9qMd3"
      },
      "id": "PAfMWVq9qMd3",
      "execution_count": 18,
      "outputs": []
    },
    {
      "cell_type": "code",
      "source": [
        "data['user'].x.type()"
      ],
      "metadata": {
        "colab": {
          "base_uri": "https://localhost:8080/",
          "height": 35
        },
        "id": "OYuz_DkCqfuO",
        "outputId": "7c73259e-66a1-4c26-a354-a37d2f9b44f4"
      },
      "id": "OYuz_DkCqfuO",
      "execution_count": 19,
      "outputs": [
        {
          "output_type": "execute_result",
          "data": {
            "text/plain": [
              "'torch.FloatTensor'"
            ],
            "application/vnd.google.colaboratory.intrinsic+json": {
              "type": "string"
            }
          },
          "metadata": {},
          "execution_count": 19
        }
      ]
    },
    {
      "cell_type": "code",
      "source": [
        "data['buys'].edge_index = data['buys'].edge_index.type(torch.LongTensor)"
      ],
      "metadata": {
        "id": "23gtO1UDqiac"
      },
      "id": "23gtO1UDqiac",
      "execution_count": 20,
      "outputs": []
    },
    {
      "cell_type": "code",
      "source": [
        "data = T.ToUndirected()(data)"
      ],
      "metadata": {
        "id": "5fP8tp4tMESv"
      },
      "id": "5fP8tp4tMESv",
      "execution_count": 21,
      "outputs": []
    },
    {
      "cell_type": "markdown",
      "id": "093fdbb5",
      "metadata": {
        "id": "093fdbb5"
      },
      "source": [
        "## Гомограф"
      ]
    },
    {
      "cell_type": "code",
      "source": [
        "data"
      ],
      "metadata": {
        "colab": {
          "base_uri": "https://localhost:8080/"
        },
        "id": "dNP2sXpWYEYR",
        "outputId": "1a16011d-ed10-43d2-e729-98025b56bc81"
      },
      "id": "dNP2sXpWYEYR",
      "execution_count": null,
      "outputs": [
        {
          "output_type": "execute_result",
          "data": {
            "text/plain": [
              "HeteroData(\n",
              "  \u001b[1muser\u001b[0m={\n",
              "    x=[500, 6],\n",
              "    y=[500, 6]\n",
              "  },\n",
              "  \u001b[1mdish\u001b[0m={ x=[6, 6] },\n",
              "  \u001b[1m(user, buys, dish)\u001b[0m={ edge_index=[2, 1491] },\n",
              "  \u001b[1m(dish, rev_buys, user)\u001b[0m={ edge_index=[2, 1491] }\n",
              ")"
            ]
          },
          "metadata": {},
          "execution_count": 186
        }
      ]
    },
    {
      "cell_type": "code",
      "source": [
        "homogeneous_data = data.to_homogeneous()\n",
        "homogeneous_data.x = homogeneous_data.x.float()"
      ],
      "metadata": {
        "id": "nO-fI0Pm7VCS"
      },
      "id": "nO-fI0Pm7VCS",
      "execution_count": null,
      "outputs": []
    },
    {
      "cell_type": "code",
      "source": [
        "data"
      ],
      "metadata": {
        "colab": {
          "base_uri": "https://localhost:8080/"
        },
        "id": "mHqxndDq7c7f",
        "outputId": "4ef98e05-dbd2-4630-c148-7c63c8822024"
      },
      "id": "mHqxndDq7c7f",
      "execution_count": null,
      "outputs": [
        {
          "output_type": "execute_result",
          "data": {
            "text/plain": [
              "HeteroData(\n",
              "  \u001b[1muser\u001b[0m={\n",
              "    x=[500, 6],\n",
              "    y=[500, 6]\n",
              "  },\n",
              "  \u001b[1mdish\u001b[0m={\n",
              "    x=[6, 6],\n",
              "    y=[6, 6]\n",
              "  },\n",
              "  \u001b[1m(user, buys, dish)\u001b[0m={ edge_index=[2, 1521] },\n",
              "  \u001b[1m(dish, rev_buys, user)\u001b[0m={ edge_index=[2, 1521] }\n",
              ")"
            ]
          },
          "metadata": {},
          "execution_count": 124
        }
      ]
    },
    {
      "cell_type": "code",
      "source": [
        "homogeneous_data"
      ],
      "metadata": {
        "colab": {
          "base_uri": "https://localhost:8080/"
        },
        "id": "5In7FDma9MIv",
        "outputId": "134ab33b-bdb8-4830-a4fb-dddc3f131271"
      },
      "id": "5In7FDma9MIv",
      "execution_count": null,
      "outputs": [
        {
          "output_type": "execute_result",
          "data": {
            "text/plain": [
              "Data(node_type=[506], x=[506, 6], y=[506, 6], edge_index=[2, 3042], edge_type=[3042])"
            ]
          },
          "metadata": {},
          "execution_count": 125
        }
      ]
    },
    {
      "cell_type": "code",
      "source": [
        ""
      ],
      "metadata": {
        "id": "uk4T3V1PCVc7"
      },
      "id": "uk4T3V1PCVc7",
      "execution_count": null,
      "outputs": []
    },
    {
      "cell_type": "code",
      "execution_count": null,
      "id": "169914e0",
      "metadata": {
        "id": "169914e0"
      },
      "outputs": [],
      "source": [
        "class NeighborSampler(RawNeighborSampler):\n",
        "    def sample(self, batch):\n",
        "        batch = torch.tensor(batch)\n",
        "        # print(batch)\n",
        "        # print(np.array(self.adj_t).shape)\n",
        "        row, col, _ = self.adj_t.coo()\n",
        "\n",
        "        # For each node in `batch`, we sample a direct neighbor (as positive\n",
        "        # example) and a random node (as negative example):\n",
        "        pos_batch = random_walk(row, col, batch, walk_length=1,\n",
        "                                coalesced=False)[:, 1]\n",
        "        # print(pos_batch)\n",
        "\n",
        "        neg_batch = torch.randint(0, self.adj_t.size(1), (batch.numel(), ),\n",
        "                                  dtype=torch.long)\n",
        "        # print(neg_batch)\n",
        "\n",
        "        batch = torch.cat([batch, pos_batch, neg_batch], dim=0)\n",
        "        return super(NeighborSampler, self).sample(batch)\n"
      ]
    },
    {
      "cell_type": "code",
      "source": [
        "hetero_data = data"
      ],
      "metadata": {
        "id": "MS_maGh2Ycwj"
      },
      "id": "MS_maGh2Ycwj",
      "execution_count": null,
      "outputs": []
    },
    {
      "cell_type": "code",
      "source": [
        "hetero_data"
      ],
      "metadata": {
        "colab": {
          "base_uri": "https://localhost:8080/"
        },
        "id": "ZSJ_Y_g1YiX7",
        "outputId": "dddbebff-b5ac-4f8e-c9e4-71fdd1806637"
      },
      "id": "ZSJ_Y_g1YiX7",
      "execution_count": null,
      "outputs": [
        {
          "output_type": "execute_result",
          "data": {
            "text/plain": [
              "HeteroData(\n",
              "  \u001b[1muser\u001b[0m={\n",
              "    x=[500, 6],\n",
              "    y=[500, 6]\n",
              "  },\n",
              "  \u001b[1mdish\u001b[0m={ x=[6, 6] },\n",
              "  \u001b[1m(user, buys, dish)\u001b[0m={ edge_index=[2, 1491] },\n",
              "  \u001b[1m(dish, rev_buys, user)\u001b[0m={ edge_index=[2, 1491] }\n",
              ")"
            ]
          },
          "metadata": {},
          "execution_count": 189
        }
      ]
    },
    {
      "cell_type": "code",
      "source": [
        "#data = homogeneous_data"
      ],
      "metadata": {
        "id": "KyLptpVpkeEj"
      },
      "id": "KyLptpVpkeEj",
      "execution_count": null,
      "outputs": []
    },
    {
      "cell_type": "code",
      "execution_count": 259,
      "id": "ed0fdbd6",
      "metadata": {
        "id": "ed0fdbd6"
      },
      "outputs": [],
      "source": [
        "train_loader = NeighborSampler(homogeneous_data.edge_index, sizes=[1, 1], batch_size=1,\n",
        "                               shuffle=True, num_nodes=data.num_nodes)"
      ]
    },
    {
      "cell_type": "code",
      "source": [
        "from torch_geometric.loader import NeighborLoader\n",
        "n_neigh = 1\n",
        "loader = NeighborLoader(\n",
        "    hetero_data,\n",
        "    # Sample n_neigh neighbors for each node and edge type for 2 iterations\n",
        "    num_neighbors={key: [n_neigh] * 2 for key in hetero_data.edge_types},\n",
        "    # Use a batch size of 128 for sampling training nodes of type paper\n",
        "    batch_size=1,\n",
        "    input_nodes=('user'),\n",
        ")"
      ],
      "metadata": {
        "id": "UpCKYkP6YXlt"
      },
      "id": "UpCKYkP6YXlt",
      "execution_count": null,
      "outputs": []
    },
    {
      "cell_type": "code",
      "source": [
        "hetero_data.edge_types"
      ],
      "metadata": {
        "colab": {
          "base_uri": "https://localhost:8080/"
        },
        "id": "zc7J3P2n0wqG",
        "outputId": "d4aca122-a73b-43fc-fd44-c25b54a21975"
      },
      "id": "zc7J3P2n0wqG",
      "execution_count": null,
      "outputs": [
        {
          "output_type": "execute_result",
          "data": {
            "text/plain": [
              "[('user', 'buys', 'dish'), ('dish', 'rev_buys', 'user')]"
            ]
          },
          "metadata": {},
          "execution_count": 211
        }
      ]
    },
    {
      "cell_type": "code",
      "source": [
        "iterator = iter(loader)"
      ],
      "metadata": {
        "id": "oWd74hFfYzfg"
      },
      "id": "oWd74hFfYzfg",
      "execution_count": null,
      "outputs": []
    },
    {
      "cell_type": "code",
      "source": [
        "next(iterator)"
      ],
      "metadata": {
        "colab": {
          "base_uri": "https://localhost:8080/"
        },
        "id": "DrTmmMnqY3Nk",
        "outputId": "bbc59ca2-944b-43b0-c9ac-385f3a1f0ae7"
      },
      "id": "DrTmmMnqY3Nk",
      "execution_count": null,
      "outputs": [
        {
          "output_type": "execute_result",
          "data": {
            "text/plain": [
              "HeteroData(\n",
              "  \u001b[1muser\u001b[0m={\n",
              "    x=[2, 6],\n",
              "    y=[2, 6],\n",
              "    batch_size=1\n",
              "  },\n",
              "  \u001b[1mdish\u001b[0m={ x=[1, 6] },\n",
              "  \u001b[1m(user, buys, dish)\u001b[0m={ edge_index=[2, 1] },\n",
              "  \u001b[1m(dish, rev_buys, user)\u001b[0m={ edge_index=[2, 1] }\n",
              ")"
            ]
          },
          "metadata": {},
          "execution_count": 213
        }
      ]
    },
    {
      "cell_type": "code",
      "execution_count": null,
      "id": "8a32bbca",
      "metadata": {
        "id": "8a32bbca"
      },
      "outputs": [],
      "source": [
        "class SAGE(nn.Module):\n",
        "    def __init__(self, in_channels, hidden_channels, num_layers):\n",
        "        super(SAGE, self).__init__()\n",
        "        self.num_layers = num_layers\n",
        "        self.convs = nn.ModuleList()\n",
        "        \n",
        "        for i in range(num_layers):\n",
        "            in_channels = in_channels if i == 0 else hidden_channels\n",
        "            self.convs.append(SAGEConv(in_channels, hidden_channels))\n",
        "\n",
        "    def forward(self, x, adjs):\n",
        "        for i, (edge_index, _, size) in enumerate(adjs):\n",
        "            x_target = x[:size[1]]  # Target nodes are always placed first.\n",
        "            #print(x, x_target)\n",
        "            x = self.convs[i]((x, x_target), edge_index)\n",
        "            if i != self.num_layers - 1:\n",
        "                x = x.relu()\n",
        "                x = F.dropout(x, p=0.5, training=self.training)\n",
        "        return x\n",
        "\n",
        "    def full_forward(self, x, edge_index):\n",
        "        for i, conv in enumerate(self.convs):\n",
        "            x = conv(x, edge_index)\n",
        "            if i != self.num_layers - 1:\n",
        "                x = x.relu()\n",
        "                x = F.dropout(x, p=0.5, training=self.training)\n",
        "        return x"
      ]
    },
    {
      "cell_type": "code",
      "source": [
        "data"
      ],
      "metadata": {
        "colab": {
          "base_uri": "https://localhost:8080/"
        },
        "id": "SC9QQddaBHgi",
        "outputId": "819f6097-82ba-4f36-bcea-433f393882d3"
      },
      "id": "SC9QQddaBHgi",
      "execution_count": 216,
      "outputs": [
        {
          "output_type": "execute_result",
          "data": {
            "text/plain": [
              "HeteroData(\n",
              "  \u001b[1muser\u001b[0m={\n",
              "    x=[500, 6],\n",
              "    y=[500, 6]\n",
              "  },\n",
              "  \u001b[1mdish\u001b[0m={ x=[6, 6] },\n",
              "  \u001b[1m(user, buys, dish)\u001b[0m={ edge_index=[2, 1491] },\n",
              "  \u001b[1m(dish, rev_buys, user)\u001b[0m={ edge_index=[2, 1491] }\n",
              ")"
            ]
          },
          "metadata": {},
          "execution_count": 216
        }
      ]
    },
    {
      "cell_type": "code",
      "execution_count": null,
      "id": "4d3169cc",
      "metadata": {
        "id": "4d3169cc",
        "colab": {
          "base_uri": "https://localhost:8080/",
          "height": 357
        },
        "outputId": "eace84f9-c9f9-4823-b641-f90c31b13ca5"
      },
      "outputs": [
        {
          "output_type": "error",
          "ename": "AttributeError",
          "evalue": "ignored",
          "traceback": [
            "\u001b[0;31m---------------------------------------------------------------------------\u001b[0m",
            "\u001b[0;31mAttributeError\u001b[0m                            Traceback (most recent call last)",
            "\u001b[0;32m<ipython-input-215-c11d5406d8e4>\u001b[0m in \u001b[0;36m<module>\u001b[0;34m()\u001b[0m\n\u001b[1;32m      1\u001b[0m \u001b[0mdevice\u001b[0m \u001b[0;34m=\u001b[0m \u001b[0mtorch\u001b[0m\u001b[0;34m.\u001b[0m\u001b[0mdevice\u001b[0m\u001b[0;34m(\u001b[0m\u001b[0;34m'cuda'\u001b[0m \u001b[0;32mif\u001b[0m \u001b[0mtorch\u001b[0m\u001b[0;34m.\u001b[0m\u001b[0mcuda\u001b[0m\u001b[0;34m.\u001b[0m\u001b[0mis_available\u001b[0m\u001b[0;34m(\u001b[0m\u001b[0;34m)\u001b[0m \u001b[0;32melse\u001b[0m \u001b[0;34m'cpu'\u001b[0m\u001b[0;34m)\u001b[0m\u001b[0;34m\u001b[0m\u001b[0;34m\u001b[0m\u001b[0m\n\u001b[0;32m----> 2\u001b[0;31m \u001b[0mmodel\u001b[0m \u001b[0;34m=\u001b[0m \u001b[0mSAGE\u001b[0m\u001b[0;34m(\u001b[0m\u001b[0mdata\u001b[0m\u001b[0;34m.\u001b[0m\u001b[0mnum_node_features\u001b[0m\u001b[0;34m,\u001b[0m \u001b[0mhidden_channels\u001b[0m\u001b[0;34m=\u001b[0m\u001b[0;36m64\u001b[0m\u001b[0;34m,\u001b[0m \u001b[0mnum_layers\u001b[0m\u001b[0;34m=\u001b[0m\u001b[0;36m2\u001b[0m\u001b[0;34m)\u001b[0m\u001b[0;34m\u001b[0m\u001b[0;34m\u001b[0m\u001b[0m\n\u001b[0m\u001b[1;32m      3\u001b[0m \u001b[0mmodel\u001b[0m \u001b[0;34m=\u001b[0m \u001b[0mmodel\u001b[0m\u001b[0;34m.\u001b[0m\u001b[0mto\u001b[0m\u001b[0;34m(\u001b[0m\u001b[0mdevice\u001b[0m\u001b[0;34m)\u001b[0m\u001b[0;34m\u001b[0m\u001b[0;34m\u001b[0m\u001b[0m\n\u001b[1;32m      4\u001b[0m \u001b[0moptimizer\u001b[0m \u001b[0;34m=\u001b[0m \u001b[0mtorch\u001b[0m\u001b[0;34m.\u001b[0m\u001b[0moptim\u001b[0m\u001b[0;34m.\u001b[0m\u001b[0mAdam\u001b[0m\u001b[0;34m(\u001b[0m\u001b[0mmodel\u001b[0m\u001b[0;34m.\u001b[0m\u001b[0mparameters\u001b[0m\u001b[0;34m(\u001b[0m\u001b[0;34m)\u001b[0m\u001b[0;34m,\u001b[0m \u001b[0mlr\u001b[0m\u001b[0;34m=\u001b[0m\u001b[0;36m0.01\u001b[0m\u001b[0;34m)\u001b[0m\u001b[0;34m\u001b[0m\u001b[0;34m\u001b[0m\u001b[0m\n\u001b[1;32m      5\u001b[0m \u001b[0mx\u001b[0m\u001b[0;34m,\u001b[0m \u001b[0medge_index\u001b[0m \u001b[0;34m=\u001b[0m \u001b[0mdata\u001b[0m\u001b[0;34m.\u001b[0m\u001b[0mx\u001b[0m\u001b[0;34m.\u001b[0m\u001b[0mto\u001b[0m\u001b[0;34m(\u001b[0m\u001b[0mdevice\u001b[0m\u001b[0;34m)\u001b[0m\u001b[0;34m,\u001b[0m \u001b[0mdata\u001b[0m\u001b[0;34m.\u001b[0m\u001b[0medge_index\u001b[0m\u001b[0;34m.\u001b[0m\u001b[0mto\u001b[0m\u001b[0;34m(\u001b[0m\u001b[0mdevice\u001b[0m\u001b[0;34m)\u001b[0m\u001b[0;34m\u001b[0m\u001b[0;34m\u001b[0m\u001b[0m\n",
            "\u001b[0;32m/usr/local/lib/python3.7/dist-packages/torch_geometric/data/hetero_data.py\u001b[0m in \u001b[0;36m__getattr__\u001b[0;34m(self, key)\u001b[0m\n\u001b[1;32m    114\u001b[0m         \u001b[0;32melif\u001b[0m \u001b[0mbool\u001b[0m\u001b[0;34m(\u001b[0m\u001b[0mre\u001b[0m\u001b[0;34m.\u001b[0m\u001b[0msearch\u001b[0m\u001b[0;34m(\u001b[0m\u001b[0;34m'_dict$'\u001b[0m\u001b[0;34m,\u001b[0m \u001b[0mkey\u001b[0m\u001b[0;34m)\u001b[0m\u001b[0;34m)\u001b[0m\u001b[0;34m:\u001b[0m\u001b[0;34m\u001b[0m\u001b[0;34m\u001b[0m\u001b[0m\n\u001b[1;32m    115\u001b[0m             \u001b[0;32mreturn\u001b[0m \u001b[0mself\u001b[0m\u001b[0;34m.\u001b[0m\u001b[0mcollect\u001b[0m\u001b[0;34m(\u001b[0m\u001b[0mkey\u001b[0m\u001b[0;34m[\u001b[0m\u001b[0;34m:\u001b[0m\u001b[0;34m-\u001b[0m\u001b[0;36m5\u001b[0m\u001b[0;34m]\u001b[0m\u001b[0;34m)\u001b[0m\u001b[0;34m\u001b[0m\u001b[0;34m\u001b[0m\u001b[0m\n\u001b[0;32m--> 116\u001b[0;31m         raise AttributeError(f\"'{self.__class__.__name__}' has no \"\n\u001b[0m\u001b[1;32m    117\u001b[0m                              f\"attribute '{key}'\")\n\u001b[1;32m    118\u001b[0m \u001b[0;34m\u001b[0m\u001b[0m\n",
            "\u001b[0;31mAttributeError\u001b[0m: 'HeteroData' has no attribute 'num_node_features'"
          ]
        }
      ],
      "source": [
        "device = torch.device('cuda' if torch.cuda.is_available() else 'cpu')\n",
        "model = SAGE(data.num_node_features, hidden_channels=64, num_layers=2)\n",
        "model = model.to(device)\n",
        "optimizer = torch.optim.Adam(model.parameters(), lr=0.01)\n",
        "x, edge_index = data.x.to(device), data.edge_index.to(device)"
      ]
    },
    {
      "cell_type": "code",
      "source": [
        "model.train()\n",
        "\n",
        "total_loss = 0\n",
        "for batch_size, n_id, adjs in train_loader:\n",
        "    # `adjs` holds a list of `(edge_index, e_id, size)` tuples.\n",
        "    adjs = [adj.to(device) for adj in adjs]\n",
        "    optimizer.zero_grad()\n",
        "\n",
        "    out = model(x[n_id], adjs)\n",
        "    out, pos_out, neg_out = out.split(out.size(0) // 3, dim=0)\n",
        "\n",
        "    pos_loss = F.logsigmoid((out * pos_out).sum(-1)).mean()\n",
        "    neg_loss = F.logsigmoid(-(out * neg_out).sum(-1)).mean()\n",
        "    loss = -pos_loss - neg_loss\n",
        "    loss.backward()\n",
        "    optimizer.step()\n",
        "\n",
        "    total_loss += float(loss) * out.size(0)\n",
        "    #break"
      ],
      "metadata": {
        "id": "F2NZcp-Npujk"
      },
      "id": "F2NZcp-Npujk",
      "execution_count": null,
      "outputs": []
    },
    {
      "cell_type": "code",
      "execution_count": null,
      "id": "3b5d6e7e",
      "metadata": {
        "id": "3b5d6e7e"
      },
      "outputs": [],
      "source": [
        "def train():\n",
        "    model.train()\n",
        "\n",
        "    total_loss = 0\n",
        "    for batch_size, n_id, adjs in train_loader:\n",
        "        # `adjs` holds a list of `(edge_index, e_id, size)` tuples.\n",
        "        adjs = [adj.to(device) for adj in adjs]\n",
        "        optimizer.zero_grad()\n",
        "\n",
        "        out = model(x[n_id], adjs)\n",
        "        out, pos_out, neg_out = out.split(out.size(0) // 3, dim=0)\n",
        "\n",
        "        pos_loss = F.logsigmoid((out * pos_out).sum(-1)).mean()\n",
        "        neg_loss = F.logsigmoid(-(out * neg_out).sum(-1)).mean()\n",
        "        loss = -pos_loss - neg_loss\n",
        "        loss.backward()\n",
        "        optimizer.step()\n",
        "\n",
        "        total_loss += float(loss) * out.size(0)\n",
        "\n",
        "    return total_loss / data.num_nodes"
      ]
    },
    {
      "cell_type": "code",
      "execution_count": null,
      "id": "9ce8df08",
      "metadata": {
        "id": "9ce8df08"
      },
      "outputs": [],
      "source": [
        "@torch.no_grad()\n",
        "def test():\n",
        "    model.eval()\n",
        "    out = model.full_forward(x, edge_index).cpu()\n",
        "\n",
        "    clf = LogisticRegression()\n",
        "    clf.fit(out[data.train_mask], data.y[data.train_mask])\n",
        "\n",
        "    val_acc = clf.score(out[data.val_mask], data.y[data.val_mask])\n",
        "    test_acc = clf.score(out[data.test_mask], data.y[data.test_mask])\n",
        "\n",
        "    return val_acc, test_acc"
      ]
    },
    {
      "cell_type": "code",
      "execution_count": null,
      "id": "519fbca4",
      "metadata": {
        "colab": {
          "base_uri": "https://localhost:8080/"
        },
        "id": "519fbca4",
        "outputId": "38b58b0e-f6fe-4a31-acc8-ca4558e69f70"
      },
      "outputs": [
        {
          "output_type": "stream",
          "name": "stdout",
          "text": [
            "Epoch: 001, Loss: 3.9374, \n",
            "Epoch: 002, Loss: 1.9053, \n",
            "Epoch: 003, Loss: 2.5082, \n",
            "Epoch: 004, Loss: 1.2902, \n",
            "Epoch: 005, Loss: 1.6550, \n",
            "Epoch: 006, Loss: 1.3754, \n",
            "Epoch: 007, Loss: 1.0893, \n",
            "Epoch: 008, Loss: 1.1739, \n",
            "Epoch: 009, Loss: 1.1811, \n",
            "Epoch: 010, Loss: 12.5970, \n",
            "Epoch: 011, Loss: 1.8660, \n",
            "Epoch: 012, Loss: 1.4447, \n",
            "Epoch: 013, Loss: 1.2702, \n",
            "Epoch: 014, Loss: 1.2241, \n",
            "Epoch: 015, Loss: 1.1750, \n",
            "Epoch: 016, Loss: 1.2588, \n",
            "Epoch: 017, Loss: 1.2314, \n",
            "Epoch: 018, Loss: 1.5580, \n",
            "Epoch: 019, Loss: 1.2436, \n",
            "Epoch: 020, Loss: 1.6134, \n",
            "Epoch: 021, Loss: 1.4148, \n",
            "Epoch: 022, Loss: 1.3466, \n",
            "Epoch: 023, Loss: 1.3291, \n",
            "Epoch: 024, Loss: 1.7191, \n",
            "Epoch: 025, Loss: 1.3414, \n",
            "Epoch: 026, Loss: 1.2195, \n",
            "Epoch: 027, Loss: 1.1805, \n",
            "Epoch: 028, Loss: 1.3871, \n",
            "Epoch: 029, Loss: 1.2027, \n",
            "Epoch: 030, Loss: 1.2019, \n",
            "Epoch: 031, Loss: 1.1076, \n",
            "Epoch: 032, Loss: 1.1174, \n",
            "Epoch: 033, Loss: 1.2475, \n",
            "Epoch: 034, Loss: 1.9446, \n",
            "Epoch: 035, Loss: 1.4923, \n",
            "Epoch: 036, Loss: 1.3843, \n",
            "Epoch: 037, Loss: 1.7037, \n",
            "Epoch: 038, Loss: 1.3131, \n",
            "Epoch: 039, Loss: 1.3447, \n",
            "Epoch: 040, Loss: 1.2984, \n",
            "Epoch: 041, Loss: 1.3663, \n",
            "Epoch: 042, Loss: 1.2780, \n",
            "Epoch: 043, Loss: 1.2545, \n",
            "Epoch: 044, Loss: 1.5928, \n",
            "Epoch: 045, Loss: 1.2377, \n",
            "Epoch: 046, Loss: 1.2764, \n",
            "Epoch: 047, Loss: 1.5109, \n",
            "Epoch: 048, Loss: 1.3787, \n",
            "Epoch: 049, Loss: 1.2544, \n",
            "Epoch: 050, Loss: 1.2338, \n"
          ]
        }
      ],
      "source": [
        "for epoch in range(1, 51):\n",
        "    loss = train()\n",
        "    #val_acc, test_acc = test()\n",
        "    print(f'Epoch: {epoch:03d}, Loss: {loss:.4f}, ')\n",
        "          #f'Val: {val_acc:.4f}, Test: {test_acc:.4f}')"
      ]
    },
    {
      "cell_type": "code",
      "execution_count": null,
      "id": "6479b9c9",
      "metadata": {
        "id": "6479b9c9"
      },
      "outputs": [],
      "source": [
        "with torch.no_grad():\n",
        "    model.eval()\n",
        "    out = model.full_forward(x, edge_index).cpu()"
      ]
    },
    {
      "cell_type": "code",
      "source": [
        "np.where(data.y[23].numpy() == 1)"
      ],
      "metadata": {
        "colab": {
          "base_uri": "https://localhost:8080/"
        },
        "id": "I0EhP4BTFS5N",
        "outputId": "644e78ff-f92c-4a06-b9d3-abd622f16a98"
      },
      "id": "I0EhP4BTFS5N",
      "execution_count": null,
      "outputs": [
        {
          "output_type": "execute_result",
          "data": {
            "text/plain": [
              "(array([2, 4]),)"
            ]
          },
          "metadata": {},
          "execution_count": 136
        }
      ]
    },
    {
      "cell_type": "code",
      "source": [
        "for i in range(6):\n",
        "  print(sum(data.y[:,i]))"
      ],
      "metadata": {
        "colab": {
          "base_uri": "https://localhost:8080/"
        },
        "id": "rE_EjyzOLSzL",
        "outputId": "e9f4ebc7-e94e-496a-ecfa-960f51499d4f"
      },
      "id": "rE_EjyzOLSzL",
      "execution_count": null,
      "outputs": [
        {
          "output_type": "stream",
          "name": "stdout",
          "text": [
            "tensor(109., dtype=torch.float64)\n",
            "tensor(326., dtype=torch.float64)\n",
            "tensor(260., dtype=torch.float64)\n",
            "tensor(205., dtype=torch.float64)\n",
            "tensor(349., dtype=torch.float64)\n",
            "tensor(278., dtype=torch.float64)\n"
          ]
        }
      ]
    },
    {
      "cell_type": "code",
      "source": [
        "from numpy import linalg\n",
        "for j in range(200):\n",
        "  test = []\n",
        "  for i in range(200, 206):\n",
        "    test.append(sum(out[j].numpy() * out[i].numpy()))\n",
        "  test = np.array(test)\n",
        "  sorted_indices = sorted(range(len(test)), key=lambda k: test[k], reverse = True)\n",
        "  # print(sorted_indices)\n",
        "  # print(np.where(data.y[j].numpy() == 1))\n",
        "  # print('----')"
      ],
      "metadata": {
        "id": "WeU9so-uFhUn"
      },
      "id": "WeU9so-uFhUn",
      "execution_count": null,
      "outputs": []
    },
    {
      "cell_type": "code",
      "execution_count": null,
      "id": "101a104f",
      "metadata": {
        "id": "101a104f"
      },
      "outputs": [],
      "source": [
        "# palette = {}\n",
        "\n",
        "# for n, y in enumerate(set(data.y.numpy())):\n",
        "#     palette[y] = f'C{n}'\n",
        "\n",
        "palette = {}\n",
        "\n",
        "for n, y in enumerate(set(data.y[:,1].numpy())):\n",
        "    palette[y] = f'C{n}'"
      ]
    },
    {
      "cell_type": "code",
      "execution_count": null,
      "id": "e91afe66",
      "metadata": {
        "id": "e91afe66"
      },
      "outputs": [],
      "source": [
        "embd = umap.UMAP().fit_transform(out.cpu().numpy())"
      ]
    },
    {
      "cell_type": "code",
      "source": [
        ""
      ],
      "metadata": {
        "id": "d8kFCUeiGR6j"
      },
      "id": "d8kFCUeiGR6j",
      "execution_count": null,
      "outputs": []
    },
    {
      "cell_type": "code",
      "source": [
        "sum(data.y[:,0].cpu().numpy() * data.y[:,1].cpu().numpy() * data.y[:,2].cpu().numpy())"
      ],
      "metadata": {
        "colab": {
          "base_uri": "https://localhost:8080/"
        },
        "id": "CoD9M54LF321",
        "outputId": "6291771b-7606-464d-c077-240d49781e51"
      },
      "id": "CoD9M54LF321",
      "execution_count": null,
      "outputs": [
        {
          "output_type": "execute_result",
          "data": {
            "text/plain": [
              "46.0"
            ]
          },
          "metadata": {},
          "execution_count": 150
        }
      ]
    },
    {
      "cell_type": "code",
      "source": [
        "plt.figure(figsize=(10, 10))\n",
        "sns.scatterplot(x=embd.T[0], y=embd.T[1], hue=data.y[:,0].cpu().numpy() * data.y[:,1].cpu().numpy() * data.y[:,2].cpu().numpy(), palette=palette)\n",
        "plt.legend(bbox_to_anchor=(1,1), loc='upper left')\n",
        "#plt.savefig(\"umap_embd_sage.png\", dpi=120)"
      ],
      "metadata": {
        "colab": {
          "base_uri": "https://localhost:8080/",
          "height": 609
        },
        "id": "ELLvV5XcF1CF",
        "outputId": "93773806-888c-4725-f159-43ac4b4af316"
      },
      "id": "ELLvV5XcF1CF",
      "execution_count": null,
      "outputs": [
        {
          "output_type": "execute_result",
          "data": {
            "text/plain": [
              "<matplotlib.legend.Legend at 0x7f3d75a33310>"
            ]
          },
          "metadata": {},
          "execution_count": 149
        },
        {
          "output_type": "display_data",
          "data": {
            "text/plain": [
              "<Figure size 720x720 with 1 Axes>"
            ],
            "image/png": "[encoded data removed]"
          },
          "metadata": {
            "needs_background": "light"
          }
        }
      ]
    },
    {
      "cell_type": "code",
      "execution_count": null,
      "id": "7d08d7a8",
      "metadata": {
        "colab": {
          "base_uri": "https://localhost:8080/",
          "height": 1000
        },
        "id": "7d08d7a8",
        "outputId": "69f8e7a4-8db0-4a13-ae58-2be7a51bccba"
      },
      "outputs": [
        {
          "output_type": "display_data",
          "data": {
            "text/plain": [
              "<Figure size 720x720 with 1 Axes>"
            ],
            "image/png": "[encoded data removed]"
          },
          "metadata": {
            "needs_background": "light"
          }
        },
        {
          "output_type": "display_data",
          "data": {
            "text/plain": [
              "<Figure size 720x720 with 1 Axes>"
            ],
            "image/png": "[encoded data removed]"
          },
          "metadata": {
            "needs_background": "light"
          }
        },
        {
          "output_type": "display_data",
          "data": {
            "text/plain": [
              "<Figure size 720x720 with 1 Axes>"
            ],
            "image/png": "[encoded data removed]"
          },
          "metadata": {
            "needs_background": "light"
          }
        },
        {
          "output_type": "display_data",
          "data": {
            "text/plain": [
              "<Figure size 720x720 with 1 Axes>"
            ],
            "image/png": "[encoded data removed]"
          },
          "metadata": {
            "needs_background": "light"
          }
        },
        {
          "output_type": "display_data",
          "data": {
            "text/plain": [
              "<Figure size 720x720 with 1 Axes>"
            ],
            "image/png": "[encoded data removed]"
          },
          "metadata": {
            "needs_background": "light"
          }
        },
        {
          "output_type": "display_data",
          "data": {
            "text/plain": [
              "<Figure size 720x720 with 1 Axes>"
            ],
            "image/png": "[encoded data removed]"
          },
          "metadata": {
            "needs_background": "light"
          }
        }
      ],
      "source": [
        "for i in range(5,-1, -1):\n",
        "  plt.figure(figsize=(10, 10))\n",
        "  sns.scatterplot(x=embd.T[0], y=embd.T[1], hue=data.y[:,i].cpu().numpy(), palette=palette)\n",
        "  plt.legend(bbox_to_anchor=(1,1), loc='upper left')\n",
        "  #plt.savefig(\"umap_embd_sage.png\", dpi=120)"
      ]
    },
    {
      "cell_type": "code",
      "execution_count": null,
      "id": "cb48c1f2",
      "metadata": {
        "id": "cb48c1f2"
      },
      "outputs": [],
      "source": [
        "embd_x = umap.UMAP().fit_transform(data.x.numpy())"
      ]
    },
    {
      "cell_type": "code",
      "execution_count": null,
      "id": "a03e1195",
      "metadata": {
        "colab": {
          "base_uri": "https://localhost:8080/",
          "height": 592
        },
        "id": "a03e1195",
        "outputId": "79e3be5f-9f48-4fe1-8166-4531354691a2"
      },
      "outputs": [
        {
          "output_type": "display_data",
          "data": {
            "text/plain": [
              "<Figure size 720x720 with 1 Axes>"
            ],
            "image/png": "[encoded data removed]"
          },
          "metadata": {
            "needs_background": "light"
          }
        }
      ],
      "source": [
        "plt.figure(figsize=(10, 10))\n",
        "sns.scatterplot(x=embd_x.T[0], y=embd_x.T[1], hue=data.y[:,5].cpu().numpy(), palette=palette)\n",
        "plt.legend(bbox_to_anchor=(1,1), loc='upper left')\n",
        "plt.savefig(\"umap_embd.png\", dpi=120)"
      ]
    },
    {
      "cell_type": "code",
      "source": [
        ""
      ],
      "metadata": {
        "id": "VUXUakhCBitv"
      },
      "id": "VUXUakhCBitv",
      "execution_count": null,
      "outputs": []
    },
    {
      "cell_type": "markdown",
      "source": [
        "## Гетерограф"
      ],
      "metadata": {
        "id": "qXT-BQBHBjh-"
      },
      "id": "qXT-BQBHBjh-"
    },
    {
      "cell_type": "code",
      "source": [
        ""
      ],
      "metadata": {
        "id": "EJgn8A7yCRL2"
      },
      "id": "EJgn8A7yCRL2",
      "execution_count": null,
      "outputs": []
    },
    {
      "cell_type": "code",
      "source": [
        "hetero_data = data"
      ],
      "metadata": {
        "id": "MrOD4rRACRYX"
      },
      "execution_count": 22,
      "outputs": [],
      "id": "MrOD4rRACRYX"
    },
    {
      "cell_type": "code",
      "source": [
        "data['dish']"
      ],
      "metadata": {
        "colab": {
          "base_uri": "https://localhost:8080/"
        },
        "id": "fN6YRPbt_TKG",
        "outputId": "bb45a513-d256-496e-9ede-d154edb6fbb9"
      },
      "id": "fN6YRPbt_TKG",
      "execution_count": 22,
      "outputs": [
        {
          "output_type": "execute_result",
          "data": {
            "text/plain": [
              "{'x': tensor([[1., 0., 0., 0., 0., 0.],\n",
              "        [0., 1., 0., 0., 0., 0.],\n",
              "        [0., 0., 1., 0., 0., 0.],\n",
              "        [0., 0., 0., 1., 0., 0.],\n",
              "        [0., 0., 0., 0., 1., 0.],\n",
              "        [0., 0., 0., 0., 0., 1.]])}"
            ]
          },
          "metadata": {},
          "execution_count": 22
        }
      ]
    },
    {
      "cell_type": "code",
      "source": [
        "from torch_geometric.loader import NeighborLoader\n",
        "n_neigh = 1\n",
        "loader = NeighborLoader(\n",
        "    hetero_data,\n",
        "    # Sample n_neigh neighbors for each node and edge type for 2 iterations\n",
        "    num_neighbors={key: [n_neigh] * 2 for key in hetero_data.edge_types},\n",
        "    # Use a batch size of 128 for sampling training nodes of type paper\n",
        "    batch_size=1,\n",
        "    input_nodes=('user'),\n",
        ")"
      ],
      "metadata": {
        "id": "EtT8cWKDCRYX"
      },
      "execution_count": 23,
      "outputs": [],
      "id": "EtT8cWKDCRYX"
    },
    {
      "cell_type": "code",
      "execution_count": 27,
      "metadata": {
        "id": "3GFtB8BxCRYY"
      },
      "outputs": [],
      "source": [
        "class SAGE(nn.Module):\n",
        "    def __init__(self, in_channels, hidden_channels, num_layers):\n",
        "        super(SAGE, self).__init__()\n",
        "        self.num_layers = num_layers\n",
        "        self.convs = nn.ModuleList()\n",
        "        \n",
        "        for i in range(num_layers):\n",
        "            in_channels = in_channels if i == 0 else hidden_channels\n",
        "            self.convs.append(SAGEConv(in_channels, hidden_channels))\n",
        "\n",
        "    def forward(self, x, adjs):\n",
        "        for i, (edge_index, _, size) in enumerate(adjs):\n",
        "            x_target = x[:size[1]]  # Target nodes are always placed first.\n",
        "            #print(x, x_target)\n",
        "            x = self.convs[i]((x, x_target), edge_index)\n",
        "            if i != self.num_layers - 1:\n",
        "                x = x.relu()\n",
        "                x = F.dropout(x, p=0.5, training=self.training)\n",
        "        return x\n",
        "\n",
        "    def full_forward(self, x, edge_index):\n",
        "        for i, conv in enumerate(self.convs):\n",
        "            x = conv(x, edge_index)\n",
        "            if i != self.num_layers - 1:\n",
        "                x = x.relu()\n",
        "                x = F.dropout(x, p=0.5, training=self.training)\n",
        "        return x"
      ],
      "id": "3GFtB8BxCRYY"
    },
    {
      "cell_type": "code",
      "source": [
        "from torch_geometric.nn import SAGEConv, to_hetero"
      ],
      "metadata": {
        "id": "dch0uN3HwOk7"
      },
      "id": "dch0uN3HwOk7",
      "execution_count": 28,
      "outputs": []
    },
    {
      "cell_type": "code",
      "source": [
        "import torch_geometric.transforms as T\n",
        "from torch_geometric.datasets import OGB_MAG\n",
        "from torch_geometric.nn import SAGEConv, to_hetero\n",
        "\n",
        "\n",
        "# dataset = OGB_MAG(root='./data', preprocess='metapath2vec', transform=T.ToUndirected())\n",
        "# data = dataset[0]\n",
        "\n",
        "class GNN(torch.nn.Module):\n",
        "    def __init__(self, hidden_channels):\n",
        "        super().__init__()\n",
        "        self.conv1 = SAGEConv((-1, -1), hidden_channels)\n",
        "        self.conv2 = SAGEConv((-1, -1), hidden_channels)\n",
        "\n",
        "    def forward(self, x, edge_index):\n",
        "        x = self.conv1(x, edge_index).relu()\n",
        "        x = self.conv2(x, edge_index)\n",
        "        return x\n",
        "\n",
        "\n",
        "model = GNN(hidden_channels=64)\n",
        "model = to_hetero(model, data.metadata(), aggr='sum')"
      ],
      "metadata": {
        "id": "DqfGL3nOxYZe"
      },
      "id": "DqfGL3nOxYZe",
      "execution_count": 29,
      "outputs": []
    },
    {
      "cell_type": "code",
      "source": [
        "device = torch.device('cuda' if torch.cuda.is_available() else 'cpu')\n",
        "# model = SAGE(data['user'].num_node_features, hidden_channels=64, num_layers=2)\n",
        "# model = model.to(device)\n",
        "optimizer = torch.optim.Adam(model.parameters(), lr=0.00001)\n",
        "#x, edge_index = data.x.to(device), data.edge_index.to(device)"
      ],
      "metadata": {
        "id": "Le59C0MvmKUa"
      },
      "id": "Le59C0MvmKUa",
      "execution_count": 33,
      "outputs": []
    },
    {
      "cell_type": "markdown",
      "source": [
        "### Эксперименты с SparceTensor"
      ],
      "metadata": {
        "id": "Xg-GWjrAi0TX"
      },
      "id": "Xg-GWjrAi0TX"
    },
    {
      "cell_type": "code",
      "source": [
        "from torch_sparse import SparseTensor\n",
        "edge_index = a[2][0].edge_index\n",
        "is_sparse_tensor = isinstance(edge_index, SparseTensor)\n",
        "is_sparse_tensor"
      ],
      "metadata": {
        "colab": {
          "base_uri": "https://localhost:8080/",
          "height": 218
        },
        "id": "uC6oH2e7GVGN",
        "outputId": "dd18aa2a-8d3a-4b75-a4af-c6486387bfda"
      },
      "id": "uC6oH2e7GVGN",
      "execution_count": 34,
      "outputs": [
        {
          "output_type": "error",
          "ename": "NameError",
          "evalue": "ignored",
          "traceback": [
            "\u001b[0;31m---------------------------------------------------------------------------\u001b[0m",
            "\u001b[0;31mNameError\u001b[0m                                 Traceback (most recent call last)",
            "\u001b[0;32m<ipython-input-34-47870f2e3541>\u001b[0m in \u001b[0;36m<module>\u001b[0;34m()\u001b[0m\n\u001b[1;32m      1\u001b[0m \u001b[0;32mfrom\u001b[0m \u001b[0mtorch_sparse\u001b[0m \u001b[0;32mimport\u001b[0m \u001b[0mSparseTensor\u001b[0m\u001b[0;34m\u001b[0m\u001b[0;34m\u001b[0m\u001b[0m\n\u001b[0;32m----> 2\u001b[0;31m \u001b[0medge_index\u001b[0m \u001b[0;34m=\u001b[0m \u001b[0ma\u001b[0m\u001b[0;34m[\u001b[0m\u001b[0;36m2\u001b[0m\u001b[0;34m]\u001b[0m\u001b[0;34m[\u001b[0m\u001b[0;36m0\u001b[0m\u001b[0;34m]\u001b[0m\u001b[0;34m.\u001b[0m\u001b[0medge_index\u001b[0m\u001b[0;34m\u001b[0m\u001b[0;34m\u001b[0m\u001b[0m\n\u001b[0m\u001b[1;32m      3\u001b[0m \u001b[0mis_sparse_tensor\u001b[0m \u001b[0;34m=\u001b[0m \u001b[0misinstance\u001b[0m\u001b[0;34m(\u001b[0m\u001b[0medge_index\u001b[0m\u001b[0;34m,\u001b[0m \u001b[0mSparseTensor\u001b[0m\u001b[0;34m)\u001b[0m\u001b[0;34m\u001b[0m\u001b[0;34m\u001b[0m\u001b[0m\n\u001b[1;32m      4\u001b[0m \u001b[0mis_sparse_tensor\u001b[0m\u001b[0;34m\u001b[0m\u001b[0;34m\u001b[0m\u001b[0m\n",
            "\u001b[0;31mNameError\u001b[0m: name 'a' is not defined"
          ]
        }
      ]
    },
    {
      "cell_type": "code",
      "source": [
        "edge_index"
      ],
      "metadata": {
        "colab": {
          "base_uri": "https://localhost:8080/"
        },
        "id": "3gM6L1d-fJ82",
        "outputId": "01bd37ec-cd1c-4f77-f578-affcc50808cb"
      },
      "id": "3gM6L1d-fJ82",
      "execution_count": 345,
      "outputs": [
        {
          "output_type": "execute_result",
          "data": {
            "text/plain": [
              "tensor([[3, 4, 5, 6, 7, 8],\n",
              "        [0, 1, 2, 3, 4, 5]])"
            ]
          },
          "metadata": {},
          "execution_count": 345
        }
      ]
    },
    {
      "cell_type": "code",
      "source": [
        "SparseTensor(row=torch.tensor([0, 10, 2, 3, 4, 5]), col=torch.tensor([3, 4, 5, 6, 7, 8]))"
      ],
      "metadata": {
        "colab": {
          "base_uri": "https://localhost:8080/"
        },
        "id": "u0iLlZFhfYVO",
        "outputId": "64d612c3-d570-46c1-b9be-bedb288f59a7"
      },
      "id": "u0iLlZFhfYVO",
      "execution_count": 354,
      "outputs": [
        {
          "output_type": "execute_result",
          "data": {
            "text/plain": [
              "SparseTensor(row=tensor([ 0,  2,  3,  4,  5, 10]),\n",
              "             col=tensor([3, 5, 6, 7, 8, 4]),\n",
              "             size=(11, 9), nnz=6, density=6.06%)"
            ]
          },
          "metadata": {},
          "execution_count": 354
        }
      ]
    },
    {
      "cell_type": "code",
      "source": [
        "homogeneous_data.edge_index.numpy()[0]"
      ],
      "metadata": {
        "colab": {
          "base_uri": "https://localhost:8080/"
        },
        "id": "p_ztWv3iTAN1",
        "outputId": "6093dd16-5de3-44e5-cbd2-eb730fc5fa7b"
      },
      "id": "p_ztWv3iTAN1",
      "execution_count": 290,
      "outputs": [
        {
          "output_type": "execute_result",
          "data": {
            "text/plain": [
              "array([  0,   4,   6, ..., 505, 505, 505])"
            ]
          },
          "metadata": {},
          "execution_count": 290
        }
      ]
    },
    {
      "cell_type": "code",
      "source": [
        "edge_index[0], edge_index[1]"
      ],
      "metadata": {
        "colab": {
          "base_uri": "https://localhost:8080/"
        },
        "id": "LFhWO38VG9dL",
        "outputId": "7a064e27-6fa3-49b1-989c-5bb2ce3fc4d1"
      },
      "id": "LFhWO38VG9dL",
      "execution_count": 275,
      "outputs": [
        {
          "output_type": "execute_result",
          "data": {
            "text/plain": [
              "(tensor([3, 4, 5, 6, 7, 8]), tensor([0, 1, 2, 3, 4, 5]))"
            ]
          },
          "metadata": {},
          "execution_count": 275
        }
      ]
    },
    {
      "cell_type": "code",
      "source": [
        "pos_batch = random_walk(homogeneous_data.edge_index.numpy()[0], homogeneous_data.edge_index.numpy()[1], batch, walk_length=1,\n",
        "                                coalesced=False)[:, 1]"
      ],
      "metadata": {
        "id": "RAxhK7sqRdvV"
      },
      "id": "RAxhK7sqRdvV",
      "execution_count": null,
      "outputs": []
    },
    {
      "cell_type": "code",
      "source": [
        "random_walk(torch.LongTensor(homogeneous_data.edge_index.numpy()[0]), torch.LongTensor(homogeneous_data.edge_index.numpy()[1]),\n",
        "            start = torch.LongTensor([353]), walk_length=1, coalesced=False)#[:, 1]"
      ],
      "metadata": {
        "colab": {
          "base_uri": "https://localhost:8080/"
        },
        "id": "GlFhS04BVa3c",
        "outputId": "855c844a-8725-40dc-edea-76f238eb2c31"
      },
      "id": "GlFhS04BVa3c",
      "execution_count": 335,
      "outputs": [
        {
          "output_type": "execute_result",
          "data": {
            "text/plain": [
              "tensor([[353, 504]])"
            ]
          },
          "metadata": {},
          "execution_count": 335
        }
      ]
    },
    {
      "cell_type": "code",
      "source": [
        "for a in loader:\n",
        "  print(a)\n",
        "  break"
      ],
      "metadata": {
        "colab": {
          "base_uri": "https://localhost:8080/"
        },
        "id": "fXDWi0UsC4_n",
        "outputId": "04d40e29-b2d1-4e35-b63f-1a4ef89415bb"
      },
      "id": "fXDWi0UsC4_n",
      "execution_count": 261,
      "outputs": [
        {
          "output_type": "stream",
          "name": "stdout",
          "text": [
            "HeteroData(\n",
            "  \u001b[1muser\u001b[0m={\n",
            "    x=[2, 6],\n",
            "    y=[2, 6],\n",
            "    batch_size=1\n",
            "  },\n",
            "  \u001b[1mdish\u001b[0m={ x=[1, 6] },\n",
            "  \u001b[1m(user, buys, dish)\u001b[0m={ edge_index=[2, 1] },\n",
            "  \u001b[1m(dish, rev_buys, user)\u001b[0m={ edge_index=[2, 1] }\n",
            ")\n"
          ]
        }
      ]
    },
    {
      "cell_type": "markdown",
      "source": [
        "### Конец экспериментов"
      ],
      "metadata": {
        "id": "VZu72_F4i6iP"
      },
      "id": "VZu72_F4i6iP"
    },
    {
      "cell_type": "code",
      "source": [
        "def train():\n",
        "    model.train()\n",
        "\n",
        "    total_examples = total_loss = 0\n",
        "    for batch in loader:\n",
        "            optimizer.zero_grad()\n",
        "            #batch = batch.to('cuda:0')\n",
        "            batch_size = batch['user'].batch_size\n",
        "            #print(batch['user'].y)\n",
        "\n",
        "            out = model(batch.x_dict,\n",
        "                        batch.edge_index_dict)\n",
        "            #break\n",
        "\n",
        "            ### negative sampling\n",
        "            neg_dish = []\n",
        "            for element in batch['user'].y[:batch_size]:\n",
        "              list_ = np.where(element == 0)[0]\n",
        "              if list_ != []:\n",
        "                neg_dish.append(np.random.choice(list_))\n",
        "              else: \n",
        "                neg_dish.append(np.random.choice(np.arange(len(element))))\n",
        "      \n",
        "            n_neigh = 4\n",
        "            dish_loader = NeighborLoader(\n",
        "                hetero_data,\n",
        "                # Sample n_neigh neighbors for each node and edge type for 2 iterations\n",
        "                num_neighbors={key: [n_neigh] * 5 for key in hetero_data.edge_types},\n",
        "                # Use a batch size of 128 for sampling training nodes of type paper\n",
        "                batch_size=1,\n",
        "                input_nodes=('dish', torch.Tensor(neg_dish)),\n",
        "            )\n",
        "            for dish_batch in dish_loader:\n",
        "              optimizer.zero_grad()\n",
        "              #batch = batch.to('cuda:0')\n",
        "              batch_size = dish_batch['dish'].batch_size\n",
        "\n",
        "              neg_out = model(dish_batch.x_dict,\n",
        "                            dish_batch.edge_index_dict)\n",
        "\n",
        "\n",
        "            # loss = F.cross_entropy(out['paper'][:batch_size],\n",
        "            #                        batch['paper'].y[:batch_size])\n",
        "            #print(out['user'][:batch_size])\n",
        "            pos_loss = F.logsigmoid((out['user'][:batch_size] * out['dish'][:batch_size]).sum(-1)).mean()\n",
        "            neg_loss = F.logsigmoid(-(out['user'][:batch_size] * neg_out['dish'][:batch_size]).sum(-1)).mean()\n",
        "            loss = -pos_loss - neg_loss\n",
        "            loss.backward()\n",
        "            optimizer.step()\n",
        "\n",
        "            total_examples += batch_size\n",
        "            total_loss += float(loss) * batch_size\n",
        "    return total_loss / total_examples"
      ],
      "metadata": {
        "id": "GY9NqB0F-R72"
      },
      "id": "GY9NqB0F-R72",
      "execution_count": 35,
      "outputs": []
    },
    {
      "cell_type": "code",
      "source": [
        "for _ in range(30):\n",
        "  loss = train()\n",
        "  print(loss)"
      ],
      "metadata": {
        "colab": {
          "base_uri": "https://localhost:8080/"
        },
        "id": "tu85O1-rq5Xy",
        "outputId": "b2b0a2b2-0f8f-4345-a845-0e8660172bd0"
      },
      "id": "tu85O1-rq5Xy",
      "execution_count": 36,
      "outputs": [
        {
          "output_type": "stream",
          "name": "stderr",
          "text": [
            "/usr/local/lib/python3.7/dist-packages/ipykernel_launcher.py:19: DeprecationWarning: elementwise comparison failed; this will raise an error in the future.\n",
            "/usr/local/lib/python3.7/dist-packages/ipykernel_launcher.py:19: DeprecationWarning: The truth value of an empty array is ambiguous. Returning False, but in future this will result in an error. Use `array.size > 0` to check that an array is not empty.\n"
          ]
        },
        {
          "output_type": "stream",
          "name": "stdout",
          "text": [
            "0.06568383193403463\n",
            "0.04518243379048968\n",
            "0.049617464832515494\n",
            "0.03218825472958178\n",
            "0.0623771995047057\n",
            "0.029383068779698363\n",
            "0.01752517777259186\n",
            "0.05609540079538625\n",
            "0.019650252140938754\n",
            "0.018125827385789606\n",
            "0.03764702872410146\n",
            "0.05514342175259945\n",
            "0.021027875843694345\n",
            "0.04394341115635632\n",
            "0.05909128045429975\n",
            "0.02950799059372777\n",
            "0.024704909974287138\n",
            "0.027832486398416848\n",
            "0.014042721534665873\n",
            "0.03282014444688957\n",
            "0.010638899723816455\n",
            "0.03141306003818431\n",
            "0.43076221672342757\n",
            "0.05711444056839957\n",
            "0.010905103214215667\n",
            "0.03920927430155932\n",
            "0.01939803134925314\n",
            "0.016235958771174046\n",
            "0.007093063900922129\n",
            "0.02966005045744569\n"
          ]
        }
      ]
    },
    {
      "cell_type": "code",
      "execution_count": null,
      "metadata": {
        "id": "k8qh4jRPCRYY"
      },
      "outputs": [],
      "source": [
        "@torch.no_grad()\n",
        "def test():\n",
        "    model.eval()\n",
        "    out = model.full_forward(x, edge_index).cpu()\n",
        "\n",
        "    clf = LogisticRegression()\n",
        "    clf.fit(out[data.train_mask], data.y[data.train_mask])\n",
        "\n",
        "    val_acc = clf.score(out[data.val_mask], data.y[data.val_mask])\n",
        "    test_acc = clf.score(out[data.test_mask], data.y[data.test_mask])\n",
        "\n",
        "    return val_acc, test_acc"
      ],
      "id": "k8qh4jRPCRYY"
    },
    {
      "cell_type": "code",
      "execution_count": null,
      "metadata": {
        "colab": {
          "base_uri": "https://localhost:8080/"
        },
        "outputId": "38b58b0e-f6fe-4a31-acc8-ca4558e69f70",
        "id": "QwiZrjiJCRYY"
      },
      "outputs": [
        {
          "output_type": "stream",
          "name": "stdout",
          "text": [
            "Epoch: 001, Loss: 3.9374, \n",
            "Epoch: 002, Loss: 1.9053, \n",
            "Epoch: 003, Loss: 2.5082, \n",
            "Epoch: 004, Loss: 1.2902, \n",
            "Epoch: 005, Loss: 1.6550, \n",
            "Epoch: 006, Loss: 1.3754, \n",
            "Epoch: 007, Loss: 1.0893, \n",
            "Epoch: 008, Loss: 1.1739, \n",
            "Epoch: 009, Loss: 1.1811, \n",
            "Epoch: 010, Loss: 12.5970, \n",
            "Epoch: 011, Loss: 1.8660, \n",
            "Epoch: 012, Loss: 1.4447, \n",
            "Epoch: 013, Loss: 1.2702, \n",
            "Epoch: 014, Loss: 1.2241, \n",
            "Epoch: 015, Loss: 1.1750, \n",
            "Epoch: 016, Loss: 1.2588, \n",
            "Epoch: 017, Loss: 1.2314, \n",
            "Epoch: 018, Loss: 1.5580, \n",
            "Epoch: 019, Loss: 1.2436, \n",
            "Epoch: 020, Loss: 1.6134, \n",
            "Epoch: 021, Loss: 1.4148, \n",
            "Epoch: 022, Loss: 1.3466, \n",
            "Epoch: 023, Loss: 1.3291, \n",
            "Epoch: 024, Loss: 1.7191, \n",
            "Epoch: 025, Loss: 1.3414, \n",
            "Epoch: 026, Loss: 1.2195, \n",
            "Epoch: 027, Loss: 1.1805, \n",
            "Epoch: 028, Loss: 1.3871, \n",
            "Epoch: 029, Loss: 1.2027, \n",
            "Epoch: 030, Loss: 1.2019, \n",
            "Epoch: 031, Loss: 1.1076, \n",
            "Epoch: 032, Loss: 1.1174, \n",
            "Epoch: 033, Loss: 1.2475, \n",
            "Epoch: 034, Loss: 1.9446, \n",
            "Epoch: 035, Loss: 1.4923, \n",
            "Epoch: 036, Loss: 1.3843, \n",
            "Epoch: 037, Loss: 1.7037, \n",
            "Epoch: 038, Loss: 1.3131, \n",
            "Epoch: 039, Loss: 1.3447, \n",
            "Epoch: 040, Loss: 1.2984, \n",
            "Epoch: 041, Loss: 1.3663, \n",
            "Epoch: 042, Loss: 1.2780, \n",
            "Epoch: 043, Loss: 1.2545, \n",
            "Epoch: 044, Loss: 1.5928, \n",
            "Epoch: 045, Loss: 1.2377, \n",
            "Epoch: 046, Loss: 1.2764, \n",
            "Epoch: 047, Loss: 1.5109, \n",
            "Epoch: 048, Loss: 1.3787, \n",
            "Epoch: 049, Loss: 1.2544, \n",
            "Epoch: 050, Loss: 1.2338, \n"
          ]
        }
      ],
      "source": [
        "for epoch in range(1, 51):\n",
        "    loss = train()\n",
        "    #val_acc, test_acc = test()\n",
        "    print(f'Epoch: {epoch:03d}, Loss: {loss:.4f}, ')\n",
        "          #f'Val: {val_acc:.4f}, Test: {test_acc:.4f}')"
      ],
      "id": "QwiZrjiJCRYY"
    },
    {
      "cell_type": "code",
      "execution_count": null,
      "metadata": {
        "id": "yGSUM6YuCRYY"
      },
      "outputs": [],
      "source": [
        "with torch.no_grad():\n",
        "    model.eval()\n",
        "    out = model.full_forward(x, edge_index).cpu()"
      ],
      "id": "yGSUM6YuCRYY"
    },
    {
      "cell_type": "code",
      "source": [
        "full_out = []\n",
        "with torch.no_grad():\n",
        "      model.eval()\n",
        "      for batch in loader:\n",
        "            #batch = batch.to('cuda:0')\n",
        "            batch_size = batch['user'].batch_size\n",
        "            #print(batch['user'].y)\n",
        "\n",
        "            out = model(batch.x_dict,\n",
        "                        batch.edge_index_dict)\n",
        "            full_out.extend(out['user'][:batch_size].cpu().numpy())"
      ],
      "metadata": {
        "id": "JPVqe2EG_VYF"
      },
      "id": "JPVqe2EG_VYF",
      "execution_count": 38,
      "outputs": []
    },
    {
      "cell_type": "code",
      "source": [
        "for i in range(6):\n",
        "  print(sum(data['user'].y[:,i]))"
      ],
      "metadata": {
        "colab": {
          "base_uri": "https://localhost:8080/"
        },
        "outputId": "99c8fcd6-a013-45af-9996-1308b5b4c102",
        "id": "thGrjJ0tCRYZ"
      },
      "execution_count": 39,
      "outputs": [
        {
          "output_type": "stream",
          "name": "stdout",
          "text": [
            "tensor(98)\n",
            "tensor(325)\n",
            "tensor(270)\n",
            "tensor(209)\n",
            "tensor(361)\n",
            "tensor(296)\n"
          ]
        }
      ],
      "id": "thGrjJ0tCRYZ"
    },
    {
      "cell_type": "code",
      "source": [
        "from numpy import linalg\n",
        "for j in range(200):\n",
        "  test = []\n",
        "  for i in range(200, 206):\n",
        "    test.append(sum(out[j].numpy() * out[i].numpy()))\n",
        "  test = np.array(test)\n",
        "  sorted_indices = sorted(range(len(test)), key=lambda k: test[k], reverse = True)\n",
        "  # print(sorted_indices)\n",
        "  # print(np.where(data.y[j].numpy() == 1))\n",
        "  # print('----')"
      ],
      "metadata": {
        "id": "rJMVcdsYCRYZ"
      },
      "execution_count": null,
      "outputs": [],
      "id": "rJMVcdsYCRYZ"
    },
    {
      "cell_type": "code",
      "execution_count": 40,
      "metadata": {
        "id": "ko4E2FEyCRYZ"
      },
      "outputs": [],
      "source": [
        "# palette = {}\n",
        "\n",
        "# for n, y in enumerate(set(data.y.numpy())):\n",
        "#     palette[y] = f'C{n}'\n",
        "\n",
        "palette = {}\n",
        "\n",
        "for n, y in enumerate(set(data['user'].y[:,1].numpy())):\n",
        "    palette[y] = f'C{n}'"
      ],
      "id": "ko4E2FEyCRYZ"
    },
    {
      "cell_type": "code",
      "execution_count": 41,
      "metadata": {
        "colab": {
          "base_uri": "https://localhost:8080/"
        },
        "id": "L556De_tCRYZ",
        "outputId": "d4b1bd1d-2e27-4857-ec67-0cf2869ad8ec"
      },
      "outputs": [
        {
          "output_type": "stream",
          "name": "stderr",
          "text": [
            "/usr/local/lib/python3.7/dist-packages/numba/np/ufunc/parallel.py:363: NumbaWarning: The TBB threading layer requires TBB version 2019.5 or later i.e., TBB_INTERFACE_VERSION >= 11005. Found TBB_INTERFACE_VERSION = 9107. The TBB threading layer is disabled.\n",
            "  warnings.warn(problem)\n"
          ]
        }
      ],
      "source": [
        "#embd = umap.UMAP().fit_transform(out.cpu().numpy())\n",
        "embd = umap.UMAP().fit_transform(np.array(full_out))"
      ],
      "id": "L556De_tCRYZ"
    },
    {
      "cell_type": "code",
      "source": [
        "plt.figure(figsize=(10, 10))\n",
        "sns.scatterplot(x=embd.T[0], y=embd.T[1], hue=data['user'].y[:,4].cpu().numpy(), palette=palette)\n",
        "plt.legend(bbox_to_anchor=(1,1), loc='upper left')\n",
        "#plt.savefig(\"umap_embd_sage.png\", dpi=120)"
      ],
      "metadata": {
        "colab": {
          "base_uri": "https://localhost:8080/",
          "height": 609
        },
        "outputId": "6664294c-12c4-4d94-dca5-d1630bf0c423",
        "id": "UwFjz6O7CRYZ"
      },
      "execution_count": 55,
      "outputs": [
        {
          "output_type": "execute_result",
          "data": {
            "text/plain": [
              "<matplotlib.legend.Legend at 0x7f187d235290>"
            ]
          },
          "metadata": {},
          "execution_count": 55
        },
        {
          "output_type": "display_data",
          "data": {
            "text/plain": [
              "<Figure size 720x720 with 1 Axes>"
            ],
            "image/png": "[encoded data removed]"
          },
          "metadata": {
            "needs_background": "light"
          }
        }
      ],
      "id": "UwFjz6O7CRYZ"
    },
    {
      "cell_type": "code",
      "execution_count": 43,
      "metadata": {
        "id": "FUn4AnD2CRYZ"
      },
      "outputs": [],
      "source": [
        "embd_x = umap.UMAP().fit_transform(data['user'].x.numpy())"
      ],
      "id": "FUn4AnD2CRYZ"
    },
    {
      "cell_type": "code",
      "execution_count": 51,
      "metadata": {
        "colab": {
          "base_uri": "https://localhost:8080/",
          "height": 592
        },
        "outputId": "2101ebff-0bac-4dd3-ca32-c4f6fb89d544",
        "id": "Sv7tcgLaCRYZ"
      },
      "outputs": [
        {
          "output_type": "display_data",
          "data": {
            "text/plain": [
              "<Figure size 720x720 with 1 Axes>"
            ],
            "image/png": "[encoded data removed]"
          },
          "metadata": {
            "needs_background": "light"
          }
        }
      ],
      "source": [
        "plt.figure(figsize=(10, 10))\n",
        "sns.scatterplot(x=embd_x.T[0], y=embd_x.T[1], hue=data['user'].y[:,2].cpu().numpy(), palette=palette)\n",
        "plt.legend(bbox_to_anchor=(1,1), loc='upper left')\n",
        "plt.savefig(\"umap_embd.png\", dpi=120)"
      ],
      "id": "Sv7tcgLaCRYZ"
    },
    {
      "cell_type": "code",
      "source": [
        ""
      ],
      "metadata": {
        "id": "2hZcsThaBl3-"
      },
      "id": "2hZcsThaBl3-",
      "execution_count": null,
      "outputs": []
    },
    {
      "cell_type": "markdown",
      "source": [
        "### Работа с визуализацией"
      ],
      "metadata": {
        "id": "8sGweXRRz3WN"
      },
      "id": "8sGweXRRz3WN"
    },
    {
      "cell_type": "code",
      "source": [
        "homogeneous_data = data.to_homogeneous()\n",
        "print(homogeneous_data)\n",
        "\n",
        "import torch_geometric\n",
        "import networkx as nx\n",
        "\n",
        "g = torch_geometric.utils.to_networkx(homogeneous_data, to_undirected=True)"
      ],
      "metadata": {
        "colab": {
          "base_uri": "https://localhost:8080/"
        },
        "id": "qAJ07Tfwr9p7",
        "outputId": "a5dc1f4a-ac68-4a0a-c1a3-4a95ed2a912b"
      },
      "id": "qAJ07Tfwr9p7",
      "execution_count": null,
      "outputs": [
        {
          "output_type": "stream",
          "name": "stdout",
          "text": [
            "Data(node_type=[206], x=[206, 7], edge_index=[2, 1240], edge_type=[1240])\n"
          ]
        }
      ]
    },
    {
      "cell_type": "code",
      "source": [
        "homogeneous_data.node_type"
      ],
      "metadata": {
        "colab": {
          "base_uri": "https://localhost:8080/"
        },
        "id": "vfOxGzEDjDEe",
        "outputId": "9c4243d0-a557-41a8-93a0-df1a45f67ccf"
      },
      "id": "vfOxGzEDjDEe",
      "execution_count": null,
      "outputs": [
        {
          "output_type": "execute_result",
          "data": {
            "text/plain": [
              "tensor([0, 0, 0, 0, 0, 0, 0, 0, 0, 0, 0, 0, 0, 0, 0, 0, 0, 0, 0, 0, 1, 1, 1, 1,\n",
              "        1, 1])"
            ]
          },
          "metadata": {},
          "execution_count": 209
        }
      ]
    },
    {
      "cell_type": "code",
      "source": [
        "nx.draw_networkx(g, node_color = homogeneous_data.node_type,)"
      ],
      "metadata": {
        "colab": {
          "base_uri": "https://localhost:8080/",
          "height": 248
        },
        "id": "m3jYKCkcroSo",
        "outputId": "f676ddf7-fe37-436e-a857-63935c23f153"
      },
      "id": "m3jYKCkcroSo",
      "execution_count": null,
      "outputs": [
        {
          "output_type": "display_data",
          "data": {
            "text/plain": [
              "<Figure size 432x288 with 1 Axes>"
            ],
            "image/png": "[encoded data removed]"
          },
          "metadata": {}
        }
      ]
    },
    {
      "cell_type": "code",
      "source": [
        "!pip install pygraphviz"
      ],
      "metadata": {
        "colab": {
          "base_uri": "https://localhost:8080/"
        },
        "id": "Pvdb3ELbvWjJ",
        "outputId": "fb04f3e7-f1f8-499b-9a64-a7c6aded0ed4"
      },
      "id": "Pvdb3ELbvWjJ",
      "execution_count": null,
      "outputs": [
        {
          "output_type": "stream",
          "name": "stdout",
          "text": [
            "Collecting pygraphviz\n",
            "  Using cached pygraphviz-1.7.zip (118 kB)\n",
            "Building wheels for collected packages: pygraphviz\n",
            "  Building wheel for pygraphviz (setup.py) ... \u001b[?25l\u001b[?25hdone\n",
            "  Created wheel for pygraphviz: filename=pygraphviz-1.7-cp37-cp37m-linux_x86_64.whl size=165743 sha256=026599c27849b406bde8a4b6b463764d95114075cd66854595cfc0c8375282f2\n",
            "  Stored in directory: /root/.cache/pip/wheels/8c/bc/0c/ac35392b72556e75107ff610cb31b313e8471918a6d280e34c\n",
            "Successfully built pygraphviz\n",
            "Installing collected packages: pygraphviz\n",
            "Successfully installed pygraphviz-1.7\n"
          ]
        }
      ]
    },
    {
      "cell_type": "code",
      "source": [
        "!pip install dgl\n",
        "import dgl"
      ],
      "metadata": {
        "colab": {
          "base_uri": "https://localhost:8080/"
        },
        "id": "B_BPMtF9wLF6",
        "outputId": "9ee90232-5e95-441d-d1aa-ac793097984e"
      },
      "id": "B_BPMtF9wLF6",
      "execution_count": null,
      "outputs": [
        {
          "output_type": "stream",
          "name": "stdout",
          "text": [
            "Collecting dgl\n",
            "  Downloading dgl-0.6.1-cp37-cp37m-manylinux1_x86_64.whl (4.4 MB)\n",
            "\u001b[K     |████████████████████████████████| 4.4 MB 7.8 MB/s \n",
            "\u001b[?25hRequirement already satisfied: networkx>=2.1 in /usr/local/lib/python3.7/dist-packages (from dgl) (2.6.3)\n",
            "Requirement already satisfied: numpy>=1.14.0 in /usr/local/lib/python3.7/dist-packages (from dgl) (1.21.6)\n",
            "Requirement already satisfied: scipy>=1.1.0 in /usr/local/lib/python3.7/dist-packages (from dgl) (1.4.1)\n",
            "Requirement already satisfied: requests>=2.19.0 in /usr/local/lib/python3.7/dist-packages (from dgl) (2.23.0)\n",
            "Requirement already satisfied: chardet<4,>=3.0.2 in /usr/local/lib/python3.7/dist-packages (from requests>=2.19.0->dgl) (3.0.4)\n",
            "Requirement already satisfied: idna<3,>=2.5 in /usr/local/lib/python3.7/dist-packages (from requests>=2.19.0->dgl) (2.10)\n",
            "Requirement already satisfied: urllib3!=1.25.0,!=1.25.1,<1.26,>=1.21.1 in /usr/local/lib/python3.7/dist-packages (from requests>=2.19.0->dgl) (1.24.3)\n",
            "Requirement already satisfied: certifi>=2017.4.17 in /usr/local/lib/python3.7/dist-packages (from requests>=2.19.0->dgl) (2021.10.8)\n",
            "Installing collected packages: dgl\n",
            "Successfully installed dgl-0.6.1\n",
            "Setting the default backend to \"pytorch\". You can change it in the ~/.dgl/config.json file or export the DGLBACKEND environment variable.  Valid options are: pytorch, mxnet, tensorflow (all lowercase)\n"
          ]
        },
        {
          "output_type": "stream",
          "name": "stderr",
          "text": [
            "DGL backend not selected or invalid.  Assuming PyTorch for now.\n",
            "Using backend: pytorch\n"
          ]
        }
      ]
    },
    {
      "cell_type": "code",
      "source": [
        "G = dgl.heterograph({\n",
        "        ('user', 'buys', 'dish') : (np.array(data['buys'].edge_index[0]),np.array(data['buys'].edge_index[1]))\n",
        "    })\n",
        "\n",
        "print(G)"
      ],
      "metadata": {
        "colab": {
          "base_uri": "https://localhost:8080/"
        },
        "id": "1ZgOPmAEvcaL",
        "outputId": "237be81c-ced5-4389-a491-996f3429d5f2"
      },
      "id": "1ZgOPmAEvcaL",
      "execution_count": null,
      "outputs": [
        {
          "output_type": "stream",
          "name": "stdout",
          "text": [
            "Graph(num_nodes={'dish': 3, 'user': 3},\n",
            "      num_edges={('user', 'buys', 'dish'): 4},\n",
            "      metagraph=[('user', 'dish', 'buys')])\n"
          ]
        }
      ]
    },
    {
      "cell_type": "code",
      "source": [
        "G"
      ],
      "metadata": {
        "colab": {
          "base_uri": "https://localhost:8080/"
        },
        "id": "lNI0egkl1X6w",
        "outputId": "65fada7b-a44b-4040-88cb-211f5fcce418"
      },
      "id": "lNI0egkl1X6w",
      "execution_count": null,
      "outputs": [
        {
          "output_type": "execute_result",
          "data": {
            "text/plain": [
              "Graph(num_nodes={'dish': 3, 'user': 3},\n",
              "      num_edges={('user', 'buys', 'dish'): 4},\n",
              "      metagraph=[('user', 'dish', 'buys')])"
            ]
          },
          "metadata": {},
          "execution_count": 147
        }
      ]
    },
    {
      "cell_type": "code",
      "source": [
        "# Draw the metagraph using graphviz.\n",
        "import pygraphviz as pgv\n",
        "\n",
        "def plot_graph(nxg):\n",
        "    ag = pgv.AGraph(strict=False, directed=True)\n",
        "    for u, v, k in nxg.edges(keys=True):\n",
        "        ag.add_edge(u, v, label=k)\n",
        "    ag.layout('dot')\n",
        "    ag.draw('graph.png')\n",
        "\n",
        "plot_graph(G.metagraph())"
      ],
      "metadata": {
        "colab": {
          "base_uri": "https://localhost:8080/",
          "height": 322
        },
        "id": "uh24W6KJul27",
        "outputId": "58181a26-4571-4fed-cb2f-89891d3b9d1f"
      },
      "id": "uh24W6KJul27",
      "execution_count": null,
      "outputs": [
        {
          "output_type": "error",
          "ename": "AttributeError",
          "evalue": "ignored",
          "traceback": [
            "\u001b[0;31m---------------------------------------------------------------------------\u001b[0m",
            "\u001b[0;31mAttributeError\u001b[0m                            Traceback (most recent call last)",
            "\u001b[0;32m<ipython-input-149-611a5a9284a3>\u001b[0m in \u001b[0;36m<module>\u001b[0;34m()\u001b[0m\n\u001b[1;32m      9\u001b[0m     \u001b[0mag\u001b[0m\u001b[0;34m.\u001b[0m\u001b[0mdraw\u001b[0m\u001b[0;34m(\u001b[0m\u001b[0;34m'graph.png'\u001b[0m\u001b[0;34m)\u001b[0m\u001b[0;34m\u001b[0m\u001b[0;34m\u001b[0m\u001b[0m\n\u001b[1;32m     10\u001b[0m \u001b[0;34m\u001b[0m\u001b[0m\n\u001b[0;32m---> 11\u001b[0;31m \u001b[0mplot_graph\u001b[0m\u001b[0;34m(\u001b[0m\u001b[0mG\u001b[0m\u001b[0;34m.\u001b[0m\u001b[0mnum_edges\u001b[0m\u001b[0;34m(\u001b[0m\u001b[0;34m)\u001b[0m\u001b[0;34m)\u001b[0m\u001b[0;34m\u001b[0m\u001b[0;34m\u001b[0m\u001b[0m\n\u001b[0m",
            "\u001b[0;32m<ipython-input-149-611a5a9284a3>\u001b[0m in \u001b[0;36mplot_graph\u001b[0;34m(nxg)\u001b[0m\n\u001b[1;32m      4\u001b[0m \u001b[0;32mdef\u001b[0m \u001b[0mplot_graph\u001b[0m\u001b[0;34m(\u001b[0m\u001b[0mnxg\u001b[0m\u001b[0;34m)\u001b[0m\u001b[0;34m:\u001b[0m\u001b[0;34m\u001b[0m\u001b[0;34m\u001b[0m\u001b[0m\n\u001b[1;32m      5\u001b[0m     \u001b[0mag\u001b[0m \u001b[0;34m=\u001b[0m \u001b[0mpgv\u001b[0m\u001b[0;34m.\u001b[0m\u001b[0mAGraph\u001b[0m\u001b[0;34m(\u001b[0m\u001b[0mstrict\u001b[0m\u001b[0;34m=\u001b[0m\u001b[0;32mFalse\u001b[0m\u001b[0;34m,\u001b[0m \u001b[0mdirected\u001b[0m\u001b[0;34m=\u001b[0m\u001b[0;32mTrue\u001b[0m\u001b[0;34m)\u001b[0m\u001b[0;34m\u001b[0m\u001b[0;34m\u001b[0m\u001b[0m\n\u001b[0;32m----> 6\u001b[0;31m     \u001b[0;32mfor\u001b[0m \u001b[0mu\u001b[0m\u001b[0;34m,\u001b[0m \u001b[0mv\u001b[0m\u001b[0;34m,\u001b[0m \u001b[0mk\u001b[0m \u001b[0;32min\u001b[0m \u001b[0mnxg\u001b[0m\u001b[0;34m.\u001b[0m\u001b[0medges\u001b[0m\u001b[0;34m(\u001b[0m\u001b[0mkeys\u001b[0m\u001b[0;34m=\u001b[0m\u001b[0;32mTrue\u001b[0m\u001b[0;34m)\u001b[0m\u001b[0;34m:\u001b[0m\u001b[0;34m\u001b[0m\u001b[0;34m\u001b[0m\u001b[0m\n\u001b[0m\u001b[1;32m      7\u001b[0m         \u001b[0mag\u001b[0m\u001b[0;34m.\u001b[0m\u001b[0madd_edge\u001b[0m\u001b[0;34m(\u001b[0m\u001b[0mu\u001b[0m\u001b[0;34m,\u001b[0m \u001b[0mv\u001b[0m\u001b[0;34m,\u001b[0m \u001b[0mlabel\u001b[0m\u001b[0;34m=\u001b[0m\u001b[0mk\u001b[0m\u001b[0;34m)\u001b[0m\u001b[0;34m\u001b[0m\u001b[0;34m\u001b[0m\u001b[0m\n\u001b[1;32m      8\u001b[0m     \u001b[0mag\u001b[0m\u001b[0;34m.\u001b[0m\u001b[0mlayout\u001b[0m\u001b[0;34m(\u001b[0m\u001b[0;34m'dot'\u001b[0m\u001b[0;34m)\u001b[0m\u001b[0;34m\u001b[0m\u001b[0;34m\u001b[0m\u001b[0m\n",
            "\u001b[0;31mAttributeError\u001b[0m: 'int' object has no attribute 'edges'"
          ]
        }
      ]
    },
    {
      "cell_type": "markdown",
      "source": [
        "### Конец визуализации"
      ],
      "metadata": {
        "id": "9Bav_0xcw1s8"
      },
      "id": "9Bav_0xcw1s8"
    },
    {
      "cell_type": "code",
      "source": [
        "class SAGE(nn.Module):\n",
        "    def __init__(self, hidden_channels, num_layers):\n",
        "        super(SAGE, self).__init__()\n",
        "        self.num_layers = num_layers\n",
        "        self.convs = nn.ModuleList()\n",
        "        \n",
        "        for i in range(num_layers):\n",
        "            if i == 0:\n",
        "              self.convs.append(SAGEConv((-1, -1), hidden_channels))\n",
        "            else:\n",
        "              self.convs.append(SAGEConv(hidden_channels, hidden_channels))\n",
        "\n",
        "    def forward(self, x, adjs):\n",
        "        for i, (edge_index, _, size) in enumerate(adjs):\n",
        "            x_target = x[:size[1]]  # Target nodes are always placed first.\n",
        "            x = self.convs[i]((x, x_target), edge_index)\n",
        "            if i != self.num_layers - 1:\n",
        "                x = x.relu()\n",
        "                x = F.dropout(x, p=0.5, training=self.training)\n",
        "        return x\n",
        "\n",
        "    def full_forward(self, x, edge_index):\n",
        "        for i, conv in enumerate(self.convs):\n",
        "            x = conv(x, edge_index)\n",
        "            if i != self.num_layers - 1:\n",
        "                x = x.relu()\n",
        "                x = F.dropout(x, p=0.5, training=self.training)\n",
        "        return x"
      ],
      "metadata": {
        "id": "D0puZzdeJ0uK"
      },
      "id": "D0puZzdeJ0uK",
      "execution_count": null,
      "outputs": []
    },
    {
      "cell_type": "code",
      "source": [
        "class SAGE(nn.Module):\n",
        "    def __init__(self, in_channels, hidden_channels, num_layers):\n",
        "        super(SAGE, self).__init__()\n",
        "        self.num_layers = num_layers\n",
        "        self.convs = nn.ModuleList()\n",
        "        \n",
        "        for i in range(num_layers):\n",
        "            in_channels = in_channels if i == 0 else hidden_channels\n",
        "            self.convs.append(SAGEConv(in_channels, hidden_channels))\n",
        "\n",
        "    def forward(self, x, adjs):\n",
        "        for i, (edge_index, _, size) in enumerate(adjs):\n",
        "            x_target = x[:size[1]]  # Target nodes are always placed first.\n",
        "            #print(x, x_target)\n",
        "            x = self.convs[i]((x, x_target), edge_index)\n",
        "            if i != self.num_layers - 1:\n",
        "                x = x.relu()\n",
        "                x = F.dropout(x, p=0.5, training=self.training)\n",
        "        return x\n",
        "\n",
        "    def full_forward(self, x, edge_index):\n",
        "        for i, conv in enumerate(self.convs):\n",
        "            x = conv(x, edge_index)\n",
        "            if i != self.num_layers - 1:\n",
        "                x = x.relu()\n",
        "                x = F.dropout(x, p=0.5, training=self.training)\n",
        "        return x"
      ],
      "metadata": {
        "id": "013QDecIxdQB"
      },
      "id": "013QDecIxdQB",
      "execution_count": null,
      "outputs": []
    },
    {
      "cell_type": "code",
      "source": [
        ""
      ],
      "metadata": {
        "id": "MZUlV2vLxdXG"
      },
      "id": "MZUlV2vLxdXG",
      "execution_count": null,
      "outputs": []
    },
    {
      "cell_type": "code",
      "source": [
        "import torch_geometric.transforms as T\n",
        "from torch_geometric.datasets import OGB_MAG\n",
        "from torch_geometric.nn import SAGEConv, to_hetero\n",
        "\n",
        "\n",
        "# dataset = OGB_MAG(root='./data', preprocess='metapath2vec', transform=T.ToUndirected())\n",
        "# data = dataset[0]\n",
        "\n",
        "class GNN(torch.nn.Module):\n",
        "    def __init__(self, hidden_channels):\n",
        "        super().__init__()\n",
        "        self.conv1 = SAGEConv((-1, -1), hidden_channels)\n",
        "        self.conv2 = SAGEConv((-1, -1), hidden_channels)\n",
        "\n",
        "    def forward(self, x, edge_index):\n",
        "        x = self.conv1(x, edge_index).relu()\n",
        "        x = self.conv2(x, edge_index)\n",
        "        return x\n",
        "\n",
        "\n",
        "model = GNN(hidden_channels=64)\n",
        "model = to_hetero(model, data.metadata(), aggr='sum')"
      ],
      "metadata": {
        "id": "Bvn7KkvpLdW5"
      },
      "id": "Bvn7KkvpLdW5",
      "execution_count": 34,
      "outputs": []
    },
    {
      "cell_type": "code",
      "execution_count": 35,
      "id": "ba70acc4",
      "metadata": {
        "id": "ba70acc4"
      },
      "outputs": [],
      "source": [
        "device = torch.device('cuda' if torch.cuda.is_available() else 'cpu')\n",
        "model = model.to(device)\n",
        "optimizer = torch.optim.Adam(model.parameters(), lr=0.01)\n",
        "#x, edge_index = data['user'].x.to(device), data['buys'].edge_index.to(device)"
      ]
    },
    {
      "cell_type": "code",
      "source": [
        "def train():\n",
        "    model.train()\n",
        "\n",
        "    total_loss = 0\n",
        "    for batch_size, n_id, adjs in train_loader:\n",
        "        # `adjs` holds a list of `(edge_index, e_id, size)` tuples.\n",
        "        adjs = [adj.to(device) for adj in adjs]\n",
        "        optimizer.zero_grad()\n",
        "\n",
        "        out = model(x[n_id], adjs)\n",
        "        out, pos_out, neg_out = out.split(out.size(0) // 3, dim=0)\n",
        "\n",
        "        pos_loss = F.logsigmoid((out * pos_out).sum(-1)).mean()\n",
        "        neg_loss = F.logsigmoid(-(out * neg_out).sum(-1)).mean()\n",
        "        loss = -pos_loss - neg_loss\n",
        "        loss.backward()\n",
        "        optimizer.step()\n",
        "\n",
        "        total_loss += float(loss) * out.size(0)\n",
        "\n",
        "    return total_loss / data.num_nodes"
      ],
      "metadata": {
        "id": "i9xFOu-fQbeU"
      },
      "id": "i9xFOu-fQbeU",
      "execution_count": null,
      "outputs": []
    },
    {
      "cell_type": "code",
      "source": [
        "loss = train()"
      ],
      "metadata": {
        "id": "URqVwYEJbh5A",
        "colab": {
          "base_uri": "https://localhost:8080/",
          "height": 287
        },
        "outputId": "cb13f791-2e8c-4991-b74d-409ff430edd0"
      },
      "id": "URqVwYEJbh5A",
      "execution_count": null,
      "outputs": [
        {
          "output_type": "error",
          "ename": "IndexError",
          "evalue": "ignored",
          "traceback": [
            "\u001b[0;31m---------------------------------------------------------------------------\u001b[0m",
            "\u001b[0;31mIndexError\u001b[0m                                Traceback (most recent call last)",
            "\u001b[0;32m<ipython-input-58-cd49882ad843>\u001b[0m in \u001b[0;36m<module>\u001b[0;34m()\u001b[0m\n\u001b[0;32m----> 1\u001b[0;31m \u001b[0mloss\u001b[0m \u001b[0;34m=\u001b[0m \u001b[0mtrain\u001b[0m\u001b[0;34m(\u001b[0m\u001b[0;34m)\u001b[0m\u001b[0;34m\u001b[0m\u001b[0;34m\u001b[0m\u001b[0m\n\u001b[0m",
            "\u001b[0;32m<ipython-input-57-29814880710e>\u001b[0m in \u001b[0;36mtrain\u001b[0;34m()\u001b[0m\n\u001b[1;32m      8\u001b[0m         \u001b[0moptimizer\u001b[0m\u001b[0;34m.\u001b[0m\u001b[0mzero_grad\u001b[0m\u001b[0;34m(\u001b[0m\u001b[0;34m)\u001b[0m\u001b[0;34m\u001b[0m\u001b[0;34m\u001b[0m\u001b[0m\n\u001b[1;32m      9\u001b[0m \u001b[0;34m\u001b[0m\u001b[0m\n\u001b[0;32m---> 10\u001b[0;31m         \u001b[0mout\u001b[0m \u001b[0;34m=\u001b[0m \u001b[0mmodel\u001b[0m\u001b[0;34m(\u001b[0m\u001b[0mx\u001b[0m\u001b[0;34m[\u001b[0m\u001b[0mn_id\u001b[0m\u001b[0;34m]\u001b[0m\u001b[0;34m,\u001b[0m \u001b[0madjs\u001b[0m\u001b[0;34m)\u001b[0m\u001b[0;34m\u001b[0m\u001b[0;34m\u001b[0m\u001b[0m\n\u001b[0m\u001b[1;32m     11\u001b[0m         \u001b[0mout\u001b[0m\u001b[0;34m,\u001b[0m \u001b[0mpos_out\u001b[0m\u001b[0;34m,\u001b[0m \u001b[0mneg_out\u001b[0m \u001b[0;34m=\u001b[0m \u001b[0mout\u001b[0m\u001b[0;34m.\u001b[0m\u001b[0msplit\u001b[0m\u001b[0;34m(\u001b[0m\u001b[0mout\u001b[0m\u001b[0;34m.\u001b[0m\u001b[0msize\u001b[0m\u001b[0;34m(\u001b[0m\u001b[0;36m0\u001b[0m\u001b[0;34m)\u001b[0m \u001b[0;34m//\u001b[0m \u001b[0;36m3\u001b[0m\u001b[0;34m,\u001b[0m \u001b[0mdim\u001b[0m\u001b[0;34m=\u001b[0m\u001b[0;36m0\u001b[0m\u001b[0;34m)\u001b[0m\u001b[0;34m\u001b[0m\u001b[0;34m\u001b[0m\u001b[0m\n\u001b[1;32m     12\u001b[0m \u001b[0;34m\u001b[0m\u001b[0m\n",
            "\u001b[0;31mIndexError\u001b[0m: index 4 is out of bounds for dimension 0 with size 3"
          ]
        }
      ]
    },
    {
      "cell_type": "code",
      "source": [
        ""
      ],
      "metadata": {
        "id": "xQARoKnObh9S"
      },
      "id": "xQARoKnObh9S",
      "execution_count": null,
      "outputs": []
    },
    {
      "cell_type": "markdown",
      "source": [
        "### https://pytorch-geometric.readthedocs.io/en/latest/notes/heterogeneous.html"
      ],
      "metadata": {
        "id": "nvm2kA2L_7jI"
      },
      "id": "nvm2kA2L_7jI"
    },
    {
      "cell_type": "code",
      "source": [
        "import torch_geometric.transforms as T\n",
        "from torch_geometric.datasets import OGB_MAG\n",
        "from torch_geometric.nn import SAGEConv, to_hetero\n",
        "\n",
        "\n",
        "dataset = OGB_MAG(root='./data', preprocess='metapath2vec', transform=T.ToUndirected())\n",
        "data = dataset[0]\n",
        "\n",
        "class GNN(torch.nn.Module):\n",
        "    def __init__(self, hidden_channels, out_channels):\n",
        "        super().__init__()\n",
        "        self.conv1 = SAGEConv((-1, -1), hidden_channels)\n",
        "        self.conv2 = SAGEConv((-1, -1), out_channels)\n",
        "\n",
        "    def forward(self, x, edge_index):\n",
        "        x = self.conv1(x, edge_index).relu()\n",
        "        x = self.conv2(x, edge_index)\n",
        "        return x\n",
        "\n",
        "\n",
        "model = GNN(hidden_channels=64, out_channels=dataset.num_classes)\n",
        "model = to_hetero(model, data.metadata(), aggr='sum')"
      ],
      "metadata": {
        "id": "3LBBohmLANU8"
      },
      "id": "3LBBohmLANU8",
      "execution_count": 29,
      "outputs": []
    },
    {
      "cell_type": "code",
      "source": [
        "model.to(device)"
      ],
      "metadata": {
        "colab": {
          "base_uri": "https://localhost:8080/",
          "height": 166
        },
        "id": "qaksQAOPJtqB",
        "outputId": "bfef12e8-3fb4-4f9f-99b6-c6a849aea3f1"
      },
      "id": "qaksQAOPJtqB",
      "execution_count": 28,
      "outputs": [
        {
          "output_type": "error",
          "ename": "NameError",
          "evalue": "ignored",
          "traceback": [
            "\u001b[0;31m---------------------------------------------------------------------------\u001b[0m",
            "\u001b[0;31mNameError\u001b[0m                                 Traceback (most recent call last)",
            "\u001b[0;32m<ipython-input-28-7750c7ee2c4e>\u001b[0m in \u001b[0;36m<module>\u001b[0;34m()\u001b[0m\n\u001b[0;32m----> 1\u001b[0;31m \u001b[0mmodel\u001b[0m\u001b[0;34m.\u001b[0m\u001b[0mto\u001b[0m\u001b[0;34m(\u001b[0m\u001b[0mdevice\u001b[0m\u001b[0;34m)\u001b[0m\u001b[0;34m\u001b[0m\u001b[0;34m\u001b[0m\u001b[0m\n\u001b[0m",
            "\u001b[0;31mNameError\u001b[0m: name 'model' is not defined"
          ]
        }
      ]
    },
    {
      "cell_type": "code",
      "source": [
        "import torch_geometric.transforms as T\n",
        "from torch_geometric.datasets import OGB_MAG\n",
        "from torch_geometric.loader import NeighborLoader\n",
        "\n",
        "transform = T.ToUndirected()  # Add reverse edge types.\n",
        "data = OGB_MAG(root='./data', preprocess='metapath2vec', transform=transform)[0]\n",
        "\n",
        "train_loader = NeighborLoader(\n",
        "    data,\n",
        "    # Sample 15 neighbors for each node and each edge type for 2 iterations:\n",
        "    num_neighbors=[5] * 2,\n",
        "    # Use a batch size of 128 for sampling training nodes of type \"paper\":\n",
        "    batch_size=128,\n",
        "    input_nodes=('paper', data['paper'].train_mask),\n",
        ")\n",
        "\n",
        "batch_ = next(iter(train_loader))"
      ],
      "metadata": {
        "id": "nHiMzS9aANrY"
      },
      "id": "nHiMzS9aANrY",
      "execution_count": 30,
      "outputs": []
    },
    {
      "cell_type": "code",
      "source": [
        "def train():\n",
        "    model.train()\n",
        "\n",
        "    total_examples = total_loss = 0\n",
        "    for batch in train_loader:\n",
        "        optimizer.zero_grad()\n",
        "        batch = batch.to('cuda:0')\n",
        "        batch_size = batch['paper'].batch_size\n",
        "        out = model(batch.x_dict, batch.edge_index_dict)\n",
        "        loss = F.cross_entropy(out['paper'][:batch_size],\n",
        "                               batch['paper'].y[:batch_size])\n",
        "        loss.backward()\n",
        "        optimizer.step()\n",
        "\n",
        "        total_examples += batch_size\n",
        "        total_loss += float(loss) * batch_size\n",
        "\n",
        "    return total_loss / total_examples"
      ],
      "metadata": {
        "id": "loCuA9lWA4Og"
      },
      "id": "loCuA9lWA4Og",
      "execution_count": 7,
      "outputs": []
    },
    {
      "cell_type": "code",
      "source": [
        "for _ in range(5):\n",
        "  loss = train()\n",
        "  print(loss)"
      ],
      "metadata": {
        "colab": {
          "base_uri": "https://localhost:8080/"
        },
        "id": "fZq8VjnXA73a",
        "outputId": "b727707a-6436-4716-844d-413393e55ec4"
      },
      "id": "fZq8VjnXA73a",
      "execution_count": 15,
      "outputs": [
        {
          "output_type": "stream",
          "name": "stdout",
          "text": [
            "2.460340871522056\n",
            "2.421613215654865\n",
            "2.418862276977774\n",
            "2.4105351814238567\n",
            "2.408808349571423\n"
          ]
        }
      ]
    },
    {
      "cell_type": "code",
      "source": [
        ""
      ],
      "metadata": {
        "id": "jvY4AjI9BC5i"
      },
      "id": "jvY4AjI9BC5i",
      "execution_count": null,
      "outputs": []
    },
    {
      "cell_type": "markdown",
      "source": [
        "### Link prediction with dgl"
      ],
      "metadata": {
        "id": "mOIE_cl_nd5Z"
      },
      "id": "mOIE_cl_nd5Z"
    },
    {
      "cell_type": "code",
      "source": [
        "import dgl\n",
        "import torch\n",
        "import torch.nn as nn\n",
        "import torch.nn.functional as F\n",
        "import itertools\n",
        "import numpy as np\n",
        "import scipy.sparse as sp"
      ],
      "metadata": {
        "colab": {
          "base_uri": "https://localhost:8080/",
          "height": 374
        },
        "id": "Gh2OF477ngDt",
        "outputId": "ebfb2e39-a21a-43be-9531-1aa844b45c24"
      },
      "id": "Gh2OF477ngDt",
      "execution_count": 1,
      "outputs": [
        {
          "output_type": "error",
          "ename": "ModuleNotFoundError",
          "evalue": "ignored",
          "traceback": [
            "\u001b[0;31m---------------------------------------------------------------------------\u001b[0m",
            "\u001b[0;31mModuleNotFoundError\u001b[0m                       Traceback (most recent call last)",
            "\u001b[0;32m<ipython-input-1-cdd5d0ae801d>\u001b[0m in \u001b[0;36m<module>\u001b[0;34m()\u001b[0m\n\u001b[0;32m----> 1\u001b[0;31m \u001b[0;32mimport\u001b[0m \u001b[0mdgl\u001b[0m\u001b[0;34m\u001b[0m\u001b[0;34m\u001b[0m\u001b[0m\n\u001b[0m\u001b[1;32m      2\u001b[0m \u001b[0;32mimport\u001b[0m \u001b[0mtorch\u001b[0m\u001b[0;34m\u001b[0m\u001b[0;34m\u001b[0m\u001b[0m\n\u001b[1;32m      3\u001b[0m \u001b[0;32mimport\u001b[0m \u001b[0mtorch\u001b[0m\u001b[0;34m.\u001b[0m\u001b[0mnn\u001b[0m \u001b[0;32mas\u001b[0m \u001b[0mnn\u001b[0m\u001b[0;34m\u001b[0m\u001b[0;34m\u001b[0m\u001b[0m\n\u001b[1;32m      4\u001b[0m \u001b[0;32mimport\u001b[0m \u001b[0mtorch\u001b[0m\u001b[0;34m.\u001b[0m\u001b[0mnn\u001b[0m\u001b[0;34m.\u001b[0m\u001b[0mfunctional\u001b[0m \u001b[0;32mas\u001b[0m \u001b[0mF\u001b[0m\u001b[0;34m\u001b[0m\u001b[0;34m\u001b[0m\u001b[0m\n\u001b[1;32m      5\u001b[0m \u001b[0;32mimport\u001b[0m \u001b[0mitertools\u001b[0m\u001b[0;34m\u001b[0m\u001b[0;34m\u001b[0m\u001b[0m\n",
            "\u001b[0;31mModuleNotFoundError\u001b[0m: No module named 'dgl'",
            "",
            "\u001b[0;31m---------------------------------------------------------------------------\u001b[0;32m\nNOTE: If your import is failing due to a missing package, you can\nmanually install dependencies using either !pip or !apt.\n\nTo view examples of installing some common dependencies, click the\n\"Open Examples\" button below.\n\u001b[0;31m---------------------------------------------------------------------------\u001b[0m\n"
          ],
          "errorDetails": {
            "actions": [
              {
                "action": "open_url",
                "actionText": "Open Examples",
                "url": "/notebooks/snippets/importing_libraries.ipynb"
              }
            ]
          }
        }
      ]
    },
    {
      "cell_type": "code",
      "source": [
        ""
      ],
      "metadata": {
        "id": "_pZfS002nzV2"
      },
      "id": "_pZfS002nzV2",
      "execution_count": null,
      "outputs": []
    },
    {
      "cell_type": "markdown",
      "source": [
        "### [Link Prediction Recommendation Engines with Node2Vec](https://towardsdatascience.com/link-prediction-recommendation-engines-with-node2vec-c97c429351a8)"
      ],
      "metadata": {
        "id": "btriI1Sm_cbr"
      },
      "id": "btriI1Sm_cbr"
    },
    {
      "cell_type": "code",
      "source": [
        "!pip3 install arxiv\n",
        "!pip3 install node2vec"
      ],
      "metadata": {
        "colab": {
          "base_uri": "https://localhost:8080/"
        },
        "id": "CTW3Yl-ITc97",
        "outputId": "4565103b-76f4-46b2-8efe-52db06763a04"
      },
      "id": "CTW3Yl-ITc97",
      "execution_count": 4,
      "outputs": [
        {
          "output_type": "stream",
          "name": "stdout",
          "text": [
            "Requirement already satisfied: arxiv in /usr/local/lib/python3.7/dist-packages (1.4.2)\n",
            "Requirement already satisfied: feedparser in /usr/local/lib/python3.7/dist-packages (from arxiv) (6.0.8)\n",
            "Requirement already satisfied: sgmllib3k in /usr/local/lib/python3.7/dist-packages (from feedparser->arxiv) (1.0.0)\n",
            "Collecting node2vec\n",
            "  Downloading node2vec-0.4.3.tar.gz (4.6 kB)\n",
            "Requirement already satisfied: networkx in /usr/local/lib/python3.7/dist-packages (from node2vec) (2.6.3)\n",
            "Requirement already satisfied: gensim in /usr/local/lib/python3.7/dist-packages (from node2vec) (3.6.0)\n",
            "Requirement already satisfied: numpy in /usr/local/lib/python3.7/dist-packages (from node2vec) (1.21.6)\n",
            "Requirement already satisfied: tqdm in /usr/local/lib/python3.7/dist-packages (from node2vec) (4.64.0)\n",
            "Requirement already satisfied: joblib>=0.13.2 in /usr/local/lib/python3.7/dist-packages (from node2vec) (1.1.0)\n",
            "Requirement already satisfied: smart-open>=1.2.1 in /usr/local/lib/python3.7/dist-packages (from gensim->node2vec) (6.0.0)\n",
            "Requirement already satisfied: six>=1.5.0 in /usr/local/lib/python3.7/dist-packages (from gensim->node2vec) (1.15.0)\n",
            "Requirement already satisfied: scipy>=0.18.1 in /usr/local/lib/python3.7/dist-packages (from gensim->node2vec) (1.4.1)\n",
            "Building wheels for collected packages: node2vec\n",
            "  Building wheel for node2vec (setup.py) ... \u001b[?25l\u001b[?25hdone\n",
            "  Created wheel for node2vec: filename=node2vec-0.4.3-py3-none-any.whl size=5980 sha256=02a5d0d199dd25dfadd897f93f247ccee8d797c4d5ab6f3119e279b411fd4c36\n",
            "  Stored in directory: /root/.cache/pip/wheels/07/62/78/5202cb8c03cbf1593b48a8a442fca8ceec2a8c80e22318bae9\n",
            "Successfully built node2vec\n",
            "Installing collected packages: node2vec\n",
            "Successfully installed node2vec-0.4.3\n"
          ]
        }
      ]
    },
    {
      "cell_type": "code",
      "source": [
        "import networkx as nx\n",
        "import pandas as pd\n",
        "import numpy as np\n",
        "import arxiv\n",
        "\n",
        "from sklearn.ensemble import GradientBoostingClassifier\n",
        "from sklearn.model_selection import train_test_split\n",
        "from sklearn.metrics import accuracy_score, matthews_corrcoef, confusion_matrix, classification_report\n",
        "from itertools import product\n",
        "from sklearn.metrics.pairwise import cosine_similarity\n",
        "from node2vec import Node2Vec as n2v\n",
        "\n",
        "# constants\n",
        "queries = [\n",
        "    'automl', 'machinelearning', 'data', 'phyiscs','mathematics', 'recommendation system', 'nlp', 'neural networks'\n",
        "]\n",
        "\n",
        "def search_arxiv(queries, max_results = 100):\n",
        "    '''\n",
        "    This function will search arxiv associated to a set of queries and store\n",
        "    the latest 10000 (max_results) associated to that search.\n",
        "    \n",
        "    params:\n",
        "        queries (List -> Str) : A list of strings containing keywords you want\n",
        "                                to search on Arxiv\n",
        "        max_results (Int) : The maximum number of results you want to see associated\n",
        "                            to your search. Default value is 1000, capped at 300000\n",
        "                            \n",
        "    returns:\n",
        "        This function will return a DataFrame holding the following columns associated\n",
        "        to the queries the user has passed. \n",
        "            `title`, `date`, `article_id`, `url`, `main_topic`, `all_topics`\n",
        "    \n",
        "    example:\n",
        "        research_df = search_arxiv(\n",
        "            queries = ['automl', 'recommender system', 'nlp', 'data science'],\n",
        "            max_results = 10000\n",
        "        )\n",
        "    '''\n",
        "    d = []\n",
        "    searches = []\n",
        "    # hitting the API\n",
        "    for query in queries:\n",
        "        search = arxiv.Search(\n",
        "          query = query,\n",
        "          max_results = max_results,\n",
        "          sort_by = arxiv.SortCriterion.SubmittedDate,\n",
        "          sort_order = arxiv.SortOrder.Descending\n",
        "        )\n",
        "        searches.append(search)\n",
        "    \n",
        "    # Converting search result into df\n",
        "    for search in searches:\n",
        "        for res in search.results():\n",
        "            data = {\n",
        "                'title' : res.title,\n",
        "                'date' : res.published,\n",
        "                'article_id' : res.entry_id,\n",
        "                'url' : res.pdf_url,\n",
        "                'main_topic' : res.primary_category,\n",
        "                'all_topics' : res.categories,\n",
        "                'authors' : res.authors\n",
        "            }\n",
        "            d.append(data)\n",
        "        \n",
        "    d = pd.DataFrame(d)\n",
        "    d['year'] = pd.DatetimeIndex(d['date']).year\n",
        "    \n",
        "    # change article id from url to integer\n",
        "    unique_article_ids = d.article_id.unique()\n",
        "    article_mapping = {art:idx for idx,art in enumerate(unique_article_ids)}\n",
        "    d['article_id'] = d['article_id'].map(article_mapping)\n",
        "    return d\n",
        "  \n",
        "research_df = search_arxiv(\n",
        "    queries = queries,\n",
        "    max_results = 100\n",
        ")\n",
        "print(research_df.shape)"
      ],
      "metadata": {
        "colab": {
          "base_uri": "https://localhost:8080/"
        },
        "id": "esDK7L8S_qMf",
        "outputId": "311f81c6-d859-4619-fc4f-f1d971e757b5"
      },
      "id": "esDK7L8S_qMf",
      "execution_count": 5,
      "outputs": [
        {
          "output_type": "stream",
          "name": "stdout",
          "text": [
            "(646, 8)\n"
          ]
        }
      ]
    },
    {
      "cell_type": "code",
      "source": [
        ""
      ],
      "metadata": {
        "id": "cfP58QOlTbhc"
      },
      "id": "cfP58QOlTbhc",
      "execution_count": null,
      "outputs": []
    }
  ],
  "metadata": {
    "kernelspec": {
      "display_name": "Python 3 (ipykernel)",
      "language": "python",
      "name": "python3"
    },
    "language_info": {
      "codemirror_mode": {
        "name": "ipython",
        "version": 3
      },
      "file_extension": ".py",
      "mimetype": "text/x-python",
      "name": "python",
      "nbconvert_exporter": "python",
      "pygments_lexer": "ipython3",
      "version": "3.9.12"
    },
    "colab": {
      "name": "Personalized_RecSys_GNN.ipynb",
      "provenance": [],
      "collapsed_sections": [
        "093fdbb5",
        "Xg-GWjrAi0TX",
        "8sGweXRRz3WN"
      ],
      "include_colab_link": true
    },
    "accelerator": "GPU"
  },
  "nbformat": 4,
  "nbformat_minor": 5
}