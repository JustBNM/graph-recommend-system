{
  "cells": [
    {
      "cell_type": "markdown",
      "metadata": {
        "id": "view-in-github",
        "colab_type": "text"
      },
      "source": [
        "<a href=\"https://colab.research.google.com/github/JustBNM/graph-recommend-system/blob/main/Personalized_RecSys_GNN.ipynb\" target=\"_parent\"><img src=\"https://colab.research.google.com/assets/colab-badge.svg\" alt=\"Open In Colab\"/></a>"
      ]
    },
    {
      "cell_type": "markdown",
      "id": "6fbafe8c",
      "metadata": {
        "id": "6fbafe8c"
      },
      "source": [
        "# Установка и подключение библиотек"
      ]
    },
    {
      "cell_type": "code",
      "execution_count": 7,
      "id": "03718a23",
      "metadata": {
        "colab": {
          "base_uri": "https://localhost:8080/"
        },
        "id": "03718a23",
        "outputId": "dfa953a8-2a5d-428d-c1cc-2cd5a1ba5bac"
      },
      "outputs": [
        {
          "output_type": "stream",
          "name": "stdout",
          "text": [
            "Looking in links: https://pytorch-geometric.com/whl/torch-1.11.0+cu113.html\n",
            "Collecting torch-scatter\n",
            "  Downloading https://data.pyg.org/whl/torch-1.11.0%2Bcu113/torch_scatter-2.0.9-cp37-cp37m-linux_x86_64.whl (7.9 MB)\n",
            "\u001b[K     |████████████████████████████████| 7.9 MB 4.3 MB/s \n",
            "\u001b[?25hInstalling collected packages: torch-scatter\n",
            "Successfully installed torch-scatter-2.0.9\n",
            "Looking in links: https://pytorch-geometric.com/whl/torch-1.11.0+cu113.html\n",
            "Collecting torch-sparse\n",
            "  Downloading https://data.pyg.org/whl/torch-1.11.0%2Bcu113/torch_sparse-0.6.13-cp37-cp37m-linux_x86_64.whl (3.5 MB)\n",
            "\u001b[K     |████████████████████████████████| 3.5 MB 4.0 MB/s \n",
            "\u001b[?25hRequirement already satisfied: scipy in /usr/local/lib/python3.7/dist-packages (from torch-sparse) (1.4.1)\n",
            "Requirement already satisfied: numpy>=1.13.3 in /usr/local/lib/python3.7/dist-packages (from scipy->torch-sparse) (1.21.6)\n",
            "Installing collected packages: torch-sparse\n",
            "Successfully installed torch-sparse-0.6.13\n",
            "Looking in links: https://pytorch-geometric.com/whl/torch-1.11.0+cu113.html\n",
            "Collecting torch-cluster\n",
            "  Downloading https://data.pyg.org/whl/torch-1.11.0%2Bcu113/torch_cluster-1.6.0-cp37-cp37m-linux_x86_64.whl (2.5 MB)\n",
            "\u001b[K     |████████████████████████████████| 2.5 MB 3.8 MB/s \n",
            "\u001b[?25hInstalling collected packages: torch-cluster\n",
            "Successfully installed torch-cluster-1.6.0\n",
            "Looking in links: https://pytorch-geometric.com/whl/torch-1.11.0+cu113.html\n",
            "Collecting torch-spline-conv\n",
            "  Downloading https://data.pyg.org/whl/torch-1.11.0%2Bcu113/torch_spline_conv-1.2.1-cp37-cp37m-linux_x86_64.whl (750 kB)\n",
            "\u001b[K     |████████████████████████████████| 750 kB 4.3 MB/s \n",
            "\u001b[?25hInstalling collected packages: torch-spline-conv\n",
            "Successfully installed torch-spline-conv-1.2.1\n",
            "Collecting torch-geometric\n",
            "  Downloading torch_geometric-2.0.4.tar.gz (407 kB)\n",
            "\u001b[K     |████████████████████████████████| 407 kB 4.2 MB/s \n",
            "\u001b[?25hRequirement already satisfied: tqdm in /usr/local/lib/python3.7/dist-packages (from torch-geometric) (4.64.0)\n",
            "Requirement already satisfied: numpy in /usr/local/lib/python3.7/dist-packages (from torch-geometric) (1.21.6)\n",
            "Requirement already satisfied: scipy in /usr/local/lib/python3.7/dist-packages (from torch-geometric) (1.4.1)\n",
            "Requirement already satisfied: pandas in /usr/local/lib/python3.7/dist-packages (from torch-geometric) (1.3.5)\n",
            "Requirement already satisfied: jinja2 in /usr/local/lib/python3.7/dist-packages (from torch-geometric) (2.11.3)\n",
            "Requirement already satisfied: requests in /usr/local/lib/python3.7/dist-packages (from torch-geometric) (2.23.0)\n",
            "Requirement already satisfied: pyparsing in /usr/local/lib/python3.7/dist-packages (from torch-geometric) (3.0.8)\n",
            "Requirement already satisfied: scikit-learn in /usr/local/lib/python3.7/dist-packages (from torch-geometric) (1.0.2)\n",
            "Requirement already satisfied: MarkupSafe>=0.23 in /usr/local/lib/python3.7/dist-packages (from jinja2->torch-geometric) (2.0.1)\n",
            "Requirement already satisfied: python-dateutil>=2.7.3 in /usr/local/lib/python3.7/dist-packages (from pandas->torch-geometric) (2.8.2)\n",
            "Requirement already satisfied: pytz>=2017.3 in /usr/local/lib/python3.7/dist-packages (from pandas->torch-geometric) (2022.1)\n",
            "Requirement already satisfied: six>=1.5 in /usr/local/lib/python3.7/dist-packages (from python-dateutil>=2.7.3->pandas->torch-geometric) (1.15.0)\n",
            "Requirement already satisfied: certifi>=2017.4.17 in /usr/local/lib/python3.7/dist-packages (from requests->torch-geometric) (2021.10.8)\n",
            "Requirement already satisfied: urllib3!=1.25.0,!=1.25.1,<1.26,>=1.21.1 in /usr/local/lib/python3.7/dist-packages (from requests->torch-geometric) (1.24.3)\n",
            "Requirement already satisfied: idna<3,>=2.5 in /usr/local/lib/python3.7/dist-packages (from requests->torch-geometric) (2.10)\n",
            "Requirement already satisfied: chardet<4,>=3.0.2 in /usr/local/lib/python3.7/dist-packages (from requests->torch-geometric) (3.0.4)\n",
            "Requirement already satisfied: threadpoolctl>=2.0.0 in /usr/local/lib/python3.7/dist-packages (from scikit-learn->torch-geometric) (3.1.0)\n",
            "Requirement already satisfied: joblib>=0.11 in /usr/local/lib/python3.7/dist-packages (from scikit-learn->torch-geometric) (1.1.0)\n",
            "Building wheels for collected packages: torch-geometric\n",
            "  Building wheel for torch-geometric (setup.py) ... \u001b[?25l\u001b[?25hdone\n",
            "  Created wheel for torch-geometric: filename=torch_geometric-2.0.4-py3-none-any.whl size=616603 sha256=08ffbc9f7b6242701289783e6918d8d20a360e4f665e22e9a1e0038b0d577b6d\n",
            "  Stored in directory: /root/.cache/pip/wheels/18/a6/a4/ca18c3051fcead866fe7b85700ee2240d883562a1bc70ce421\n",
            "Successfully built torch-geometric\n",
            "Installing collected packages: torch-geometric\n",
            "Successfully installed torch-geometric-2.0.4\n"
          ]
        }
      ],
      "source": [
        "#!pip3 install torch --upgrade\n",
        "import torch\n",
        "\n",
        "def format_pytorch_version(version):\n",
        "  return version.split('+')[0]\n",
        "\n",
        "TORCH_version = torch.__version__\n",
        "TORCH = format_pytorch_version(TORCH_version)\n",
        "\n",
        "def format_cuda_version(version):\n",
        "  return 'cu' + version.replace('.', '')\n",
        "\n",
        "CUDA_version = torch.version.cuda\n",
        "CUDA = format_cuda_version(CUDA_version)\n",
        "\n",
        "!pip install torch-scatter     -f https://pytorch-geometric.com/whl/torch-{TORCH}+{CUDA}.html\n",
        "!pip install torch-sparse      -f https://pytorch-geometric.com/whl/torch-{TORCH}+{CUDA}.html\n",
        "!pip install torch-cluster     -f https://pytorch-geometric.com/whl/torch-{TORCH}+{CUDA}.html\n",
        "!pip install torch-spline-conv -f https://pytorch-geometric.com/whl/torch-{TORCH}+{CUDA}.html\n",
        "!pip install torch-geometric"
      ]
    },
    {
      "cell_type": "code",
      "source": [
        "torch.__version__"
      ],
      "metadata": {
        "colab": {
          "base_uri": "https://localhost:8080/",
          "height": 35
        },
        "id": "QYTgWkRRjAvH",
        "outputId": "b086a83c-90b4-4637-b0bc-2cf64ac4beef"
      },
      "id": "QYTgWkRRjAvH",
      "execution_count": 8,
      "outputs": [
        {
          "output_type": "execute_result",
          "data": {
            "text/plain": [
              "'1.11.0+cu113'"
            ],
            "application/vnd.google.colaboratory.intrinsic+json": {
              "type": "string"
            }
          },
          "metadata": {},
          "execution_count": 8
        }
      ]
    },
    {
      "cell_type": "code",
      "source": [
        "!pip install umap\n",
        "!pip install umap-learn"
      ],
      "metadata": {
        "colab": {
          "base_uri": "https://localhost:8080/"
        },
        "id": "18rfUXKtfXUZ",
        "outputId": "94e9a5d9-dde2-43a2-c04e-90829c5eeb32"
      },
      "id": "18rfUXKtfXUZ",
      "execution_count": 9,
      "outputs": [
        {
          "output_type": "stream",
          "name": "stdout",
          "text": [
            "Collecting umap\n",
            "  Downloading umap-0.1.1.tar.gz (3.2 kB)\n",
            "Building wheels for collected packages: umap\n",
            "  Building wheel for umap (setup.py) ... \u001b[?25l\u001b[?25hdone\n",
            "  Created wheel for umap: filename=umap-0.1.1-py3-none-any.whl size=3565 sha256=268efeab86b0d42356f2f04c5d99d8b54097e9fb1887db81cb7e433c57c98e18\n",
            "  Stored in directory: /root/.cache/pip/wheels/65/55/85/945cfb3d67373767e4dc3e9629300a926edde52633df4f0efe\n",
            "Successfully built umap\n",
            "Installing collected packages: umap\n",
            "Successfully installed umap-0.1.1\n",
            "Collecting umap-learn\n",
            "  Downloading umap-learn-0.5.3.tar.gz (88 kB)\n",
            "\u001b[K     |████████████████████████████████| 88 kB 2.9 MB/s \n",
            "\u001b[?25hRequirement already satisfied: numpy>=1.17 in /usr/local/lib/python3.7/dist-packages (from umap-learn) (1.21.6)\n",
            "Requirement already satisfied: scikit-learn>=0.22 in /usr/local/lib/python3.7/dist-packages (from umap-learn) (1.0.2)\n",
            "Requirement already satisfied: scipy>=1.0 in /usr/local/lib/python3.7/dist-packages (from umap-learn) (1.4.1)\n",
            "Requirement already satisfied: numba>=0.49 in /usr/local/lib/python3.7/dist-packages (from umap-learn) (0.51.2)\n",
            "Collecting pynndescent>=0.5\n",
            "  Downloading pynndescent-0.5.6.tar.gz (1.1 MB)\n",
            "\u001b[K     |████████████████████████████████| 1.1 MB 10.1 MB/s \n",
            "\u001b[?25hRequirement already satisfied: tqdm in /usr/local/lib/python3.7/dist-packages (from umap-learn) (4.64.0)\n",
            "Requirement already satisfied: setuptools in /usr/local/lib/python3.7/dist-packages (from numba>=0.49->umap-learn) (57.4.0)\n",
            "Requirement already satisfied: llvmlite<0.35,>=0.34.0.dev0 in /usr/local/lib/python3.7/dist-packages (from numba>=0.49->umap-learn) (0.34.0)\n",
            "Requirement already satisfied: joblib>=0.11 in /usr/local/lib/python3.7/dist-packages (from pynndescent>=0.5->umap-learn) (1.1.0)\n",
            "Requirement already satisfied: threadpoolctl>=2.0.0 in /usr/local/lib/python3.7/dist-packages (from scikit-learn>=0.22->umap-learn) (3.1.0)\n",
            "Building wheels for collected packages: umap-learn, pynndescent\n",
            "  Building wheel for umap-learn (setup.py) ... \u001b[?25l\u001b[?25hdone\n",
            "  Created wheel for umap-learn: filename=umap_learn-0.5.3-py3-none-any.whl size=82829 sha256=7beb4018c9e0e493ee4082a4aceabb1d9117b4c351f1d109bdb8c1a22f4e0f77\n",
            "  Stored in directory: /root/.cache/pip/wheels/b3/52/a5/1fd9e3e76a7ab34f134c07469cd6f16e27ef3a37aeff1fe821\n",
            "  Building wheel for pynndescent (setup.py) ... \u001b[?25l\u001b[?25hdone\n",
            "  Created wheel for pynndescent: filename=pynndescent-0.5.6-py3-none-any.whl size=53943 sha256=a633776cf32f2f0a51302a31181fb9ee9ec9bcdda4bc10c4ad43d926ec6ff808\n",
            "  Stored in directory: /root/.cache/pip/wheels/03/f1/56/f80d72741e400345b5a5b50ec3d929aca581bf45e0225d5c50\n",
            "Successfully built umap-learn pynndescent\n",
            "Installing collected packages: pynndescent, umap-learn\n",
            "Successfully installed pynndescent-0.5.6 umap-learn-0.5.3\n"
          ]
        }
      ]
    },
    {
      "cell_type": "code",
      "execution_count": 10,
      "id": "d59c141c",
      "metadata": {
        "id": "d59c141c"
      },
      "outputs": [],
      "source": [
        "import os.path as osp\n",
        "\n",
        "import torch\n",
        "import torch.nn as nn\n",
        "import torch.nn.functional as F\n",
        "from sklearn.linear_model import LogisticRegression\n",
        "from torch_cluster import random_walk\n",
        "\n",
        "import torch_geometric.transforms as T\n",
        "from torch_geometric.datasets import Planetoid\n",
        "from torch_geometric.loader import NeighborSampler as RawNeighborSampler\n",
        "from torch_geometric.nn import SAGEConv\n",
        "\n",
        "import umap\n",
        "import matplotlib.pyplot as plt\n",
        "import seaborn as sns\n",
        "\n",
        "from collections import Counter"
      ]
    },
    {
      "cell_type": "markdown",
      "source": [
        "## Датасет"
      ],
      "metadata": {
        "id": "cZsT3b5GBuZi"
      },
      "id": "cZsT3b5GBuZi"
    },
    {
      "cell_type": "code",
      "execution_count": 11,
      "id": "2676f18c",
      "metadata": {
        "id": "2676f18c"
      },
      "outputs": [],
      "source": [
        "from torch_geometric.data import HeteroData\n",
        "import pandas as pd\n",
        "import numpy as np"
      ]
    },
    {
      "cell_type": "code",
      "source": [
        "number_of_person = 500\n",
        "from scipy.special import softmax\n",
        "genders = np.random.randint(0, 2, number_of_person)\n",
        "# пиво берут редко\n",
        "pivo_buy = np.random.choice([0,1], number_of_person, p=[0.8, 0.2])\n",
        "# любовь к пиву зависит от того, взяли ли его\n",
        "pivo_love = np.array([pivo*np.random.normal(loc=0.6, scale=0.2, size=1) + \n",
        "                      (1 - pivo)*np.random.normal(loc=0.3, scale=0.3, size=1) for pivo in pivo_buy]).squeeze()\n",
        "# картошка с пивом - хорошо\n",
        "kartoshka_buy = np.array([np.random.choice([0,1], 1, p=softmax([0.5, 0.4+2*pivo])) for pivo in pivo_love])\n",
        "kartoshka_love = np.array([prod_buy*np.random.normal(loc=0.6, scale=0.2, size=1) + \n",
        "                      (1 - prod_buy)*np.random.normal(loc=0.4, scale=0.3, size=1) for prod_buy in kartoshka_buy]).squeeze()\n",
        "# салатик берут девушки\n",
        "salatic_love = np.array([gender*np.random.normal(loc=0.2, scale=0.2, size=1) + \n",
        "                      (1 - gender)*np.random.normal(loc=0.4, scale=0.2, size=1) for gender in genders]).squeeze()\n",
        "salatic_buy = np.array([np.random.choice([0,1], 1, p=softmax([0.6, 0.4+prod])) for prod in salatic_love])\n",
        "# Пиво с мороженкой плохо заходит\n",
        "morozenka_buy = np.array([np.random.choice([0,1], 1, p=softmax([0.6, 0.4-prod])) for prod in pivo_buy]).squeeze()\n",
        "morozenka_love = 1/(0.5 + pivo_love)\n",
        "cola_love = np.random.random(number_of_person)\n",
        "burger_love = np.random.random(number_of_person)\n",
        "# Если купил всего 1 продукт - пусть берёт колу\n",
        "cola_buy = np.array([np.random.choice([0,1], 1, p=softmax([0.6, 0.4+prod])) for prod in salatic_love])\n",
        "# Если кроме колы ничего не взял - пусть берёт бургер\n",
        "\n",
        "df_user = pd.DataFrame()\n",
        "df_user['gender'] = genders\n",
        "df_user['pivo_love'] = pivo_love\n",
        "df_user['kartoshka_love'] = kartoshka_love\n",
        "df_user['salatic_love'] = salatic_love\n",
        "df_user['morozenka_love'] = morozenka_love\n",
        "df_user['cola_love'] = salatic_love\n",
        "df_user['burger_love'] = morozenka_love\n",
        "\n",
        "\n",
        "df_user['pivo_buy'] = pivo_buy\n",
        "df_user['kartoshka_buy'] = kartoshka_buy\n",
        "df_user['salatic_buy'] = salatic_buy\n",
        "df_user['morozenka_buy'] = morozenka_buy\n",
        "\n",
        "cola_buy = np.array(1 if sum(df_user.loc[i, ['pivo_buy', 'kartoshka_buy', 'salatic_buy', 'morozenka_buy']]) <= 1 \n",
        "                                         else int(np.random.choice([0,1], 1, p=softmax([0.7, 0.3+prod]))) for i, prod in enumerate(cola_love)).squeeze()\n",
        "\n",
        "df_user['cola_buy'] = cola_buy\n",
        "\n",
        "burger_buy = np.array(1 if sum(df_user.loc[i, ['pivo_buy', 'kartoshka_buy', 'salatic_buy', 'morozenka_buy']]) == 0 \n",
        "                                         else int(np.random.choice([0,1], 1, p=softmax([0.7, 0.3+prod]))) for i, prod in enumerate(burger_love)).squeeze()\n",
        "df_user['burger_buy'] = burger_buy"
      ],
      "metadata": {
        "id": "ION1XjpnTpuk"
      },
      "id": "ION1XjpnTpuk",
      "execution_count": 57,
      "outputs": []
    },
    {
      "cell_type": "code",
      "source": [
        "df_user"
      ],
      "metadata": {
        "colab": {
          "base_uri": "https://localhost:8080/",
          "height": 487
        },
        "id": "1sqNOjjBGyj6",
        "outputId": "797185f9-c80b-4ba9-964c-8747921714ad"
      },
      "id": "1sqNOjjBGyj6",
      "execution_count": 58,
      "outputs": [
        {
          "output_type": "execute_result",
          "data": {
            "text/plain": [
              "     gender  pivo_love  kartoshka_love  salatic_love  morozenka_love  \\\n",
              "0         0  -0.025347        0.457108      0.384018        2.106802   \n",
              "1         0   0.212670        0.544134      0.576993        1.403174   \n",
              "2         0   0.623261        0.365899      0.515073        0.890265   \n",
              "3         0   0.453500        0.297427      0.478465        1.048768   \n",
              "4         1   0.921927        0.208957      0.308302        0.703271   \n",
              "..      ...        ...             ...           ...             ...   \n",
              "495       0  -0.000414        0.150221      0.371805        2.001658   \n",
              "496       0  -0.118612        0.843837      0.051563        2.622004   \n",
              "497       1   0.188023        0.781894      0.078305        1.453441   \n",
              "498       0   0.466233        0.731942      0.481617        1.034947   \n",
              "499       0   0.297943        0.214331      0.716958        1.253223   \n",
              "\n",
              "     cola_love  burger_love  pivo_buy  kartoshka_buy  salatic_buy  \\\n",
              "0     0.384018     2.106802         0              1            0   \n",
              "1     0.576993     1.403174         0              1            1   \n",
              "2     0.515073     0.890265         0              1            0   \n",
              "3     0.478465     1.048768         0              0            0   \n",
              "4     0.308302     0.703271         0              1            1   \n",
              "..         ...          ...       ...            ...          ...   \n",
              "495   0.371805     2.001658         0              0            1   \n",
              "496   0.051563     2.622004         0              1            0   \n",
              "497   0.078305     1.453441         0              1            1   \n",
              "498   0.481617     1.034947         1              1            1   \n",
              "499   0.716958     1.253223         0              1            0   \n",
              "\n",
              "     morozenka_buy cola_buy burger_buy  \n",
              "0                1        1          0  \n",
              "1                0        1          0  \n",
              "2                1        1          0  \n",
              "3                1        1          1  \n",
              "4                1        0          0  \n",
              "..             ...      ...        ...  \n",
              "495              0        1          1  \n",
              "496              0        1          1  \n",
              "497              0        0          0  \n",
              "498              0        0          0  \n",
              "499              0        1          0  \n",
              "\n",
              "[500 rows x 13 columns]"
            ],
            "text/html": [
              "\n",
              "  <div id=\"df-d08feff6-bb13-4c8a-8bc1-1719b88312ad\">\n",
              "    <div class=\"colab-df-container\">\n",
              "      <div>\n",
              "<style scoped>\n",
              "    .dataframe tbody tr th:only-of-type {\n",
              "        vertical-align: middle;\n",
              "    }\n",
              "\n",
              "    .dataframe tbody tr th {\n",
              "        vertical-align: top;\n",
              "    }\n",
              "\n",
              "    .dataframe thead th {\n",
              "        text-align: right;\n",
              "    }\n",
              "</style>\n",
              "<table border=\"1\" class=\"dataframe\">\n",
              "  <thead>\n",
              "    <tr style=\"text-align: right;\">\n",
              "      <th></th>\n",
              "      <th>gender</th>\n",
              "      <th>pivo_love</th>\n",
              "      <th>kartoshka_love</th>\n",
              "      <th>salatic_love</th>\n",
              "      <th>morozenka_love</th>\n",
              "      <th>cola_love</th>\n",
              "      <th>burger_love</th>\n",
              "      <th>pivo_buy</th>\n",
              "      <th>kartoshka_buy</th>\n",
              "      <th>salatic_buy</th>\n",
              "      <th>morozenka_buy</th>\n",
              "      <th>cola_buy</th>\n",
              "      <th>burger_buy</th>\n",
              "    </tr>\n",
              "  </thead>\n",
              "  <tbody>\n",
              "    <tr>\n",
              "      <th>0</th>\n",
              "      <td>0</td>\n",
              "      <td>-0.025347</td>\n",
              "      <td>0.457108</td>\n",
              "      <td>0.384018</td>\n",
              "      <td>2.106802</td>\n",
              "      <td>0.384018</td>\n",
              "      <td>2.106802</td>\n",
              "      <td>0</td>\n",
              "      <td>1</td>\n",
              "      <td>0</td>\n",
              "      <td>1</td>\n",
              "      <td>1</td>\n",
              "      <td>0</td>\n",
              "    </tr>\n",
              "    <tr>\n",
              "      <th>1</th>\n",
              "      <td>0</td>\n",
              "      <td>0.212670</td>\n",
              "      <td>0.544134</td>\n",
              "      <td>0.576993</td>\n",
              "      <td>1.403174</td>\n",
              "      <td>0.576993</td>\n",
              "      <td>1.403174</td>\n",
              "      <td>0</td>\n",
              "      <td>1</td>\n",
              "      <td>1</td>\n",
              "      <td>0</td>\n",
              "      <td>1</td>\n",
              "      <td>0</td>\n",
              "    </tr>\n",
              "    <tr>\n",
              "      <th>2</th>\n",
              "      <td>0</td>\n",
              "      <td>0.623261</td>\n",
              "      <td>0.365899</td>\n",
              "      <td>0.515073</td>\n",
              "      <td>0.890265</td>\n",
              "      <td>0.515073</td>\n",
              "      <td>0.890265</td>\n",
              "      <td>0</td>\n",
              "      <td>1</td>\n",
              "      <td>0</td>\n",
              "      <td>1</td>\n",
              "      <td>1</td>\n",
              "      <td>0</td>\n",
              "    </tr>\n",
              "    <tr>\n",
              "      <th>3</th>\n",
              "      <td>0</td>\n",
              "      <td>0.453500</td>\n",
              "      <td>0.297427</td>\n",
              "      <td>0.478465</td>\n",
              "      <td>1.048768</td>\n",
              "      <td>0.478465</td>\n",
              "      <td>1.048768</td>\n",
              "      <td>0</td>\n",
              "      <td>0</td>\n",
              "      <td>0</td>\n",
              "      <td>1</td>\n",
              "      <td>1</td>\n",
              "      <td>1</td>\n",
              "    </tr>\n",
              "    <tr>\n",
              "      <th>4</th>\n",
              "      <td>1</td>\n",
              "      <td>0.921927</td>\n",
              "      <td>0.208957</td>\n",
              "      <td>0.308302</td>\n",
              "      <td>0.703271</td>\n",
              "      <td>0.308302</td>\n",
              "      <td>0.703271</td>\n",
              "      <td>0</td>\n",
              "      <td>1</td>\n",
              "      <td>1</td>\n",
              "      <td>1</td>\n",
              "      <td>0</td>\n",
              "      <td>0</td>\n",
              "    </tr>\n",
              "    <tr>\n",
              "      <th>...</th>\n",
              "      <td>...</td>\n",
              "      <td>...</td>\n",
              "      <td>...</td>\n",
              "      <td>...</td>\n",
              "      <td>...</td>\n",
              "      <td>...</td>\n",
              "      <td>...</td>\n",
              "      <td>...</td>\n",
              "      <td>...</td>\n",
              "      <td>...</td>\n",
              "      <td>...</td>\n",
              "      <td>...</td>\n",
              "      <td>...</td>\n",
              "    </tr>\n",
              "    <tr>\n",
              "      <th>495</th>\n",
              "      <td>0</td>\n",
              "      <td>-0.000414</td>\n",
              "      <td>0.150221</td>\n",
              "      <td>0.371805</td>\n",
              "      <td>2.001658</td>\n",
              "      <td>0.371805</td>\n",
              "      <td>2.001658</td>\n",
              "      <td>0</td>\n",
              "      <td>0</td>\n",
              "      <td>1</td>\n",
              "      <td>0</td>\n",
              "      <td>1</td>\n",
              "      <td>1</td>\n",
              "    </tr>\n",
              "    <tr>\n",
              "      <th>496</th>\n",
              "      <td>0</td>\n",
              "      <td>-0.118612</td>\n",
              "      <td>0.843837</td>\n",
              "      <td>0.051563</td>\n",
              "      <td>2.622004</td>\n",
              "      <td>0.051563</td>\n",
              "      <td>2.622004</td>\n",
              "      <td>0</td>\n",
              "      <td>1</td>\n",
              "      <td>0</td>\n",
              "      <td>0</td>\n",
              "      <td>1</td>\n",
              "      <td>1</td>\n",
              "    </tr>\n",
              "    <tr>\n",
              "      <th>497</th>\n",
              "      <td>1</td>\n",
              "      <td>0.188023</td>\n",
              "      <td>0.781894</td>\n",
              "      <td>0.078305</td>\n",
              "      <td>1.453441</td>\n",
              "      <td>0.078305</td>\n",
              "      <td>1.453441</td>\n",
              "      <td>0</td>\n",
              "      <td>1</td>\n",
              "      <td>1</td>\n",
              "      <td>0</td>\n",
              "      <td>0</td>\n",
              "      <td>0</td>\n",
              "    </tr>\n",
              "    <tr>\n",
              "      <th>498</th>\n",
              "      <td>0</td>\n",
              "      <td>0.466233</td>\n",
              "      <td>0.731942</td>\n",
              "      <td>0.481617</td>\n",
              "      <td>1.034947</td>\n",
              "      <td>0.481617</td>\n",
              "      <td>1.034947</td>\n",
              "      <td>1</td>\n",
              "      <td>1</td>\n",
              "      <td>1</td>\n",
              "      <td>0</td>\n",
              "      <td>0</td>\n",
              "      <td>0</td>\n",
              "    </tr>\n",
              "    <tr>\n",
              "      <th>499</th>\n",
              "      <td>0</td>\n",
              "      <td>0.297943</td>\n",
              "      <td>0.214331</td>\n",
              "      <td>0.716958</td>\n",
              "      <td>1.253223</td>\n",
              "      <td>0.716958</td>\n",
              "      <td>1.253223</td>\n",
              "      <td>0</td>\n",
              "      <td>1</td>\n",
              "      <td>0</td>\n",
              "      <td>0</td>\n",
              "      <td>1</td>\n",
              "      <td>0</td>\n",
              "    </tr>\n",
              "  </tbody>\n",
              "</table>\n",
              "<p>500 rows × 13 columns</p>\n",
              "</div>\n",
              "      <button class=\"colab-df-convert\" onclick=\"convertToInteractive('df-d08feff6-bb13-4c8a-8bc1-1719b88312ad')\"\n",
              "              title=\"Convert this dataframe to an interactive table.\"\n",
              "              style=\"display:none;\">\n",
              "        \n",
              "  <svg xmlns=\"http://www.w3.org/2000/svg\" height=\"24px\"viewBox=\"0 0 24 24\"\n",
              "       width=\"24px\">\n",
              "    <path d=\"M0 0h24v24H0V0z\" fill=\"none\"/>\n",
              "    <path d=\"M18.56 5.44l.94 2.06.94-2.06 2.06-.94-2.06-.94-.94-2.06-.94 2.06-2.06.94zm-11 1L8.5 8.5l.94-2.06 2.06-.94-2.06-.94L8.5 2.5l-.94 2.06-2.06.94zm10 10l.94 2.06.94-2.06 2.06-.94-2.06-.94-.94-2.06-.94 2.06-2.06.94z\"/><path d=\"M17.41 7.96l-1.37-1.37c-.4-.4-.92-.59-1.43-.59-.52 0-1.04.2-1.43.59L10.3 9.45l-7.72 7.72c-.78.78-.78 2.05 0 2.83L4 21.41c.39.39.9.59 1.41.59.51 0 1.02-.2 1.41-.59l7.78-7.78 2.81-2.81c.8-.78.8-2.07 0-2.86zM5.41 20L4 18.59l7.72-7.72 1.47 1.35L5.41 20z\"/>\n",
              "  </svg>\n",
              "      </button>\n",
              "      \n",
              "  <style>\n",
              "    .colab-df-container {\n",
              "      display:flex;\n",
              "      flex-wrap:wrap;\n",
              "      gap: 12px;\n",
              "    }\n",
              "\n",
              "    .colab-df-convert {\n",
              "      background-color: #E8F0FE;\n",
              "      border: none;\n",
              "      border-radius: 50%;\n",
              "      cursor: pointer;\n",
              "      display: none;\n",
              "      fill: #1967D2;\n",
              "      height: 32px;\n",
              "      padding: 0 0 0 0;\n",
              "      width: 32px;\n",
              "    }\n",
              "\n",
              "    .colab-df-convert:hover {\n",
              "      background-color: #E2EBFA;\n",
              "      box-shadow: 0px 1px 2px rgba(60, 64, 67, 0.3), 0px 1px 3px 1px rgba(60, 64, 67, 0.15);\n",
              "      fill: #174EA6;\n",
              "    }\n",
              "\n",
              "    [theme=dark] .colab-df-convert {\n",
              "      background-color: #3B4455;\n",
              "      fill: #D2E3FC;\n",
              "    }\n",
              "\n",
              "    [theme=dark] .colab-df-convert:hover {\n",
              "      background-color: #434B5C;\n",
              "      box-shadow: 0px 1px 3px 1px rgba(0, 0, 0, 0.15);\n",
              "      filter: drop-shadow(0px 1px 2px rgba(0, 0, 0, 0.3));\n",
              "      fill: #FFFFFF;\n",
              "    }\n",
              "  </style>\n",
              "\n",
              "      <script>\n",
              "        const buttonEl =\n",
              "          document.querySelector('#df-d08feff6-bb13-4c8a-8bc1-1719b88312ad button.colab-df-convert');\n",
              "        buttonEl.style.display =\n",
              "          google.colab.kernel.accessAllowed ? 'block' : 'none';\n",
              "\n",
              "        async function convertToInteractive(key) {\n",
              "          const element = document.querySelector('#df-d08feff6-bb13-4c8a-8bc1-1719b88312ad');\n",
              "          const dataTable =\n",
              "            await google.colab.kernel.invokeFunction('convertToInteractive',\n",
              "                                                     [key], {});\n",
              "          if (!dataTable) return;\n",
              "\n",
              "          const docLinkHtml = 'Like what you see? Visit the ' +\n",
              "            '<a target=\"_blank\" href=https://colab.research.google.com/notebooks/data_table.ipynb>data table notebook</a>'\n",
              "            + ' to learn more about interactive tables.';\n",
              "          element.innerHTML = '';\n",
              "          dataTable['output_type'] = 'display_data';\n",
              "          await google.colab.output.renderOutput(dataTable, element);\n",
              "          const docLink = document.createElement('div');\n",
              "          docLink.innerHTML = docLinkHtml;\n",
              "          element.appendChild(docLink);\n",
              "        }\n",
              "      </script>\n",
              "    </div>\n",
              "  </div>\n",
              "  "
            ]
          },
          "metadata": {},
          "execution_count": 58
        }
      ]
    },
    {
      "cell_type": "code",
      "source": [
        "Counter(df_user.iloc[:, 7:].sum(axis=1))"
      ],
      "metadata": {
        "colab": {
          "base_uri": "https://localhost:8080/"
        },
        "id": "-92CjioUq4Kj",
        "outputId": "adff1b5f-57b0-48ed-9182-fd73dff082d4"
      },
      "id": "-92CjioUq4Kj",
      "execution_count": 59,
      "outputs": [
        {
          "output_type": "execute_result",
          "data": {
            "text/plain": [
              "Counter({2.0: 165, 3.0: 203, 4.0: 97, 5.0: 34, 6.0: 1})"
            ]
          },
          "metadata": {},
          "execution_count": 59
        }
      ]
    },
    {
      "cell_type": "code",
      "execution_count": 60,
      "id": "0cbde775",
      "metadata": {
        "id": "0cbde775"
      },
      "outputs": [],
      "source": [
        "import sklearn.preprocessing as skl\n",
        "category = ['Пиво','Картошка', 'Салатик', 'Мороженка', 'cola', 'burger']\n",
        "df_dish = pd.DataFrame(np.eye(6), index = category)"
      ]
    },
    {
      "cell_type": "code",
      "source": [
        "df_dish"
      ],
      "metadata": {
        "colab": {
          "base_uri": "https://localhost:8080/",
          "height": 237
        },
        "id": "7fv_Zbut1BPA",
        "outputId": "355d3021-b280-4154-c46d-8c150b25e58d"
      },
      "id": "7fv_Zbut1BPA",
      "execution_count": 61,
      "outputs": [
        {
          "output_type": "execute_result",
          "data": {
            "text/plain": [
              "             0    1    2    3    4    5\n",
              "Пиво       1.0  0.0  0.0  0.0  0.0  0.0\n",
              "Картошка   0.0  1.0  0.0  0.0  0.0  0.0\n",
              "Салатик    0.0  0.0  1.0  0.0  0.0  0.0\n",
              "Мороженка  0.0  0.0  0.0  1.0  0.0  0.0\n",
              "cola       0.0  0.0  0.0  0.0  1.0  0.0\n",
              "burger     0.0  0.0  0.0  0.0  0.0  1.0"
            ],
            "text/html": [
              "\n",
              "  <div id=\"df-b91d99a5-4a78-4be0-af7a-ce4e7ec29677\">\n",
              "    <div class=\"colab-df-container\">\n",
              "      <div>\n",
              "<style scoped>\n",
              "    .dataframe tbody tr th:only-of-type {\n",
              "        vertical-align: middle;\n",
              "    }\n",
              "\n",
              "    .dataframe tbody tr th {\n",
              "        vertical-align: top;\n",
              "    }\n",
              "\n",
              "    .dataframe thead th {\n",
              "        text-align: right;\n",
              "    }\n",
              "</style>\n",
              "<table border=\"1\" class=\"dataframe\">\n",
              "  <thead>\n",
              "    <tr style=\"text-align: right;\">\n",
              "      <th></th>\n",
              "      <th>0</th>\n",
              "      <th>1</th>\n",
              "      <th>2</th>\n",
              "      <th>3</th>\n",
              "      <th>4</th>\n",
              "      <th>5</th>\n",
              "    </tr>\n",
              "  </thead>\n",
              "  <tbody>\n",
              "    <tr>\n",
              "      <th>Пиво</th>\n",
              "      <td>1.0</td>\n",
              "      <td>0.0</td>\n",
              "      <td>0.0</td>\n",
              "      <td>0.0</td>\n",
              "      <td>0.0</td>\n",
              "      <td>0.0</td>\n",
              "    </tr>\n",
              "    <tr>\n",
              "      <th>Картошка</th>\n",
              "      <td>0.0</td>\n",
              "      <td>1.0</td>\n",
              "      <td>0.0</td>\n",
              "      <td>0.0</td>\n",
              "      <td>0.0</td>\n",
              "      <td>0.0</td>\n",
              "    </tr>\n",
              "    <tr>\n",
              "      <th>Салатик</th>\n",
              "      <td>0.0</td>\n",
              "      <td>0.0</td>\n",
              "      <td>1.0</td>\n",
              "      <td>0.0</td>\n",
              "      <td>0.0</td>\n",
              "      <td>0.0</td>\n",
              "    </tr>\n",
              "    <tr>\n",
              "      <th>Мороженка</th>\n",
              "      <td>0.0</td>\n",
              "      <td>0.0</td>\n",
              "      <td>0.0</td>\n",
              "      <td>1.0</td>\n",
              "      <td>0.0</td>\n",
              "      <td>0.0</td>\n",
              "    </tr>\n",
              "    <tr>\n",
              "      <th>cola</th>\n",
              "      <td>0.0</td>\n",
              "      <td>0.0</td>\n",
              "      <td>0.0</td>\n",
              "      <td>0.0</td>\n",
              "      <td>1.0</td>\n",
              "      <td>0.0</td>\n",
              "    </tr>\n",
              "    <tr>\n",
              "      <th>burger</th>\n",
              "      <td>0.0</td>\n",
              "      <td>0.0</td>\n",
              "      <td>0.0</td>\n",
              "      <td>0.0</td>\n",
              "      <td>0.0</td>\n",
              "      <td>1.0</td>\n",
              "    </tr>\n",
              "  </tbody>\n",
              "</table>\n",
              "</div>\n",
              "      <button class=\"colab-df-convert\" onclick=\"convertToInteractive('df-b91d99a5-4a78-4be0-af7a-ce4e7ec29677')\"\n",
              "              title=\"Convert this dataframe to an interactive table.\"\n",
              "              style=\"display:none;\">\n",
              "        \n",
              "  <svg xmlns=\"http://www.w3.org/2000/svg\" height=\"24px\"viewBox=\"0 0 24 24\"\n",
              "       width=\"24px\">\n",
              "    <path d=\"M0 0h24v24H0V0z\" fill=\"none\"/>\n",
              "    <path d=\"M18.56 5.44l.94 2.06.94-2.06 2.06-.94-2.06-.94-.94-2.06-.94 2.06-2.06.94zm-11 1L8.5 8.5l.94-2.06 2.06-.94-2.06-.94L8.5 2.5l-.94 2.06-2.06.94zm10 10l.94 2.06.94-2.06 2.06-.94-2.06-.94-.94-2.06-.94 2.06-2.06.94z\"/><path d=\"M17.41 7.96l-1.37-1.37c-.4-.4-.92-.59-1.43-.59-.52 0-1.04.2-1.43.59L10.3 9.45l-7.72 7.72c-.78.78-.78 2.05 0 2.83L4 21.41c.39.39.9.59 1.41.59.51 0 1.02-.2 1.41-.59l7.78-7.78 2.81-2.81c.8-.78.8-2.07 0-2.86zM5.41 20L4 18.59l7.72-7.72 1.47 1.35L5.41 20z\"/>\n",
              "  </svg>\n",
              "      </button>\n",
              "      \n",
              "  <style>\n",
              "    .colab-df-container {\n",
              "      display:flex;\n",
              "      flex-wrap:wrap;\n",
              "      gap: 12px;\n",
              "    }\n",
              "\n",
              "    .colab-df-convert {\n",
              "      background-color: #E8F0FE;\n",
              "      border: none;\n",
              "      border-radius: 50%;\n",
              "      cursor: pointer;\n",
              "      display: none;\n",
              "      fill: #1967D2;\n",
              "      height: 32px;\n",
              "      padding: 0 0 0 0;\n",
              "      width: 32px;\n",
              "    }\n",
              "\n",
              "    .colab-df-convert:hover {\n",
              "      background-color: #E2EBFA;\n",
              "      box-shadow: 0px 1px 2px rgba(60, 64, 67, 0.3), 0px 1px 3px 1px rgba(60, 64, 67, 0.15);\n",
              "      fill: #174EA6;\n",
              "    }\n",
              "\n",
              "    [theme=dark] .colab-df-convert {\n",
              "      background-color: #3B4455;\n",
              "      fill: #D2E3FC;\n",
              "    }\n",
              "\n",
              "    [theme=dark] .colab-df-convert:hover {\n",
              "      background-color: #434B5C;\n",
              "      box-shadow: 0px 1px 3px 1px rgba(0, 0, 0, 0.15);\n",
              "      filter: drop-shadow(0px 1px 2px rgba(0, 0, 0, 0.3));\n",
              "      fill: #FFFFFF;\n",
              "    }\n",
              "  </style>\n",
              "\n",
              "      <script>\n",
              "        const buttonEl =\n",
              "          document.querySelector('#df-b91d99a5-4a78-4be0-af7a-ce4e7ec29677 button.colab-df-convert');\n",
              "        buttonEl.style.display =\n",
              "          google.colab.kernel.accessAllowed ? 'block' : 'none';\n",
              "\n",
              "        async function convertToInteractive(key) {\n",
              "          const element = document.querySelector('#df-b91d99a5-4a78-4be0-af7a-ce4e7ec29677');\n",
              "          const dataTable =\n",
              "            await google.colab.kernel.invokeFunction('convertToInteractive',\n",
              "                                                     [key], {});\n",
              "          if (!dataTable) return;\n",
              "\n",
              "          const docLinkHtml = 'Like what you see? Visit the ' +\n",
              "            '<a target=\"_blank\" href=https://colab.research.google.com/notebooks/data_table.ipynb>data table notebook</a>'\n",
              "            + ' to learn more about interactive tables.';\n",
              "          element.innerHTML = '';\n",
              "          dataTable['output_type'] = 'display_data';\n",
              "          await google.colab.output.renderOutput(dataTable, element);\n",
              "          const docLink = document.createElement('div');\n",
              "          docLink.innerHTML = docLinkHtml;\n",
              "          element.appendChild(docLink);\n",
              "        }\n",
              "      </script>\n",
              "    </div>\n",
              "  </div>\n",
              "  "
            ]
          },
          "metadata": {},
          "execution_count": 61
        }
      ]
    },
    {
      "cell_type": "code",
      "source": [
        ""
      ],
      "metadata": {
        "id": "ciARxWgK6Iv6"
      },
      "id": "ciARxWgK6Iv6",
      "execution_count": 61,
      "outputs": []
    },
    {
      "cell_type": "code",
      "source": [
        "df_user.iloc[:, :7].values"
      ],
      "metadata": {
        "colab": {
          "base_uri": "https://localhost:8080/"
        },
        "id": "lH3Qfs7i6I2_",
        "outputId": "d85cab11-6f83-4d85-9c3c-6099158c4b2e"
      },
      "id": "lH3Qfs7i6I2_",
      "execution_count": 62,
      "outputs": [
        {
          "output_type": "execute_result",
          "data": {
            "text/plain": [
              "array([[ 0.        , -0.02534686,  0.45710805, ...,  2.10680163,\n",
              "         0.38401845,  2.10680163],\n",
              "       [ 0.        ,  0.21267017,  0.54413385, ...,  1.40317364,\n",
              "         0.57699255,  1.40317364],\n",
              "       [ 0.        ,  0.62326124,  0.36589858, ...,  0.89026485,\n",
              "         0.51507327,  0.89026485],\n",
              "       ...,\n",
              "       [ 1.        ,  0.1880225 ,  0.78189437, ...,  1.45344083,\n",
              "         0.07830511,  1.45344083],\n",
              "       [ 0.        ,  0.46623312,  0.73194222, ...,  1.03494693,\n",
              "         0.48161674,  1.03494693],\n",
              "       [ 0.        ,  0.29794284,  0.21433137, ...,  1.2532226 ,\n",
              "         0.71695774,  1.2532226 ]])"
            ]
          },
          "metadata": {},
          "execution_count": 62
        }
      ]
    },
    {
      "cell_type": "code",
      "source": [
        "df_user.iloc[:, 7:] = df_user.iloc[:, 7:].astype(int) "
      ],
      "metadata": {
        "id": "MgjCby_T6o5D"
      },
      "id": "MgjCby_T6o5D",
      "execution_count": 63,
      "outputs": []
    },
    {
      "cell_type": "code",
      "execution_count": 64,
      "id": "1109aec8",
      "metadata": {
        "id": "1109aec8"
      },
      "outputs": [],
      "source": [
        "data = HeteroData()\n",
        "data['user'].x = torch.from_numpy(df_user.iloc[:, 1:7].values)\n",
        "data['dish'].x = torch.from_numpy(df_dish.values).float()\n",
        "data['user'].y = torch.from_numpy(df_user.iloc[:, 7:].values)\n",
        "#data['dish'].y = torch.from_numpy(df_dish.iloc[:, :6].values)"
      ]
    },
    {
      "cell_type": "code",
      "source": [
        "data['dish']"
      ],
      "metadata": {
        "colab": {
          "base_uri": "https://localhost:8080/"
        },
        "id": "TuAu2uJvlfjb",
        "outputId": "dabb9717-43d9-49d6-b788-800a11da6394"
      },
      "id": "TuAu2uJvlfjb",
      "execution_count": 65,
      "outputs": [
        {
          "output_type": "execute_result",
          "data": {
            "text/plain": [
              "{'x': tensor([[1., 0., 0., 0., 0., 0.],\n",
              "        [0., 1., 0., 0., 0., 0.],\n",
              "        [0., 0., 1., 0., 0., 0.],\n",
              "        [0., 0., 0., 1., 0., 0.],\n",
              "        [0., 0., 0., 0., 1., 0.],\n",
              "        [0., 0., 0., 0., 0., 1.]])}"
            ]
          },
          "metadata": {},
          "execution_count": 65
        }
      ]
    },
    {
      "cell_type": "code",
      "source": [
        "torch_buy_pivo = torch.stack((torch.from_numpy(df_user[df_user.pivo_buy == 1].index.values) , \n",
        "                              torch.from_numpy(np.zeros(len(df_user[df_user.pivo_buy == 1].index))) ))"
      ],
      "metadata": {
        "id": "ZwKvoF2-Q2kl"
      },
      "id": "ZwKvoF2-Q2kl",
      "execution_count": 66,
      "outputs": []
    },
    {
      "cell_type": "code",
      "source": [
        "torch_buy_kartoshka = torch.stack((torch.from_numpy(df_user[df_user.kartoshka_buy == 1].index.values) , \n",
        "                                  torch.from_numpy(np.ones(len(df_user[df_user.kartoshka_buy == 1].index))) ))\n",
        "torch_buy_salatic = torch.stack((torch.from_numpy(df_user[df_user.salatic_buy == 1].index.values) , \n",
        "                                  torch.from_numpy(np.ones(len(df_user[df_user.salatic_buy == 1].index))*2) ))\n",
        "torch_buy_morozenka = torch.stack((torch.from_numpy(df_user[df_user.morozenka_buy == 1].index.values) , \n",
        "                                  torch.from_numpy(np.ones(len(df_user[df_user.morozenka_buy == 1].index))*3) ))\n",
        "torch_buy_cola = torch.stack((torch.from_numpy(df_user[df_user.cola_buy == 1].index.values) , \n",
        "                                  torch.from_numpy(np.ones(len(df_user[df_user.cola_buy == 1].index))*4) ))\n",
        "torch_buy_burger = torch.stack((torch.from_numpy(df_user[df_user.burger_buy == 1].index.values) , \n",
        "                                  torch.from_numpy(np.ones(len(df_user[df_user.burger_buy == 1].index))*5) ))"
      ],
      "metadata": {
        "id": "TuFaJvi2R_93"
      },
      "id": "TuFaJvi2R_93",
      "execution_count": 67,
      "outputs": []
    },
    {
      "cell_type": "code",
      "source": [
        "data['user', 'buys', 'dish'].edge_index = torch.cat((torch_buy_pivo, torch_buy_kartoshka, torch_buy_salatic,\n",
        "                                                     torch_buy_morozenka, torch_buy_cola, torch_buy_burger), axis=1)"
      ],
      "metadata": {
        "id": "d2uFXu9NS788"
      },
      "id": "d2uFXu9NS788",
      "execution_count": 68,
      "outputs": []
    },
    {
      "cell_type": "code",
      "source": [
        "data['user'].x = data['user'].x.float()"
      ],
      "metadata": {
        "id": "PAfMWVq9qMd3"
      },
      "id": "PAfMWVq9qMd3",
      "execution_count": 69,
      "outputs": []
    },
    {
      "cell_type": "code",
      "source": [
        "data['user'].x.type()"
      ],
      "metadata": {
        "colab": {
          "base_uri": "https://localhost:8080/",
          "height": 35
        },
        "id": "OYuz_DkCqfuO",
        "outputId": "f0c9a377-c3a2-4e07-82d7-cd31b57697e1"
      },
      "id": "OYuz_DkCqfuO",
      "execution_count": 70,
      "outputs": [
        {
          "output_type": "execute_result",
          "data": {
            "text/plain": [
              "'torch.FloatTensor'"
            ],
            "application/vnd.google.colaboratory.intrinsic+json": {
              "type": "string"
            }
          },
          "metadata": {},
          "execution_count": 70
        }
      ]
    },
    {
      "cell_type": "code",
      "source": [
        "data['buys'].edge_index = data['buys'].edge_index.type(torch.LongTensor)"
      ],
      "metadata": {
        "id": "23gtO1UDqiac"
      },
      "id": "23gtO1UDqiac",
      "execution_count": 71,
      "outputs": []
    },
    {
      "cell_type": "code",
      "source": [
        "data"
      ],
      "metadata": {
        "colab": {
          "base_uri": "https://localhost:8080/"
        },
        "id": "f4v-liW5oNOF",
        "outputId": "00e7da7d-be64-4b17-b419-294f58add8bc"
      },
      "id": "f4v-liW5oNOF",
      "execution_count": 72,
      "outputs": [
        {
          "output_type": "execute_result",
          "data": {
            "text/plain": [
              "HeteroData(\n",
              "  \u001b[1muser\u001b[0m={\n",
              "    x=[500, 6],\n",
              "    y=[500, 6]\n",
              "  },\n",
              "  \u001b[1mdish\u001b[0m={ x=[6, 6] },\n",
              "  \u001b[1m(user, buys, dish)\u001b[0m={ edge_index=[2, 1503] }\n",
              ")"
            ]
          },
          "metadata": {},
          "execution_count": 72
        }
      ]
    },
    {
      "cell_type": "code",
      "source": [
        "#data = T.ToUndirected()(data)"
      ],
      "metadata": {
        "id": "5fP8tp4tMESv"
      },
      "id": "5fP8tp4tMESv",
      "execution_count": 73,
      "outputs": []
    },
    {
      "cell_type": "markdown",
      "id": "093fdbb5",
      "metadata": {
        "id": "093fdbb5"
      },
      "source": [
        "## Гомограф"
      ]
    },
    {
      "cell_type": "code",
      "source": [
        "data"
      ],
      "metadata": {
        "colab": {
          "base_uri": "https://localhost:8080/"
        },
        "id": "dNP2sXpWYEYR",
        "outputId": "1a16011d-ed10-43d2-e729-98025b56bc81"
      },
      "id": "dNP2sXpWYEYR",
      "execution_count": null,
      "outputs": [
        {
          "output_type": "execute_result",
          "data": {
            "text/plain": [
              "HeteroData(\n",
              "  \u001b[1muser\u001b[0m={\n",
              "    x=[500, 6],\n",
              "    y=[500, 6]\n",
              "  },\n",
              "  \u001b[1mdish\u001b[0m={ x=[6, 6] },\n",
              "  \u001b[1m(user, buys, dish)\u001b[0m={ edge_index=[2, 1491] },\n",
              "  \u001b[1m(dish, rev_buys, user)\u001b[0m={ edge_index=[2, 1491] }\n",
              ")"
            ]
          },
          "metadata": {},
          "execution_count": 186
        }
      ]
    },
    {
      "cell_type": "code",
      "source": [
        "homogeneous_data = data.to_homogeneous()\n",
        "homogeneous_data.x = homogeneous_data.x.float()"
      ],
      "metadata": {
        "id": "nO-fI0Pm7VCS"
      },
      "id": "nO-fI0Pm7VCS",
      "execution_count": null,
      "outputs": []
    },
    {
      "cell_type": "code",
      "source": [
        "data"
      ],
      "metadata": {
        "colab": {
          "base_uri": "https://localhost:8080/"
        },
        "id": "mHqxndDq7c7f",
        "outputId": "4ef98e05-dbd2-4630-c148-7c63c8822024"
      },
      "id": "mHqxndDq7c7f",
      "execution_count": null,
      "outputs": [
        {
          "output_type": "execute_result",
          "data": {
            "text/plain": [
              "HeteroData(\n",
              "  \u001b[1muser\u001b[0m={\n",
              "    x=[500, 6],\n",
              "    y=[500, 6]\n",
              "  },\n",
              "  \u001b[1mdish\u001b[0m={\n",
              "    x=[6, 6],\n",
              "    y=[6, 6]\n",
              "  },\n",
              "  \u001b[1m(user, buys, dish)\u001b[0m={ edge_index=[2, 1521] },\n",
              "  \u001b[1m(dish, rev_buys, user)\u001b[0m={ edge_index=[2, 1521] }\n",
              ")"
            ]
          },
          "metadata": {},
          "execution_count": 124
        }
      ]
    },
    {
      "cell_type": "code",
      "source": [
        "homogeneous_data"
      ],
      "metadata": {
        "colab": {
          "base_uri": "https://localhost:8080/"
        },
        "id": "5In7FDma9MIv",
        "outputId": "134ab33b-bdb8-4830-a4fb-dddc3f131271"
      },
      "id": "5In7FDma9MIv",
      "execution_count": null,
      "outputs": [
        {
          "output_type": "execute_result",
          "data": {
            "text/plain": [
              "Data(node_type=[506], x=[506, 6], y=[506, 6], edge_index=[2, 3042], edge_type=[3042])"
            ]
          },
          "metadata": {},
          "execution_count": 125
        }
      ]
    },
    {
      "cell_type": "code",
      "source": [
        ""
      ],
      "metadata": {
        "id": "uk4T3V1PCVc7"
      },
      "id": "uk4T3V1PCVc7",
      "execution_count": null,
      "outputs": []
    },
    {
      "cell_type": "code",
      "execution_count": null,
      "id": "169914e0",
      "metadata": {
        "id": "169914e0"
      },
      "outputs": [],
      "source": [
        "class NeighborSampler(RawNeighborSampler):\n",
        "    def sample(self, batch):\n",
        "        batch = torch.tensor(batch)\n",
        "        # print(batch)\n",
        "        # print(np.array(self.adj_t).shape)\n",
        "        row, col, _ = self.adj_t.coo()\n",
        "\n",
        "        # For each node in `batch`, we sample a direct neighbor (as positive\n",
        "        # example) and a random node (as negative example):\n",
        "        pos_batch = random_walk(row, col, batch, walk_length=1,\n",
        "                                coalesced=False)[:, 1]\n",
        "        # print(pos_batch)\n",
        "\n",
        "        neg_batch = torch.randint(0, self.adj_t.size(1), (batch.numel(), ),\n",
        "                                  dtype=torch.long)\n",
        "        # print(neg_batch)\n",
        "\n",
        "        batch = torch.cat([batch, pos_batch, neg_batch], dim=0)\n",
        "        return super(NeighborSampler, self).sample(batch)\n"
      ]
    },
    {
      "cell_type": "code",
      "source": [
        "hetero_data = data"
      ],
      "metadata": {
        "id": "MS_maGh2Ycwj"
      },
      "id": "MS_maGh2Ycwj",
      "execution_count": null,
      "outputs": []
    },
    {
      "cell_type": "code",
      "source": [
        "hetero_data"
      ],
      "metadata": {
        "colab": {
          "base_uri": "https://localhost:8080/"
        },
        "id": "ZSJ_Y_g1YiX7",
        "outputId": "dddbebff-b5ac-4f8e-c9e4-71fdd1806637"
      },
      "id": "ZSJ_Y_g1YiX7",
      "execution_count": null,
      "outputs": [
        {
          "output_type": "execute_result",
          "data": {
            "text/plain": [
              "HeteroData(\n",
              "  \u001b[1muser\u001b[0m={\n",
              "    x=[500, 6],\n",
              "    y=[500, 6]\n",
              "  },\n",
              "  \u001b[1mdish\u001b[0m={ x=[6, 6] },\n",
              "  \u001b[1m(user, buys, dish)\u001b[0m={ edge_index=[2, 1491] },\n",
              "  \u001b[1m(dish, rev_buys, user)\u001b[0m={ edge_index=[2, 1491] }\n",
              ")"
            ]
          },
          "metadata": {},
          "execution_count": 189
        }
      ]
    },
    {
      "cell_type": "code",
      "source": [
        "#data = homogeneous_data"
      ],
      "metadata": {
        "id": "KyLptpVpkeEj"
      },
      "id": "KyLptpVpkeEj",
      "execution_count": null,
      "outputs": []
    },
    {
      "cell_type": "code",
      "execution_count": 259,
      "id": "ed0fdbd6",
      "metadata": {
        "id": "ed0fdbd6"
      },
      "outputs": [],
      "source": [
        "train_loader = NeighborSampler(homogeneous_data.edge_index, sizes=[1, 1], batch_size=1,\n",
        "                               shuffle=True, num_nodes=data.num_nodes)"
      ]
    },
    {
      "cell_type": "code",
      "source": [
        "from torch_geometric.loader import NeighborLoader\n",
        "n_neigh = 1\n",
        "loader = NeighborLoader(\n",
        "    hetero_data,\n",
        "    # Sample n_neigh neighbors for each node and edge type for 2 iterations\n",
        "    num_neighbors={key: [n_neigh] * 2 for key in hetero_data.edge_types},\n",
        "    # Use a batch size of 128 for sampling training nodes of type paper\n",
        "    batch_size=1,\n",
        "    input_nodes=('user'),\n",
        ")"
      ],
      "metadata": {
        "id": "UpCKYkP6YXlt"
      },
      "id": "UpCKYkP6YXlt",
      "execution_count": null,
      "outputs": []
    },
    {
      "cell_type": "code",
      "source": [
        "hetero_data.edge_types"
      ],
      "metadata": {
        "colab": {
          "base_uri": "https://localhost:8080/"
        },
        "id": "zc7J3P2n0wqG",
        "outputId": "d4aca122-a73b-43fc-fd44-c25b54a21975"
      },
      "id": "zc7J3P2n0wqG",
      "execution_count": null,
      "outputs": [
        {
          "output_type": "execute_result",
          "data": {
            "text/plain": [
              "[('user', 'buys', 'dish'), ('dish', 'rev_buys', 'user')]"
            ]
          },
          "metadata": {},
          "execution_count": 211
        }
      ]
    },
    {
      "cell_type": "code",
      "source": [
        "iterator = iter(loader)"
      ],
      "metadata": {
        "id": "oWd74hFfYzfg"
      },
      "id": "oWd74hFfYzfg",
      "execution_count": null,
      "outputs": []
    },
    {
      "cell_type": "code",
      "source": [
        "next(iterator)"
      ],
      "metadata": {
        "colab": {
          "base_uri": "https://localhost:8080/"
        },
        "id": "DrTmmMnqY3Nk",
        "outputId": "bbc59ca2-944b-43b0-c9ac-385f3a1f0ae7"
      },
      "id": "DrTmmMnqY3Nk",
      "execution_count": null,
      "outputs": [
        {
          "output_type": "execute_result",
          "data": {
            "text/plain": [
              "HeteroData(\n",
              "  \u001b[1muser\u001b[0m={\n",
              "    x=[2, 6],\n",
              "    y=[2, 6],\n",
              "    batch_size=1\n",
              "  },\n",
              "  \u001b[1mdish\u001b[0m={ x=[1, 6] },\n",
              "  \u001b[1m(user, buys, dish)\u001b[0m={ edge_index=[2, 1] },\n",
              "  \u001b[1m(dish, rev_buys, user)\u001b[0m={ edge_index=[2, 1] }\n",
              ")"
            ]
          },
          "metadata": {},
          "execution_count": 213
        }
      ]
    },
    {
      "cell_type": "code",
      "execution_count": null,
      "id": "8a32bbca",
      "metadata": {
        "id": "8a32bbca"
      },
      "outputs": [],
      "source": [
        "class SAGE(nn.Module):\n",
        "    def __init__(self, in_channels, hidden_channels, num_layers):\n",
        "        super(SAGE, self).__init__()\n",
        "        self.num_layers = num_layers\n",
        "        self.convs = nn.ModuleList()\n",
        "        \n",
        "        for i in range(num_layers):\n",
        "            in_channels = in_channels if i == 0 else hidden_channels\n",
        "            self.convs.append(SAGEConv(in_channels, hidden_channels))\n",
        "\n",
        "    def forward(self, x, adjs):\n",
        "        for i, (edge_index, _, size) in enumerate(adjs):\n",
        "            x_target = x[:size[1]]  # Target nodes are always placed first.\n",
        "            #print(x, x_target)\n",
        "            x = self.convs[i]((x, x_target), edge_index)\n",
        "            if i != self.num_layers - 1:\n",
        "                x = x.relu()\n",
        "                x = F.dropout(x, p=0.5, training=self.training)\n",
        "        return x\n",
        "\n",
        "    def full_forward(self, x, edge_index):\n",
        "        for i, conv in enumerate(self.convs):\n",
        "            x = conv(x, edge_index)\n",
        "            if i != self.num_layers - 1:\n",
        "                x = x.relu()\n",
        "                x = F.dropout(x, p=0.5, training=self.training)\n",
        "        return x"
      ]
    },
    {
      "cell_type": "code",
      "source": [
        "data"
      ],
      "metadata": {
        "colab": {
          "base_uri": "https://localhost:8080/"
        },
        "id": "SC9QQddaBHgi",
        "outputId": "819f6097-82ba-4f36-bcea-433f393882d3"
      },
      "id": "SC9QQddaBHgi",
      "execution_count": 216,
      "outputs": [
        {
          "output_type": "execute_result",
          "data": {
            "text/plain": [
              "HeteroData(\n",
              "  \u001b[1muser\u001b[0m={\n",
              "    x=[500, 6],\n",
              "    y=[500, 6]\n",
              "  },\n",
              "  \u001b[1mdish\u001b[0m={ x=[6, 6] },\n",
              "  \u001b[1m(user, buys, dish)\u001b[0m={ edge_index=[2, 1491] },\n",
              "  \u001b[1m(dish, rev_buys, user)\u001b[0m={ edge_index=[2, 1491] }\n",
              ")"
            ]
          },
          "metadata": {},
          "execution_count": 216
        }
      ]
    },
    {
      "cell_type": "code",
      "execution_count": null,
      "id": "4d3169cc",
      "metadata": {
        "id": "4d3169cc",
        "colab": {
          "base_uri": "https://localhost:8080/",
          "height": 357
        },
        "outputId": "eace84f9-c9f9-4823-b641-f90c31b13ca5"
      },
      "outputs": [
        {
          "output_type": "error",
          "ename": "AttributeError",
          "evalue": "ignored",
          "traceback": [
            "\u001b[0;31m---------------------------------------------------------------------------\u001b[0m",
            "\u001b[0;31mAttributeError\u001b[0m                            Traceback (most recent call last)",
            "\u001b[0;32m<ipython-input-215-c11d5406d8e4>\u001b[0m in \u001b[0;36m<module>\u001b[0;34m()\u001b[0m\n\u001b[1;32m      1\u001b[0m \u001b[0mdevice\u001b[0m \u001b[0;34m=\u001b[0m \u001b[0mtorch\u001b[0m\u001b[0;34m.\u001b[0m\u001b[0mdevice\u001b[0m\u001b[0;34m(\u001b[0m\u001b[0;34m'cuda'\u001b[0m \u001b[0;32mif\u001b[0m \u001b[0mtorch\u001b[0m\u001b[0;34m.\u001b[0m\u001b[0mcuda\u001b[0m\u001b[0;34m.\u001b[0m\u001b[0mis_available\u001b[0m\u001b[0;34m(\u001b[0m\u001b[0;34m)\u001b[0m \u001b[0;32melse\u001b[0m \u001b[0;34m'cpu'\u001b[0m\u001b[0;34m)\u001b[0m\u001b[0;34m\u001b[0m\u001b[0;34m\u001b[0m\u001b[0m\n\u001b[0;32m----> 2\u001b[0;31m \u001b[0mmodel\u001b[0m \u001b[0;34m=\u001b[0m \u001b[0mSAGE\u001b[0m\u001b[0;34m(\u001b[0m\u001b[0mdata\u001b[0m\u001b[0;34m.\u001b[0m\u001b[0mnum_node_features\u001b[0m\u001b[0;34m,\u001b[0m \u001b[0mhidden_channels\u001b[0m\u001b[0;34m=\u001b[0m\u001b[0;36m64\u001b[0m\u001b[0;34m,\u001b[0m \u001b[0mnum_layers\u001b[0m\u001b[0;34m=\u001b[0m\u001b[0;36m2\u001b[0m\u001b[0;34m)\u001b[0m\u001b[0;34m\u001b[0m\u001b[0;34m\u001b[0m\u001b[0m\n\u001b[0m\u001b[1;32m      3\u001b[0m \u001b[0mmodel\u001b[0m \u001b[0;34m=\u001b[0m \u001b[0mmodel\u001b[0m\u001b[0;34m.\u001b[0m\u001b[0mto\u001b[0m\u001b[0;34m(\u001b[0m\u001b[0mdevice\u001b[0m\u001b[0;34m)\u001b[0m\u001b[0;34m\u001b[0m\u001b[0;34m\u001b[0m\u001b[0m\n\u001b[1;32m      4\u001b[0m \u001b[0moptimizer\u001b[0m \u001b[0;34m=\u001b[0m \u001b[0mtorch\u001b[0m\u001b[0;34m.\u001b[0m\u001b[0moptim\u001b[0m\u001b[0;34m.\u001b[0m\u001b[0mAdam\u001b[0m\u001b[0;34m(\u001b[0m\u001b[0mmodel\u001b[0m\u001b[0;34m.\u001b[0m\u001b[0mparameters\u001b[0m\u001b[0;34m(\u001b[0m\u001b[0;34m)\u001b[0m\u001b[0;34m,\u001b[0m \u001b[0mlr\u001b[0m\u001b[0;34m=\u001b[0m\u001b[0;36m0.01\u001b[0m\u001b[0;34m)\u001b[0m\u001b[0;34m\u001b[0m\u001b[0;34m\u001b[0m\u001b[0m\n\u001b[1;32m      5\u001b[0m \u001b[0mx\u001b[0m\u001b[0;34m,\u001b[0m \u001b[0medge_index\u001b[0m \u001b[0;34m=\u001b[0m \u001b[0mdata\u001b[0m\u001b[0;34m.\u001b[0m\u001b[0mx\u001b[0m\u001b[0;34m.\u001b[0m\u001b[0mto\u001b[0m\u001b[0;34m(\u001b[0m\u001b[0mdevice\u001b[0m\u001b[0;34m)\u001b[0m\u001b[0;34m,\u001b[0m \u001b[0mdata\u001b[0m\u001b[0;34m.\u001b[0m\u001b[0medge_index\u001b[0m\u001b[0;34m.\u001b[0m\u001b[0mto\u001b[0m\u001b[0;34m(\u001b[0m\u001b[0mdevice\u001b[0m\u001b[0;34m)\u001b[0m\u001b[0;34m\u001b[0m\u001b[0;34m\u001b[0m\u001b[0m\n",
            "\u001b[0;32m/usr/local/lib/python3.7/dist-packages/torch_geometric/data/hetero_data.py\u001b[0m in \u001b[0;36m__getattr__\u001b[0;34m(self, key)\u001b[0m\n\u001b[1;32m    114\u001b[0m         \u001b[0;32melif\u001b[0m \u001b[0mbool\u001b[0m\u001b[0;34m(\u001b[0m\u001b[0mre\u001b[0m\u001b[0;34m.\u001b[0m\u001b[0msearch\u001b[0m\u001b[0;34m(\u001b[0m\u001b[0;34m'_dict$'\u001b[0m\u001b[0;34m,\u001b[0m \u001b[0mkey\u001b[0m\u001b[0;34m)\u001b[0m\u001b[0;34m)\u001b[0m\u001b[0;34m:\u001b[0m\u001b[0;34m\u001b[0m\u001b[0;34m\u001b[0m\u001b[0m\n\u001b[1;32m    115\u001b[0m             \u001b[0;32mreturn\u001b[0m \u001b[0mself\u001b[0m\u001b[0;34m.\u001b[0m\u001b[0mcollect\u001b[0m\u001b[0;34m(\u001b[0m\u001b[0mkey\u001b[0m\u001b[0;34m[\u001b[0m\u001b[0;34m:\u001b[0m\u001b[0;34m-\u001b[0m\u001b[0;36m5\u001b[0m\u001b[0;34m]\u001b[0m\u001b[0;34m)\u001b[0m\u001b[0;34m\u001b[0m\u001b[0;34m\u001b[0m\u001b[0m\n\u001b[0;32m--> 116\u001b[0;31m         raise AttributeError(f\"'{self.__class__.__name__}' has no \"\n\u001b[0m\u001b[1;32m    117\u001b[0m                              f\"attribute '{key}'\")\n\u001b[1;32m    118\u001b[0m \u001b[0;34m\u001b[0m\u001b[0m\n",
            "\u001b[0;31mAttributeError\u001b[0m: 'HeteroData' has no attribute 'num_node_features'"
          ]
        }
      ],
      "source": [
        "device = torch.device('cuda' if torch.cuda.is_available() else 'cpu')\n",
        "model = SAGE(data.num_node_features, hidden_channels=64, num_layers=2)\n",
        "model = model.to(device)\n",
        "optimizer = torch.optim.Adam(model.parameters(), lr=0.01)\n",
        "x, edge_index = data.x.to(device), data.edge_index.to(device)"
      ]
    },
    {
      "cell_type": "code",
      "source": [
        "model.train()\n",
        "\n",
        "total_loss = 0\n",
        "for batch_size, n_id, adjs in train_loader:\n",
        "    # `adjs` holds a list of `(edge_index, e_id, size)` tuples.\n",
        "    adjs = [adj.to(device) for adj in adjs]\n",
        "    optimizer.zero_grad()\n",
        "\n",
        "    out = model(x[n_id], adjs)\n",
        "    out, pos_out, neg_out = out.split(out.size(0) // 3, dim=0)\n",
        "\n",
        "    pos_loss = F.logsigmoid((out * pos_out).sum(-1)).mean()\n",
        "    neg_loss = F.logsigmoid(-(out * neg_out).sum(-1)).mean()\n",
        "    loss = -pos_loss - neg_loss\n",
        "    loss.backward()\n",
        "    optimizer.step()\n",
        "\n",
        "    total_loss += float(loss) * out.size(0)\n",
        "    #break"
      ],
      "metadata": {
        "id": "F2NZcp-Npujk"
      },
      "id": "F2NZcp-Npujk",
      "execution_count": null,
      "outputs": []
    },
    {
      "cell_type": "code",
      "execution_count": null,
      "id": "3b5d6e7e",
      "metadata": {
        "id": "3b5d6e7e"
      },
      "outputs": [],
      "source": [
        "def train():\n",
        "    model.train()\n",
        "\n",
        "    total_loss = 0\n",
        "    for batch_size, n_id, adjs in train_loader:\n",
        "        # `adjs` holds a list of `(edge_index, e_id, size)` tuples.\n",
        "        adjs = [adj.to(device) for adj in adjs]\n",
        "        optimizer.zero_grad()\n",
        "\n",
        "        out = model(x[n_id], adjs)\n",
        "        out, pos_out, neg_out = out.split(out.size(0) // 3, dim=0)\n",
        "\n",
        "        pos_loss = F.logsigmoid((out * pos_out).sum(-1)).mean()\n",
        "        neg_loss = F.logsigmoid(-(out * neg_out).sum(-1)).mean()\n",
        "        loss = -pos_loss - neg_loss\n",
        "        loss.backward()\n",
        "        optimizer.step()\n",
        "\n",
        "        total_loss += float(loss) * out.size(0)\n",
        "\n",
        "    return total_loss / data.num_nodes"
      ]
    },
    {
      "cell_type": "code",
      "execution_count": null,
      "id": "9ce8df08",
      "metadata": {
        "id": "9ce8df08"
      },
      "outputs": [],
      "source": [
        "@torch.no_grad()\n",
        "def test():\n",
        "    model.eval()\n",
        "    out = model.full_forward(x, edge_index).cpu()\n",
        "\n",
        "    clf = LogisticRegression()\n",
        "    clf.fit(out[data.train_mask], data.y[data.train_mask])\n",
        "\n",
        "    val_acc = clf.score(out[data.val_mask], data.y[data.val_mask])\n",
        "    test_acc = clf.score(out[data.test_mask], data.y[data.test_mask])\n",
        "\n",
        "    return val_acc, test_acc"
      ]
    },
    {
      "cell_type": "code",
      "execution_count": null,
      "id": "519fbca4",
      "metadata": {
        "colab": {
          "base_uri": "https://localhost:8080/"
        },
        "id": "519fbca4",
        "outputId": "38b58b0e-f6fe-4a31-acc8-ca4558e69f70"
      },
      "outputs": [
        {
          "output_type": "stream",
          "name": "stdout",
          "text": [
            "Epoch: 001, Loss: 3.9374, \n",
            "Epoch: 002, Loss: 1.9053, \n",
            "Epoch: 003, Loss: 2.5082, \n",
            "Epoch: 004, Loss: 1.2902, \n",
            "Epoch: 005, Loss: 1.6550, \n",
            "Epoch: 006, Loss: 1.3754, \n",
            "Epoch: 007, Loss: 1.0893, \n",
            "Epoch: 008, Loss: 1.1739, \n",
            "Epoch: 009, Loss: 1.1811, \n",
            "Epoch: 010, Loss: 12.5970, \n",
            "Epoch: 011, Loss: 1.8660, \n",
            "Epoch: 012, Loss: 1.4447, \n",
            "Epoch: 013, Loss: 1.2702, \n",
            "Epoch: 014, Loss: 1.2241, \n",
            "Epoch: 015, Loss: 1.1750, \n",
            "Epoch: 016, Loss: 1.2588, \n",
            "Epoch: 017, Loss: 1.2314, \n",
            "Epoch: 018, Loss: 1.5580, \n",
            "Epoch: 019, Loss: 1.2436, \n",
            "Epoch: 020, Loss: 1.6134, \n",
            "Epoch: 021, Loss: 1.4148, \n",
            "Epoch: 022, Loss: 1.3466, \n",
            "Epoch: 023, Loss: 1.3291, \n",
            "Epoch: 024, Loss: 1.7191, \n",
            "Epoch: 025, Loss: 1.3414, \n",
            "Epoch: 026, Loss: 1.2195, \n",
            "Epoch: 027, Loss: 1.1805, \n",
            "Epoch: 028, Loss: 1.3871, \n",
            "Epoch: 029, Loss: 1.2027, \n",
            "Epoch: 030, Loss: 1.2019, \n",
            "Epoch: 031, Loss: 1.1076, \n",
            "Epoch: 032, Loss: 1.1174, \n",
            "Epoch: 033, Loss: 1.2475, \n",
            "Epoch: 034, Loss: 1.9446, \n",
            "Epoch: 035, Loss: 1.4923, \n",
            "Epoch: 036, Loss: 1.3843, \n",
            "Epoch: 037, Loss: 1.7037, \n",
            "Epoch: 038, Loss: 1.3131, \n",
            "Epoch: 039, Loss: 1.3447, \n",
            "Epoch: 040, Loss: 1.2984, \n",
            "Epoch: 041, Loss: 1.3663, \n",
            "Epoch: 042, Loss: 1.2780, \n",
            "Epoch: 043, Loss: 1.2545, \n",
            "Epoch: 044, Loss: 1.5928, \n",
            "Epoch: 045, Loss: 1.2377, \n",
            "Epoch: 046, Loss: 1.2764, \n",
            "Epoch: 047, Loss: 1.5109, \n",
            "Epoch: 048, Loss: 1.3787, \n",
            "Epoch: 049, Loss: 1.2544, \n",
            "Epoch: 050, Loss: 1.2338, \n"
          ]
        }
      ],
      "source": [
        "for epoch in range(1, 51):\n",
        "    loss = train()\n",
        "    #val_acc, test_acc = test()\n",
        "    print(f'Epoch: {epoch:03d}, Loss: {loss:.4f}, ')\n",
        "          #f'Val: {val_acc:.4f}, Test: {test_acc:.4f}')"
      ]
    },
    {
      "cell_type": "code",
      "execution_count": null,
      "id": "6479b9c9",
      "metadata": {
        "id": "6479b9c9"
      },
      "outputs": [],
      "source": [
        "with torch.no_grad():\n",
        "    model.eval()\n",
        "    out = model.full_forward(x, edge_index).cpu()"
      ]
    },
    {
      "cell_type": "code",
      "source": [
        "np.where(data.y[23].numpy() == 1)"
      ],
      "metadata": {
        "colab": {
          "base_uri": "https://localhost:8080/"
        },
        "id": "I0EhP4BTFS5N",
        "outputId": "644e78ff-f92c-4a06-b9d3-abd622f16a98"
      },
      "id": "I0EhP4BTFS5N",
      "execution_count": null,
      "outputs": [
        {
          "output_type": "execute_result",
          "data": {
            "text/plain": [
              "(array([2, 4]),)"
            ]
          },
          "metadata": {},
          "execution_count": 136
        }
      ]
    },
    {
      "cell_type": "code",
      "source": [
        "for i in range(6):\n",
        "  print(sum(data.y[:,i]))"
      ],
      "metadata": {
        "colab": {
          "base_uri": "https://localhost:8080/"
        },
        "id": "rE_EjyzOLSzL",
        "outputId": "e9f4ebc7-e94e-496a-ecfa-960f51499d4f"
      },
      "id": "rE_EjyzOLSzL",
      "execution_count": null,
      "outputs": [
        {
          "output_type": "stream",
          "name": "stdout",
          "text": [
            "tensor(109., dtype=torch.float64)\n",
            "tensor(326., dtype=torch.float64)\n",
            "tensor(260., dtype=torch.float64)\n",
            "tensor(205., dtype=torch.float64)\n",
            "tensor(349., dtype=torch.float64)\n",
            "tensor(278., dtype=torch.float64)\n"
          ]
        }
      ]
    },
    {
      "cell_type": "code",
      "source": [
        "from numpy import linalg\n",
        "for j in range(200):\n",
        "  test = []\n",
        "  for i in range(200, 206):\n",
        "    test.append(sum(out[j].numpy() * out[i].numpy()))\n",
        "  test = np.array(test)\n",
        "  sorted_indices = sorted(range(len(test)), key=lambda k: test[k], reverse = True)\n",
        "  # print(sorted_indices)\n",
        "  # print(np.where(data.y[j].numpy() == 1))\n",
        "  # print('----')"
      ],
      "metadata": {
        "id": "WeU9so-uFhUn"
      },
      "id": "WeU9so-uFhUn",
      "execution_count": null,
      "outputs": []
    },
    {
      "cell_type": "code",
      "execution_count": null,
      "id": "101a104f",
      "metadata": {
        "id": "101a104f"
      },
      "outputs": [],
      "source": [
        "# palette = {}\n",
        "\n",
        "# for n, y in enumerate(set(data.y.numpy())):\n",
        "#     palette[y] = f'C{n}'\n",
        "\n",
        "palette = {}\n",
        "\n",
        "for n, y in enumerate(set(data.y[:,1].numpy())):\n",
        "    palette[y] = f'C{n}'"
      ]
    },
    {
      "cell_type": "code",
      "execution_count": null,
      "id": "e91afe66",
      "metadata": {
        "id": "e91afe66"
      },
      "outputs": [],
      "source": [
        "embd = umap.UMAP().fit_transform(out.cpu().numpy())"
      ]
    },
    {
      "cell_type": "code",
      "source": [
        ""
      ],
      "metadata": {
        "id": "d8kFCUeiGR6j"
      },
      "id": "d8kFCUeiGR6j",
      "execution_count": null,
      "outputs": []
    },
    {
      "cell_type": "code",
      "source": [
        "sum(data.y[:,0].cpu().numpy() * data.y[:,1].cpu().numpy() * data.y[:,2].cpu().numpy())"
      ],
      "metadata": {
        "colab": {
          "base_uri": "https://localhost:8080/"
        },
        "id": "CoD9M54LF321",
        "outputId": "6291771b-7606-464d-c077-240d49781e51"
      },
      "id": "CoD9M54LF321",
      "execution_count": null,
      "outputs": [
        {
          "output_type": "execute_result",
          "data": {
            "text/plain": [
              "46.0"
            ]
          },
          "metadata": {},
          "execution_count": 150
        }
      ]
    },
    {
      "cell_type": "code",
      "source": [
        "plt.figure(figsize=(10, 10))\n",
        "sns.scatterplot(x=embd.T[0], y=embd.T[1], hue=data.y[:,0].cpu().numpy() * data.y[:,1].cpu().numpy() * data.y[:,2].cpu().numpy(), palette=palette)\n",
        "plt.legend(bbox_to_anchor=(1,1), loc='upper left')\n",
        "#plt.savefig(\"umap_embd_sage.png\", dpi=120)"
      ],
      "metadata": {
        "colab": {
          "base_uri": "https://localhost:8080/",
          "height": 609
        },
        "id": "ELLvV5XcF1CF",
        "outputId": "93773806-888c-4725-f159-43ac4b4af316"
      },
      "id": "ELLvV5XcF1CF",
      "execution_count": null,
      "outputs": [
        {
          "output_type": "execute_result",
          "data": {
            "text/plain": [
              "<matplotlib.legend.Legend at 0x7f3d75a33310>"
            ]
          },
          "metadata": {},
          "execution_count": 149
        },
        {
          "output_type": "display_data",
          "data": {
            "text/plain": [
              "<Figure size 720x720 with 1 Axes>"
            ],
            "image/png": "[encoded data removed]"
          },
          "metadata": {
            "needs_background": "light"
          }
        }
      ]
    },
    {
      "cell_type": "code",
      "execution_count": null,
      "id": "7d08d7a8",
      "metadata": {
        "colab": {
          "base_uri": "https://localhost:8080/",
          "height": 1000
        },
        "id": "7d08d7a8",
        "outputId": "69f8e7a4-8db0-4a13-ae58-2be7a51bccba"
      },
      "outputs": [
        {
          "output_type": "display_data",
          "data": {
            "text/plain": [
              "<Figure size 720x720 with 1 Axes>"
            ],
            "image/png": "[encoded data removed]"
          },
          "metadata": {
            "needs_background": "light"
          }
        },
        {
          "output_type": "display_data",
          "data": {
            "text/plain": [
              "<Figure size 720x720 with 1 Axes>"
            ],
            "image/png": "[encoded data removed]"
          },
          "metadata": {
            "needs_background": "light"
          }
        },
        {
          "output_type": "display_data",
          "data": {
            "text/plain": [
              "<Figure size 720x720 with 1 Axes>"
            ],
            "image/png": "[encoded data removed]"
          },
          "metadata": {
            "needs_background": "light"
          }
        },
        {
          "output_type": "display_data",
          "data": {
            "text/plain": [
              "<Figure size 720x720 with 1 Axes>"
            ],
            "image/png": "[encoded data removed]"
          },
          "metadata": {
            "needs_background": "light"
          }
        },
        {
          "output_type": "display_data",
          "data": {
            "text/plain": [
              "<Figure size 720x720 with 1 Axes>"
            ],
            "image/png": "[encoded data removed]"
          },
          "metadata": {
            "needs_background": "light"
          }
        },
        {
          "output_type": "display_data",
          "data": {
            "text/plain": [
              "<Figure size 720x720 with 1 Axes>"
            ],
            "image/png": "[encoded data removed]"
          },
          "metadata": {
            "needs_background": "light"
          }
        }
      ],
      "source": [
        "for i in range(5,-1, -1):\n",
        "  plt.figure(figsize=(10, 10))\n",
        "  sns.scatterplot(x=embd.T[0], y=embd.T[1], hue=data.y[:,i].cpu().numpy(), palette=palette)\n",
        "  plt.legend(bbox_to_anchor=(1,1), loc='upper left')\n",
        "  #plt.savefig(\"umap_embd_sage.png\", dpi=120)"
      ]
    },
    {
      "cell_type": "code",
      "execution_count": null,
      "id": "cb48c1f2",
      "metadata": {
        "id": "cb48c1f2"
      },
      "outputs": [],
      "source": [
        "embd_x = umap.UMAP().fit_transform(data.x.numpy())"
      ]
    },
    {
      "cell_type": "code",
      "execution_count": null,
      "id": "a03e1195",
      "metadata": {
        "colab": {
          "base_uri": "https://localhost:8080/",
          "height": 592
        },
        "id": "a03e1195",
        "outputId": "79e3be5f-9f48-4fe1-8166-4531354691a2"
      },
      "outputs": [
        {
          "output_type": "display_data",
          "data": {
            "text/plain": [
              "<Figure size 720x720 with 1 Axes>"
            ],
            "image/png": "[encoded data removed]"
          },
          "metadata": {
            "needs_background": "light"
          }
        }
      ],
      "source": [
        "plt.figure(figsize=(10, 10))\n",
        "sns.scatterplot(x=embd_x.T[0], y=embd_x.T[1], hue=data.y[:,5].cpu().numpy(), palette=palette)\n",
        "plt.legend(bbox_to_anchor=(1,1), loc='upper left')\n",
        "plt.savefig(\"umap_embd.png\", dpi=120)"
      ]
    },
    {
      "cell_type": "code",
      "source": [
        ""
      ],
      "metadata": {
        "id": "VUXUakhCBitv"
      },
      "id": "VUXUakhCBitv",
      "execution_count": null,
      "outputs": []
    },
    {
      "cell_type": "markdown",
      "source": [
        "## Гетерограф"
      ],
      "metadata": {
        "id": "qXT-BQBHBjh-"
      },
      "id": "qXT-BQBHBjh-"
    },
    {
      "cell_type": "code",
      "source": [
        "hetero_data = data"
      ],
      "metadata": {
        "id": "MrOD4rRACRYX"
      },
      "execution_count": 110,
      "outputs": [],
      "id": "MrOD4rRACRYX"
    },
    {
      "cell_type": "code",
      "source": [
        "data['dish']"
      ],
      "metadata": {
        "colab": {
          "base_uri": "https://localhost:8080/"
        },
        "id": "fN6YRPbt_TKG",
        "outputId": "b917482d-3df8-47be-c6bd-3d6a2cd7667d"
      },
      "id": "fN6YRPbt_TKG",
      "execution_count": 111,
      "outputs": [
        {
          "output_type": "execute_result",
          "data": {
            "text/plain": [
              "{'x': tensor([[1., 0., 0., 0., 0., 0.],\n",
              "        [0., 1., 0., 0., 0., 0.],\n",
              "        [0., 0., 1., 0., 0., 0.],\n",
              "        [0., 0., 0., 1., 0., 0.],\n",
              "        [0., 0., 0., 0., 1., 0.],\n",
              "        [0., 0., 0., 0., 0., 1.]])}"
            ]
          },
          "metadata": {},
          "execution_count": 111
        }
      ]
    },
    {
      "cell_type": "code",
      "source": [
        "from torch_geometric.loader import NeighborLoader\n",
        "n_neigh = 1\n",
        "loader = NeighborLoader(\n",
        "    hetero_data,\n",
        "    # Sample n_neigh neighbors for each node and edge type for 2 iterations\n",
        "    num_neighbors={key: [n_neigh] * 2 for key in hetero_data.edge_types},\n",
        "    # Use a batch size of 128 for sampling training nodes of type paper\n",
        "    batch_size=1,\n",
        "    input_nodes=('user'),\n",
        ")"
      ],
      "metadata": {
        "id": "EtT8cWKDCRYX"
      },
      "execution_count": 24,
      "outputs": [],
      "id": "EtT8cWKDCRYX"
    },
    {
      "cell_type": "code",
      "execution_count": 25,
      "metadata": {
        "id": "3GFtB8BxCRYY"
      },
      "outputs": [],
      "source": [
        "class SAGE(nn.Module):\n",
        "    def __init__(self, in_channels, hidden_channels, num_layers):\n",
        "        super(SAGE, self).__init__()\n",
        "        self.num_layers = num_layers\n",
        "        self.convs = nn.ModuleList()\n",
        "        \n",
        "        for i in range(num_layers):\n",
        "            in_channels = in_channels if i == 0 else hidden_channels\n",
        "            self.convs.append(SAGEConv(in_channels, hidden_channels))\n",
        "\n",
        "    def forward(self, x, adjs):\n",
        "        for i, (edge_index, _, size) in enumerate(adjs):\n",
        "            x_target = x[:size[1]]  # Target nodes are always placed first.\n",
        "            #print(x, x_target)\n",
        "            x = self.convs[i]((x, x_target), edge_index)\n",
        "            if i != self.num_layers - 1:\n",
        "                x = x.relu()\n",
        "                x = F.dropout(x, p=0.5, training=self.training)\n",
        "        return x\n",
        "\n",
        "    def full_forward(self, x, edge_index):\n",
        "        for i, conv in enumerate(self.convs):\n",
        "            x = conv(x, edge_index)\n",
        "            if i != self.num_layers - 1:\n",
        "                x = x.relu()\n",
        "                x = F.dropout(x, p=0.5, training=self.training)\n",
        "        return x"
      ],
      "id": "3GFtB8BxCRYY"
    },
    {
      "cell_type": "code",
      "source": [
        "from torch_geometric.nn import SAGEConv, to_hetero"
      ],
      "metadata": {
        "id": "dch0uN3HwOk7"
      },
      "id": "dch0uN3HwOk7",
      "execution_count": 26,
      "outputs": []
    },
    {
      "cell_type": "code",
      "source": [
        "import torch_geometric.transforms as T\n",
        "from torch_geometric.datasets import OGB_MAG\n",
        "from torch_geometric.nn import SAGEConv, to_hetero\n",
        "\n",
        "\n",
        "# dataset = OGB_MAG(root='./data', preprocess='metapath2vec', transform=T.ToUndirected())\n",
        "# data = dataset[0]\n",
        "\n",
        "class GNN(torch.nn.Module):\n",
        "    def __init__(self, hidden_channels):\n",
        "        super().__init__()\n",
        "        self.conv1 = SAGEConv((-1, -1), hidden_channels)\n",
        "        self.conv2 = SAGEConv((-1, -1), hidden_channels)\n",
        "\n",
        "    def forward(self, x, edge_index):\n",
        "        x = self.conv1(x, edge_index).relu()\n",
        "        x = self.conv2(x, edge_index)\n",
        "        return x\n",
        "\n",
        "\n",
        "model = GNN(hidden_channels=64)\n",
        "model = to_hetero(model, data.metadata(), aggr='sum')"
      ],
      "metadata": {
        "colab": {
          "base_uri": "https://localhost:8080/"
        },
        "id": "DqfGL3nOxYZe",
        "outputId": "b09ec964-5fa6-46f5-9797-4f4da4fd1dfb"
      },
      "id": "DqfGL3nOxYZe",
      "execution_count": 114,
      "outputs": [
        {
          "output_type": "stream",
          "name": "stderr",
          "text": [
            "/usr/local/lib/python3.7/dist-packages/torch_geometric/nn/to_hetero_transformer.py:139: UserWarning: There exist node types ({'user'}) whose representations do not get updated during message passing as they do not occur as destination type in any edge type. This may lead to unexpected behaviour.\n",
            "  f\"There exist node types ({unused_node_types}) whose \"\n"
          ]
        }
      ]
    },
    {
      "cell_type": "code",
      "source": [
        ""
      ],
      "metadata": {
        "id": "cZZz_N1RSF11"
      },
      "id": "cZZz_N1RSF11",
      "execution_count": null,
      "outputs": []
    },
    {
      "cell_type": "code",
      "source": [
        "device = torch.device('cuda' if torch.cuda.is_available() else 'cpu')\n",
        "# model = SAGE(data['user'].num_node_features, hidden_channels=64, num_layers=2)\n",
        "# model = model.to(device)\n",
        "optimizer = torch.optim.Adam(model.parameters(), lr=0.00001)\n",
        "#x, edge_index = data.x.to(device), data.edge_index.to(device)"
      ],
      "metadata": {
        "id": "Le59C0MvmKUa"
      },
      "id": "Le59C0MvmKUa",
      "execution_count": 28,
      "outputs": []
    },
    {
      "cell_type": "markdown",
      "source": [
        "### Эксперименты с SparceTensor"
      ],
      "metadata": {
        "id": "Xg-GWjrAi0TX"
      },
      "id": "Xg-GWjrAi0TX"
    },
    {
      "cell_type": "code",
      "source": [
        "from torch_sparse import SparseTensor\n",
        "edge_index = a[2][0].edge_index\n",
        "is_sparse_tensor = isinstance(edge_index, SparseTensor)\n",
        "is_sparse_tensor"
      ],
      "metadata": {
        "colab": {
          "base_uri": "https://localhost:8080/",
          "height": 218
        },
        "id": "uC6oH2e7GVGN",
        "outputId": "42a4c657-1ee9-40e3-83d1-ac3b3727e9a3"
      },
      "id": "uC6oH2e7GVGN",
      "execution_count": 29,
      "outputs": [
        {
          "output_type": "error",
          "ename": "NameError",
          "evalue": "ignored",
          "traceback": [
            "\u001b[0;31m---------------------------------------------------------------------------\u001b[0m",
            "\u001b[0;31mNameError\u001b[0m                                 Traceback (most recent call last)",
            "\u001b[0;32m<ipython-input-29-47870f2e3541>\u001b[0m in \u001b[0;36m<module>\u001b[0;34m()\u001b[0m\n\u001b[1;32m      1\u001b[0m \u001b[0;32mfrom\u001b[0m \u001b[0mtorch_sparse\u001b[0m \u001b[0;32mimport\u001b[0m \u001b[0mSparseTensor\u001b[0m\u001b[0;34m\u001b[0m\u001b[0;34m\u001b[0m\u001b[0m\n\u001b[0;32m----> 2\u001b[0;31m \u001b[0medge_index\u001b[0m \u001b[0;34m=\u001b[0m \u001b[0ma\u001b[0m\u001b[0;34m[\u001b[0m\u001b[0;36m2\u001b[0m\u001b[0;34m]\u001b[0m\u001b[0;34m[\u001b[0m\u001b[0;36m0\u001b[0m\u001b[0;34m]\u001b[0m\u001b[0;34m.\u001b[0m\u001b[0medge_index\u001b[0m\u001b[0;34m\u001b[0m\u001b[0;34m\u001b[0m\u001b[0m\n\u001b[0m\u001b[1;32m      3\u001b[0m \u001b[0mis_sparse_tensor\u001b[0m \u001b[0;34m=\u001b[0m \u001b[0misinstance\u001b[0m\u001b[0;34m(\u001b[0m\u001b[0medge_index\u001b[0m\u001b[0;34m,\u001b[0m \u001b[0mSparseTensor\u001b[0m\u001b[0;34m)\u001b[0m\u001b[0;34m\u001b[0m\u001b[0;34m\u001b[0m\u001b[0m\n\u001b[1;32m      4\u001b[0m \u001b[0mis_sparse_tensor\u001b[0m\u001b[0;34m\u001b[0m\u001b[0;34m\u001b[0m\u001b[0m\n",
            "\u001b[0;31mNameError\u001b[0m: name 'a' is not defined"
          ]
        }
      ]
    },
    {
      "cell_type": "code",
      "source": [
        "edge_index"
      ],
      "metadata": {
        "colab": {
          "base_uri": "https://localhost:8080/"
        },
        "id": "3gM6L1d-fJ82",
        "outputId": "01bd37ec-cd1c-4f77-f578-affcc50808cb"
      },
      "id": "3gM6L1d-fJ82",
      "execution_count": 345,
      "outputs": [
        {
          "output_type": "execute_result",
          "data": {
            "text/plain": [
              "tensor([[3, 4, 5, 6, 7, 8],\n",
              "        [0, 1, 2, 3, 4, 5]])"
            ]
          },
          "metadata": {},
          "execution_count": 345
        }
      ]
    },
    {
      "cell_type": "code",
      "source": [
        "SparseTensor(row=torch.tensor([0, 10, 2, 3, 4, 5]), col=torch.tensor([3, 4, 5, 6, 7, 8]))"
      ],
      "metadata": {
        "colab": {
          "base_uri": "https://localhost:8080/"
        },
        "id": "u0iLlZFhfYVO",
        "outputId": "64d612c3-d570-46c1-b9be-bedb288f59a7"
      },
      "id": "u0iLlZFhfYVO",
      "execution_count": 354,
      "outputs": [
        {
          "output_type": "execute_result",
          "data": {
            "text/plain": [
              "SparseTensor(row=tensor([ 0,  2,  3,  4,  5, 10]),\n",
              "             col=tensor([3, 5, 6, 7, 8, 4]),\n",
              "             size=(11, 9), nnz=6, density=6.06%)"
            ]
          },
          "metadata": {},
          "execution_count": 354
        }
      ]
    },
    {
      "cell_type": "code",
      "source": [
        "homogeneous_data.edge_index.numpy()[0]"
      ],
      "metadata": {
        "colab": {
          "base_uri": "https://localhost:8080/"
        },
        "id": "p_ztWv3iTAN1",
        "outputId": "6093dd16-5de3-44e5-cbd2-eb730fc5fa7b"
      },
      "id": "p_ztWv3iTAN1",
      "execution_count": 290,
      "outputs": [
        {
          "output_type": "execute_result",
          "data": {
            "text/plain": [
              "array([  0,   4,   6, ..., 505, 505, 505])"
            ]
          },
          "metadata": {},
          "execution_count": 290
        }
      ]
    },
    {
      "cell_type": "code",
      "source": [
        "edge_index[0], edge_index[1]"
      ],
      "metadata": {
        "colab": {
          "base_uri": "https://localhost:8080/"
        },
        "id": "LFhWO38VG9dL",
        "outputId": "7a064e27-6fa3-49b1-989c-5bb2ce3fc4d1"
      },
      "id": "LFhWO38VG9dL",
      "execution_count": 275,
      "outputs": [
        {
          "output_type": "execute_result",
          "data": {
            "text/plain": [
              "(tensor([3, 4, 5, 6, 7, 8]), tensor([0, 1, 2, 3, 4, 5]))"
            ]
          },
          "metadata": {},
          "execution_count": 275
        }
      ]
    },
    {
      "cell_type": "code",
      "source": [
        "pos_batch = random_walk(homogeneous_data.edge_index.numpy()[0], homogeneous_data.edge_index.numpy()[1], batch, walk_length=1,\n",
        "                                coalesced=False)[:, 1]"
      ],
      "metadata": {
        "id": "RAxhK7sqRdvV"
      },
      "id": "RAxhK7sqRdvV",
      "execution_count": null,
      "outputs": []
    },
    {
      "cell_type": "code",
      "source": [
        "random_walk(torch.LongTensor(homogeneous_data.edge_index.numpy()[0]), torch.LongTensor(homogeneous_data.edge_index.numpy()[1]),\n",
        "            start = torch.LongTensor([353]), walk_length=1, coalesced=False)#[:, 1]"
      ],
      "metadata": {
        "colab": {
          "base_uri": "https://localhost:8080/"
        },
        "id": "GlFhS04BVa3c",
        "outputId": "855c844a-8725-40dc-edea-76f238eb2c31"
      },
      "id": "GlFhS04BVa3c",
      "execution_count": 335,
      "outputs": [
        {
          "output_type": "execute_result",
          "data": {
            "text/plain": [
              "tensor([[353, 504]])"
            ]
          },
          "metadata": {},
          "execution_count": 335
        }
      ]
    },
    {
      "cell_type": "code",
      "source": [
        "for a in loader:\n",
        "  print(a)\n",
        "  break"
      ],
      "metadata": {
        "colab": {
          "base_uri": "https://localhost:8080/"
        },
        "id": "fXDWi0UsC4_n",
        "outputId": "04d40e29-b2d1-4e35-b63f-1a4ef89415bb"
      },
      "id": "fXDWi0UsC4_n",
      "execution_count": 261,
      "outputs": [
        {
          "output_type": "stream",
          "name": "stdout",
          "text": [
            "HeteroData(\n",
            "  \u001b[1muser\u001b[0m={\n",
            "    x=[2, 6],\n",
            "    y=[2, 6],\n",
            "    batch_size=1\n",
            "  },\n",
            "  \u001b[1mdish\u001b[0m={ x=[1, 6] },\n",
            "  \u001b[1m(user, buys, dish)\u001b[0m={ edge_index=[2, 1] },\n",
            "  \u001b[1m(dish, rev_buys, user)\u001b[0m={ edge_index=[2, 1] }\n",
            ")\n"
          ]
        }
      ]
    },
    {
      "cell_type": "markdown",
      "source": [
        "### Конец экспериментов"
      ],
      "metadata": {
        "id": "VZu72_F4i6iP"
      },
      "id": "VZu72_F4i6iP"
    },
    {
      "cell_type": "code",
      "source": [
        "def train():\n",
        "    model.train()\n",
        "\n",
        "    total_examples = total_loss = 0\n",
        "    for batch in loader:\n",
        "            optimizer.zero_grad()\n",
        "            #batch = batch.to('cuda:0')\n",
        "            batch_size = batch['user'].batch_size\n",
        "            #print(batch['user'].y)\n",
        "\n",
        "            out = model(batch.x_dict,\n",
        "                        batch.edge_index_dict)\n",
        "            #break\n",
        "\n",
        "            ### negative sampling\n",
        "            neg_dish = []\n",
        "            for element in batch['user'].y[:batch_size]:\n",
        "              list_ = np.where(element == 0)[0]\n",
        "              if list_ != []:\n",
        "                neg_dish.append(np.random.choice(list_))\n",
        "              else: \n",
        "                neg_dish.append(np.random.choice(np.arange(len(element))))\n",
        "      \n",
        "            n_neigh = 10\n",
        "            dish_loader = NeighborLoader(\n",
        "                hetero_data,\n",
        "                # Sample n_neigh neighbors for each node and edge type for 2 iterations\n",
        "                num_neighbors={key: [n_neigh] * 1 for key in hetero_data.edge_types},\n",
        "                # Use a batch size of 128 for sampling training nodes of type paper\n",
        "                batch_size=1,\n",
        "                input_nodes=('dish', torch.Tensor(neg_dish)),\n",
        "            )\n",
        "            for dish_batch in dish_loader:\n",
        "              optimizer.zero_grad()\n",
        "              #batch = batch.to('cuda:0')\n",
        "              batch_size = dish_batch['dish'].batch_size\n",
        "\n",
        "              neg_out = model(dish_batch.x_dict,\n",
        "                            dish_batch.edge_index_dict)\n",
        "\n",
        "\n",
        "            # loss = F.cross_entropy(out['paper'][:batch_size],\n",
        "            #                        batch['paper'].y[:batch_size])\n",
        "            #print(out['user'][:batch_size])\n",
        "            pos_loss = F.logsigmoid((out['user'][:batch_size] * out['dish'][:batch_size]).sum(-1)).mean()\n",
        "            neg_loss = F.logsigmoid(-(out['user'][:batch_size] * neg_out['dish'][:batch_size]).sum(-1)).mean()\n",
        "            loss = -pos_loss - neg_loss\n",
        "            loss.backward()\n",
        "            optimizer.step()\n",
        "\n",
        "            total_examples += batch_size\n",
        "            total_loss += float(loss) * batch_size\n",
        "    return total_loss / total_examples"
      ],
      "metadata": {
        "id": "GY9NqB0F-R72"
      },
      "id": "GY9NqB0F-R72",
      "execution_count": 30,
      "outputs": []
    },
    {
      "cell_type": "code",
      "source": [
        "for _ in range(30):\n",
        "  loss = train()\n",
        "  print(loss)"
      ],
      "metadata": {
        "colab": {
          "base_uri": "https://localhost:8080/"
        },
        "id": "tu85O1-rq5Xy",
        "outputId": "32063a36-faf0-4f0c-c69e-46b247c93db0"
      },
      "id": "tu85O1-rq5Xy",
      "execution_count": 31,
      "outputs": [
        {
          "output_type": "stream",
          "name": "stderr",
          "text": [
            "/usr/local/lib/python3.7/dist-packages/ipykernel_launcher.py:19: DeprecationWarning: elementwise comparison failed; this will raise an error in the future.\n",
            "/usr/local/lib/python3.7/dist-packages/ipykernel_launcher.py:19: DeprecationWarning: The truth value of an empty array is ambiguous. Returning False, but in future this will result in an error. Use `array.size > 0` to check that an array is not empty.\n"
          ]
        },
        {
          "output_type": "stream",
          "name": "stdout",
          "text": [
            "1.6924284185171128\n",
            "1.4841534690260887\n",
            "1.3604386062026024\n",
            "1.3295463180541993\n",
            "1.2287819738835097\n",
            "1.237514231443405\n",
            "1.1863479912877082\n",
            "1.127536418318865\n",
            "1.1120209171412385\n",
            "1.0973599194586277\n",
            "1.0829019178152084\n",
            "1.0734680273781052\n",
            "1.1064815532851695\n",
            "1.016218272715807\n",
            "0.9966336264908314\n",
            "0.9926919131278992\n",
            "0.9590032159085856\n",
            "0.9332246511351482\n",
            "0.8724360260966434\n",
            "0.8047678595711477\n",
            "0.8715579081434899\n",
            "0.886527627401054\n",
            "0.8200214812506746\n",
            "0.8031903420258314\n",
            "0.905101034189167\n",
            "0.7558634213656187\n",
            "0.6365866472986527\n",
            "0.7566155146000383\n",
            "0.6421014458086678\n",
            "0.643672020615879\n"
          ]
        }
      ]
    },
    {
      "cell_type": "code",
      "execution_count": null,
      "metadata": {
        "id": "k8qh4jRPCRYY"
      },
      "outputs": [],
      "source": [
        "@torch.no_grad()\n",
        "def test():\n",
        "    model.eval()\n",
        "    out = model.full_forward(x, edge_index).cpu()\n",
        "\n",
        "    clf = LogisticRegression()\n",
        "    clf.fit(out[data.train_mask], data.y[data.train_mask])\n",
        "\n",
        "    val_acc = clf.score(out[data.val_mask], data.y[data.val_mask])\n",
        "    test_acc = clf.score(out[data.test_mask], data.y[data.test_mask])\n",
        "\n",
        "    return val_acc, test_acc"
      ],
      "id": "k8qh4jRPCRYY"
    },
    {
      "cell_type": "code",
      "execution_count": null,
      "metadata": {
        "colab": {
          "base_uri": "https://localhost:8080/"
        },
        "outputId": "38b58b0e-f6fe-4a31-acc8-ca4558e69f70",
        "id": "QwiZrjiJCRYY"
      },
      "outputs": [
        {
          "output_type": "stream",
          "name": "stdout",
          "text": [
            "Epoch: 001, Loss: 3.9374, \n",
            "Epoch: 002, Loss: 1.9053, \n",
            "Epoch: 003, Loss: 2.5082, \n",
            "Epoch: 004, Loss: 1.2902, \n",
            "Epoch: 005, Loss: 1.6550, \n",
            "Epoch: 006, Loss: 1.3754, \n",
            "Epoch: 007, Loss: 1.0893, \n",
            "Epoch: 008, Loss: 1.1739, \n",
            "Epoch: 009, Loss: 1.1811, \n",
            "Epoch: 010, Loss: 12.5970, \n",
            "Epoch: 011, Loss: 1.8660, \n",
            "Epoch: 012, Loss: 1.4447, \n",
            "Epoch: 013, Loss: 1.2702, \n",
            "Epoch: 014, Loss: 1.2241, \n",
            "Epoch: 015, Loss: 1.1750, \n",
            "Epoch: 016, Loss: 1.2588, \n",
            "Epoch: 017, Loss: 1.2314, \n",
            "Epoch: 018, Loss: 1.5580, \n",
            "Epoch: 019, Loss: 1.2436, \n",
            "Epoch: 020, Loss: 1.6134, \n",
            "Epoch: 021, Loss: 1.4148, \n",
            "Epoch: 022, Loss: 1.3466, \n",
            "Epoch: 023, Loss: 1.3291, \n",
            "Epoch: 024, Loss: 1.7191, \n",
            "Epoch: 025, Loss: 1.3414, \n",
            "Epoch: 026, Loss: 1.2195, \n",
            "Epoch: 027, Loss: 1.1805, \n",
            "Epoch: 028, Loss: 1.3871, \n",
            "Epoch: 029, Loss: 1.2027, \n",
            "Epoch: 030, Loss: 1.2019, \n",
            "Epoch: 031, Loss: 1.1076, \n",
            "Epoch: 032, Loss: 1.1174, \n",
            "Epoch: 033, Loss: 1.2475, \n",
            "Epoch: 034, Loss: 1.9446, \n",
            "Epoch: 035, Loss: 1.4923, \n",
            "Epoch: 036, Loss: 1.3843, \n",
            "Epoch: 037, Loss: 1.7037, \n",
            "Epoch: 038, Loss: 1.3131, \n",
            "Epoch: 039, Loss: 1.3447, \n",
            "Epoch: 040, Loss: 1.2984, \n",
            "Epoch: 041, Loss: 1.3663, \n",
            "Epoch: 042, Loss: 1.2780, \n",
            "Epoch: 043, Loss: 1.2545, \n",
            "Epoch: 044, Loss: 1.5928, \n",
            "Epoch: 045, Loss: 1.2377, \n",
            "Epoch: 046, Loss: 1.2764, \n",
            "Epoch: 047, Loss: 1.5109, \n",
            "Epoch: 048, Loss: 1.3787, \n",
            "Epoch: 049, Loss: 1.2544, \n",
            "Epoch: 050, Loss: 1.2338, \n"
          ]
        }
      ],
      "source": [
        "for epoch in range(1, 51):\n",
        "    loss = train()\n",
        "    #val_acc, test_acc = test()\n",
        "    print(f'Epoch: {epoch:03d}, Loss: {loss:.4f}, ')\n",
        "          #f'Val: {val_acc:.4f}, Test: {test_acc:.4f}')"
      ],
      "id": "QwiZrjiJCRYY"
    },
    {
      "cell_type": "code",
      "execution_count": null,
      "metadata": {
        "id": "yGSUM6YuCRYY"
      },
      "outputs": [],
      "source": [
        "with torch.no_grad():\n",
        "    model.eval()\n",
        "    out = model.full_forward(x, edge_index).cpu()"
      ],
      "id": "yGSUM6YuCRYY"
    },
    {
      "cell_type": "code",
      "source": [
        "full_out = []\n",
        "with torch.no_grad():\n",
        "      model.eval()\n",
        "      for batch in loader:\n",
        "            #batch = batch.to('cuda:0')\n",
        "            batch_size = batch['user'].batch_size\n",
        "            #print(batch['user'].y)\n",
        "\n",
        "            out = model(batch.x_dict,\n",
        "                        batch.edge_index_dict)\n",
        "            full_out.extend(out['user'][:batch_size].cpu().numpy())"
      ],
      "metadata": {
        "id": "JPVqe2EG_VYF"
      },
      "id": "JPVqe2EG_VYF",
      "execution_count": 32,
      "outputs": []
    },
    {
      "cell_type": "code",
      "source": [
        "for i in range(6):\n",
        "  print(sum(data['user'].y[:,i]))"
      ],
      "metadata": {
        "colab": {
          "base_uri": "https://localhost:8080/"
        },
        "outputId": "37ae7eb7-d7a1-41be-9d57-84589280e9f1",
        "id": "thGrjJ0tCRYZ"
      },
      "execution_count": 33,
      "outputs": [
        {
          "output_type": "stream",
          "name": "stdout",
          "text": [
            "tensor(101)\n",
            "tensor(317)\n",
            "tensor(255)\n",
            "tensor(201)\n",
            "tensor(345)\n",
            "tensor(262)\n"
          ]
        }
      ],
      "id": "thGrjJ0tCRYZ"
    },
    {
      "cell_type": "code",
      "source": [
        "from numpy import linalg\n",
        "for j in range(200):\n",
        "  test = []\n",
        "  for i in range(200, 206):\n",
        "    test.append(sum(out[j].numpy() * out[i].numpy()))\n",
        "  test = np.array(test)\n",
        "  sorted_indices = sorted(range(len(test)), key=lambda k: test[k], reverse = True)\n",
        "  # print(sorted_indices)\n",
        "  # print(np.where(data.y[j].numpy() == 1))\n",
        "  # print('----')"
      ],
      "metadata": {
        "id": "rJMVcdsYCRYZ"
      },
      "execution_count": null,
      "outputs": [],
      "id": "rJMVcdsYCRYZ"
    },
    {
      "cell_type": "code",
      "execution_count": 34,
      "metadata": {
        "id": "ko4E2FEyCRYZ"
      },
      "outputs": [],
      "source": [
        "# palette = {}\n",
        "\n",
        "# for n, y in enumerate(set(data.y.numpy())):\n",
        "#     palette[y] = f'C{n}'\n",
        "\n",
        "palette = {}\n",
        "\n",
        "for n, y in enumerate(set(data['user'].y[:,1].numpy())):\n",
        "    palette[y] = f'C{n}'"
      ],
      "id": "ko4E2FEyCRYZ"
    },
    {
      "cell_type": "code",
      "execution_count": 35,
      "metadata": {
        "colab": {
          "base_uri": "https://localhost:8080/"
        },
        "id": "L556De_tCRYZ",
        "outputId": "b6b77f2c-369f-432e-e64e-5f7c3bee07df"
      },
      "outputs": [
        {
          "output_type": "stream",
          "name": "stderr",
          "text": [
            "/usr/local/lib/python3.7/dist-packages/numba/np/ufunc/parallel.py:363: NumbaWarning: The TBB threading layer requires TBB version 2019.5 or later i.e., TBB_INTERFACE_VERSION >= 11005. Found TBB_INTERFACE_VERSION = 9107. The TBB threading layer is disabled.\n",
            "  warnings.warn(problem)\n"
          ]
        }
      ],
      "source": [
        "#embd = umap.UMAP().fit_transform(out.cpu().numpy())\n",
        "embd = umap.UMAP().fit_transform(np.array(full_out))"
      ],
      "id": "L556De_tCRYZ"
    },
    {
      "cell_type": "code",
      "source": [
        "plt.figure(figsize=(10, 10))\n",
        "sns.scatterplot(x=embd.T[0], y=embd.T[1], hue=data['user'].y[:,5].cpu().numpy(), palette=palette)\n",
        "plt.legend(bbox_to_anchor=(1,1), loc='upper left')\n",
        "#plt.savefig(\"umap_embd_sage.png\", dpi=120)"
      ],
      "metadata": {
        "colab": {
          "base_uri": "https://localhost:8080/",
          "height": 609
        },
        "outputId": "9937e67f-a2ea-4e57-fa8c-983312c48a0a",
        "id": "UwFjz6O7CRYZ"
      },
      "execution_count": 41,
      "outputs": [
        {
          "output_type": "execute_result",
          "data": {
            "text/plain": [
              "<matplotlib.legend.Legend at 0x7f9a00d2f050>"
            ]
          },
          "metadata": {},
          "execution_count": 41
        },
        {
          "output_type": "display_data",
          "data": {
            "text/plain": [
              "<Figure size 720x720 with 1 Axes>"
            ],
            "image/png": "[encoded data removed]"
          },
          "metadata": {
            "needs_background": "light"
          }
        }
      ],
      "id": "UwFjz6O7CRYZ"
    },
    {
      "cell_type": "code",
      "execution_count": 42,
      "metadata": {
        "id": "FUn4AnD2CRYZ"
      },
      "outputs": [],
      "source": [
        "embd_x = umap.UMAP().fit_transform(data['user'].x.numpy())"
      ],
      "id": "FUn4AnD2CRYZ"
    },
    {
      "cell_type": "code",
      "execution_count": 43,
      "metadata": {
        "colab": {
          "base_uri": "https://localhost:8080/",
          "height": 592
        },
        "outputId": "df7d1375-3216-4b71-be89-2e2f638253d3",
        "id": "Sv7tcgLaCRYZ"
      },
      "outputs": [
        {
          "output_type": "display_data",
          "data": {
            "text/plain": [
              "<Figure size 720x720 with 1 Axes>"
            ],
            "image/png": "[encoded data removed]"
          },
          "metadata": {
            "needs_background": "light"
          }
        }
      ],
      "source": [
        "plt.figure(figsize=(10, 10))\n",
        "sns.scatterplot(x=embd_x.T[0], y=embd_x.T[1], hue=data['user'].y[:,2].cpu().numpy(), palette=palette)\n",
        "plt.legend(bbox_to_anchor=(1,1), loc='upper left')\n",
        "plt.savefig(\"umap_embd.png\", dpi=120)"
      ],
      "id": "Sv7tcgLaCRYZ"
    },
    {
      "cell_type": "code",
      "source": [
        ""
      ],
      "metadata": {
        "id": "2hZcsThaBl3-"
      },
      "id": "2hZcsThaBl3-",
      "execution_count": null,
      "outputs": []
    },
    {
      "cell_type": "markdown",
      "source": [
        "## Edge prediction"
      ],
      "metadata": {
        "id": "ZagGejBhnIyB"
      },
      "id": "ZagGejBhnIyB"
    },
    {
      "cell_type": "code",
      "source": [
        "import scipy.sparse as sp"
      ],
      "metadata": {
        "id": "06l3yN2dty7b"
      },
      "id": "06l3yN2dty7b",
      "execution_count": 91,
      "outputs": []
    },
    {
      "cell_type": "code",
      "source": [
        "u, v = data['buys'].edge_index\n",
        "data['buys'].edge_index"
      ],
      "metadata": {
        "colab": {
          "base_uri": "https://localhost:8080/"
        },
        "id": "cCow1GbSofK-",
        "outputId": "97278495-a3a8-4001-ed5b-03d09af2baf9"
      },
      "id": "cCow1GbSofK-",
      "execution_count": 92,
      "outputs": [
        {
          "output_type": "execute_result",
          "data": {
            "text/plain": [
              "tensor([[  5,   8,  23,  ..., 494, 495, 496],\n",
              "        [  0,   0,   0,  ...,   5,   5,   5]])"
            ]
          },
          "metadata": {},
          "execution_count": 92
        }
      ]
    },
    {
      "cell_type": "code",
      "source": [
        "data.num_edges"
      ],
      "metadata": {
        "colab": {
          "base_uri": "https://localhost:8080/"
        },
        "id": "tI6QxcWtovWX",
        "outputId": "b6781fdc-c670-4798-b6bc-25c5c3121c83"
      },
      "id": "tI6QxcWtovWX",
      "execution_count": 93,
      "outputs": [
        {
          "output_type": "execute_result",
          "data": {
            "text/plain": [
              "1503"
            ]
          },
          "metadata": {},
          "execution_count": 93
        }
      ]
    },
    {
      "cell_type": "code",
      "source": [
        "eids = np.arange(data.num_edges)\n",
        "eids = np.random.permutation(eids)"
      ],
      "metadata": {
        "id": "FyZZIbJ5osiQ"
      },
      "id": "FyZZIbJ5osiQ",
      "execution_count": 94,
      "outputs": []
    },
    {
      "cell_type": "code",
      "source": [
        "test_size = int(len(eids) * 0.1)\n",
        "train_size = data.num_edges - test_size"
      ],
      "metadata": {
        "id": "VqpX-fL3tT3R"
      },
      "id": "VqpX-fL3tT3R",
      "execution_count": 95,
      "outputs": []
    },
    {
      "cell_type": "code",
      "source": [
        "test_pos_u, test_pos_v = u[eids[:test_size]], v[eids[:test_size]]\n",
        "train_pos_u, train_pos_v = u[eids[test_size:]], v[eids[test_size:]]"
      ],
      "metadata": {
        "id": "Y4NwTgowtby4"
      },
      "id": "Y4NwTgowtby4",
      "execution_count": 96,
      "outputs": []
    },
    {
      "cell_type": "code",
      "source": [
        "adj = sp.coo_matrix((np.ones(len(u)), (u.numpy(), v.numpy())))"
      ],
      "metadata": {
        "id": "grTXDbVVtjvu"
      },
      "id": "grTXDbVVtjvu",
      "execution_count": 97,
      "outputs": []
    },
    {
      "cell_type": "code",
      "source": [
        "adj_neg = 1 - adj.todense()\n",
        "neg_u, neg_v = torch.tensor(np.where(adj_neg != 0))"
      ],
      "metadata": {
        "colab": {
          "base_uri": "https://localhost:8080/"
        },
        "id": "gU5sCZZ_xxP8",
        "outputId": "bbba0500-f97e-4149-8752-46fa0b475899"
      },
      "id": "gU5sCZZ_xxP8",
      "execution_count": 104,
      "outputs": [
        {
          "output_type": "stream",
          "name": "stderr",
          "text": [
            "/usr/local/lib/python3.7/dist-packages/ipykernel_launcher.py:2: UserWarning: Creating a tensor from a list of numpy.ndarrays is extremely slow. Please consider converting the list to a single numpy.ndarray with numpy.array() before converting to a tensor. (Triggered internally at  ../torch/csrc/utils/tensor_new.cpp:210.)\n",
            "  \n"
          ]
        }
      ]
    },
    {
      "cell_type": "code",
      "source": [
        "type(adj)"
      ],
      "metadata": {
        "colab": {
          "base_uri": "https://localhost:8080/"
        },
        "id": "3RD-fbMEt43R",
        "outputId": "0247a035-b33c-46ad-cae6-44a057e7cda4"
      },
      "id": "3RD-fbMEt43R",
      "execution_count": 105,
      "outputs": [
        {
          "output_type": "execute_result",
          "data": {
            "text/plain": [
              "scipy.sparse.coo.coo_matrix"
            ]
          },
          "metadata": {},
          "execution_count": 105
        }
      ]
    },
    {
      "cell_type": "code",
      "source": [
        "neg_eids = np.random.choice(len(neg_u), data.num_edges)\n",
        "test_neg_u, test_neg_v = neg_u[neg_eids[:test_size]], neg_v[neg_eids[:test_size]]\n",
        "train_neg_u, train_neg_v = neg_u[neg_eids[test_size:]], neg_v[neg_eids[test_size:]]"
      ],
      "metadata": {
        "id": "pkeQMZG4yxZg"
      },
      "id": "pkeQMZG4yxZg",
      "execution_count": 106,
      "outputs": []
    },
    {
      "cell_type": "code",
      "source": [
        "# # Split edge set for training and testing\n",
        "# u, v = g.edges()\n",
        "\n",
        "# eids = np.arange(g.number_of_edges())\n",
        "# eids = np.random.permutation(eids)\n",
        "# test_size = int(len(eids) * 0.1)\n",
        "# train_size = g.number_of_edges() - test_size\n",
        "# test_pos_u, test_pos_v = u[eids[:test_size]], v[eids[:test_size]]\n",
        "# train_pos_u, train_pos_v = u[eids[test_size:]], v[eids[test_size:]]\n",
        "\n",
        "# # Find all negative edges and split them for training and testing\n",
        "# adj = sp.coo_matrix((np.ones(len(u)), (u.numpy(), v.numpy())))\n",
        "# adj_neg = 1 - adj.todense() - np.eye(g.number_of_nodes())\n",
        "# neg_u, neg_v = np.where(adj_neg != 0)\n",
        "\n",
        "# neg_eids = np.random.choice(len(neg_u), g.number_of_edges())\n",
        "# test_neg_u, test_neg_v = neg_u[neg_eids[:test_size]], neg_v[neg_eids[:test_size]]\n",
        "# train_neg_u, train_neg_v = neg_u[neg_eids[test_size:]], neg_v[neg_eids[test_size:]]"
      ],
      "metadata": {
        "id": "3tKnM5D-nOyR"
      },
      "id": "3tKnM5D-nOyR",
      "execution_count": null,
      "outputs": []
    },
    {
      "cell_type": "code",
      "source": [
        ""
      ],
      "metadata": {
        "id": "39XNHKNlGwxL"
      },
      "id": "39XNHKNlGwxL",
      "execution_count": null,
      "outputs": []
    },
    {
      "cell_type": "code",
      "source": [
        "# create new dataset for train & test"
      ],
      "metadata": {
        "id": "KEQxm6VfGw3g"
      },
      "id": "KEQxm6VfGw3g",
      "execution_count": 43,
      "outputs": []
    },
    {
      "cell_type": "code",
      "source": [
        "data"
      ],
      "metadata": {
        "colab": {
          "base_uri": "https://localhost:8080/"
        },
        "id": "2wLxAP1THKI4",
        "outputId": "47e526ab-3986-41b1-90df-8597b698dac7"
      },
      "id": "2wLxAP1THKI4",
      "execution_count": 90,
      "outputs": [
        {
          "output_type": "execute_result",
          "data": {
            "text/plain": [
              "HeteroData(\n",
              "  \u001b[1muser\u001b[0m={\n",
              "    x=[500, 6],\n",
              "    y=[500, 6]\n",
              "  },\n",
              "  \u001b[1mdish\u001b[0m={ x=[6, 6] },\n",
              "  \u001b[1m(user, buys, dish)\u001b[0m={ edge_index=[2, 1503] }\n",
              ")"
            ]
          },
          "metadata": {},
          "execution_count": 90
        }
      ]
    },
    {
      "cell_type": "code",
      "source": [
        "train_pos_g"
      ],
      "metadata": {
        "colab": {
          "base_uri": "https://localhost:8080/"
        },
        "id": "QVEl1GoLJ9lm",
        "outputId": "e389ea6f-1640-4fb3-8e84-1d1c92e40981"
      },
      "id": "QVEl1GoLJ9lm",
      "execution_count": 88,
      "outputs": [
        {
          "output_type": "execute_result",
          "data": {
            "text/plain": [
              "HeteroData(\n",
              "  \u001b[1muser\u001b[0m={\n",
              "    x=[500, 6],\n",
              "    y=[500, 6]\n",
              "  },\n",
              "  \u001b[1mdish\u001b[0m={ x=[6, 6] },\n",
              "  \u001b[1m(user, buys, dish)\u001b[0m={ edge_index=[2, 1365] }\n",
              ")"
            ]
          },
          "metadata": {},
          "execution_count": 88
        }
      ]
    },
    {
      "cell_type": "code",
      "source": [
        "# Надо добавить проверку на изолированные ноды\n",
        "train_pos_g = data.clone()\n",
        "train_pos_g['buys'].edge_index = torch.stack((train_pos_u, train_pos_v))\n",
        "train_pos_g = T.ToUndirected()(train_pos_g)\n",
        "\n",
        "train_neg_g = data.clone()\n",
        "train_neg_g['buys'].edge_index = torch.stack((train_neg_u, train_neg_v))\n",
        "train_neg_g = T.ToUndirected()(train_neg_g)\n",
        "\n",
        "test_pos_g = data.clone()\n",
        "test_pos_g['buys'].edge_index = torch.stack((test_pos_u, test_pos_v))\n",
        "test_pos_g = T.ToUndirected()(test_pos_g)\n",
        "\n",
        "test_neg_g = data.clone()\n",
        "test_neg_g['buys'].edge_index = torch.stack((test_neg_u, test_neg_v))\n",
        "test_neg_g = T.ToUndirected()(test_neg_g)"
      ],
      "metadata": {
        "id": "7hBJrSeKIbGW"
      },
      "id": "7hBJrSeKIbGW",
      "execution_count": 117,
      "outputs": []
    },
    {
      "cell_type": "code",
      "source": [
        "data"
      ],
      "metadata": {
        "colab": {
          "base_uri": "https://localhost:8080/"
        },
        "id": "4ZVvzuJ9JlVb",
        "outputId": "b7741b55-e96c-4cad-a324-0ac08df985f5"
      },
      "id": "4ZVvzuJ9JlVb",
      "execution_count": 54,
      "outputs": [
        {
          "output_type": "execute_result",
          "data": {
            "text/plain": [
              "HeteroData(\n",
              "  \u001b[1muser\u001b[0m={\n",
              "    x=[500, 6],\n",
              "    y=[500, 6]\n",
              "  },\n",
              "  \u001b[1mdish\u001b[0m={ x=[6, 6] },\n",
              "  \u001b[1m(user, buys, dish)\u001b[0m={ edge_index=[2, 1365] }\n",
              ")"
            ]
          },
          "metadata": {},
          "execution_count": 54
        }
      ]
    },
    {
      "cell_type": "code",
      "source": [
        "train_pos_u"
      ],
      "metadata": {
        "colab": {
          "base_uri": "https://localhost:8080/"
        },
        "id": "LFYLZWAzLxzL",
        "outputId": "3680513f-fcec-44d0-9ddc-5019048843ad"
      },
      "id": "LFYLZWAzLxzL",
      "execution_count": 103,
      "outputs": [
        {
          "output_type": "execute_result",
          "data": {
            "text/plain": [
              "tensor([237, 310, 457,  ..., 119, 295,   2])"
            ]
          },
          "metadata": {},
          "execution_count": 103
        }
      ]
    },
    {
      "cell_type": "code",
      "source": [
        "train_neg_u"
      ],
      "metadata": {
        "colab": {
          "base_uri": "https://localhost:8080/"
        },
        "id": "dQeZtlMsLue3",
        "outputId": "e4ef8423-e331-4fce-89fc-549223b49b17"
      },
      "id": "dQeZtlMsLue3",
      "execution_count": 102,
      "outputs": [
        {
          "output_type": "execute_result",
          "data": {
            "text/plain": [
              "array([257, 331, 416, ..., 237, 115,  88])"
            ]
          },
          "metadata": {},
          "execution_count": 102
        }
      ]
    },
    {
      "cell_type": "code",
      "source": [
        "torch.stack((train_pos_u, train_pos_v)).shape"
      ],
      "metadata": {
        "colab": {
          "base_uri": "https://localhost:8080/"
        },
        "id": "EqfyEq-sJNrL",
        "outputId": "32e76f8e-f179-4a8d-edfd-bbeea3ca5d16"
      },
      "id": "EqfyEq-sJNrL",
      "execution_count": 52,
      "outputs": [
        {
          "output_type": "execute_result",
          "data": {
            "text/plain": [
              "torch.Size([2, 1365])"
            ]
          },
          "metadata": {},
          "execution_count": 52
        }
      ]
    },
    {
      "cell_type": "code",
      "source": [
        "# train_pos_g = dgl.graph((train_pos_u, train_pos_v), num_nodes=g.number_of_nodes())\n",
        "# train_neg_g = dgl.graph((train_neg_u, train_neg_v), num_nodes=g.number_of_nodes())\n",
        "\n",
        "# test_pos_g = dgl.graph((test_pos_u, test_pos_v), num_nodes=g.number_of_nodes())\n",
        "# test_neg_g = dgl.graph((test_neg_u, test_neg_v), num_nodes=g.number_of_nodes())"
      ],
      "metadata": {
        "id": "oLBd9TuVHHtt"
      },
      "id": "oLBd9TuVHHtt",
      "execution_count": 110,
      "outputs": []
    },
    {
      "cell_type": "code",
      "source": [
        "data = T.ToUndirected()(data)"
      ],
      "metadata": {
        "id": "7YwRxOSWSpgd"
      },
      "id": "7YwRxOSWSpgd",
      "execution_count": 115,
      "outputs": []
    },
    {
      "cell_type": "code",
      "source": [
        "class GNN(torch.nn.Module):\n",
        "    def __init__(self, hidden_channels):\n",
        "        super().__init__()\n",
        "        self.conv1 = SAGEConv((-1, -1), hidden_channels)\n",
        "        self.conv2 = SAGEConv((-1, -1), hidden_channels)\n",
        "\n",
        "    def forward(self, x, edge_index):\n",
        "        x = self.conv1(x, edge_index).relu()\n",
        "        x = self.conv2(x, edge_index)\n",
        "        return x\n",
        "\n",
        "\n",
        "model = GNN(hidden_channels=64)\n",
        "model = to_hetero(model, data.metadata(), aggr='sum')"
      ],
      "metadata": {
        "id": "37Cb65MNSQ5V"
      },
      "id": "37Cb65MNSQ5V",
      "execution_count": 116,
      "outputs": []
    },
    {
      "cell_type": "code",
      "source": [
        ""
      ],
      "metadata": {
        "id": "aoJO22JgMPTj"
      },
      "id": "aoJO22JgMPTj",
      "execution_count": 110,
      "outputs": []
    },
    {
      "cell_type": "code",
      "source": [
        "class DotPredictor(nn.Module):\n",
        "    def forward(self, g, h):\n",
        "        with g.local_scope():\n",
        "            g.ndata['h'] = h\n",
        "            # Compute a new edge feature named 'score' by a dot-product between the\n",
        "            # source node feature 'h' and destination node feature 'h'.\n",
        "            g.apply_edges(fn.u_dot_v('h', 'h', 'score'))\n",
        "            # u_dot_v returns a 1-element vector for each edge so you need to squeeze it.\n",
        "            return g.edata['score'][:, 0]"
      ],
      "metadata": {
        "id": "vExHl-p_Mj_C"
      },
      "id": "vExHl-p_Mj_C",
      "execution_count": null,
      "outputs": []
    },
    {
      "cell_type": "code",
      "source": [
        "#pred = MLPPredictor(16)\n",
        "pred = DotPredictor()\n",
        "\n",
        "def compute_loss(pos_score, neg_score):\n",
        "    scores = torch.cat([pos_score, neg_score])\n",
        "    labels = torch.cat([torch.ones(pos_score.shape[0]), torch.zeros(neg_score.shape[0])])\n",
        "    return F.binary_cross_entropy_with_logits(scores, labels)"
      ],
      "metadata": {
        "id": "smOL43bRMPg_"
      },
      "id": "smOL43bRMPg_",
      "execution_count": null,
      "outputs": []
    },
    {
      "cell_type": "code",
      "source": [
        "# ----------- 3. set up loss and optimizer -------------- #\n",
        "# in this case, loss will in training loop\n",
        "#optimizer = torch.optim.Adam(itertools.chain(model.parameters(), pred.parameters()), lr=0.01)\n",
        "optimizer = torch.optim.Adam(model.parameters(), lr=0.01)"
      ],
      "metadata": {
        "id": "ZpZtcx6kR1jw"
      },
      "id": "ZpZtcx6kR1jw",
      "execution_count": 118,
      "outputs": []
    },
    {
      "cell_type": "code",
      "source": [
        "def train():\n",
        "    model.train()\n",
        "\n",
        "    total_examples = total_loss = 0\n",
        "    for batch in loader:\n",
        "            optimizer.zero_grad()\n",
        "            #batch = batch.to('cuda:0')\n",
        "            batch_size = batch['user'].batch_size\n",
        "            #print(batch['user'].y)\n",
        "\n",
        "            out = model(batch.x_dict,\n",
        "                        batch.edge_index_dict)\n",
        "            #break\n",
        "\n",
        "            ### negative sampling\n",
        "            neg_dish = []\n",
        "            for element in batch['user'].y[:batch_size]:\n",
        "              list_ = np.where(element == 0)[0]\n",
        "              if list_ != []:\n",
        "                neg_dish.append(np.random.choice(list_))\n",
        "              else: \n",
        "                neg_dish.append(np.random.choice(np.arange(len(element))))\n",
        "      \n",
        "            n_neigh = 10\n",
        "            dish_loader = NeighborLoader(\n",
        "                hetero_data,\n",
        "                # Sample n_neigh neighbors for each node and edge type for 2 iterations\n",
        "                num_neighbors={key: [n_neigh] * 1 for key in hetero_data.edge_types},\n",
        "                # Use a batch size of 128 for sampling training nodes of type paper\n",
        "                batch_size=1,\n",
        "                input_nodes=('dish', torch.Tensor(neg_dish)),\n",
        "            )\n",
        "            for dish_batch in dish_loader:\n",
        "              optimizer.zero_grad()\n",
        "              #batch = batch.to('cuda:0')\n",
        "              batch_size = dish_batch['dish'].batch_size\n",
        "\n",
        "              neg_out = model(dish_batch.x_dict,\n",
        "                            dish_batch.edge_index_dict)\n",
        "\n",
        "\n",
        "            # loss = F.cross_entropy(out['paper'][:batch_size],\n",
        "            #                        batch['paper'].y[:batch_size])\n",
        "            #print(out['user'][:batch_size])\n",
        "            pos_loss = F.logsigmoid((out['user'][:batch_size] * out['dish'][:batch_size]).sum(-1)).mean()\n",
        "            neg_loss = F.logsigmoid(-(out['user'][:batch_size] * neg_out['dish'][:batch_size]).sum(-1)).mean()\n",
        "            loss = -pos_loss - neg_loss\n",
        "            loss.backward()\n",
        "            optimizer.step()\n",
        "\n",
        "            total_examples += batch_size\n",
        "            total_loss += float(loss) * batch_size\n",
        "    return total_loss / total_examples"
      ],
      "metadata": {
        "id": "PXbP42zrTXNm"
      },
      "id": "PXbP42zrTXNm",
      "execution_count": null,
      "outputs": []
    },
    {
      "cell_type": "code",
      "source": [
        "out = model(data.x_dict,\n",
        "                    data.edge_index_dict)"
      ],
      "metadata": {
        "id": "iZhv4YVnUUSY"
      },
      "id": "iZhv4YVnUUSY",
      "execution_count": 125,
      "outputs": []
    },
    {
      "cell_type": "code",
      "source": [
        "out['dish'].shape, out['user'].shape"
      ],
      "metadata": {
        "colab": {
          "base_uri": "https://localhost:8080/"
        },
        "id": "09WUIAHIUi4p",
        "outputId": "a5b6bbfc-ec31-4f07-c95f-5154542ffd92"
      },
      "id": "09WUIAHIUi4p",
      "execution_count": 124,
      "outputs": [
        {
          "output_type": "execute_result",
          "data": {
            "text/plain": [
              "(torch.Size([6, 64]), torch.Size([500, 64]))"
            ]
          },
          "metadata": {},
          "execution_count": 124
        }
      ]
    },
    {
      "cell_type": "code",
      "source": [
        "train_pos_g"
      ],
      "metadata": {
        "colab": {
          "base_uri": "https://localhost:8080/"
        },
        "id": "6PmxEPqEXZmU",
        "outputId": "30845953-2f2b-4247-ee12-9fc55f50e9d7"
      },
      "id": "6PmxEPqEXZmU",
      "execution_count": 131,
      "outputs": [
        {
          "output_type": "execute_result",
          "data": {
            "text/plain": [
              "HeteroData(\n",
              "  \u001b[1muser\u001b[0m={\n",
              "    x=[500, 6],\n",
              "    y=[500, 6]\n",
              "  },\n",
              "  \u001b[1mdish\u001b[0m={ x=[6, 6] },\n",
              "  \u001b[1m(user, buys, dish)\u001b[0m={ edge_index=[2, 1353] },\n",
              "  \u001b[1m(dish, rev_buys, user)\u001b[0m={ edge_index=[2, 1353] },\n",
              "  \u001b[1m(user, rev_rev_buys, dish)\u001b[0m={ edge_index=[2, 1353] }\n",
              ")"
            ]
          },
          "metadata": {},
          "execution_count": 131
        }
      ]
    },
    {
      "cell_type": "code",
      "source": [
        "train_pos_g['user'].x[train_pos_g['buys'].edge_index[0]]"
      ],
      "metadata": {
        "colab": {
          "base_uri": "https://localhost:8080/"
        },
        "id": "GrvBey9IXhu2",
        "outputId": "c29885dc-cf06-44b5-c264-3d2a70456539"
      },
      "id": "GrvBey9IXhu2",
      "execution_count": 144,
      "outputs": [
        {
          "output_type": "execute_result",
          "data": {
            "text/plain": [
              "tensor([[0.8581, 0.7142, 0.5043, 0.7363, 0.5043, 0.7363],\n",
              "        [0.5655, 0.5004, 0.3566, 0.9385, 0.3566, 0.9385],\n",
              "        [0.8210, 0.5581, 0.4331, 0.7570, 0.4331, 0.7570],\n",
              "        ...,\n",
              "        [0.7169, 0.3709, 0.4905, 0.8217, 0.4905, 0.8217],\n",
              "        [0.0697, 0.7087, 0.3028, 1.7553, 0.3028, 1.7553],\n",
              "        [0.6233, 0.3659, 0.5151, 0.8903, 0.5151, 0.8903]])"
            ]
          },
          "metadata": {},
          "execution_count": 144
        }
      ]
    },
    {
      "cell_type": "code",
      "source": [
        "train_pos_g['dish'].x[train_pos_g['buys'].edge_index[1]]"
      ],
      "metadata": {
        "colab": {
          "base_uri": "https://localhost:8080/"
        },
        "id": "OLLjmEWyX1EY",
        "outputId": "26772ee6-839a-4dfb-ac6c-b22136c34b17"
      },
      "id": "OLLjmEWyX1EY",
      "execution_count": 141,
      "outputs": [
        {
          "output_type": "execute_result",
          "data": {
            "text/plain": [
              "tensor([[0., 0., 1., 0., 0., 0.],\n",
              "        [0., 0., 1., 0., 0., 0.],\n",
              "        [0., 0., 0., 0., 0., 1.],\n",
              "        ...,\n",
              "        [0., 1., 0., 0., 0., 0.],\n",
              "        [0., 0., 0., 0., 1., 0.],\n",
              "        [0., 0., 0., 1., 0., 0.]])"
            ]
          },
          "metadata": {},
          "execution_count": 141
        }
      ]
    },
    {
      "cell_type": "code",
      "source": [
        "train_pos_g['user'].x[train_pos_g['buys'].edge_index[0]] * train_pos_g['dish'].x[train_pos_g['buys'].edge_index[1]]"
      ],
      "metadata": {
        "colab": {
          "base_uri": "https://localhost:8080/"
        },
        "id": "YxoD8bkmYLpS",
        "outputId": "c2019070-e670-4101-af2f-24bbaf591068"
      },
      "id": "YxoD8bkmYLpS",
      "execution_count": 145,
      "outputs": [
        {
          "output_type": "execute_result",
          "data": {
            "text/plain": [
              "tensor([[0.0000, 0.0000, 0.5043, 0.0000, 0.0000, 0.0000],\n",
              "        [0.0000, 0.0000, 0.3566, 0.0000, 0.0000, 0.0000],\n",
              "        [0.0000, 0.0000, 0.0000, 0.0000, 0.0000, 0.7570],\n",
              "        ...,\n",
              "        [0.0000, 0.3709, 0.0000, 0.0000, 0.0000, 0.0000],\n",
              "        [0.0000, 0.0000, 0.0000, 0.0000, 0.3028, 0.0000],\n",
              "        [0.0000, 0.0000, 0.0000, 0.8903, 0.0000, 0.0000]])"
            ]
          },
          "metadata": {},
          "execution_count": 145
        }
      ]
    },
    {
      "cell_type": "code",
      "source": [
        "# full batch example:\n",
        "model.train()\n",
        "\n",
        "total_examples = total_loss = 0\n",
        "for _ in range(5):\n",
        "        optimizer.zero_grad()\n",
        "        #batch = batch.to('cuda:0')\n",
        "        batch_size = data['user'].batch_size\n",
        "        #print(batch['user'].y)\n",
        "\n",
        "        out = model(data.x_dict,\n",
        "                    data.edge_index_dict)\n",
        "        \n",
        "        pos_score = pred(train_pos_g, h)\n",
        "        neg_score = pred(train_neg_g, h)\n",
        "        loss = compute_loss(pos_score, neg_score)\n",
        "\n",
        "        loss.backward()\n",
        "        optimizer.step()\n",
        "        if e % 5 == 0:\n",
        "            print('In epoch {}, loss: {}'.format(e, loss))\n",
        "            print('In epoch {}, val loss: {}'.format(e, val_loss))"
      ],
      "metadata": {
        "id": "cT_IVw9-TtId"
      },
      "id": "cT_IVw9-TtId",
      "execution_count": null,
      "outputs": []
    },
    {
      "cell_type": "code",
      "source": [
        "# ----------- 4. training -------------------------------- #\n",
        "all_logits = []\n",
        "for e in range(100):\n",
        "    # forward\n",
        "    h = model(train_g, train_g.ndata['feat'])\n",
        "    pos_score = pred(train_pos_g, h)\n",
        "    neg_score = pred(train_neg_g, h)\n",
        "    loss = compute_loss(pos_score, neg_score)\n",
        "\n",
        "    #\n",
        "    with torch.no_grad():\n",
        "      pos_score = pred(test_pos_g, h)\n",
        "      neg_score = pred(test_neg_g, h)\n",
        "      val_loss = compute_loss(pos_score, neg_score)\n",
        "      #print(compute_auc(pos_score, neg_score))\n",
        "\n",
        "    # backward\n",
        "    optimizer.zero_grad()\n",
        "    loss.backward()\n",
        "    optimizer.step()\n",
        "\n",
        "    if e % 5 == 0:\n",
        "        print('In epoch {}, loss: {}'.format(e, loss))\n",
        "        print('In epoch {}, val loss: {}'.format(e, val_loss))\n",
        "\n",
        "# ----------- 5. check results ------------------------ #\n",
        "from sklearn.metrics import roc_auc_score\n",
        "with torch.no_grad():\n",
        "    pos_score = pred(test_pos_g, h)\n",
        "    neg_score = pred(test_neg_g, h)\n",
        "    print('AUC', compute_auc(pos_score, neg_score))"
      ],
      "metadata": {
        "id": "KipNiU2_PLBW"
      },
      "id": "KipNiU2_PLBW",
      "execution_count": null,
      "outputs": []
    },
    {
      "cell_type": "code",
      "source": [
        ""
      ],
      "metadata": {
        "id": "CR8fXBVvPLGB"
      },
      "id": "CR8fXBVvPLGB",
      "execution_count": null,
      "outputs": []
    },
    {
      "cell_type": "markdown",
      "source": [
        "### Работа с визуализацией"
      ],
      "metadata": {
        "id": "8sGweXRRz3WN"
      },
      "id": "8sGweXRRz3WN"
    },
    {
      "cell_type": "code",
      "source": [
        "homogeneous_data = data.to_homogeneous()\n",
        "print(homogeneous_data)\n",
        "\n",
        "import torch_geometric\n",
        "import networkx as nx\n",
        "\n",
        "g = torch_geometric.utils.to_networkx(homogeneous_data, to_undirected=True)"
      ],
      "metadata": {
        "colab": {
          "base_uri": "https://localhost:8080/"
        },
        "id": "qAJ07Tfwr9p7",
        "outputId": "a5dc1f4a-ac68-4a0a-c1a3-4a95ed2a912b"
      },
      "id": "qAJ07Tfwr9p7",
      "execution_count": null,
      "outputs": [
        {
          "output_type": "stream",
          "name": "stdout",
          "text": [
            "Data(node_type=[206], x=[206, 7], edge_index=[2, 1240], edge_type=[1240])\n"
          ]
        }
      ]
    },
    {
      "cell_type": "code",
      "source": [
        "homogeneous_data.node_type"
      ],
      "metadata": {
        "colab": {
          "base_uri": "https://localhost:8080/"
        },
        "id": "vfOxGzEDjDEe",
        "outputId": "9c4243d0-a557-41a8-93a0-df1a45f67ccf"
      },
      "id": "vfOxGzEDjDEe",
      "execution_count": null,
      "outputs": [
        {
          "output_type": "execute_result",
          "data": {
            "text/plain": [
              "tensor([0, 0, 0, 0, 0, 0, 0, 0, 0, 0, 0, 0, 0, 0, 0, 0, 0, 0, 0, 0, 1, 1, 1, 1,\n",
              "        1, 1])"
            ]
          },
          "metadata": {},
          "execution_count": 209
        }
      ]
    },
    {
      "cell_type": "code",
      "source": [
        "nx.draw_networkx(g, node_color = homogeneous_data.node_type,)"
      ],
      "metadata": {
        "colab": {
          "base_uri": "https://localhost:8080/",
          "height": 248
        },
        "id": "m3jYKCkcroSo",
        "outputId": "f676ddf7-fe37-436e-a857-63935c23f153"
      },
      "id": "m3jYKCkcroSo",
      "execution_count": null,
      "outputs": [
        {
          "output_type": "display_data",
          "data": {
            "text/plain": [
              "<Figure size 432x288 with 1 Axes>"
            ],
            "image/png": "[encoded data removed]"
          },
          "metadata": {}
        }
      ]
    },
    {
      "cell_type": "code",
      "source": [
        "!pip install pygraphviz"
      ],
      "metadata": {
        "colab": {
          "base_uri": "https://localhost:8080/"
        },
        "id": "Pvdb3ELbvWjJ",
        "outputId": "fb04f3e7-f1f8-499b-9a64-a7c6aded0ed4"
      },
      "id": "Pvdb3ELbvWjJ",
      "execution_count": null,
      "outputs": [
        {
          "output_type": "stream",
          "name": "stdout",
          "text": [
            "Collecting pygraphviz\n",
            "  Using cached pygraphviz-1.7.zip (118 kB)\n",
            "Building wheels for collected packages: pygraphviz\n",
            "  Building wheel for pygraphviz (setup.py) ... \u001b[?25l\u001b[?25hdone\n",
            "  Created wheel for pygraphviz: filename=pygraphviz-1.7-cp37-cp37m-linux_x86_64.whl size=165743 sha256=026599c27849b406bde8a4b6b463764d95114075cd66854595cfc0c8375282f2\n",
            "  Stored in directory: /root/.cache/pip/wheels/8c/bc/0c/ac35392b72556e75107ff610cb31b313e8471918a6d280e34c\n",
            "Successfully built pygraphviz\n",
            "Installing collected packages: pygraphviz\n",
            "Successfully installed pygraphviz-1.7\n"
          ]
        }
      ]
    },
    {
      "cell_type": "code",
      "source": [
        "!pip install dgl\n",
        "import dgl"
      ],
      "metadata": {
        "colab": {
          "base_uri": "https://localhost:8080/"
        },
        "id": "B_BPMtF9wLF6",
        "outputId": "9ee90232-5e95-441d-d1aa-ac793097984e"
      },
      "id": "B_BPMtF9wLF6",
      "execution_count": null,
      "outputs": [
        {
          "output_type": "stream",
          "name": "stdout",
          "text": [
            "Collecting dgl\n",
            "  Downloading dgl-0.6.1-cp37-cp37m-manylinux1_x86_64.whl (4.4 MB)\n",
            "\u001b[K     |████████████████████████████████| 4.4 MB 7.8 MB/s \n",
            "\u001b[?25hRequirement already satisfied: networkx>=2.1 in /usr/local/lib/python3.7/dist-packages (from dgl) (2.6.3)\n",
            "Requirement already satisfied: numpy>=1.14.0 in /usr/local/lib/python3.7/dist-packages (from dgl) (1.21.6)\n",
            "Requirement already satisfied: scipy>=1.1.0 in /usr/local/lib/python3.7/dist-packages (from dgl) (1.4.1)\n",
            "Requirement already satisfied: requests>=2.19.0 in /usr/local/lib/python3.7/dist-packages (from dgl) (2.23.0)\n",
            "Requirement already satisfied: chardet<4,>=3.0.2 in /usr/local/lib/python3.7/dist-packages (from requests>=2.19.0->dgl) (3.0.4)\n",
            "Requirement already satisfied: idna<3,>=2.5 in /usr/local/lib/python3.7/dist-packages (from requests>=2.19.0->dgl) (2.10)\n",
            "Requirement already satisfied: urllib3!=1.25.0,!=1.25.1,<1.26,>=1.21.1 in /usr/local/lib/python3.7/dist-packages (from requests>=2.19.0->dgl) (1.24.3)\n",
            "Requirement already satisfied: certifi>=2017.4.17 in /usr/local/lib/python3.7/dist-packages (from requests>=2.19.0->dgl) (2021.10.8)\n",
            "Installing collected packages: dgl\n",
            "Successfully installed dgl-0.6.1\n",
            "Setting the default backend to \"pytorch\". You can change it in the ~/.dgl/config.json file or export the DGLBACKEND environment variable.  Valid options are: pytorch, mxnet, tensorflow (all lowercase)\n"
          ]
        },
        {
          "output_type": "stream",
          "name": "stderr",
          "text": [
            "DGL backend not selected or invalid.  Assuming PyTorch for now.\n",
            "Using backend: pytorch\n"
          ]
        }
      ]
    },
    {
      "cell_type": "code",
      "source": [
        "G = dgl.heterograph({\n",
        "        ('user', 'buys', 'dish') : (np.array(data['buys'].edge_index[0]),np.array(data['buys'].edge_index[1]))\n",
        "    })\n",
        "\n",
        "print(G)"
      ],
      "metadata": {
        "colab": {
          "base_uri": "https://localhost:8080/"
        },
        "id": "1ZgOPmAEvcaL",
        "outputId": "237be81c-ced5-4389-a491-996f3429d5f2"
      },
      "id": "1ZgOPmAEvcaL",
      "execution_count": null,
      "outputs": [
        {
          "output_type": "stream",
          "name": "stdout",
          "text": [
            "Graph(num_nodes={'dish': 3, 'user': 3},\n",
            "      num_edges={('user', 'buys', 'dish'): 4},\n",
            "      metagraph=[('user', 'dish', 'buys')])\n"
          ]
        }
      ]
    },
    {
      "cell_type": "code",
      "source": [
        "G"
      ],
      "metadata": {
        "colab": {
          "base_uri": "https://localhost:8080/"
        },
        "id": "lNI0egkl1X6w",
        "outputId": "65fada7b-a44b-4040-88cb-211f5fcce418"
      },
      "id": "lNI0egkl1X6w",
      "execution_count": null,
      "outputs": [
        {
          "output_type": "execute_result",
          "data": {
            "text/plain": [
              "Graph(num_nodes={'dish': 3, 'user': 3},\n",
              "      num_edges={('user', 'buys', 'dish'): 4},\n",
              "      metagraph=[('user', 'dish', 'buys')])"
            ]
          },
          "metadata": {},
          "execution_count": 147
        }
      ]
    },
    {
      "cell_type": "code",
      "source": [
        "# Draw the metagraph using graphviz.\n",
        "import pygraphviz as pgv\n",
        "\n",
        "def plot_graph(nxg):\n",
        "    ag = pgv.AGraph(strict=False, directed=True)\n",
        "    for u, v, k in nxg.edges(keys=True):\n",
        "        ag.add_edge(u, v, label=k)\n",
        "    ag.layout('dot')\n",
        "    ag.draw('graph.png')\n",
        "\n",
        "plot_graph(G.metagraph())"
      ],
      "metadata": {
        "colab": {
          "base_uri": "https://localhost:8080/",
          "height": 322
        },
        "id": "uh24W6KJul27",
        "outputId": "58181a26-4571-4fed-cb2f-89891d3b9d1f"
      },
      "id": "uh24W6KJul27",
      "execution_count": null,
      "outputs": [
        {
          "output_type": "error",
          "ename": "AttributeError",
          "evalue": "ignored",
          "traceback": [
            "\u001b[0;31m---------------------------------------------------------------------------\u001b[0m",
            "\u001b[0;31mAttributeError\u001b[0m                            Traceback (most recent call last)",
            "\u001b[0;32m<ipython-input-149-611a5a9284a3>\u001b[0m in \u001b[0;36m<module>\u001b[0;34m()\u001b[0m\n\u001b[1;32m      9\u001b[0m     \u001b[0mag\u001b[0m\u001b[0;34m.\u001b[0m\u001b[0mdraw\u001b[0m\u001b[0;34m(\u001b[0m\u001b[0;34m'graph.png'\u001b[0m\u001b[0;34m)\u001b[0m\u001b[0;34m\u001b[0m\u001b[0;34m\u001b[0m\u001b[0m\n\u001b[1;32m     10\u001b[0m \u001b[0;34m\u001b[0m\u001b[0m\n\u001b[0;32m---> 11\u001b[0;31m \u001b[0mplot_graph\u001b[0m\u001b[0;34m(\u001b[0m\u001b[0mG\u001b[0m\u001b[0;34m.\u001b[0m\u001b[0mnum_edges\u001b[0m\u001b[0;34m(\u001b[0m\u001b[0;34m)\u001b[0m\u001b[0;34m)\u001b[0m\u001b[0;34m\u001b[0m\u001b[0;34m\u001b[0m\u001b[0m\n\u001b[0m",
            "\u001b[0;32m<ipython-input-149-611a5a9284a3>\u001b[0m in \u001b[0;36mplot_graph\u001b[0;34m(nxg)\u001b[0m\n\u001b[1;32m      4\u001b[0m \u001b[0;32mdef\u001b[0m \u001b[0mplot_graph\u001b[0m\u001b[0;34m(\u001b[0m\u001b[0mnxg\u001b[0m\u001b[0;34m)\u001b[0m\u001b[0;34m:\u001b[0m\u001b[0;34m\u001b[0m\u001b[0;34m\u001b[0m\u001b[0m\n\u001b[1;32m      5\u001b[0m     \u001b[0mag\u001b[0m \u001b[0;34m=\u001b[0m \u001b[0mpgv\u001b[0m\u001b[0;34m.\u001b[0m\u001b[0mAGraph\u001b[0m\u001b[0;34m(\u001b[0m\u001b[0mstrict\u001b[0m\u001b[0;34m=\u001b[0m\u001b[0;32mFalse\u001b[0m\u001b[0;34m,\u001b[0m \u001b[0mdirected\u001b[0m\u001b[0;34m=\u001b[0m\u001b[0;32mTrue\u001b[0m\u001b[0;34m)\u001b[0m\u001b[0;34m\u001b[0m\u001b[0;34m\u001b[0m\u001b[0m\n\u001b[0;32m----> 6\u001b[0;31m     \u001b[0;32mfor\u001b[0m \u001b[0mu\u001b[0m\u001b[0;34m,\u001b[0m \u001b[0mv\u001b[0m\u001b[0;34m,\u001b[0m \u001b[0mk\u001b[0m \u001b[0;32min\u001b[0m \u001b[0mnxg\u001b[0m\u001b[0;34m.\u001b[0m\u001b[0medges\u001b[0m\u001b[0;34m(\u001b[0m\u001b[0mkeys\u001b[0m\u001b[0;34m=\u001b[0m\u001b[0;32mTrue\u001b[0m\u001b[0;34m)\u001b[0m\u001b[0;34m:\u001b[0m\u001b[0;34m\u001b[0m\u001b[0;34m\u001b[0m\u001b[0m\n\u001b[0m\u001b[1;32m      7\u001b[0m         \u001b[0mag\u001b[0m\u001b[0;34m.\u001b[0m\u001b[0madd_edge\u001b[0m\u001b[0;34m(\u001b[0m\u001b[0mu\u001b[0m\u001b[0;34m,\u001b[0m \u001b[0mv\u001b[0m\u001b[0;34m,\u001b[0m \u001b[0mlabel\u001b[0m\u001b[0;34m=\u001b[0m\u001b[0mk\u001b[0m\u001b[0;34m)\u001b[0m\u001b[0;34m\u001b[0m\u001b[0;34m\u001b[0m\u001b[0m\n\u001b[1;32m      8\u001b[0m     \u001b[0mag\u001b[0m\u001b[0;34m.\u001b[0m\u001b[0mlayout\u001b[0m\u001b[0;34m(\u001b[0m\u001b[0;34m'dot'\u001b[0m\u001b[0;34m)\u001b[0m\u001b[0;34m\u001b[0m\u001b[0;34m\u001b[0m\u001b[0m\n",
            "\u001b[0;31mAttributeError\u001b[0m: 'int' object has no attribute 'edges'"
          ]
        }
      ]
    },
    {
      "cell_type": "markdown",
      "source": [
        "### Конец визуализации"
      ],
      "metadata": {
        "id": "9Bav_0xcw1s8"
      },
      "id": "9Bav_0xcw1s8"
    },
    {
      "cell_type": "code",
      "source": [
        "class SAGE(nn.Module):\n",
        "    def __init__(self, hidden_channels, num_layers):\n",
        "        super(SAGE, self).__init__()\n",
        "        self.num_layers = num_layers\n",
        "        self.convs = nn.ModuleList()\n",
        "        \n",
        "        for i in range(num_layers):\n",
        "            if i == 0:\n",
        "              self.convs.append(SAGEConv((-1, -1), hidden_channels))\n",
        "            else:\n",
        "              self.convs.append(SAGEConv(hidden_channels, hidden_channels))\n",
        "\n",
        "    def forward(self, x, adjs):\n",
        "        for i, (edge_index, _, size) in enumerate(adjs):\n",
        "            x_target = x[:size[1]]  # Target nodes are always placed first.\n",
        "            x = self.convs[i]((x, x_target), edge_index)\n",
        "            if i != self.num_layers - 1:\n",
        "                x = x.relu()\n",
        "                x = F.dropout(x, p=0.5, training=self.training)\n",
        "        return x\n",
        "\n",
        "    def full_forward(self, x, edge_index):\n",
        "        for i, conv in enumerate(self.convs):\n",
        "            x = conv(x, edge_index)\n",
        "            if i != self.num_layers - 1:\n",
        "                x = x.relu()\n",
        "                x = F.dropout(x, p=0.5, training=self.training)\n",
        "        return x"
      ],
      "metadata": {
        "id": "D0puZzdeJ0uK"
      },
      "id": "D0puZzdeJ0uK",
      "execution_count": null,
      "outputs": []
    },
    {
      "cell_type": "code",
      "source": [
        "class SAGE(nn.Module):\n",
        "    def __init__(self, in_channels, hidden_channels, num_layers):\n",
        "        super(SAGE, self).__init__()\n",
        "        self.num_layers = num_layers\n",
        "        self.convs = nn.ModuleList()\n",
        "        \n",
        "        for i in range(num_layers):\n",
        "            in_channels = in_channels if i == 0 else hidden_channels\n",
        "            self.convs.append(SAGEConv(in_channels, hidden_channels))\n",
        "\n",
        "    def forward(self, x, adjs):\n",
        "        for i, (edge_index, _, size) in enumerate(adjs):\n",
        "            x_target = x[:size[1]]  # Target nodes are always placed first.\n",
        "            #print(x, x_target)\n",
        "            x = self.convs[i]((x, x_target), edge_index)\n",
        "            if i != self.num_layers - 1:\n",
        "                x = x.relu()\n",
        "                x = F.dropout(x, p=0.5, training=self.training)\n",
        "        return x\n",
        "\n",
        "    def full_forward(self, x, edge_index):\n",
        "        for i, conv in enumerate(self.convs):\n",
        "            x = conv(x, edge_index)\n",
        "            if i != self.num_layers - 1:\n",
        "                x = x.relu()\n",
        "                x = F.dropout(x, p=0.5, training=self.training)\n",
        "        return x"
      ],
      "metadata": {
        "id": "013QDecIxdQB"
      },
      "id": "013QDecIxdQB",
      "execution_count": null,
      "outputs": []
    },
    {
      "cell_type": "code",
      "source": [
        ""
      ],
      "metadata": {
        "id": "MZUlV2vLxdXG"
      },
      "id": "MZUlV2vLxdXG",
      "execution_count": null,
      "outputs": []
    },
    {
      "cell_type": "markdown",
      "source": [
        "### https://pytorch-geometric.readthedocs.io/en/latest/notes/heterogeneous.html"
      ],
      "metadata": {
        "id": "nvm2kA2L_7jI"
      },
      "id": "nvm2kA2L_7jI"
    },
    {
      "cell_type": "code",
      "source": [
        "import torch_geometric.transforms as T\n",
        "from torch_geometric.datasets import OGB_MAG\n",
        "from torch_geometric.nn import SAGEConv, to_hetero\n",
        "\n",
        "\n",
        "dataset = OGB_MAG(root='./data', preprocess='metapath2vec', transform=T.ToUndirected())\n",
        "data = dataset[0]\n",
        "\n",
        "class GNN(torch.nn.Module):\n",
        "    def __init__(self, hidden_channels, out_channels):\n",
        "        super().__init__()\n",
        "        self.conv1 = SAGEConv((-1, -1), hidden_channels)\n",
        "        self.conv2 = SAGEConv((-1, -1), out_channels)\n",
        "\n",
        "    def forward(self, x, edge_index):\n",
        "        x = self.conv1(x, edge_index).relu()\n",
        "        x = self.conv2(x, edge_index)\n",
        "        return x\n",
        "\n",
        "\n",
        "model = GNN(hidden_channels=64, out_channels=dataset.num_classes)\n",
        "model = to_hetero(model, data.metadata(), aggr='sum')"
      ],
      "metadata": {
        "id": "3LBBohmLANU8"
      },
      "id": "3LBBohmLANU8",
      "execution_count": 29,
      "outputs": []
    },
    {
      "cell_type": "code",
      "source": [
        "model.to(device)"
      ],
      "metadata": {
        "colab": {
          "base_uri": "https://localhost:8080/",
          "height": 166
        },
        "id": "qaksQAOPJtqB",
        "outputId": "bfef12e8-3fb4-4f9f-99b6-c6a849aea3f1"
      },
      "id": "qaksQAOPJtqB",
      "execution_count": 28,
      "outputs": [
        {
          "output_type": "error",
          "ename": "NameError",
          "evalue": "ignored",
          "traceback": [
            "\u001b[0;31m---------------------------------------------------------------------------\u001b[0m",
            "\u001b[0;31mNameError\u001b[0m                                 Traceback (most recent call last)",
            "\u001b[0;32m<ipython-input-28-7750c7ee2c4e>\u001b[0m in \u001b[0;36m<module>\u001b[0;34m()\u001b[0m\n\u001b[0;32m----> 1\u001b[0;31m \u001b[0mmodel\u001b[0m\u001b[0;34m.\u001b[0m\u001b[0mto\u001b[0m\u001b[0;34m(\u001b[0m\u001b[0mdevice\u001b[0m\u001b[0;34m)\u001b[0m\u001b[0;34m\u001b[0m\u001b[0;34m\u001b[0m\u001b[0m\n\u001b[0m",
            "\u001b[0;31mNameError\u001b[0m: name 'model' is not defined"
          ]
        }
      ]
    },
    {
      "cell_type": "code",
      "source": [
        "import torch_geometric.transforms as T\n",
        "from torch_geometric.datasets import OGB_MAG\n",
        "from torch_geometric.loader import NeighborLoader\n",
        "\n",
        "transform = T.ToUndirected()  # Add reverse edge types.\n",
        "data = OGB_MAG(root='./data', preprocess='metapath2vec', transform=transform)[0]\n",
        "\n",
        "train_loader = NeighborLoader(\n",
        "    data,\n",
        "    # Sample 15 neighbors for each node and each edge type for 2 iterations:\n",
        "    num_neighbors=[5] * 2,\n",
        "    # Use a batch size of 128 for sampling training nodes of type \"paper\":\n",
        "    batch_size=128,\n",
        "    input_nodes=('paper', data['paper'].train_mask),\n",
        ")\n",
        "\n",
        "batch_ = next(iter(train_loader))"
      ],
      "metadata": {
        "id": "nHiMzS9aANrY"
      },
      "id": "nHiMzS9aANrY",
      "execution_count": 30,
      "outputs": []
    },
    {
      "cell_type": "code",
      "source": [
        "def train():\n",
        "    model.train()\n",
        "\n",
        "    total_examples = total_loss = 0\n",
        "    for batch in train_loader:\n",
        "        optimizer.zero_grad()\n",
        "        batch = batch.to('cuda:0')\n",
        "        batch_size = batch['paper'].batch_size\n",
        "        out = model(batch.x_dict, batch.edge_index_dict)\n",
        "        loss = F.cross_entropy(out['paper'][:batch_size],\n",
        "                               batch['paper'].y[:batch_size])\n",
        "        loss.backward()\n",
        "        optimizer.step()\n",
        "\n",
        "        total_examples += batch_size\n",
        "        total_loss += float(loss) * batch_size\n",
        "\n",
        "    return total_loss / total_examples"
      ],
      "metadata": {
        "id": "loCuA9lWA4Og"
      },
      "id": "loCuA9lWA4Og",
      "execution_count": 7,
      "outputs": []
    },
    {
      "cell_type": "code",
      "source": [
        "for _ in range(5):\n",
        "  loss = train()\n",
        "  print(loss)"
      ],
      "metadata": {
        "colab": {
          "base_uri": "https://localhost:8080/"
        },
        "id": "fZq8VjnXA73a",
        "outputId": "b727707a-6436-4716-844d-413393e55ec4"
      },
      "id": "fZq8VjnXA73a",
      "execution_count": 15,
      "outputs": [
        {
          "output_type": "stream",
          "name": "stdout",
          "text": [
            "2.460340871522056\n",
            "2.421613215654865\n",
            "2.418862276977774\n",
            "2.4105351814238567\n",
            "2.408808349571423\n"
          ]
        }
      ]
    },
    {
      "cell_type": "code",
      "source": [
        ""
      ],
      "metadata": {
        "id": "jvY4AjI9BC5i"
      },
      "id": "jvY4AjI9BC5i",
      "execution_count": null,
      "outputs": []
    },
    {
      "cell_type": "markdown",
      "source": [
        "### [Link Prediction using Graph Neural Networks (dgl)](https://docs.dgl.ai/en/0.7.x/tutorials/blitz/4_link_predict.html)"
      ],
      "metadata": {
        "id": "mOIE_cl_nd5Z"
      },
      "id": "mOIE_cl_nd5Z"
    },
    {
      "cell_type": "code",
      "source": [
        "#!pip3 install dgl\n",
        "!pip install dgl -f https://data.dgl.ai/wheels/repo.html\n",
        "!pip install torch==1.9.1\n",
        "import dgl\n",
        "import torch\n",
        "import torch.nn as nn\n",
        "import torch.nn.functional as F\n",
        "import itertools\n",
        "import numpy as np\n",
        "import scipy.sparse as sp"
      ],
      "metadata": {
        "colab": {
          "base_uri": "https://localhost:8080/"
        },
        "id": "Gh2OF477ngDt",
        "outputId": "793462c9-c54f-497d-cc3a-ccfcb53a28d2"
      },
      "id": "Gh2OF477ngDt",
      "execution_count": 3,
      "outputs": [
        {
          "output_type": "stream",
          "name": "stdout",
          "text": [
            "Looking in links: https://data.dgl.ai/wheels/repo.html\n",
            "Collecting dgl\n",
            "  Downloading https://data.dgl.ai/wheels/dgl-0.8.1-cp37-cp37m-manylinux1_x86_64.whl (6.2 MB)\n",
            "\u001b[K     |████████████████████████████████| 6.2 MB 4.0 MB/s \n",
            "\u001b[?25hRequirement already satisfied: numpy>=1.14.0 in /usr/local/lib/python3.7/dist-packages (from dgl) (1.21.6)\n",
            "Requirement already satisfied: tqdm in /usr/local/lib/python3.7/dist-packages (from dgl) (4.64.0)\n",
            "Requirement already satisfied: networkx>=2.1 in /usr/local/lib/python3.7/dist-packages (from dgl) (2.6.3)\n",
            "Requirement already satisfied: requests>=2.19.0 in /usr/local/lib/python3.7/dist-packages (from dgl) (2.23.0)\n",
            "Requirement already satisfied: scipy>=1.1.0 in /usr/local/lib/python3.7/dist-packages (from dgl) (1.4.1)\n",
            "Requirement already satisfied: certifi>=2017.4.17 in /usr/local/lib/python3.7/dist-packages (from requests>=2.19.0->dgl) (2021.10.8)\n",
            "Requirement already satisfied: chardet<4,>=3.0.2 in /usr/local/lib/python3.7/dist-packages (from requests>=2.19.0->dgl) (3.0.4)\n",
            "Requirement already satisfied: urllib3!=1.25.0,!=1.25.1,<1.26,>=1.21.1 in /usr/local/lib/python3.7/dist-packages (from requests>=2.19.0->dgl) (1.24.3)\n",
            "Requirement already satisfied: idna<3,>=2.5 in /usr/local/lib/python3.7/dist-packages (from requests>=2.19.0->dgl) (2.10)\n",
            "Installing collected packages: dgl\n",
            "Successfully installed dgl-0.8.1\n",
            "Collecting torch==1.9.1\n",
            "  Downloading torch-1.9.1-cp37-cp37m-manylinux1_x86_64.whl (831.4 MB)\n",
            "\u001b[K     |████████████████████████████████| 831.4 MB 6.6 kB/s \n",
            "\u001b[?25hRequirement already satisfied: typing-extensions in /usr/local/lib/python3.7/dist-packages (from torch==1.9.1) (4.2.0)\n",
            "Installing collected packages: torch\n",
            "  Attempting uninstall: torch\n",
            "    Found existing installation: torch 1.11.0+cu113\n",
            "    Uninstalling torch-1.11.0+cu113:\n",
            "      Successfully uninstalled torch-1.11.0+cu113\n",
            "\u001b[31mERROR: pip's dependency resolver does not currently take into account all the packages that are installed. This behaviour is the source of the following dependency conflicts.\n",
            "torchvision 0.12.0+cu113 requires torch==1.11.0, but you have torch 1.9.1 which is incompatible.\n",
            "torchtext 0.12.0 requires torch==1.11.0, but you have torch 1.9.1 which is incompatible.\n",
            "torchaudio 0.11.0+cu113 requires torch==1.11.0, but you have torch 1.9.1 which is incompatible.\u001b[0m\n",
            "Successfully installed torch-1.9.1\n"
          ]
        },
        {
          "output_type": "stream",
          "name": "stderr",
          "text": [
            "DGL backend not selected or invalid.  Assuming PyTorch for now.\n"
          ]
        },
        {
          "output_type": "stream",
          "name": "stdout",
          "text": [
            "Setting the default backend to \"pytorch\". You can change it in the ~/.dgl/config.json file or export the DGLBACKEND environment variable.  Valid options are: pytorch, mxnet, tensorflow (all lowercase)\n"
          ]
        }
      ]
    },
    {
      "cell_type": "code",
      "source": [
        "torch.__version__"
      ],
      "metadata": {
        "colab": {
          "base_uri": "https://localhost:8080/",
          "height": 35
        },
        "id": "A4KHhYI4lUt7",
        "outputId": "f20576fa-35a7-4741-cec2-a224ffddbdd6"
      },
      "id": "A4KHhYI4lUt7",
      "execution_count": 111,
      "outputs": [
        {
          "output_type": "execute_result",
          "data": {
            "text/plain": [
              "'1.11.0+cu113'"
            ],
            "application/vnd.google.colaboratory.intrinsic+json": {
              "type": "string"
            }
          },
          "metadata": {},
          "execution_count": 111
        }
      ]
    },
    {
      "cell_type": "code",
      "source": [
        "import dgl.data\n",
        "\n",
        "dataset = dgl.data.CoraGraphDataset()\n",
        "g = dataset[0]"
      ],
      "metadata": {
        "colab": {
          "base_uri": "https://localhost:8080/"
        },
        "id": "iWXyRFJIkzWQ",
        "outputId": "c8f1d86c-d9aa-46cf-b6c8-cae708f8674b"
      },
      "id": "iWXyRFJIkzWQ",
      "execution_count": 5,
      "outputs": [
        {
          "output_type": "stream",
          "name": "stdout",
          "text": [
            "Downloading /root/.dgl/cora_v2.zip from https://data.dgl.ai/dataset/cora_v2.zip...\n",
            "Extracting file to /root/.dgl/cora_v2\n",
            "Finished data loading and preprocessing.\n",
            "  NumNodes: 2708\n",
            "  NumEdges: 10556\n",
            "  NumFeats: 1433\n",
            "  NumClasses: 7\n",
            "  NumTrainingSamples: 140\n",
            "  NumValidationSamples: 500\n",
            "  NumTestSamples: 1000\n",
            "Done saving data into cached files.\n"
          ]
        }
      ]
    },
    {
      "cell_type": "code",
      "source": [
        "g"
      ],
      "metadata": {
        "colab": {
          "base_uri": "https://localhost:8080/"
        },
        "id": "uvyEZkKjF2BH",
        "outputId": "21bde2a1-f1c1-495b-c01f-7e266a24aafa"
      },
      "id": "uvyEZkKjF2BH",
      "execution_count": 6,
      "outputs": [
        {
          "output_type": "execute_result",
          "data": {
            "text/plain": [
              "Graph(num_nodes=2708, num_edges=10556,\n",
              "      ndata_schemes={'train_mask': Scheme(shape=(), dtype=torch.bool), 'val_mask': Scheme(shape=(), dtype=torch.bool), 'test_mask': Scheme(shape=(), dtype=torch.bool), 'label': Scheme(shape=(), dtype=torch.int64), 'feat': Scheme(shape=(1433,), dtype=torch.float32)}\n",
              "      edata_schemes={'__orig__': Scheme(shape=(), dtype=torch.int64)})"
            ]
          },
          "metadata": {},
          "execution_count": 6
        }
      ]
    },
    {
      "cell_type": "code",
      "source": [
        "# Split edge set for training and testing\n",
        "u, v = g.edges()\n",
        "\n",
        "eids = np.arange(g.number_of_edges())\n",
        "eids = np.random.permutation(eids)\n",
        "test_size = int(len(eids) * 0.1)\n",
        "train_size = g.number_of_edges() - test_size\n",
        "test_pos_u, test_pos_v = u[eids[:test_size]], v[eids[:test_size]]\n",
        "train_pos_u, train_pos_v = u[eids[test_size:]], v[eids[test_size:]]\n",
        "\n",
        "# Find all negative edges and split them for training and testing\n",
        "adj = sp.coo_matrix((np.ones(len(u)), (u.numpy(), v.numpy())))\n",
        "adj_neg = 1 - adj.todense() - np.eye(g.number_of_nodes())\n",
        "neg_u, neg_v = np.where(adj_neg != 0)\n",
        "\n",
        "neg_eids = np.random.choice(len(neg_u), g.number_of_edges())\n",
        "test_neg_u, test_neg_v = neg_u[neg_eids[:test_size]], neg_v[neg_eids[:test_size]]\n",
        "train_neg_u, train_neg_v = neg_u[neg_eids[test_size:]], neg_v[neg_eids[test_size:]]"
      ],
      "metadata": {
        "id": "_pZfS002nzV2"
      },
      "id": "_pZfS002nzV2",
      "execution_count": 7,
      "outputs": []
    },
    {
      "cell_type": "code",
      "source": [
        "g.edges()"
      ],
      "metadata": {
        "colab": {
          "base_uri": "https://localhost:8080/"
        },
        "id": "yZ5K_UhBGQWI",
        "outputId": "efb94d7d-4551-4082-8837-fb78dda85b07"
      },
      "id": "yZ5K_UhBGQWI",
      "execution_count": 8,
      "outputs": [
        {
          "output_type": "execute_result",
          "data": {
            "text/plain": [
              "(tensor([   3,    5,    6,  ..., 2704, 2707, 2706]),\n",
              " tensor([   0,    0,    0,  ..., 2705, 2706, 2707]))"
            ]
          },
          "metadata": {},
          "execution_count": 8
        }
      ]
    },
    {
      "cell_type": "code",
      "source": [
        "train_g = dgl.remove_edges(g, eids[:test_size])"
      ],
      "metadata": {
        "id": "kCkuSrZGmivg"
      },
      "id": "kCkuSrZGmivg",
      "execution_count": 9,
      "outputs": []
    },
    {
      "cell_type": "code",
      "source": [
        "from dgl.nn import SAGEConv\n",
        "\n",
        "# ----------- 2. create model -------------- #\n",
        "# build a two-layer GraphSAGE model\n",
        "class GraphSAGE(nn.Module):\n",
        "    def __init__(self, in_feats, h_feats):\n",
        "        super(GraphSAGE, self).__init__()\n",
        "        self.conv1 = SAGEConv(in_feats, h_feats, 'mean')\n",
        "        self.conv2 = SAGEConv(h_feats, h_feats, 'mean')\n",
        "\n",
        "    def forward(self, g, in_feat):\n",
        "        h = self.conv1(g, in_feat)\n",
        "        h = F.relu(h)\n",
        "        h = self.conv2(g, h)\n",
        "        return h"
      ],
      "metadata": {
        "id": "ybY8q_Anmljm"
      },
      "id": "ybY8q_Anmljm",
      "execution_count": 10,
      "outputs": []
    },
    {
      "cell_type": "code",
      "source": [
        "train_pos_g = dgl.graph((train_pos_u, train_pos_v), num_nodes=g.number_of_nodes())\n",
        "train_neg_g = dgl.graph((train_neg_u, train_neg_v), num_nodes=g.number_of_nodes())\n",
        "\n",
        "test_pos_g = dgl.graph((test_pos_u, test_pos_v), num_nodes=g.number_of_nodes())\n",
        "test_neg_g = dgl.graph((test_neg_u, test_neg_v), num_nodes=g.number_of_nodes())"
      ],
      "metadata": {
        "id": "7oEnNqPCmoS3"
      },
      "id": "7oEnNqPCmoS3",
      "execution_count": 11,
      "outputs": []
    },
    {
      "cell_type": "code",
      "source": [
        "import dgl.function as fn\n",
        "\n",
        "class DotPredictor(nn.Module):\n",
        "    def forward(self, g, h):\n",
        "        with g.local_scope():\n",
        "            g.ndata['h'] = h\n",
        "            # Compute a new edge feature named 'score' by a dot-product between the\n",
        "            # source node feature 'h' and destination node feature 'h'.\n",
        "            g.apply_edges(fn.u_dot_v('h', 'h', 'score'))\n",
        "            # u_dot_v returns a 1-element vector for each edge so you need to squeeze it.\n",
        "            return g.edata['score'][:, 0]"
      ],
      "metadata": {
        "id": "RxB1shIc4VU1"
      },
      "id": "RxB1shIc4VU1",
      "execution_count": 12,
      "outputs": []
    },
    {
      "cell_type": "code",
      "source": [
        "class MLPPredictor(nn.Module):\n",
        "    def __init__(self, h_feats):\n",
        "        super().__init__()\n",
        "        self.W1 = nn.Linear(h_feats * 2, h_feats)\n",
        "        self.W2 = nn.Linear(h_feats, 1)\n",
        "\n",
        "    def apply_edges(self, edges):\n",
        "        \"\"\"\n",
        "        Computes a scalar score for each edge of the given graph.\n",
        "\n",
        "        Parameters\n",
        "        ----------\n",
        "        edges :\n",
        "            Has three members ``src``, ``dst`` and ``data``, each of\n",
        "            which is a dictionary representing the features of the\n",
        "            source nodes, the destination nodes, and the edges\n",
        "            themselves.\n",
        "\n",
        "        Returns\n",
        "        -------\n",
        "        dict\n",
        "            A dictionary of new edge features.\n",
        "        \"\"\"\n",
        "        h = torch.cat([edges.src['h'], edges.dst['h']], 1)\n",
        "        return {'score': self.W2(F.relu(self.W1(h))).squeeze(1)}\n",
        "\n",
        "    def forward(self, g, h):\n",
        "        with g.local_scope():\n",
        "            g.ndata['h'] = h\n",
        "            g.apply_edges(self.apply_edges)\n",
        "            return g.edata['score']"
      ],
      "metadata": {
        "id": "oN_EV45w4fFS"
      },
      "id": "oN_EV45w4fFS",
      "execution_count": 46,
      "outputs": []
    },
    {
      "cell_type": "code",
      "source": [
        "model = GraphSAGE(train_g.ndata['feat'].shape[1], 16)\n",
        "# You can replace DotPredictor with MLPPredictor.\n",
        "pred = MLPPredictor(16)\n",
        "#pred = DotPredictor()\n",
        "\n",
        "def compute_loss(pos_score, neg_score):\n",
        "    scores = torch.cat([pos_score, neg_score])\n",
        "    labels = torch.cat([torch.ones(pos_score.shape[0]), torch.zeros(neg_score.shape[0])])\n",
        "    return F.binary_cross_entropy_with_logits(scores, labels)\n",
        "\n",
        "def compute_auc(pos_score, neg_score):\n",
        "    scores = torch.cat([pos_score, neg_score]).numpy()\n",
        "    labels = torch.cat(\n",
        "        [torch.ones(pos_score.shape[0]), torch.zeros(neg_score.shape[0])]).numpy()\n",
        "    return roc_auc_score(labels, scores)"
      ],
      "metadata": {
        "id": "6tCRpza14lWv"
      },
      "id": "6tCRpza14lWv",
      "execution_count": 47,
      "outputs": []
    },
    {
      "cell_type": "code",
      "source": [
        "# ----------- 3. set up loss and optimizer -------------- #\n",
        "# in this case, loss will in training loop\n",
        "optimizer = torch.optim.Adam(itertools.chain(model.parameters(), pred.parameters()), lr=0.01)\n",
        "\n",
        "# ----------- 4. training -------------------------------- #\n",
        "all_logits = []\n",
        "for e in range(100):\n",
        "    # forward\n",
        "    h = model(train_g, train_g.ndata['feat'])\n",
        "    pos_score = pred(train_pos_g, h)\n",
        "    neg_score = pred(train_neg_g, h)\n",
        "    loss = compute_loss(pos_score, neg_score)\n",
        "\n",
        "    #\n",
        "    with torch.no_grad():\n",
        "      pos_score = pred(test_pos_g, h)\n",
        "      neg_score = pred(test_neg_g, h)\n",
        "      val_loss = compute_loss(pos_score, neg_score)\n",
        "      #print(compute_auc(pos_score, neg_score))\n",
        "\n",
        "    # backward\n",
        "    optimizer.zero_grad()\n",
        "    loss.backward()\n",
        "    optimizer.step()\n",
        "\n",
        "    if e % 5 == 0:\n",
        "        print('In epoch {}, loss: {}'.format(e, loss))\n",
        "        print('In epoch {}, val loss: {}'.format(e, val_loss))\n",
        "\n",
        "# ----------- 5. check results ------------------------ #\n",
        "from sklearn.metrics import roc_auc_score\n",
        "with torch.no_grad():\n",
        "    pos_score = pred(test_pos_g, h)\n",
        "    neg_score = pred(test_neg_g, h)\n",
        "    print('AUC', compute_auc(pos_score, neg_score))"
      ],
      "metadata": {
        "colab": {
          "base_uri": "https://localhost:8080/"
        },
        "id": "E15cua1e4vew",
        "outputId": "7af2b8bc-5fae-4316-e585-1791c2042c9d"
      },
      "id": "E15cua1e4vew",
      "execution_count": 48,
      "outputs": [
        {
          "output_type": "stream",
          "name": "stdout",
          "text": [
            "In epoch 0, loss: 0.6938760876655579\n",
            "In epoch 0, val loss: 0.6939792037010193\n",
            "In epoch 5, loss: 0.6852141618728638\n",
            "In epoch 5, val loss: 0.6876188516616821\n",
            "In epoch 10, loss: 0.6542459726333618\n",
            "In epoch 10, val loss: 0.6652452945709229\n",
            "In epoch 15, loss: 0.60013347864151\n",
            "In epoch 15, val loss: 0.644220769405365\n",
            "In epoch 20, loss: 0.5649135112762451\n",
            "In epoch 20, val loss: 0.668952226638794\n",
            "In epoch 25, loss: 0.5449780225753784\n",
            "In epoch 25, val loss: 0.6750961542129517\n",
            "In epoch 30, loss: 0.5261843204498291\n",
            "In epoch 30, val loss: 0.6616355776786804\n",
            "In epoch 35, loss: 0.5106895565986633\n",
            "In epoch 35, val loss: 0.6624982953071594\n",
            "In epoch 40, loss: 0.4966072738170624\n",
            "In epoch 40, val loss: 0.6740617156028748\n",
            "In epoch 45, loss: 0.4823524057865143\n",
            "In epoch 45, val loss: 0.6878910064697266\n",
            "In epoch 50, loss: 0.4679039716720581\n",
            "In epoch 50, val loss: 0.7049121856689453\n",
            "In epoch 55, loss: 0.4526805579662323\n",
            "In epoch 55, val loss: 0.7203114628791809\n",
            "In epoch 60, loss: 0.434589684009552\n",
            "In epoch 60, val loss: 0.7384986877441406\n",
            "In epoch 65, loss: 0.4112941026687622\n",
            "In epoch 65, val loss: 0.7522644996643066\n",
            "In epoch 70, loss: 0.3807300925254822\n",
            "In epoch 70, val loss: 0.764754056930542\n",
            "In epoch 75, loss: 0.3433769941329956\n",
            "In epoch 75, val loss: 0.7760568261146545\n",
            "In epoch 80, loss: 0.30486443638801575\n",
            "In epoch 80, val loss: 0.7915022969245911\n",
            "In epoch 85, loss: 0.2681913673877716\n",
            "In epoch 85, val loss: 0.7798086404800415\n",
            "In epoch 90, loss: 0.23219195008277893\n",
            "In epoch 90, val loss: 0.803195595741272\n",
            "In epoch 95, loss: 0.20237059891223907\n",
            "In epoch 95, val loss: 0.8425970673561096\n",
            "AUC 0.8312409873992049\n"
          ]
        }
      ]
    },
    {
      "cell_type": "code",
      "source": [
        "h.shape"
      ],
      "metadata": {
        "colab": {
          "base_uri": "https://localhost:8080/"
        },
        "id": "vGpM_GVcLsD6",
        "outputId": "de079544-b845-4df3-dcb2-973e692f922b"
      },
      "id": "vGpM_GVcLsD6",
      "execution_count": 17,
      "outputs": [
        {
          "output_type": "execute_result",
          "data": {
            "text/plain": [
              "torch.Size([2708, 16])"
            ]
          },
          "metadata": {},
          "execution_count": 17
        }
      ]
    },
    {
      "cell_type": "code",
      "source": [
        "train_pos_g"
      ],
      "metadata": {
        "colab": {
          "base_uri": "https://localhost:8080/"
        },
        "id": "8kKulCkAOHUJ",
        "outputId": "9e28a0c4-8116-4fb1-ad70-d6d58232b419"
      },
      "id": "8kKulCkAOHUJ",
      "execution_count": 27,
      "outputs": [
        {
          "output_type": "execute_result",
          "data": {
            "text/plain": [
              "Graph(num_nodes=2708, num_edges=9501,\n",
              "      ndata_schemes={}\n",
              "      edata_schemes={})"
            ]
          },
          "metadata": {},
          "execution_count": 27
        }
      ]
    },
    {
      "cell_type": "code",
      "source": [
        "pos_score = pred(train_pos_g, h)"
      ],
      "metadata": {
        "id": "e2S75yFXNZVT"
      },
      "id": "e2S75yFXNZVT",
      "execution_count": 23,
      "outputs": []
    },
    {
      "cell_type": "code",
      "source": [
        "g.ndata['h'] = h\n",
        "# Compute a new edge feature named 'score' by a dot-product between the\n",
        "# source node feature 'h' and destination node feature 'h'.\n",
        "g.apply_edges(fn.u_dot_v('h', 'h', 'score'))\n",
        "# u_dot_v returns a 1-element vector for each edge so you need to squeeze it.\n",
        "#return g.edata['score'][:, 0]"
      ],
      "metadata": {
        "id": "f1ieWKhZNT5o"
      },
      "id": "f1ieWKhZNT5o",
      "execution_count": 28,
      "outputs": []
    },
    {
      "cell_type": "code",
      "source": [
        "h.shape"
      ],
      "metadata": {
        "colab": {
          "base_uri": "https://localhost:8080/"
        },
        "id": "Ph0dFLFmUeP2",
        "outputId": "9ed5cbad-ab1e-4444-9fa7-1c4f713f543a"
      },
      "id": "Ph0dFLFmUeP2",
      "execution_count": 31,
      "outputs": [
        {
          "output_type": "execute_result",
          "data": {
            "text/plain": [
              "torch.Size([2708, 16])"
            ]
          },
          "metadata": {},
          "execution_count": 31
        }
      ]
    },
    {
      "cell_type": "code",
      "source": [
        "g.edata['score'].shape"
      ],
      "metadata": {
        "colab": {
          "base_uri": "https://localhost:8080/"
        },
        "id": "7o5tmbE1UKHn",
        "outputId": "e2ed906d-bb95-4bdf-aac7-ffc2edef7770"
      },
      "id": "7o5tmbE1UKHn",
      "execution_count": 33,
      "outputs": [
        {
          "output_type": "execute_result",
          "data": {
            "text/plain": [
              "torch.Size([10556, 1])"
            ]
          },
          "metadata": {},
          "execution_count": 33
        }
      ]
    },
    {
      "cell_type": "markdown",
      "source": [
        "### [Link Prediction Recommendation Engines with Node2Vec](https://towardsdatascience.com/link-prediction-recommendation-engines-with-node2vec-c97c429351a8)"
      ],
      "metadata": {
        "id": "btriI1Sm_cbr"
      },
      "id": "btriI1Sm_cbr"
    },
    {
      "cell_type": "code",
      "source": [
        "!pip3 install arxiv\n",
        "!pip3 install node2vec"
      ],
      "metadata": {
        "colab": {
          "base_uri": "https://localhost:8080/"
        },
        "id": "CTW3Yl-ITc97",
        "outputId": "4565103b-76f4-46b2-8efe-52db06763a04"
      },
      "id": "CTW3Yl-ITc97",
      "execution_count": 4,
      "outputs": [
        {
          "output_type": "stream",
          "name": "stdout",
          "text": [
            "Requirement already satisfied: arxiv in /usr/local/lib/python3.7/dist-packages (1.4.2)\n",
            "Requirement already satisfied: feedparser in /usr/local/lib/python3.7/dist-packages (from arxiv) (6.0.8)\n",
            "Requirement already satisfied: sgmllib3k in /usr/local/lib/python3.7/dist-packages (from feedparser->arxiv) (1.0.0)\n",
            "Collecting node2vec\n",
            "  Downloading node2vec-0.4.3.tar.gz (4.6 kB)\n",
            "Requirement already satisfied: networkx in /usr/local/lib/python3.7/dist-packages (from node2vec) (2.6.3)\n",
            "Requirement already satisfied: gensim in /usr/local/lib/python3.7/dist-packages (from node2vec) (3.6.0)\n",
            "Requirement already satisfied: numpy in /usr/local/lib/python3.7/dist-packages (from node2vec) (1.21.6)\n",
            "Requirement already satisfied: tqdm in /usr/local/lib/python3.7/dist-packages (from node2vec) (4.64.0)\n",
            "Requirement already satisfied: joblib>=0.13.2 in /usr/local/lib/python3.7/dist-packages (from node2vec) (1.1.0)\n",
            "Requirement already satisfied: smart-open>=1.2.1 in /usr/local/lib/python3.7/dist-packages (from gensim->node2vec) (6.0.0)\n",
            "Requirement already satisfied: six>=1.5.0 in /usr/local/lib/python3.7/dist-packages (from gensim->node2vec) (1.15.0)\n",
            "Requirement already satisfied: scipy>=0.18.1 in /usr/local/lib/python3.7/dist-packages (from gensim->node2vec) (1.4.1)\n",
            "Building wheels for collected packages: node2vec\n",
            "  Building wheel for node2vec (setup.py) ... \u001b[?25l\u001b[?25hdone\n",
            "  Created wheel for node2vec: filename=node2vec-0.4.3-py3-none-any.whl size=5980 sha256=02a5d0d199dd25dfadd897f93f247ccee8d797c4d5ab6f3119e279b411fd4c36\n",
            "  Stored in directory: /root/.cache/pip/wheels/07/62/78/5202cb8c03cbf1593b48a8a442fca8ceec2a8c80e22318bae9\n",
            "Successfully built node2vec\n",
            "Installing collected packages: node2vec\n",
            "Successfully installed node2vec-0.4.3\n"
          ]
        }
      ]
    },
    {
      "cell_type": "code",
      "source": [
        "import networkx as nx\n",
        "import pandas as pd\n",
        "import numpy as np\n",
        "import arxiv\n",
        "\n",
        "from sklearn.ensemble import GradientBoostingClassifier\n",
        "from sklearn.model_selection import train_test_split\n",
        "from sklearn.metrics import accuracy_score, matthews_corrcoef, confusion_matrix, classification_report\n",
        "from itertools import product\n",
        "from sklearn.metrics.pairwise import cosine_similarity\n",
        "from node2vec import Node2Vec as n2v\n",
        "\n",
        "# constants\n",
        "queries = [\n",
        "    'automl', 'machinelearning', 'data', 'phyiscs','mathematics', 'recommendation system', 'nlp', 'neural networks'\n",
        "]\n",
        "\n",
        "def search_arxiv(queries, max_results = 100):\n",
        "    '''\n",
        "    This function will search arxiv associated to a set of queries and store\n",
        "    the latest 10000 (max_results) associated to that search.\n",
        "    \n",
        "    params:\n",
        "        queries (List -> Str) : A list of strings containing keywords you want\n",
        "                                to search on Arxiv\n",
        "        max_results (Int) : The maximum number of results you want to see associated\n",
        "                            to your search. Default value is 1000, capped at 300000\n",
        "                            \n",
        "    returns:\n",
        "        This function will return a DataFrame holding the following columns associated\n",
        "        to the queries the user has passed. \n",
        "            `title`, `date`, `article_id`, `url`, `main_topic`, `all_topics`\n",
        "    \n",
        "    example:\n",
        "        research_df = search_arxiv(\n",
        "            queries = ['automl', 'recommender system', 'nlp', 'data science'],\n",
        "            max_results = 10000\n",
        "        )\n",
        "    '''\n",
        "    d = []\n",
        "    searches = []\n",
        "    # hitting the API\n",
        "    for query in queries:\n",
        "        search = arxiv.Search(\n",
        "          query = query,\n",
        "          max_results = max_results,\n",
        "          sort_by = arxiv.SortCriterion.SubmittedDate,\n",
        "          sort_order = arxiv.SortOrder.Descending\n",
        "        )\n",
        "        searches.append(search)\n",
        "    \n",
        "    # Converting search result into df\n",
        "    for search in searches:\n",
        "        for res in search.results():\n",
        "            data = {\n",
        "                'title' : res.title,\n",
        "                'date' : res.published,\n",
        "                'article_id' : res.entry_id,\n",
        "                'url' : res.pdf_url,\n",
        "                'main_topic' : res.primary_category,\n",
        "                'all_topics' : res.categories,\n",
        "                'authors' : res.authors\n",
        "            }\n",
        "            d.append(data)\n",
        "        \n",
        "    d = pd.DataFrame(d)\n",
        "    d['year'] = pd.DatetimeIndex(d['date']).year\n",
        "    \n",
        "    # change article id from url to integer\n",
        "    unique_article_ids = d.article_id.unique()\n",
        "    article_mapping = {art:idx for idx,art in enumerate(unique_article_ids)}\n",
        "    d['article_id'] = d['article_id'].map(article_mapping)\n",
        "    return d\n",
        "  \n",
        "research_df = search_arxiv(\n",
        "    queries = queries,\n",
        "    max_results = 200\n",
        ")\n",
        "print(research_df.shape)"
      ],
      "metadata": {
        "colab": {
          "base_uri": "https://localhost:8080/"
        },
        "id": "esDK7L8S_qMf",
        "outputId": "02a7248d-8082-45a5-9a98-dca540f39932"
      },
      "id": "esDK7L8S_qMf",
      "execution_count": 8,
      "outputs": [
        {
          "output_type": "stream",
          "name": "stdout",
          "text": [
            "(1246, 8)\n"
          ]
        }
      ]
    },
    {
      "cell_type": "code",
      "source": [
        "def generate_network(df, node_col = 'article_id', edge_col = 'main_topic'):\n",
        "    '''\n",
        "    This function will generate a article to article network given an input DataFrame.\n",
        "    It will do so by creating an edge_dictionary where each key is going to be a node\n",
        "    referenced by unique values in node_col and the values will be a list of other nodes\n",
        "    connected to the key through the edge_col.\n",
        "    \n",
        "    params:\n",
        "        df (DataFrame) : The dataset which holds the node and edge columns\n",
        "        node_col (String) : The column name associated to the nodes of the network\n",
        "        edge_col (String) : The column name associated to the edges of the network\n",
        "        \n",
        "    returns:\n",
        "        A networkx graph corresponding to the input dataset\n",
        "        \n",
        "    example:\n",
        "        generate_network(\n",
        "            research_df,\n",
        "            node_col = 'article_id',\n",
        "            edge_col = 'main_topic'\n",
        "        )\n",
        "    '''\n",
        "    edge_dct = {}\n",
        "    for i,g in df.groupby(node_col):\n",
        "        topics = g[edge_col].unique()\n",
        "        edge_df = df[(df[node_col] != i) & (df[edge_col].isin(topics))]\n",
        "        edges = list(edge_df[node_col].unique())\n",
        "        edge_dct[i] = edges\n",
        "    \n",
        "    # create nx network\n",
        "    g = nx.Graph(edge_dct, create_using = nx.MultiGraph)\n",
        "    return g\n",
        "  \n",
        "all_tp = research_df.explode('all_topics').copy()\n",
        "\n",
        "tp_nx = generate_network(\n",
        "    all_tp, \n",
        "    node_col = 'article_id', \n",
        "    edge_col = 'all_topics'\n",
        ")\n",
        "\n",
        "print(nx.info(tp_nx))"
      ],
      "metadata": {
        "colab": {
          "base_uri": "https://localhost:8080/"
        },
        "id": "cfP58QOlTbhc",
        "outputId": "bcaf9755-b82f-4b9b-f0ba-35a08fdffbeb"
      },
      "id": "cfP58QOlTbhc",
      "execution_count": 9,
      "outputs": [
        {
          "output_type": "stream",
          "name": "stdout",
          "text": [
            "Graph with 1099 nodes and 100345 edges\n"
          ]
        }
      ]
    },
    {
      "cell_type": "code",
      "source": [
        ""
      ],
      "metadata": {
        "id": "Gd5uzPWSf9eA"
      },
      "id": "Gd5uzPWSf9eA",
      "execution_count": null,
      "outputs": []
    }
  ],
  "metadata": {
    "kernelspec": {
      "display_name": "Python 3 (ipykernel)",
      "language": "python",
      "name": "python3"
    },
    "language_info": {
      "codemirror_mode": {
        "name": "ipython",
        "version": 3
      },
      "file_extension": ".py",
      "mimetype": "text/x-python",
      "name": "python",
      "nbconvert_exporter": "python",
      "pygments_lexer": "ipython3",
      "version": "3.9.12"
    },
    "colab": {
      "name": "Personalized_RecSys_GNN.ipynb",
      "provenance": [],
      "collapsed_sections": [
        "093fdbb5",
        "Xg-GWjrAi0TX",
        "8sGweXRRz3WN"
      ],
      "include_colab_link": true
    },
    "accelerator": "GPU"
  },
  "nbformat": 4,
  "nbformat_minor": 5
}